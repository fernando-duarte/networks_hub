{
 "cells": [
  {
   "cell_type": "code",
   "execution_count": 1,
   "metadata": {},
   "outputs": [
    {
     "name": "stderr",
     "output_type": "stream",
     "text": [
      "\u001b[32m\u001b[1m   Updating\u001b[22m\u001b[39m registry at `~/.julia/registries/General`\n"
     ]
    },
    {
     "name": "stdout",
     "output_type": "stream",
     "text": [
      "\u001b[?25l\u001b[2K"
     ]
    },
    {
     "name": "stderr",
     "output_type": "stream",
     "text": [
      "\u001b[32m\u001b[1m   Updating\u001b[22m\u001b[39m git-repo `https://github.com/JuliaRegistries/General.git`\n"
     ]
    },
    {
     "name": "stdout",
     "output_type": "stream",
     "text": [
      "\u001b[?25h"
     ]
    },
    {
     "name": "stderr",
     "output_type": "stream",
     "text": [
      "\u001b[32m\u001b[1m  Resolving\u001b[22m\u001b[39m package versions...\n",
      "\u001b[32m\u001b[1m   Updating\u001b[22m\u001b[39m `~/.julia/environments/v1.4/Project.toml`\n",
      "\u001b[90m [no changes]\u001b[39m\n",
      "\u001b[32m\u001b[1m   Updating\u001b[22m\u001b[39m `~/.julia/environments/v1.4/Manifest.toml`\n",
      "\u001b[90m [no changes]\u001b[39m\n",
      "\u001b[32m\u001b[1m   Building\u001b[22m\u001b[39m HDF5 → `~/.julia/packages/HDF5/iH4LA/deps/build.log`\n",
      "\u001b[32m\u001b[1m  Resolving\u001b[22m\u001b[39m package versions...\n",
      "\u001b[32m\u001b[1m   Updating\u001b[22m\u001b[39m `~/.julia/environments/v1.4/Project.toml`\n",
      "\u001b[90m [no changes]\u001b[39m\n",
      "\u001b[32m\u001b[1m   Updating\u001b[22m\u001b[39m `~/.julia/environments/v1.4/Manifest.toml`\n",
      "\u001b[90m [no changes]\u001b[39m\n",
      "\u001b[32m\u001b[1m  Resolving\u001b[22m\u001b[39m package versions...\n",
      "\u001b[32m\u001b[1m   Updating\u001b[22m\u001b[39m `~/.julia/environments/v1.4/Project.toml`\n",
      "\u001b[90m [no changes]\u001b[39m\n",
      "\u001b[32m\u001b[1m   Updating\u001b[22m\u001b[39m `~/.julia/environments/v1.4/Manifest.toml`\n",
      "\u001b[90m [no changes]\u001b[39m\n",
      "\u001b[32m\u001b[1m  Resolving\u001b[22m\u001b[39m package versions...\n",
      "\u001b[32m\u001b[1m   Updating\u001b[22m\u001b[39m `~/.julia/environments/v1.4/Project.toml`\n",
      "\u001b[90m [no changes]\u001b[39m\n",
      "\u001b[32m\u001b[1m   Updating\u001b[22m\u001b[39m `~/.julia/environments/v1.4/Manifest.toml`\n",
      "\u001b[90m [no changes]\u001b[39m\n",
      "\u001b[32m\u001b[1m   Building\u001b[22m\u001b[39m SLEEFPirates → `~/.julia/packages/SLEEFPirates/jGsib/deps/build.log`\n",
      "\u001b[32m\u001b[1m  Resolving\u001b[22m\u001b[39m package versions...\n",
      "\u001b[32m\u001b[1m   Updating\u001b[22m\u001b[39m `~/.julia/environments/v1.4/Project.toml`\n",
      "\u001b[90m [no changes]\u001b[39m\n",
      "\u001b[32m\u001b[1m   Updating\u001b[22m\u001b[39m `~/.julia/environments/v1.4/Manifest.toml`\n",
      "\u001b[90m [no changes]\u001b[39m\n",
      "\u001b[32m\u001b[1m  Resolving\u001b[22m\u001b[39m package versions...\n",
      "\u001b[32m\u001b[1m   Updating\u001b[22m\u001b[39m `~/.julia/environments/v1.4/Project.toml`\n",
      "\u001b[90m [no changes]\u001b[39m\n",
      "\u001b[32m\u001b[1m   Updating\u001b[22m\u001b[39m `~/.julia/environments/v1.4/Manifest.toml`\n",
      "\u001b[90m [no changes]\u001b[39m\n",
      "\u001b[32m\u001b[1m  Resolving\u001b[22m\u001b[39m package versions...\n",
      "\u001b[32m\u001b[1m   Updating\u001b[22m\u001b[39m `~/.julia/environments/v1.4/Project.toml`\n",
      "\u001b[90m [no changes]\u001b[39m\n",
      "\u001b[32m\u001b[1m   Updating\u001b[22m\u001b[39m `~/.julia/environments/v1.4/Manifest.toml`\n",
      "\u001b[90m [no changes]\u001b[39m\n",
      "\u001b[32m\u001b[1m   Building\u001b[22m\u001b[39m SLEEFPirates → `~/.julia/packages/SLEEFPirates/jGsib/deps/build.log`\n",
      "\u001b[32m\u001b[1m  Resolving\u001b[22m\u001b[39m package versions...\n",
      "\u001b[32m\u001b[1m   Updating\u001b[22m\u001b[39m `~/.julia/environments/v1.4/Project.toml`\n",
      "\u001b[90m [no changes]\u001b[39m\n",
      "\u001b[32m\u001b[1m   Updating\u001b[22m\u001b[39m `~/.julia/environments/v1.4/Manifest.toml`\n",
      "\u001b[90m [no changes]\u001b[39m\n",
      "\u001b[32m\u001b[1m  Resolving\u001b[22m\u001b[39m package versions...\n",
      "\u001b[32m\u001b[1m   Updating\u001b[22m\u001b[39m `~/.julia/environments/v1.4/Project.toml`\n",
      "\u001b[90m [no changes]\u001b[39m\n",
      "\u001b[32m\u001b[1m   Updating\u001b[22m\u001b[39m `~/.julia/environments/v1.4/Manifest.toml`\n",
      "\u001b[90m [no changes]\u001b[39m\n",
      "\u001b[32m\u001b[1m  Resolving\u001b[22m\u001b[39m package versions...\n",
      "\u001b[32m\u001b[1m   Updating\u001b[22m\u001b[39m `~/.julia/environments/v1.4/Project.toml`\n",
      "\u001b[90m [no changes]\u001b[39m\n",
      "\u001b[32m\u001b[1m   Updating\u001b[22m\u001b[39m `~/.julia/environments/v1.4/Manifest.toml`\n",
      "\u001b[90m [no changes]\u001b[39m\n",
      "\u001b[32m\u001b[1m  Resolving\u001b[22m\u001b[39m package versions...\n",
      "\u001b[32m\u001b[1m   Updating\u001b[22m\u001b[39m `~/.julia/environments/v1.4/Project.toml`\n",
      "\u001b[90m [no changes]\u001b[39m\n",
      "\u001b[32m\u001b[1m   Updating\u001b[22m\u001b[39m `~/.julia/environments/v1.4/Manifest.toml`\n",
      "\u001b[90m [no changes]\u001b[39m\n",
      "\u001b[32m\u001b[1m  Resolving\u001b[22m\u001b[39m package versions...\n",
      "\u001b[32m\u001b[1m   Updating\u001b[22m\u001b[39m `~/.julia/environments/v1.4/Project.toml`\n",
      "\u001b[90m [no changes]\u001b[39m\n",
      "\u001b[32m\u001b[1m   Updating\u001b[22m\u001b[39m `~/.julia/environments/v1.4/Manifest.toml`\n",
      "\u001b[90m [no changes]\u001b[39m\n",
      "\u001b[32m\u001b[1m  Resolving\u001b[22m\u001b[39m package versions...\n",
      "\u001b[32m\u001b[1m   Updating\u001b[22m\u001b[39m `~/.julia/environments/v1.4/Project.toml`\n",
      "\u001b[90m [no changes]\u001b[39m\n",
      "\u001b[32m\u001b[1m   Updating\u001b[22m\u001b[39m `~/.julia/environments/v1.4/Manifest.toml`\n",
      "\u001b[90m [no changes]\u001b[39m\n",
      "\u001b[32m\u001b[1m  Resolving\u001b[22m\u001b[39m package versions...\n",
      "\u001b[32m\u001b[1m   Updating\u001b[22m\u001b[39m `~/.julia/environments/v1.4/Project.toml`\n",
      "\u001b[90m [no changes]\u001b[39m\n",
      "\u001b[32m\u001b[1m   Updating\u001b[22m\u001b[39m `~/.julia/environments/v1.4/Manifest.toml`\n",
      "\u001b[90m [no changes]\u001b[39m\n",
      "\u001b[32m\u001b[1m  Resolving\u001b[22m\u001b[39m package versions...\n",
      "\u001b[32m\u001b[1m   Updating\u001b[22m\u001b[39m `~/.julia/environments/v1.4/Project.toml`\n",
      "\u001b[90m [no changes]\u001b[39m\n",
      "\u001b[32m\u001b[1m   Updating\u001b[22m\u001b[39m `~/.julia/environments/v1.4/Manifest.toml`\n",
      "\u001b[90m [no changes]\u001b[39m\n"
     ]
    },
    {
     "name": "stdout",
     "output_type": "stream",
     "text": [
      "\u001b[?25l\u001b[2K"
     ]
    },
    {
     "name": "stderr",
     "output_type": "stream",
     "text": [
      "\u001b[32m\u001b[1m   Updating\u001b[22m\u001b[39m git-repo `https://github.com/SciML/Quadrature.jl`\n"
     ]
    },
    {
     "name": "stdout",
     "output_type": "stream",
     "text": [
      "\u001b[?25h"
     ]
    },
    {
     "name": "stderr",
     "output_type": "stream",
     "text": [
      "\u001b[32m\u001b[1m  Resolving\u001b[22m\u001b[39m package versions...\n"
     ]
    },
    {
     "name": "stdout",
     "output_type": "stream",
     "text": [
      "\u001b[?25l\u001b[2K"
     ]
    },
    {
     "name": "stderr",
     "output_type": "stream",
     "text": [
      "\u001b[32m\u001b[1m   Updating\u001b[22m\u001b[39m `~/.julia/environments/v1.4/Project.toml`\n",
      "\u001b[90m [no changes]\u001b[39m\n",
      "\u001b[32m\u001b[1m   Updating\u001b[22m\u001b[39m `~/.julia/environments/v1.4/Manifest.toml`\n",
      "\u001b[90m [no changes]\u001b[39m\n",
      "\u001b[32m\u001b[1m   Updating\u001b[22m\u001b[39m git-repo `https://github.com/JuliaDiff/ForwardDiff.jl`\n"
     ]
    },
    {
     "name": "stdout",
     "output_type": "stream",
     "text": [
      "\u001b[?25h"
     ]
    },
    {
     "name": "stderr",
     "output_type": "stream",
     "text": [
      "\u001b[32m\u001b[1m  Resolving\u001b[22m\u001b[39m package versions...\n"
     ]
    },
    {
     "name": "stdout",
     "output_type": "stream",
     "text": [
      "\u001b[?25l\u001b[2K"
     ]
    },
    {
     "name": "stderr",
     "output_type": "stream",
     "text": [
      "\u001b[32m\u001b[1m   Updating\u001b[22m\u001b[39m `~/.julia/environments/v1.4/Project.toml`\n",
      "\u001b[90m [no changes]\u001b[39m\n",
      "\u001b[32m\u001b[1m   Updating\u001b[22m\u001b[39m `~/.julia/environments/v1.4/Manifest.toml`\n",
      "\u001b[90m [no changes]\u001b[39m\n",
      "\u001b[32m\u001b[1m   Updating\u001b[22m\u001b[39m git-repo `https://github.com/JuliaDiff/FiniteDiff.jl`\n"
     ]
    },
    {
     "name": "stdout",
     "output_type": "stream",
     "text": [
      "\u001b[?25h"
     ]
    },
    {
     "name": "stderr",
     "output_type": "stream",
     "text": [
      "\u001b[32m\u001b[1m  Resolving\u001b[22m\u001b[39m package versions...\n"
     ]
    },
    {
     "name": "stdout",
     "output_type": "stream",
     "text": [
      "\u001b[?25l\u001b[2K"
     ]
    },
    {
     "name": "stderr",
     "output_type": "stream",
     "text": [
      "\u001b[32m\u001b[1m   Updating\u001b[22m\u001b[39m `~/.julia/environments/v1.4/Project.toml`\n",
      "\u001b[90m [no changes]\u001b[39m\n",
      "\u001b[32m\u001b[1m   Updating\u001b[22m\u001b[39m `~/.julia/environments/v1.4/Manifest.toml`\n",
      "\u001b[90m [no changes]\u001b[39m\n",
      "\u001b[32m\u001b[1m   Updating\u001b[22m\u001b[39m git-repo `https://github.com/giordano/Cuba.jl`\n"
     ]
    },
    {
     "name": "stdout",
     "output_type": "stream",
     "text": [
      "\u001b[?25h"
     ]
    },
    {
     "name": "stderr",
     "output_type": "stream",
     "text": [
      "\u001b[32m\u001b[1m  Resolving\u001b[22m\u001b[39m package versions...\n",
      "\u001b[32m\u001b[1m   Updating\u001b[22m\u001b[39m `~/.julia/environments/v1.4/Project.toml`\n",
      "\u001b[90m [no changes]\u001b[39m\n",
      "\u001b[32m\u001b[1m   Updating\u001b[22m\u001b[39m `~/.julia/environments/v1.4/Manifest.toml`\n",
      "\u001b[90m [no changes]\u001b[39m\n",
      "\u001b[32m\u001b[1m  Resolving\u001b[22m\u001b[39m package versions...\n",
      "\u001b[32m\u001b[1m   Updating\u001b[22m\u001b[39m `~/.julia/environments/v1.4/Project.toml`\n",
      "\u001b[90m [no changes]\u001b[39m\n",
      "\u001b[32m\u001b[1m   Updating\u001b[22m\u001b[39m `~/.julia/environments/v1.4/Manifest.toml`\n",
      "\u001b[90m [no changes]\u001b[39m\n",
      "\u001b[32m\u001b[1m  Resolving\u001b[22m\u001b[39m package versions...\n",
      "\u001b[32m\u001b[1m   Updating\u001b[22m\u001b[39m `~/.julia/environments/v1.4/Project.toml`\n",
      "\u001b[90m [no changes]\u001b[39m\n",
      "\u001b[32m\u001b[1m   Updating\u001b[22m\u001b[39m `~/.julia/environments/v1.4/Manifest.toml`\n",
      "\u001b[90m [no changes]\u001b[39m\n",
      "\u001b[32m\u001b[1m  Resolving\u001b[22m\u001b[39m package versions...\n",
      "\u001b[32m\u001b[1m   Updating\u001b[22m\u001b[39m `~/.julia/environments/v1.4/Project.toml`\n",
      "\u001b[90m [no changes]\u001b[39m\n",
      "\u001b[32m\u001b[1m   Updating\u001b[22m\u001b[39m `~/.julia/environments/v1.4/Manifest.toml`\n",
      "\u001b[90m [no changes]\u001b[39m\n",
      "\u001b[32m\u001b[1m  Resolving\u001b[22m\u001b[39m package versions...\n",
      "\u001b[32m\u001b[1m   Updating\u001b[22m\u001b[39m `~/.julia/environments/v1.4/Project.toml`\n",
      "\u001b[90m [no changes]\u001b[39m\n",
      "\u001b[32m\u001b[1m   Updating\u001b[22m\u001b[39m `~/.julia/environments/v1.4/Manifest.toml`\n",
      "\u001b[90m [no changes]\u001b[39m\n",
      "\u001b[32m\u001b[1m  Resolving\u001b[22m\u001b[39m package versions...\n",
      "\u001b[32m\u001b[1m   Updating\u001b[22m\u001b[39m `~/.julia/environments/v1.4/Project.toml`\n",
      "\u001b[90m [no changes]\u001b[39m\n",
      "\u001b[32m\u001b[1m   Updating\u001b[22m\u001b[39m `~/.julia/environments/v1.4/Manifest.toml`\n",
      "\u001b[90m [no changes]\u001b[39m\n",
      "\u001b[32m\u001b[1m  Resolving\u001b[22m\u001b[39m package versions...\n",
      "\u001b[32m\u001b[1m   Updating\u001b[22m\u001b[39m `~/.julia/environments/v1.4/Project.toml`\n",
      "\u001b[90m [no changes]\u001b[39m\n",
      "\u001b[32m\u001b[1m   Updating\u001b[22m\u001b[39m `~/.julia/environments/v1.4/Manifest.toml`\n",
      "\u001b[90m [no changes]\u001b[39m\n",
      "┌ Info: Precompiling Quadrature [67601950-bd08-11e9-3c89-fd23fb4432d2]\n",
      "└ @ Base loading.jl:1260\n",
      "┌ Info: Precompiling Plots [91a5bcdd-55d7-5caf-9e0b-520d859cae80]\n",
      "└ @ Base loading.jl:1260\n",
      "┌ Info: Precompiling JLD2 [033835bb-8acc-5ee8-8aae-3f567f8a3819]\n",
      "└ @ Base loading.jl:1260\n"
     ]
    },
    {
     "data": {
      "text/plain": [
       "Plots.PlotlyBackend()"
      ]
     },
     "execution_count": 1,
     "metadata": {},
     "output_type": "execute_result"
    }
   ],
   "source": [
    "import Pkg; Pkg.add(\"Pkg\")\n",
    "using Pkg\n",
    "Pkg.build(\"HDF5\")\n",
    "Pkg.add(\"JLD\")\n",
    "Pkg.add(\"SpecialFunctions\")\n",
    "Pkg.build(\"SpecialFunctions\")\n",
    "Pkg.add(\"FFTW\")\n",
    "Pkg.build(\"SLEEFPirates\")\n",
    "Pkg.add(\"SLEEFPirates\")\n",
    "Pkg.add(\"IterTools\")\n",
    "Pkg.add(\"Tracker\")\n",
    "Pkg.build(\"DiffEqBase\")\n",
    "Pkg.add(\"DiffEqBase\")\n",
    "\n",
    "# restart kernel after running the lines above\n",
    "using Pkg\n",
    "Pkg.add(\"DataFrames\")\n",
    "Pkg.add(\"XLSX\")\n",
    "Pkg.add(\"Missings\")\n",
    "Pkg.add(\"JuMP\")\n",
    "Pkg.add(\"Ipopt\")\n",
    "Pkg.add(\"DistributionsAD\")\n",
    "Pkg.add(\"Zygote\")\n",
    "Pkg.add(Pkg.PackageSpec(url=\"https://github.com/SciML/Quadrature.jl\", rev=\"master\"))\n",
    "Pkg.add(Pkg.PackageSpec(url=\"https://github.com/JuliaDiff/ForwardDiff.jl\", rev=\"master\"))\n",
    "Pkg.add(Pkg.PackageSpec(url=\"https://github.com/JuliaDiff/FiniteDiff.jl\", rev=\"master\"))\n",
    "Pkg.add(Pkg.PackageSpec(url=\"https://github.com/giordano/Cuba.jl\", rev=\"master\"))\n",
    "Pkg.add(\"Cubature\")\n",
    "Pkg.add(\"HCubature\")\n",
    "Pkg.add(\"PlotlyBase\");\n",
    "Pkg.add(\"PlotlyJS\"); \n",
    "Pkg.add(\"ORCA\")\n",
    "Pkg.add(\"JLD2\")\n",
    " \n",
    "using LinearAlgebra, DataFrames, XLSX, Missings, JuMP, Ipopt, Random, Test, Distributions, DistributionsAD, SpecialFunctions, NLsolve\n",
    "using Quadrature, ForwardDiff, FiniteDiff, Zygote, Cuba, Cubature, HCubature\n",
    "using Plots, Profile, JLD2\n",
    "plotly(ticks=:native)  "
   ]
  },
  {
   "cell_type": "code",
   "execution_count": 2,
   "metadata": {},
   "outputs": [
    {
     "name": "stdout",
     "output_type": "stream",
     "text": [
      "15×11 DataFrame\n",
      "│ Row │ nm_short                     │ qt_dt   │ tkr    │ delta     │ beta     │\n",
      "│     │ \u001b[90mString\u001b[39m                       │ \u001b[90mFloat64\u001b[39m │ \u001b[90mString\u001b[39m │ \u001b[90mFloat64\u001b[39m   │ \u001b[90mFloat64?\u001b[39m │\n",
      "├─────┼──────────────────────────────┼─────────┼────────┼───────────┼──────────┤\n",
      "│ 1   │ JPMORGAN CHASE & CO          │ 195.0   │ JPM    │ 0.0106652 │ 0.56278  │\n",
      "│ 2   │ CITIGROUP                    │ 195.0   │ C      │ 0.0647046 │ 0.481591 │\n",
      "│ 3   │ BANK OF AMER CORP            │ 195.0   │ BAC    │ 0.016278  │ 0.50803  │\n",
      "│ 4   │ WELLS FARGO & CO             │ 195.0   │ WFC    │ 0.0047069 │ 0.397362 │\n",
      "│ 5   │ GOLDMAN SACHS GROUP INC      │ 195.0   │ GS     │ 0.0253824 │ \u001b[90mmissing\u001b[39m  │\n",
      "│ 6   │ AMERICAN INTERNATIONAL GROUP │ 195.0   │ AIG    │ 0.057924  │ \u001b[90mmissing\u001b[39m  │\n",
      "│ 7   │ MORGAN STANLEY               │ 195.0   │ MS     │ 0.0892237 │ \u001b[90mmissing\u001b[39m  │\n",
      "│ 8   │ MERRILL LYNCH  CO INC        │ 195.0   │ BAC2   │ 0.0602485 │ \u001b[90mmissing\u001b[39m  │\n",
      "│ 9   │ METLIFE                      │ 195.0   │ MET    │ 0.0081233 │ 0.514254 │\n",
      "│ 10  │ PRUDENTIAL FINANCIAL INC     │ 195.0   │ PRU    │ 0.0242412 │ \u001b[90mmissing\u001b[39m  │\n",
      "│ 11  │ HARTFORD FINANCIAL SERVICES  │ 195.0   │ HIG    │ 0.0401791 │ \u001b[90mmissing\u001b[39m  │\n",
      "│ 12  │ PNC FNCL SVC GROUP           │ 195.0   │ PNC    │ 0.0065844 │ 0.32602  │\n",
      "│ 13  │ U S BC                       │ 195.0   │ USB    │ 0.0047719 │ 0.47541  │\n",
      "│ 14  │ BANK OF NY MELLON CORP       │ 195.0   │ BK     │ 0.0094487 │ 0.522551 │\n",
      "│ 15  │ SUNTRUST BK                  │ 195.0   │ STI    │ 0.008828  │ 0.33973  │\n",
      "\n",
      "│ Row │ w         │ c        │ assets   │ p_bar    │ b        │ delta_alt  │\n",
      "│     │ \u001b[90mFloat64\u001b[39m   │ \u001b[90mFloat64?\u001b[39m │ \u001b[90mFloat64\u001b[39m  │ \u001b[90mFloat64\u001b[39m  │ \u001b[90mFloat64?\u001b[39m │ \u001b[90mFloat64\u001b[39m    │\n",
      "├─────┼───────────┼──────────┼──────────┼──────────┼──────────┼────────────┤\n",
      "│ 1   │ 0.168059  │ 1.45164  │ 2.17505  │ 2.00699  │ 0.877498 │ 0.00862097 │\n",
      "│ 2   │ 0.144022  │ 1.38565  │ 1.93847  │ 1.79445  │ 0.930258 │ 0.0475393  │\n",
      "│ 3   │ 0.17871   │ 1.51681  │ 1.82207  │ 1.64336  │ 0.808482 │ 0.0117393  │\n",
      "│ 4   │ 0.102316  │ 1.15898  │ 1.30964  │ 1.20732  │ 0.727579 │ 0.00462975 │\n",
      "│ 5   │ 0.04922   │ \u001b[90mmissing\u001b[39m  │ 1.08177  │ 1.03255  │ \u001b[90mmissing\u001b[39m  │ 0.0282284  │\n",
      "│ 6   │ 0.082995  │ \u001b[90mmissing\u001b[39m  │ 1.02224  │ 0.939242 │ \u001b[90mmissing\u001b[39m  │ 0.0455341  │\n",
      "│ 7   │ 0.035765  │ \u001b[90mmissing\u001b[39m  │ 0.987403 │ 0.951638 │ \u001b[90mmissing\u001b[39m  │ 0.131335   │\n",
      "│ 8   │ 0.0406288 │ \u001b[90mmissing\u001b[39m  │ 0.87578  │ 0.835151 │ \u001b[90mmissing\u001b[39m  │ 0.0550379  │\n",
      "│ 9   │ 0.0239866 │ 0.373146 │ 0.501678 │ 0.477692 │ 0.232037 │ 0.00663113 │\n",
      "│ 10  │ 0.018699  │ \u001b[90mmissing\u001b[39m  │ 0.460398 │ 0.441699 │ \u001b[90mmissing\u001b[39m  │ 0.0192051  │\n",
      "│ 11  │ 0.012557  │ \u001b[90mmissing\u001b[39m  │ 0.311485 │ 0.298928 │ \u001b[90mmissing\u001b[39m  │ 0.0436828  │\n",
      "│ 12  │ 0.0276478 │ 0.247988 │ 0.291093 │ 0.263445 │ 0.177557 │ 0.00499502 │\n",
      "│ 13  │ 0.027033  │ 0.249621 │ 0.267032 │ 0.239999 │ 0.125901 │ 0.00421903 │\n",
      "│ 14  │ 0.028054  │ 0.128102 │ 0.237652 │ 0.209598 │ 0.100072 │ 0.00807109 │\n",
      "│ 15  │ 0.0224899 │ 0.171698 │ 0.189138 │ 0.166648 │ 0.110033 │ 0.00802864 │"
     ]
    }
   ],
   "source": [
    "N = 15 # keep largest `N' nodes by assets\n",
    "\n",
    "data = DataFrame()\n",
    "data.nm_short = [ \"JPMORGAN CHASE & CO\", \"CITIGROUP\", \"BANK OF AMER CORP\", \"WELLS FARGO & CO\", \"GOLDMAN SACHS GROUP INC\",\n",
    " \"AMERICAN INTERNATIONAL GROUP\", \"MORGAN STANLEY\", \"MERRILL LYNCH  CO INC\", \"METLIFE\", \"PRUDENTIAL FINANCIAL INC\",\n",
    " \"HARTFORD FINANCIAL SERVICES\", \"PNC FNCL SVC GROUP\", \"U S BC\", \"BANK OF NY MELLON CORP\", \"SUNTRUST BK\", \"STATE STREET CORP\",\n",
    " \"LINCOLN NATIONAL CORP\", \"CAPITAL ONE FC\", \"NAVIENT CORP\", \"BB&T CORP\"]\n",
    "data.qt_dt = 195 * ones(20)\n",
    "data.tkr =  [\"JPM\", \"C\", \"BAC\", \"WFC\", \"GS\", \"AIG\", \"MS\", \"BAC2\", \"MET\", \"PRU\", \"HIG\", \"PNC\", \"USB\", \"BK\", \"STI\", \"STT\", \n",
    "    \"LNC\", \"COF\", \"NAVI\", \"BBT\"]\n",
    "data.delta = [0.010665199719369411, 0.06470459699630737, 0.01627800054848194, 0.004706900101155043, 0.0253824,\n",
    "    0.057923999999999996, 0.0892237, 0.060248499999999997, 0.008123300038278103, 0.024241199999999997, 0.040179099999999995,\n",
    "    0.0065843998454511166, 0.004771899897605181, 0.009448699653148651, 0.008828000165522099, 0.017078999429941177,\n",
    "    0.0205721, 0.017206400632858276, 0.150396, 0.008651399984955788]\n",
    "data.beta = [ 0.5627795457839966, 0.48159095644950867, 0.508030116558075, 0.39736202359199524, missing, missing, missing,\n",
    "    missing, 0.514254093170166, missing, missing, 0.3260200023651123, 0.47540995478630066, 0.5225510597229004,\n",
    "    0.3397296071052551, 0.4500882625579834, missing, 0.32032039761543274, missing, 0.39170655608177185]\n",
    "data.w = [ 0.168059, 0.144022, 0.17871046875, 0.102316, 0.04922, 0.082995, 0.035765, 0.0406288125, 0.02398659375, 0.018699,\n",
    "    0.012557, 0.027647849609375, 0.027033, 0.028054, 0.02248987109375, 0.012782736328125, 0.009780671875, 0.02661243359375,\n",
    "    0.005355671875, 0.0160814091796875]\n",
    "data.c = [ 1.451636125, 1.38565475, 1.516806125, 1.158976375, missing, missing, missing, missing, 0.37314634375, missing,\n",
    "    missing, 0.247988171875, 0.249620546875, 0.128101765625, 0.171698203125, 0.0915575625, missing, 0.14428496875, missing,\n",
    "    0.143162515625]\n",
    "data.assets = [ 2.175052, 1.93847, 1.822068, 1.309639, 1.081773, 1.022237, 0.987403, 0.87578, 0.50167825, 0.460398, \n",
    "    0.311485, 0.291092875, 0.267032, 0.237652, 0.18913796875, 0.176632328125, 0.173271, 0.165913453125, 0.164991094,\n",
    "    0.15201503125]\n",
    "data.p_bar = [2.006993, 1.794448, 1.6433575, 1.207323, 1.032553, 0.939242, 0.951638, 0.835151188, 0.47769165625,\n",
    "    0.441699, 0.298928, 0.26344503125, 0.239999, 0.209598, 0.16664809375, 0.16384959375, 0.16349032800000002,\n",
    "    0.139301015625, 0.159635422, 0.135933609375]\n",
    "data.b = [ 0.8774984375, 0.9302580625, 0.8084824375, 0.7275786875, missing, missing, missing, missing, 0.232036765625,\n",
    "    missing, missing, 0.177556671875, 0.1259010859375, 0.1000723515625, 0.110032796875, 0.0901028203125, missing,\n",
    "    0.0946800625, missing, 0.0826875234375]\n",
    "data.delta_alt = [ 0.00862097181379795, 0.04753933846950531, 0.011739334091544151, 0.004629754461348057,\n",
    "    0.028228409588336945, 0.04553414508700371, 0.1313348263502121, 0.05503794550895691, 0.00663113035261631,\n",
    "    0.01920507848262787, 0.04368278384208679, 0.0049950238317251205, 0.0042190346866846085, 0.008071091957390308,\n",
    "    0.008028640411794186, 0.013110904954373837, 0.020297376438975334, 0.01525450311601162, 0.1685585081577301,\n",
    "    0.007379618939012289]\n",
    "\n",
    "data = data[1:N,:] # keep small number of nodes, for testing\n",
    "col_with_miss = names(data)[[any(ismissing.(col)) for col = eachcol(data)]] # columns with at least one missing\n",
    "data_nm = coalesce.(data, data.assets/1.5) # replace missing by a value\n",
    "nm_c = findall(x->x==0,ismissing.(data.c))\n",
    "nm_b = findall(x->x==0,ismissing.(data.b))\n",
    "dropmissing(data, [:delta, :delta_alt, :w, :assets, :p_bar]) # remove type missing\n",
    "\n",
    "names(data) # column names\n",
    "describe(data)\n",
    "show(data, allcols = true)\n",
    "\n",
    "p_bar = data.p_bar\n",
    "assets = data.assets\n",
    "delta = data.delta\n",
    "w= data.w\n",
    "g0 = 0.05   # bankruptcy cost\n",
    "\n",
    "# initial guess\n",
    "rng =  Random.seed!(123)\n",
    "A0 = zeros(N,N)\n",
    "c0 =  data_nm.c \n",
    "b0 = data_nm.b\n",
    "α0 = 1.0*ones(N)\n",
    "β0= []\n",
    "for i=1:N\n",
    "    function ff!(F, x)\n",
    "        F[1] = 1-cdf(Beta(α0[i],x[1]),w[i]/c0[i])-delta[i] \n",
    "    end\n",
    "    if i==1\n",
    "        sol = nlsolve(ff!,[50.0])\n",
    "    else\n",
    "        sol = nlsolve(ff!,[1.0])\n",
    "    end\n",
    "    @test converged(sol)\n",
    "    push!(β0,sol.zero[1])\n",
    "end\n"
   ]
  },
  {
   "cell_type": "code",
   "execution_count": 3,
   "metadata": {},
   "outputs": [
    {
     "data": {
      "text/plain": [
       "-1.1345570716834562e-24"
      ]
     },
     "execution_count": 3,
     "metadata": {},
     "output_type": "execute_result"
    }
   ],
   "source": [
    "\n",
    "dist_pdf(x,p) = exp(DistributionsAD.logpdf(DistributionsAD.Beta(p[1],p[2]),x[1]))\n",
    "Plots.plot([x->dist_pdf(x,[α0[i],β0[i]]) for i=1:N],0,1)\n",
    "\n",
    "function dist_cdf(p...)\n",
    "    α,β,wc = p[1], p[2], p[3]\n",
    "    s(x,wc) = 1 ./(1 .+exp.(-1000*(x-wc))) # approximates indicator function of x>=wc\n",
    "    obj(x,p) = dist_pdf(x,p)*s(x,wc...)\n",
    "    prob = QuadratureProblem(obj,0.0,1.0,[α...,β...])\n",
    "    Quadrature.solve(prob,QuadGKJL(),reltol=1e-5,abstol=1e-5)[1]\n",
    "end\n",
    "\n",
    "function dist_pdf_mv(x,params)\n",
    "           # α,β,A,b,c = params[1][1:N], params[1][N+1:2*N], params[1][2*N+1:2*N+N^2], params[1][2*N+N^2+1:3*N+N^2], params[1][3*N+N^2+1:4*N+N^2]\n",
    "            α,β,A,b,c = params[1:N], params[N+1:2*N], params[2*N+1:2*N+N^2], params[2*N+N^2+1:3*N+N^2], params[3*N+N^2+1:4*N+N^2]\n",
    "            A = reshape([A...],N,N) \n",
    "            joint_pdf = 1.0;\n",
    "            for i=1:N\n",
    "               joint_pdf = joint_pdf*dist_pdf(x[i],[α[i],β[i]]) \n",
    "            end\n",
    "\n",
    "            function contraction(x,p)\n",
    "               min.(p_bar, max.((1 .+g0).*(A'*p .+ c .- x.*c) .- g0.*p_bar,0))\n",
    "            end\n",
    "            contraction_iter(x, n::Integer) = n <= 0 ? p_bar  : contraction(x,contraction_iter(x,n-1))\n",
    "            loss_x(x) = -sum(contraction_iter(x,2)).*dist_pdf(x,[α...,β...])   \n",
    "            loss_x(x)*joint_pdf\n",
    "end\n",
    "\n",
    "function ev(params...)\n",
    "    prob = QuadratureProblem(dist_pdf_mv,zeros(N),ones(N),[params...])\n",
    "    Quadrature.solve(prob,CubaCuhre(),reltol=1e-5,abstol=1e-5)[1]\n",
    "end\n",
    "\n",
    "ic = [α0...,β0...,A0...,b0...,c0...]\n",
    "dist_pdf_mv(ones(N)/10.0,ic)\n",
    "ev(ic...)\n"
   ]
  },
  {
   "cell_type": "code",
   "execution_count": 4,
   "metadata": {},
   "outputs": [
    {
     "data": {
      "text/plain": [
       "false"
      ]
     },
     "execution_count": 4,
     "metadata": {},
     "output_type": "execute_result"
    }
   ],
   "source": [
    "\n",
    "m = Model(optimizer_with_attributes(Ipopt.Optimizer,\"max_iter\"=>100000,\"print_level\"=>5))\n",
    "\n",
    "@variable(m, 0.8<=α[i=1:N]<=3.0, start = α0[i]) \n",
    "@variable(m, 1.0<=β[i=1:N]<=150.0, start = β0[i]) \n",
    "#@variable(m, 0<=p[i=1:N,j=1:D]<=data.p_bar[i], start = data.p_bar[i]) \n",
    "@variable(m, 0<=A[i=1:N, j=1:N]<=1, start=A0[i,j])  \n",
    "@variable(m, w[i]<=c[i=1:N]<=data.assets[i], start = c0[i])  \n",
    "@variable(m, 0<=b[i=1:N]<=data.p_bar[i], start = b0[i])   \n",
    "\n",
    "@constraint(m, -sum(A,dims=2).*data.p_bar .+ data.p_bar .==  b ) # payments to other nodes add up to inside liabilities f\n",
    "@constraint(m, A' * data.p_bar .== data.assets .- c ) # payments from other nodes add up to inside assets d\n",
    "# liabilities are net liabilities: A[i,i]=0 and A[i,j]A[j,i]=0\n",
    "@constraint(m, [i = 1:N], A[i,i]==0)\n",
    "for i=1:N\n",
    "    j=1\n",
    "    while j < i\n",
    "       @constraint(m, 0 == A[i,j] * A[j,i])\n",
    "        j += 1\n",
    "    end\n",
    "end\n",
    "\n",
    "    # register max and min non-linear functions\n",
    "maxfun(n1, n2) = max(n1, n2)\n",
    "minfun(n1, n2) = min(n1, n2)\n",
    "JuMP.register(m, :maxfun, 2, maxfun, autodiff=true)\n",
    "JuMP.register(m, :minfun, 2, minfun, autodiff=true)\n",
    "\n",
    "# match probabilities of default\n",
    "JuMP.register(m, :dist_cdf, 3, dist_cdf, autodiff=true)\n",
    "@NLexpression(m,wc[i=1:N],w[i]/c[i])\n",
    "for i in 1:N\n",
    "    @eval ($(Symbol(\"vv$i\"))) = [α[$i],β[$i],wc[$i]]\n",
    "    @eval @NLconstraint(m,dist_cdf(($(Symbol(\"vv$i\")))...)== delta[$i]) \n",
    "end\n",
    "\n",
    "#[fix(c[i], data.c[i]; force=true) for i  in nm_c] #fixing c to data\n",
    "#[fix(b[i], data.b[i]; force=true) for i  in nm_b] #fixing b to data\n",
    "JuMP.register(m, :ev, 4*N+N^2, ev, autodiff=true)\n",
    "vars = [α...,β...,A...,b...,c...]\n",
    "@NLobjective(m, Min, ev(vars...)  )\n",
    "\n",
    "unset_silent(m)\n"
   ]
  },
  {
   "cell_type": "code",
   "execution_count": null,
   "metadata": {},
   "outputs": [],
   "source": [
    "@time JuMP.optimize!(m)\n",
    "\n"
   ]
  },
  {
   "cell_type": "code",
   "execution_count": null,
   "metadata": {},
   "outputs": [],
   "source": [
    "st0 = termination_status(m)\n",
    "obj0 = objective_value(m)\n",
    "@show st0, obj0\n",
    "\n",
    "csol0 = JuMP.value.(c)\n",
    "bsol0 = JuMP.value.(b)\n",
    "Asol0 = JuMP.value.(A)\n",
    "αsol0 = JuMP.value.(α)\n",
    "βsol0 = JuMP.value.(β)\n",
    "objective = objective_value(m)\n",
    "\n",
    "cdf_pkg = [1-cdf(Beta(αsol0[i],βsol0[i]),w[i]/csol0[i]) for i=1:N]\n",
    "cdf_opt = [dist_cdf([αsol0[i],βsol0[i],w[i]/csol0[i] ]...) for i=1:N]\n",
    "tol = 1e-5\n",
    "@testset \"check solution\" begin\n",
    "    @test norm( sum(Asol0,dims=2).* data.p_bar .- (data.p_bar .- bsol0)) < tol\n",
    "    @test norm( Asol0' * data.p_bar .- (data.assets .- csol0)) < tol\n",
    "    @test norm(diag(Asol0)) < tol\n",
    "    @test norm([Asol0[i,j]*Asol0[j,i] for i=1:N , j=1:N]) < tol\n",
    "    @test all(0 .<=Asol0.<=1)\n",
    "    @test all(0 .<=bsol0.<=data.p_bar)\n",
    "    @test all(0 .<=csol0.<=data.assets)   \n",
    "\n",
    "    @test norm(cdf_pkg-cdf_opt)<0.01\n",
    "    @test norm(delta-cdf_opt)<0.01\n",
    "    \n",
    "end\n",
    "\n",
    "# Displaying output in batch solution\n",
    "\n",
    "print(\"c solution = $csol0 \\n\")\n",
    "print(\"c initial = $c0 \\n\")\n",
    "print(\"b solution = $bsol0 \\n\")\n",
    "print(\"b initial = $b0 \\n\")\n",
    "print(\"A solution = $Asol0 \\n\")\n",
    "print(\"A initial = $A0 \\n\")\n",
    "print(\"α solution = $αsol0 \\n\")\n",
    "print(\"α initial = $α0 \\n\")\n",
    "print(\"β solution = $βsol0 \\n\")\n",
    "print(\"β initial = $β0 \\n\")\n",
    "print(\"Final value = $objective \\n\")"
   ]
  },
  {
   "cell_type": "code",
   "execution_count": null,
   "metadata": {},
   "outputs": [],
   "source": [
    "## Exporting Results to csv\n",
    "data_out= DataFrame()\n",
    "data_out.n = N * ones(N)\n",
    "data_out.c = csol0\n",
    "data_out.b = bsol0\n",
    "data_out.alpha = αsol0\n",
    "data_out.beta = βsol0\n",
    "data_out.A1 = Asol0[:,1]\n",
    "data_out.A2 = Asol0[:,2]\n",
    "data_out.A3 = Asol0[:,3]\n",
    "data_out.A4 = Asol0[:,4]\n",
    "data_out.A5 = Asol0[:,5]\n",
    "data_out.A6 = Asol0[:,6]\n",
    "data_out.A7 = Asol0[:,7]\n",
    "data_out.A8 = Asol0[:,8]\n",
    "data_out.A9 = Asol0[:,9]\n",
    "data_out.A10 = Asol0[:,10]\n",
    "data_out.A11 = Asol0[:,11]\n",
    "data_out.A12 = Asol0[:,12]\n",
    "data_out.objective = objective * ones(N)\n",
    "\n",
    "import Pkg; Pkg.add(\"CSV\")\n",
    "using CSV\n",
    "CSV.write(\"N12_Max_output.csv\",data_out)\n",
    "\n",
    "@save \"N12_Max_output.jld2\""
   ]
  },
  {
   "cell_type": "code",
   "execution_count": null,
   "metadata": {},
   "outputs": [],
   "source": []
  },
  {
   "cell_type": "code",
   "execution_count": null,
   "metadata": {},
   "outputs": [],
   "source": []
  }
 ],
 "metadata": {
  "kernelspec": {
   "display_name": "Julia 1.6.0",
   "language": "julia",
   "name": "julia-1.6"
  },
  "language_info": {
   "file_extension": ".jl",
   "mimetype": "application/julia",
   "name": "julia",
   "version": "1.6.0"
  }
 },
 "nbformat": 4,
 "nbformat_minor": 4
}
