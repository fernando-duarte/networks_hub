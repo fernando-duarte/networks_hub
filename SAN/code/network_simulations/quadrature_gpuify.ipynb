{
 "cells": [
  {
   "cell_type": "markdown",
   "id": "727bd93c",
   "metadata": {},
   "source": [
    "## CUDA Kernels\n",
    "### Example from CUDA.jl"
   ]
  },
  {
   "cell_type": "code",
   "execution_count": null,
   "id": "d0e5e27d",
   "metadata": {},
   "outputs": [],
   "source": [
    "using CUDA\n",
    "using KernelAbstractions, CUDAKernels"
   ]
  },
  {
   "cell_type": "code",
   "execution_count": null,
   "id": "f9e0accb",
   "metadata": {},
   "outputs": [],
   "source": [
    "N = 2^20\n",
    "x_d = CUDA.fill(1.0f0, N)  # a vector stored on the GPU filled with 1.0 (Float32)\n",
    "y_d = CUDA.fill(2.0f0, N)  # a vector stored on the GPU filled with 2.0\n",
    "\n",
    "function gpu_add!(y, x)\n",
    "    index = (blockIdx().x - 1) * blockDim().x + threadIdx().x\n",
    "    @inbounds y[index] += x[index]\n",
    "    return\n",
    "end\n",
    "\n",
    "numblocks = ceil(Int, N/256)\n",
    "\n",
    "fill!(y_d, 2)\n",
    "@cuda threads=256 blocks=numblocks gpu_add3!(y_d, x_d)\n",
    "@test all(Array(y_d) .== 3.0f0)"
   ]
  },
  {
   "cell_type": "code",
   "execution_count": null,
   "id": "48d76156",
   "metadata": {},
   "outputs": [],
   "source": [
    "function add_broadcast!(y, x)\n",
    "    CUDA.@sync y .+= x\n",
    "    return\n",
    "end\n",
    "b_base = @btime add_broadcast!($y_d, $x_d)\n",
    "\n",
    "\n",
    "function add_kernel!(y, x)\n",
    "    numblocks = ceil(Int, length(y)/256)\n",
    "    CUDA.@sync begin\n",
    "        @cuda threads=256 blocks=numblocks gpu_add!(y, x)\n",
    "    end\n",
    "end\n",
    "\n",
    "b_ker = @btime add_kernel!($y_d, $x_d)\n",
    "\n",
    "display(b_base)\n",
    "display(b_ker)\n"
   ]
  },
  {
   "cell_type": "code",
   "execution_count": null,
   "id": "8ba5f2d5",
   "metadata": {},
   "outputs": [],
   "source": [
    "\n",
    "N=2^4\n",
    "@kernel function add_kernel_abs!(ys,xs)\n",
    "  I = @index(Global)\n",
    "  ys[I] += xs[I]\n",
    "  println(I)\n",
    "end\n",
    "\n",
    "x = fill(1.0f0, N)  \n",
    "y = fill(2.0f0, N)  \n",
    "kernel = add_kernel_abs!(CPU(), 16)\n",
    "event = kernel(y,x, ndrange=size(x))\n",
    "wait(event)\n",
    "@test y ≈ fill(3.0f0,N)"
   ]
  },
  {
   "cell_type": "code",
   "execution_count": null,
   "id": "0f4c086f",
   "metadata": {},
   "outputs": [],
   "source": [
    "x_d = CUDA.fill(1.0f0, N)  # a vector stored on the GPU filled with 1.0 (Float32)\n",
    "y_d = CUDA.fill(2.0f0, N)  # a vector stored on the GPU filled with 2.0\n",
    "\n",
    "A = CUDA.ones(1024, 1024)\n",
    "kernel = mul2(CUDADevice(), 16)\n",
    "event = kernel(A, ndrange=size(A))\n",
    "wait(event)\n",
    "all(A .== 2.0)\n",
    "\n",
    " ev = kernel(input, output, ndrange=size(output))\n",
    "\n",
    "using CUDAdrv, CUDAnative\n",
    "\n",
    "function kernel(x)\n",
    "    c = blockIdx().x\n",
    "    b = blockIdx().y\n",
    "    a = threadIdx().x\n",
    "    x[a, b, c] = x[a, b, c] + 1\n",
    "    return\n",
    "end\n",
    "\n",
    "dx = CuArray{Float32,3}(1024, 1024, 1024)\n",
    "@cuda ((1024, 1024), 1024) kernel(dx)"
   ]
  },
  {
   "cell_type": "code",
   "execution_count": null,
   "id": "dc26d55e",
   "metadata": {},
   "outputs": [],
   "source": [
    "@code_warntype add_broadcast!(y_d, x_d)\n",
    "@code_warntype add_kernel!(y_d, x_d)\n",
    "\n",
    "@assert isbitstype(Test) == true\n",
    "\n",
    "using CUDAdrv\n",
    "attribute(dev, CUDAdrv.MAX_GRID_DIM_X)\n",
    "2147483647\n",
    "\n",
    "attribute(dev, CUDAdrv.MAX_GRID_DIM_Y)\n",
    "65535\n",
    "\n",
    "attribute(dev, CUDAdrv.MAX_GRID_DIM_Z)\n",
    "\n",
    "julia> attribute(device(),CUDA.DEVICE_ATTRIBUTE_MAX_BLOCK_DIM_X)\n",
    "1024\n",
    "julia> attribute(device(),CUDA.DEVICE_ATTRIBUTE_MAX_GRID_DIM_X)\n",
    "2147483647\n",
    "julia> attribute(device(),CUDA.DEVICE_ATTRIBUTE_MAX_THREADS_PER_BLOCK)\n",
    "\n",
    "if has_cuda_gpu()\n",
    "    CUDA.allowscalar(false)\n",
    "end\n",
    "\n",
    "output = similar(input)"
   ]
  },
  {
   "cell_type": "code",
   "execution_count": null,
   "id": "b5424f44",
   "metadata": {},
   "outputs": [],
   "source": [
    "using FoldsCUDA, CUDA, FLoops\n",
    "using GPUArrays: @allowscalar\n",
    "\n",
    "N = 2^20\n",
    "x_d = CUDA.fill(1.0f0, N)  # a vector stored on the GPU filled with 1.0 (Float32)\n",
    "y_d = CUDA.fill(2.0f0, N)  # a vector stored on the GPU filled with 2.0\n",
    "\n",
    "function floop_map!(ys, xs, ex = CUDAEx())\n",
    "   @floop ex for i in eachindex(x_d, y_d)\n",
    "       @inbounds ys[i] += xs[i]\n",
    "   end\n",
    "   return ys\n",
    "end\n",
    "\n",
    "\n",
    "b_floops = @btime floop_map!($y_d, $x_d)"
   ]
  },
  {
   "cell_type": "code",
   "execution_count": null,
   "id": "35475c00",
   "metadata": {},
   "outputs": [],
   "source": [
    "using Cuba, Distributions\n",
    "using BenchmarkTools, Test, Traceur\n",
    "using HCubature, CUDA\n",
    "using SpecialFunctions\n",
    "\n",
    "@test Threads.nthreads()>1\n",
    "@show Threads.nthreads()\n",
    "#@show CUDA.versioninfo()\n",
    "has_cuda_gpu()\n",
    "\n",
    "\n"
   ]
  },
  {
   "cell_type": "code",
   "execution_count": null,
   "id": "7ed5a62f",
   "metadata": {},
   "outputs": [],
   "source": [
    "M=5 # number of independent beta random variables\n",
    "atol=1e-6\n",
    "rtol=1e-3\n",
    "nvec=10000000\n",
    "\n",
    "# multithread and loop to create product distribution\n",
    "function int_thread_el(x,f)\n",
    "   f[1,:] .= 1.0\n",
    "   Threads.@threads for j in 1:size(x,2)\n",
    "       for i in 1:size(x, 1)\n",
    "           f[1, j] *= pdf(Beta(1.0,2.0),@view(x[i,j]))\n",
    "       end\n",
    "   end\n",
    "end"
   ]
  },
  {
   "cell_type": "code",
   "execution_count": null,
   "id": "75044c70",
   "metadata": {},
   "outputs": [],
   "source": [
    "@show result, err = cuhre(int_thread_el, M, 1, atol=atol, rtol=rtol,nvec=nvec);"
   ]
  },
  {
   "cell_type": "code",
   "execution_count": null,
   "id": "619c9789",
   "metadata": {},
   "outputs": [],
   "source": [
    "\n",
    "@show Threads.nthreads()"
   ]
  },
  {
   "cell_type": "code",
   "execution_count": null,
   "id": "fb060a80",
   "metadata": {},
   "outputs": [],
   "source": [
    "\n",
    "inth(x)=int(x,zeros(M))"
   ]
  },
  {
   "cell_type": "code",
   "execution_count": null,
   "id": "9cf9741d",
   "metadata": {},
   "outputs": [],
   "source": [
    "@btime hcubature(int, zeros(M),ones(M); rtol=1e-3, atol=1e-3, maxevals=nvec, initdiv=1)"
   ]
  },
  {
   "cell_type": "code",
   "execution_count": null,
   "id": "beca74a2",
   "metadata": {},
   "outputs": [],
   "source": [
    "\n",
    "  a = 1.0f0\n",
    "  b = 2.0f0\n",
    "  k = gamma(a+b)/(gamma(a)*gamma(b))\n",
    "k_d = CuArray(Float32,k)\n"
   ]
  },
  {
   "cell_type": "code",
   "execution_count": null,
   "id": "b947f5bd",
   "metadata": {},
   "outputs": [],
   "source": []
  },
  {
   "cell_type": "code",
   "execution_count": null,
   "id": "6939801d",
   "metadata": {},
   "outputs": [],
   "source": [
    "display(beta_pdf_d(rand(Float32, 2, 3)))\n",
    "display(beta_pdf_d(CUDA.rand(Float32, 2, 3)))"
   ]
  },
  {
   "cell_type": "code",
   "execution_count": null,
   "id": "e4520882",
   "metadata": {},
   "outputs": [],
   "source": [
    "display(int(zeros(M)))\n",
    "display(beta_pdf_d(zeros(M)))\n",
    "yy=rand(M)\n",
    "display(prod(k*yy.^(a-1.0f0) .* (1.0f0 .- yy).^(b-1.0f0)))\n",
    "display(prod(pdf(Beta(1.0,2.0),yy)))\n",
    "\n",
    "display(beta_pdf_d(yy))\n",
    "display(int(yy))"
   ]
  },
  {
   "cell_type": "code",
   "execution_count": null,
   "id": "866a19a1",
   "metadata": {},
   "outputs": [],
   "source": [
    "\n",
    "\n",
    "const M=3 # number of independent beta random variables\n",
    "const atol=1e-6\n",
    "const rtol=1e-3\n",
    "const atolf=1f-6\n",
    "const rtolf=1f-3\n",
    "const maxevals=10000000\n",
    "const z=zeros(M)\n",
    "const o=ones(M)\n",
    "const z_d=CUDA.zeros(Float32,M)\n",
    "const o_d=CUDA.ones(Float32,M)"
   ]
  },
  {
   "cell_type": "code",
   "execution_count": null,
   "id": "7fbfc26f",
   "metadata": {},
   "outputs": [],
   "source": [
    "const a = 1.0\n",
    "const b = 2.0\n",
    "const k = gamma(a+b)/(gamma(a)*gamma(b))"
   ]
  },
  {
   "cell_type": "code",
   "execution_count": null,
   "id": "0045b456",
   "metadata": {},
   "outputs": [],
   "source": [
    "k_d=CuArray{Float32}([k])"
   ]
  },
  {
   "cell_type": "code",
   "execution_count": null,
   "id": "99c507bc",
   "metadata": {},
   "outputs": [],
   "source": [
    "function m(x::CuArray{T, 2}) where T\n",
    "   x=1\n",
    "end"
   ]
  },
  {
   "cell_type": "code",
   "execution_count": null,
   "id": "356e5898",
   "metadata": {},
   "outputs": [],
   "source": [
    "yy=CUDA.rand(Float32,10,10)\n",
    "@trace m(yy)"
   ]
  },
  {
   "cell_type": "code",
   "execution_count": null,
   "id": "e968799d",
   "metadata": {},
   "outputs": [],
   "source": [
    "@code_typed m(yy)"
   ]
  },
  {
   "cell_type": "code",
   "execution_count": null,
   "id": "a650bf7f",
   "metadata": {},
   "outputs": [],
   "source": [
    " @code_lowered m(yy)\n",
    "@code_llvm m(yy)"
   ]
  },
  {
   "cell_type": "code",
   "execution_count": null,
   "id": "840d3386",
   "metadata": {},
   "outputs": [],
   "source": [
    "function beta_pdf_d(x::CuArray{T, 2}) where T\n",
    "   prod(k*x.^(a .- CUDA.ones(T)) .* ( CUDA.ones(T) .- x).^(b .- CUDA.ones(T)),dims=1)\n",
    "end\n",
    "\n",
    "function beta_pdf(x::Array{T, 2}) where T\n",
    "   prod(k*x.^(a .- CUDA.ones(T)) .* ( CUDA.ones(T) .- x).^(b .- CUDA.ones(T)),dims=1)\n",
    "end"
   ]
  },
  {
   "cell_type": "code",
   "execution_count": null,
   "id": "ffab81cc",
   "metadata": {},
   "outputs": [],
   "source": [
    "@trace beta_pdf_d( CUDA.rand(Float32,10,10) )"
   ]
  },
  {
   "cell_type": "code",
   "execution_count": null,
   "id": "15d2b27e",
   "metadata": {},
   "outputs": [],
   "source": [
    "@code_warntype beta_pdf_d( CUDA.rand(Float32,10,10) )"
   ]
  },
  {
   "cell_type": "code",
   "execution_count": null,
   "id": "43fd7382",
   "metadata": {},
   "outputs": [],
   "source": [
    "@benchmark CUDA.@sync  beta_pdf_d( CUDA.rand(Float32,10,10) )"
   ]
  },
  {
   "cell_type": "code",
   "execution_count": null,
   "id": "c34fb913",
   "metadata": {},
   "outputs": [],
   "source": [
    "@benchmark CUDA.@sync blocking=false beta_pdf_d( CUDA.rand(Float32,10,10) )"
   ]
  },
  {
   "cell_type": "code",
   "execution_count": null,
   "id": "5c908a27",
   "metadata": {},
   "outputs": [],
   "source": [
    "typeof(rand(Float32,10,10))"
   ]
  },
  {
   "cell_type": "code",
   "execution_count": null,
   "id": "444171c5",
   "metadata": {},
   "outputs": [],
   "source": [
    "@show typeof(beta_pdf_d(rand(Float32,10,10)))\n",
    "@show typeof(beta_pdf_d(rand(Float32,14,8)))\n",
    "@show typeof(beta_pdf_d(rand(Float32,1,1)))\n",
    "\n",
    "@show typeof(CUDA.rand(Float32,10,10))\n",
    "@show typeof(beta_pdf_d(CUDA.rand(Float32,10,10)))\n",
    "@show typeof(beta_pdf_d(CUDA.rand(Float32,14,8)))\n",
    "@show typeof(beta_pdf_d(CUDA.rand(Float32,1,1)))"
   ]
  },
  {
   "cell_type": "code",
   "execution_count": null,
   "id": "faa13887",
   "metadata": {},
   "outputs": [],
   "source": [
    "function int(x)\n",
    "   pdf(Product(Beta.(1.0,2.0*ones(M))),x)\n",
    "end\n",
    "\n",
    "yy=rand(M)\n",
    "q1 = @benchmark beta_pdf_d(yy)\n",
    "q2 = @benchmark int(yy)"
   ]
  },
  {
   "cell_type": "code",
   "execution_count": null,
   "id": "0029d532",
   "metadata": {},
   "outputs": [],
   "source": [
    "typeof(k)"
   ]
  },
  {
   "cell_type": "code",
   "execution_count": null,
   "id": "1b8d766d",
   "metadata": {},
   "outputs": [],
   "source": [
    "function f1()\n",
    "   hcubature(int, z,o; rtol=rtol, atol=atol, maxevals=maxevals, initdiv=1)[1]\n",
    "end\n",
    "\n",
    "function f2()\n",
    "   hcubature(beta_pdf_d, z,o; rtol=rtol, atol=atol, maxevals=maxevals, initdiv=1)\n",
    "end\n",
    "\n",
    "function f3()\n",
    "   hcubature(beta_pdf_d,CUDA.zeros(Float32,M) ,CUDA.ones(Float32,M); rtol=rtolf, atol=atolf, maxevals=maxevals, initdiv=1)\n",
    "end\n",
    "\n",
    "sol1 = f1()\n",
    "sol2 = f2()\n",
    "sol3 = f3()\n",
    "@test sol1 ≈ 1.0\n",
    "@test sol2[1][1] ≈ 1.0\n",
    "@test sol3[1][1] ≈ 1.0f0"
   ]
  },
  {
   "cell_type": "code",
   "execution_count": null,
   "id": "afcbef77",
   "metadata": {},
   "outputs": [],
   "source": [
    "b1= @benchmark f1()\n",
    "b2= @benchmark f2()\n",
    "b3= @benchmark f3()\n",
    "\n",
    "@show b1,b2,b3"
   ]
  },
  {
   "cell_type": "code",
   "execution_count": null,
   "id": "27a87607",
   "metadata": {},
   "outputs": [],
   "source": [
    "(b1, b2, b3) = (Trial(37.877 μs), Trial(9.625 μs), Trial(115.358 μs))"
   ]
  },
  {
   "cell_type": "code",
   "execution_count": null,
   "id": "d754d6a0",
   "metadata": {},
   "outputs": [],
   "source": [
    "passing: \n",
    "consts: (b1, b2, b3) = (Trial(39.496 μs), Trial(10.695 μs), Trial(86.517 μs))\n",
    "globals: (b1, b2, b3) = (Trial(68.935 μs), Trial(91.038 μs), Trial(172.503 μs))"
   ]
  },
  {
   "cell_type": "code",
   "execution_count": null,
   "id": "57bbe98f",
   "metadata": {},
   "outputs": [],
   "source": [
    "BayesianIntegral\n",
    "QuasiMonteCarlo\n",
    "PolyChaos\n",
    "QuadratureRules\n",
    "MonteCarloIntegration\n",
    "Surrogates"
   ]
  }
 ],
 "metadata": {
  "kernelspec": {
   "display_name": "Julia-8-threads 1.6.0",
   "language": "julia",
   "name": "julia-8-threads-1.6"
  },
  "language_info": {
   "file_extension": ".jl",
   "mimetype": "application/julia",
   "name": "julia",
   "version": "1.6.0"
  }
 },
 "nbformat": 4,
 "nbformat_minor": 5
}
