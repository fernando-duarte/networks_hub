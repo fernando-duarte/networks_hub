{
 "cells": [
  {
   "cell_type": "code",
   "execution_count": null,
   "id": "qualified-portal",
   "metadata": {},
   "outputs": [],
   "source": [
    "using Cuba, Distributions\n",
    "using BenchmarkTools\n",
    "\n",
    "@test Threads.nthreads()>1\n",
    "\n",
    "M=25 # number of independent beta random variables\n",
    "atol=1e-6\n",
    "rtol=1e-3\n",
    "nvec=10000000\n",
    "\n",
    "# multithread and loop to create product distribution\n",
    "function int_thread_el(x,f)\n",
    "   f[1,:] .= 1.0\n",
    "   Threads.@threads for j in 1:size(x,2)\n",
    "       for i in 1:size(x, 1)\n",
    "           f[1, j] *= pdf(Beta(1.0,2.0),@view(x[i,j]))\n",
    "       end\n",
    "   end\n",
    "end\n",
    "\n",
    "@show result, err = cuhre(int_thread_el, M, 1, atol=atol, rtol=rtol,nvec=nvec);\n"
   ]
  }
 ],
 "metadata": {
  "kernelspec": {
   "display_name": "Julia (16 threads) 1.6.0",
   "language": "julia",
   "name": "julia-(16-threads)-1.6"
  },
  "language_info": {
   "file_extension": ".jl",
   "mimetype": "application/julia",
   "name": "julia",
   "version": "1.6.0"
  }
 },
 "nbformat": 4,
 "nbformat_minor": 5
}
