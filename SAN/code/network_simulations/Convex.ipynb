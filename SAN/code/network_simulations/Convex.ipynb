{
 "cells": [
  {
   "cell_type": "code",
   "execution_count": 1,
   "id": "22f6097b",
   "metadata": {},
   "outputs": [
    {
     "name": "stderr",
     "output_type": "stream",
     "text": [
      "\u001b[32m\u001b[1m  Activating\u001b[22m\u001b[39m environment at `~/SageMaker/networks_hub/SAN/code/network_simulations/convex/Project.toml`\n",
      "\u001b[32m\u001b[1m  No Changes\u001b[22m\u001b[39m to `~/SageMaker/networks_hub/SAN/code/network_simulations/convex/Project.toml`\n",
      "\u001b[32m\u001b[1m  No Changes\u001b[22m\u001b[39m to `~/SageMaker/networks_hub/SAN/code/network_simulations/convex/Manifest.toml`\n",
      "\u001b[32m\u001b[1m      Active\u001b[22m\u001b[39m manifest files: 2 found\n",
      "\u001b[32m\u001b[1m      Active\u001b[22m\u001b[39m artifact files: 80 found\n",
      "\u001b[32m\u001b[1m      Active\u001b[22m\u001b[39m scratchspaces: 6 found\n",
      "\u001b[32m\u001b[1m     Deleted\u001b[22m\u001b[39m no artifacts, repos, packages or scratchspaces\n"
     ]
    }
   ],
   "source": [
    "import Pkg;Pkg.activate(\"convex\")\n",
    "Pkg.instantiate()\n",
    "# Pkg.resolve()\n",
    "# Pkg.gc()\n",
    "# Pkg.precompile()"
   ]
  },
  {
   "cell_type": "code",
   "execution_count": 2,
   "id": "6b2c764a",
   "metadata": {},
   "outputs": [],
   "source": [
    "using LinearAlgebra, DataFrames, XLSX, Missings, Test, SpecialFunctions,  SparseArrays , Random\n",
    "#using ProximalOperators, SCS, SequentialConvexRelaxation, Convex, COSMO\n",
    "using JuMP, Ipopt, DistributionsAD, Quadrature\n",
    "#using JuMP, Ipopt,  Distributions, DistributionsAD, SpecialFunctions, NLsolve, Random\n",
    "#using Quadrature, Cubature, Cuba, QuadGK\n",
    "#using EAGO, Alpine, Juniper, NLopt, Pavito, SCIP, GLPK"
   ]
  },
  {
   "cell_type": "code",
   "execution_count": 3,
   "id": "63b95fcf",
   "metadata": {},
   "outputs": [
    {
     "name": "stdout",
     "output_type": "stream",
     "text": [
      "\u001b[1m867×12 DataFrame\u001b[0m\n",
      "\u001b[1m Row \u001b[0m│\u001b[1m nm_short                     \u001b[0m\u001b[1m qt_dt \u001b[0m\u001b[1m tkr  \u001b[0m\u001b[1m delta     \u001b[0m\u001b[1m delta_alt   \u001b[0m\u001b[1m beta     \u001b[0m\u001b[1m w         \u001b[0m\u001b[1m c        \u001b[0m\u001b[1m assets   \u001b[0m\u001b[1m nvi_benchmark \u001b[0m\u001b[1m p_bar    \u001b[0m\u001b[1m b        \u001b[0m\n",
      "\u001b[1m     \u001b[0m│\u001b[90m Any                          \u001b[0m\u001b[90m Any   \u001b[0m\u001b[90m Any  \u001b[0m\u001b[90m Any       \u001b[0m\u001b[90m Any         \u001b[0m\u001b[90m Any      \u001b[0m\u001b[90m Any       \u001b[0m\u001b[90m Any      \u001b[0m\u001b[90m Any      \u001b[0m\u001b[90m Any           \u001b[0m\u001b[90m Any      \u001b[0m\u001b[90m Any      \u001b[0m\n",
      "─────┼───────────────────────────────────────────────────────────────────────────────────────────────────────────────────────────────────────────────\n",
      "   1 │ JPMORGAN CHASE & CO           195    JPM   0.0106652  0.00862097   0.56278   0.168059   1.45164   2.17505   11.0931        2.00699   0.877498\n",
      "   2 │ CITIGROUP                     195    C     0.0647046  0.0475393    0.481591  0.144022   1.38565   1.93847   11.0931        1.79445   0.930258\n",
      "   3 │ BANK OF AMER CORP             195    BAC   0.016278   0.0117393    0.50803   0.17871    1.51681   1.82207   11.0931        1.64336   0.808482\n",
      "   4 │ WELLS FARGO & CO              195    WFC   0.0047069  0.00462975   0.397362  0.102316   1.15898   1.30964   11.0931        1.20732   0.727579\n",
      "   5 │ GOLDMAN SACHS GROUP INC       195    GS    0.0253824  0.0282284   \u001b[90m missing  \u001b[0m 0.04922   \u001b[90m missing  \u001b[0m 1.08177  \u001b[90m missing       \u001b[0m 1.03255  \u001b[90m missing  \u001b[0m\n",
      "   6 │ AMERICAN INTERNATIONAL GROUP  195    AIG   0.057924   0.0455341   \u001b[90m missing  \u001b[0m 0.082995  \u001b[90m missing  \u001b[0m 1.02224  \u001b[90m missing       \u001b[0m 0.939242 \u001b[90m missing  \u001b[0m\n",
      "   7 │ MORGAN STANLEY                195    MS    0.0892237  0.131335    \u001b[90m missing  \u001b[0m 0.035765  \u001b[90m missing  \u001b[0m 0.987403 \u001b[90m missing       \u001b[0m 0.951638 \u001b[90m missing  \u001b[0m\n",
      "   8 │ MERRILL LYNCH  CO INC         195    BAC2  0.0602485  0.0550379   \u001b[90m missing  \u001b[0m 0.0406288 \u001b[90m missing  \u001b[0m 0.87578  \u001b[90m missing       \u001b[0m 0.835151 \u001b[90m missing  \u001b[0m\n",
      "   9 │ METLIFE                       195    MET   0.0081233  0.00663113   0.514254  0.0239866  0.373146  0.501678  11.0931        0.477692  0.232037\n",
      "  10 │ PRUDENTIAL FINANCIAL INC      195    PRU   0.0242412  0.0192051   \u001b[90m missing  \u001b[0m 0.018699  \u001b[90m missing  \u001b[0m 0.460398 \u001b[90m missing       \u001b[0m 0.441699 \u001b[90m missing  \u001b[0m\n",
      "  11 │ HARTFORD FINANCIAL SERVICES   195    HIG   0.0401791  0.0436828   \u001b[90m missing  \u001b[0m 0.012557  \u001b[90m missing  \u001b[0m 0.311485 \u001b[90m missing       \u001b[0m 0.298928 \u001b[90m missing  \u001b[0m\n",
      "  ⋮  │              ⋮                  ⋮     ⋮        ⋮           ⋮          ⋮          ⋮         ⋮         ⋮            ⋮           ⋮         ⋮\n",
      " 857 │ MANHATTAN BRIDGE CAPITAL INC  195    LOAN  0.0023348  0.00159594  \u001b[90m missing  \u001b[0m 7.016e-6  \u001b[90m missing  \u001b[0m 7.173e-6 \u001b[90m missing       \u001b[0m 1.57e-7  \u001b[90m missing  \u001b[0m\n",
      " 858 │ GLOBAL HEALTHCARE REIT        195    GBCS  0.104583   0.0862715   \u001b[90m missing  \u001b[0m 4.222e-6  \u001b[90m missing  \u001b[0m 7.154e-6 \u001b[90m missing       \u001b[0m 2.932e-6 \u001b[90m missing  \u001b[0m\n",
      " 859 │ NETWORK-1 TECHNOLOGIES INC    195    NTIP  0.0012227  0.000952608 \u001b[90m missing  \u001b[0m 4.845e-6  \u001b[90m missing  \u001b[0m 4.969e-6 \u001b[90m missing       \u001b[0m 1.24e-7  \u001b[90m missing  \u001b[0m\n",
      " 860 │ SECOND STREET CAPITAL INC     195    CTON  0.299511   0.241776    \u001b[90m missing  \u001b[0m 1.026e-6  \u001b[90m missing  \u001b[0m 4.014e-6 \u001b[90m missing       \u001b[0m 2.988e-6 \u001b[90m missing  \u001b[0m\n",
      " 861 │ CAMBRIDGE HOLDINGS LTD        195    CDGD  0.0476988  0.0492359   \u001b[90m missing  \u001b[0m 1.313e-6  \u001b[90m missing  \u001b[0m 1.967e-6 \u001b[90m missing       \u001b[0m 6.54e-7  \u001b[90m missing  \u001b[0m\n",
      " 862 │ NORAM CAPITAL HOLDINGS INC    195    NRMH  0.244393   0.242803    \u001b[90m missing  \u001b[0m 1.09e-6   \u001b[90m missing  \u001b[0m 1.628e-6 \u001b[90m missing       \u001b[0m 5.38e-7  \u001b[90m missing  \u001b[0m\n",
      " 863 │ UMC INC                       195    UMCN  0.126107   0.225341    \u001b[90m missing  \u001b[0m 4.59e-7   \u001b[90m missing  \u001b[0m 9.66e-7  \u001b[90m missing       \u001b[0m 5.07e-7  \u001b[90m missing  \u001b[0m\n",
      " 864 │ RECEIVABLE ACQ MGMT -OLD      195    CSEI  0.0594649  0.039179    \u001b[90m missing  \u001b[0m 4.69e-7   \u001b[90m missing  \u001b[0m 5.22e-7  \u001b[90m missing       \u001b[0m 5.3e-8   \u001b[90m missing  \u001b[0m\n",
      " 865 │ NOCOPI TECHNOLOGIES INC       195    NNUP  0.0232885  0.0182395   \u001b[90m missing  \u001b[0m 0.0       \u001b[90m missing  \u001b[0m 4.49e-7  \u001b[90m missing       \u001b[0m 4.49e-7  \u001b[90m missing  \u001b[0m\n",
      " 866 │ ST LAWRENCE SEAWAY CORP-OLD   195    CRBO  0.0044543  0.00446339  \u001b[90m missing  \u001b[0m 9.5e-8    \u001b[90m missing  \u001b[0m 9.9e-8   \u001b[90m missing       \u001b[0m 4.0e-9   \u001b[90m missing  \u001b[0m\n",
      " 867 │ INVENT VENTURES INC           195    IDEA  0.0152749  0.0119091   \u001b[90m missing  \u001b[0m 3.0e-9    \u001b[90m missing  \u001b[0m 3.5e-8   \u001b[90m missing       \u001b[0m 3.2e-8   \u001b[90m missing  \u001b[0m\n",
      "\u001b[36m                                                                                                                                     845 rows omitted\u001b[0m"
     ]
    }
   ],
   "source": [
    "## load data\n",
    "\n",
    "xf = XLSX.readxlsx(\"node_stats_forsimulation_all.xlsx\") \n",
    "data = vcat( [(XLSX.eachtablerow(xf[s]) |> DataFrames.DataFrame) for s in XLSX.sheetnames(xf)]... ) #for s in XLSX.sheetnames(xf) if (s!=\"Aggregates Composition\" && s!=\"Dealer Aggregates\" && s!=\"Approx Aggregates\")\n",
    "unique!(data) # delete duplicate rows, use `nonunique(data)` to see if there are any duplicates\n",
    "data = data[isequal.(data.qt_dt,195), :] # keep quarter == 195 = 2008q4\n",
    "sort!(data, :assets, rev = true)\n",
    "units = 1e6;\n",
    "data[:,[:w, :c, :assets, :p_bar, :b]] .= data[!,[:w, :c, :assets, :p_bar, :b]]./units\n",
    "# data.b[:] .= missing\n",
    "# data.c[:] .= missing\n",
    "\n",
    "col_with_miss = names(data)[[any(ismissing.(col)) for col = eachcol(data)]] # columns with at least one missing\n",
    "data_nm = coalesce.(data, data.assets/1.5) # replace missing by a value\n",
    "nm_c = findall(x->x==0,ismissing.(data.c))\n",
    "nm_b = findall(x->x==0,ismissing.(data.b))\n",
    "dropmissing(data, [:delta, :delta_alt, :w, :assets, :p_bar]) # remove type missing\n",
    "\n",
    "names(data) # column names\n",
    "describe(data)\n",
    "show(data, allcols = true)"
   ]
  },
  {
   "cell_type": "code",
   "execution_count": 19,
   "id": "72f9f47d",
   "metadata": {},
   "outputs": [
    {
     "data": {
      "text/plain": [
       "1×990 Matrix{Float64}:\n",
       " 0.0  0.0  0.0  0.0  0.0  0.0  0.0  …  -1.0  -1.0  -1.0  -1.0  -1.0  -1.0"
      ]
     },
     "execution_count": 19,
     "metadata": {},
     "output_type": "execute_result"
    }
   ],
   "source": [
    "N=30\n",
    "T = Float64\n",
    "temp = Array{T}(data[1:N,[:delta, :delta_alt, :w, :assets, :p_bar]])\n",
    "delta = copy(temp[:,1]); \n",
    "delta_alt = copy(temp[:,2]);\n",
    "w = copy(temp[:,3]); \n",
    "assets= copy(temp[:,4]);\n",
    "p_bar = copy(temp[:,5]);\n",
    "\n",
    "γ = T(0)\n",
    "M = N^2+3*N\n",
    "\n",
    "rng =  Random.seed!(123)\n",
    "x = ones(T,N)/10 #rand(T, N)\n",
    "Ex = ones(T,N)/10 #ones(T,N)/2 # expectation of x\n",
    "\n",
    "# upper and lower bounds\n",
    "# low<=z<=upp\n",
    "low = spzeros(T,M)\n",
    "upp = vcat(ones(T,N^2),p_bar,assets,p_bar)\n",
    "\n",
    "# linear constraints\n",
    "H₁ = spzeros(T,M,M)\n",
    "h₁₁ᵀ = hcat(sparse(kron(Matrix{T}(I,N,N),p_bar')))\n",
    "h₁ᵀ = hcat(h₁₁ᵀ,spzeros(T,N,N),sparse(I,N,N),spzeros(T,N,N))\n",
    "q₁ = assets\n",
    "\n",
    "H₂ = spzeros(T,M,M)\n",
    "h₂₁ᵀ = repeat(spdiagm(p_bar),1,N)\n",
    "h₂ᵀ = hcat(h₂₁ᵀ,sparse(I,N,N),spzeros(T,N,N),spzeros(T,N,N))\n",
    "q₂ = p_bar\n",
    "\n",
    "# hᵀz=q\n",
    "hᵀ = vcat(h₁ᵀ,h₂ᵀ)\n",
    "q = vcat(q₁,q₂)\n",
    "\n",
    "# quadratic constraints\n",
    "li = LinearIndices((N,N))\n",
    "liᵀ= transpose(li)\n",
    "id = li[tril!(trues(N,N), 0)]\n",
    "idᵀ = liᵀ[tril!(trues(N,N), 0)]\n",
    "H₃= sparse(vcat(id,idᵀ),vcat(idᵀ,id),T(0.5),M,M)\n",
    "h₃ = spzeros(T,M)\n",
    "q₃ = spzeros(T,1)\n",
    "\n",
    "# zᵀHz = 0\n",
    "H = H₃\n",
    "\n",
    "# nonlinear constraints\n",
    "# [h₄₄ᵀ[i]z=min{p_bar[i],max{zᵀH₄[i]z+h₄ᵀ[i]z+q₄[i],0}} for i=1,2,...,N]\n",
    "# note: h₄ᵀ[i] depends on x\n",
    "H₄  = [sparse( vcat(N*(i-1)+1:N*i,M-N+1:M), vcat(M-N+1:M,N*(i-1)+1:N*i), (1+γ)*ones(T,2*N)/2,M,M) for i=1:N] # H₄⁽ⁱ⁾=H₄[i]\n",
    "h₄ᵀ = [sparse([1],[N^2+N+i],(1+γ)*(T(1)-x[i]),1,M) for i=1:N] # h₄ᵀ⁽ⁱ⁾=h₄ᵀ[i]\n",
    "h₄₄ᵀ= [sparse([1],[N^2+2*N+i],T(1),1,M) for i=1:N] # h₄₄⁽ⁱ⁾ᵀ=h₄₄ᵀ[i]\n",
    "q₄ = -γ*p_bar # q₄⁽ⁱ⁾=q₄⁽ⁱ⁾[i]\n",
    "# or, if we ignore the min{p_bar,max{...,0}}, we get the quadratic constraint\n",
    "# h₄₄ᵀ[i]z=zᵀH₄[i]z+h₄ᵀ[i]z+q₄[i] for i=1,2,...,N\n",
    "# which we can also write as\n",
    "# transpose(z)*H₄[i]*z==(h₄₄ᵀ[i] - h₄ᵀ[i])*z-q₄[i]  for i=1,2,...,N\n",
    "# with h₄₄₄ᵀ[i] == h₄₄ᵀ[i] - h₄ᵀ[i]  for i=1,2,...,N\n",
    "h₄₄₄ᵀ = [h₄₄ᵀ[i] - h₄ᵀ[i] for i=1:N]\n",
    "\n",
    "# chance   constraints\n",
    "# Prob(h₅ᵀ[i]z>=q₅[i])=delta[i]\n",
    "h₅ᵀmat = hcat(spzeros(T,N,N^2),spzeros(T,N,N),sparse(I,N,N),spzeros(T,N,N))\n",
    "h₅ᵀ= [h₅ᵀmat[i, :] for i in 1:N]\n",
    "q₅ = w\n",
    "\n",
    "# objective function\n",
    "# max or min E[h₀ᵀz]\n",
    "h₀₃ᵀ= transpose(Ex)\n",
    "h₀₄ᵀ=-ones(T,1,N)\n",
    "h₀ᵀ = hcat(spzeros(T,1,N^2),spzeros(T,1,N),h₀₃ᵀ,h₀₄ᵀ)\n",
    "\n",
    "# spy(H₀)\n",
    "# spy(H₀[1:N^2,1:N^2])\n",
    "\n",
    "# convert from sparse into full arrays\n",
    "lowA=Array(low)\n",
    "uppA=Array(upp)\n",
    "hᵀA=Array(hᵀ)\n",
    "qA=Array(q)\n",
    "HA=Array(H)\n",
    "h₄₄ᵀA = Array.(h₄₄ᵀ)\n",
    "h₄₄₄ᵀA = Array.(h₄₄₄ᵀ)\n",
    "H₄A=Array.(H₄)\n",
    "h₄ᵀA=Array.(h₄ᵀ)\n",
    "q₄A=Array(q₄)\n",
    "h₅ᵀA=Array.(h₅ᵀ)\n",
    "q₅A=Array(q₅)\n",
    "h₀ᵀA=Array(h₀ᵀ)"
   ]
  },
  {
   "cell_type": "code",
   "execution_count": 20,
   "id": "08987457",
   "metadata": {},
   "outputs": [],
   "source": [
    "# unit testing dist_cdf\n",
    "# function dist_cdf(p...)\n",
    "#     #α,β,wc = p[1], p[2], p[3]\n",
    "#     obj(x,p) = (x>=p[3])*DistributionsAD.pdf(DistributionsAD.Beta(p[1],p[2]),x)\n",
    "#     return Quad1d(obj,p)\n",
    "# end\n",
    "# function Quad1d(obj,p)\n",
    "#     prob = QuadratureProblem(obj,0,1,p,order=9)\n",
    "#     return solve(prob,QuadGKJL(),reltol = 1e-9)[1]\n",
    "# end\n",
    "# p=[2.23,4.15,0.11]\n",
    "# @test dist_cdf(p...) ≈ DistributionsAD.ccdf(DistributionsAD.Beta(p[1],p[2]),p[3])"
   ]
  },
  {
   "cell_type": "code",
   "execution_count": null,
   "id": "d1c129b4",
   "metadata": {},
   "outputs": [],
   "source": [
    "m = Model(optimizer_with_attributes(Ipopt.Optimizer,\"tol\"=>1e-5,\"max_iter\"=>100000,\"print_level\"=>7,\"check_derivatives_for_naninf\"=>\"yes\")) #,\"linear_solver\"=>\"pardiso\"\n",
    "\n",
    "@variable(m, lowA[i]<=z[i=1:M]<=uppA[i]) \n",
    "@variable(m, 1.0<=α[i=1:N]<=2.0, start = 4.1) \n",
    "@variable(m, 1.0<=β[i=1:N]<=150.0, start = 30.0) \n",
    "@constraint(m, hᵀA*z.==qA) \n",
    "@constraint(m,transpose(z)*HA*z==0.0) \n",
    "@constraint(m,px[i=1:N],transpose(z)*H₄A[i]*z.==h₄₄₄ᵀA[i]*z.- q₄A[i] )\n",
    "@constraint(m,z[diag(LinearIndices(ones(N,N)))].==0)\n",
    "\n",
    "# match probabilities of default\n",
    "function dist_cdf(p...)\n",
    "    #α,β,wc = p[1], p[2], p[3]\n",
    "    obj(x,p) = (x>=p[3])*DistributionsAD.pdf(DistributionsAD.Beta(p[1],p[2]),x)\n",
    "    return Quad1d(obj,p)\n",
    "end\n",
    "function Quad1d(obj,p)\n",
    "    prob = QuadratureProblem(obj,0,1,p,order=5)\n",
    "    return Quadrature.solve(prob,QuadGKJL(),reltol = 1e-5)[1]\n",
    "end\n",
    "\n",
    "JuMP.register(m, :dist_cdf, 3, dist_cdf; autodiff=true)\n",
    "@NLexpression(m,wc[i=1:N],w[i]/z[N^2+N+i]) #c[i] = z[N^2+N+i]\n",
    "for i in 1:N\n",
    "    @eval ($(Symbol(\"vv$i\"))) = [α[$i],β[$i],wc[$i]]\n",
    "    @eval @NLconstraint(m,dist_cdf(($(Symbol(\"vv$i\")))...)== delta[$i]) \n",
    "end\n",
    "\n",
    "ex = @expression(m,(h₀ᵀA*z)[1])\n",
    "@objective(m, Max,  ex )\n",
    "\n",
    "unset_silent(m)\n",
    "JuMP.optimize!(m)"
   ]
  },
  {
   "cell_type": "code",
   "execution_count": 27,
   "id": "08e54149",
   "metadata": {},
   "outputs": [
    {
     "name": "stdout",
     "output_type": "stream",
     "text": [
      "(st, objSol, trueObj) = (MathOptInterface.NUMERICAL_ERROR, -12.78942094865548, 2.899039564459583)\n",
      "\u001b[37m\u001b[1mTest Summary:  | \u001b[22m\u001b[39m\u001b[32m\u001b[1mPass  \u001b[22m\u001b[39m\u001b[36m\u001b[1mTotal\u001b[22m\u001b[39m\n",
      "check solution | \u001b[32m   9  \u001b[39m\u001b[36m    9\u001b[39m\n",
      "L_opt = sum(p_bar) + objSol + sum(x .* csol) = 2.8990395644595828\n",
      "L_d = sum(x .* csol) + max.(0, x .- w)[1] = 1.3303376213025646\n",
      "(L_opt, L_d) = (2.8990395644595828, 1.3303376213025646)\n",
      "(ratio, bound) = (2.179175810739732, 1.214419869495001)\n"
     ]
    },
    {
     "data": {
      "text/plain": [
       "(2.179175810739732, 1.214419869495001)"
      ]
     },
     "execution_count": 27,
     "metadata": {},
     "output_type": "execute_result"
    }
   ],
   "source": [
    "st = termination_status(m)\n",
    "objSol = objective_value(m)\n",
    "\n",
    "zsol = JuMP.value.(z)\n",
    "Asol = reshape(zsol[1:N^2],N,N)\n",
    "bsol = zsol[N^2+1:N^2+N] \n",
    "csol = zsol[N^2+N+1:N^2+2*N]\n",
    "psol = zsol[N^2+2*N+1:N^2+3*N]\n",
    "\n",
    "trueObj = objSol + sum(Ex.*csol) + sum(p_bar)\n",
    "@show st, objSol, trueObj\n",
    "\n",
    "tol = 1e-5\n",
    "@testset \"check solution\" begin\n",
    "    @test norm( sum(Asol,dims=2).* p_bar .- (p_bar .- bsol)) < tol\n",
    "    @test norm( Asol' * p_bar .- (assets .- csol)) < tol\n",
    "    @test norm(diag(Asol)) < tol\n",
    "    @test norm([Asol[i,j]*Asol[j,i] for i=1:N , j=1:N]) < tol\n",
    "    @test all(-tol .<=Asol.<=1+tol)\n",
    "    @test all(-tol .<=bsol.<=p_bar .+ tol)\n",
    "    @test all(-tol .<=csol.<=assets .+ tol)   \n",
    "    @test all(-tol .<=psol.<=p_bar .+ tol)   \n",
    "    @test norm(min.(p_bar, max.((1 .+γ).*(Asol'*psol .+ csol .- x.*csol) .- γ.*p_bar,0)).-psol)<tol\n",
    "\n",
    "end\n",
    "\n",
    "@show L_opt = sum(p_bar)+objSol+sum(x.*csol)\n",
    "@show L_d = sum(x.*csol) + max.(0,x.-w)[1] # disconnected network\n",
    "\n",
    "β = (p_bar.-bsol)./p_bar # financial connectivity: proportion of liabilities inside the network\n",
    "β⁺ = maximum(β)\n",
    "\n",
    "@show (L_opt,L_d)\n",
    "ratio = L_opt/L_d\n",
    "bound = 1 + sum(delta.*csol)/((1-β⁺)*sum(csol))\n",
    "@show (ratio,bound)"
   ]
  },
  {
   "cell_type": "code",
   "execution_count": null,
   "id": "1dedafe4",
   "metadata": {},
   "outputs": [],
   "source": [
    "# Pkg.add(\"FastGaussQuadrature\")\n",
    "using FastGaussQuadrature\n",
    "α=1.3\n",
    "β=4.2\n",
    "a = β-1\n",
    "b = α-1\n",
    "\n",
    "num_nodes = 500000 # 100000, 1000, 10\n",
    "nodes, weights = gaussjacobi(num_nodes, a, b); \n",
    "\n",
    "#cdf \n",
    "f(x,wc) = (x .> wc)\n",
    "f_tilde(x,wc)=f(1/2+x/2,wc)\n",
    "F(wc) = dot(weights,f_tilde.(nodes,wc))/beta(α,β)/2^(α+β-1)\n",
    "F_exact(wc) = DistributionsAD.ccdf(DistributionsAD.Beta(α,β),wc)\n",
    "for wc = 0.0:0.01:1.0\n",
    "    @test abs(F(wc) - F_exact(wc))<1e-5\n",
    "end"
   ]
  },
  {
   "cell_type": "code",
   "execution_count": null,
   "id": "840f290a",
   "metadata": {},
   "outputs": [],
   "source": [
    "function beta_ccdf(p)\n",
    "    α,β,x = p[1],p[2],p[3]\n",
    "    a = β-1\n",
    "    b = α-1\n",
    "    num_nodes = 4000 \n",
    "    nodes, weights = gaussjacobi(num_nodes, a, b); \n",
    "\n",
    "    #cdf \n",
    "    return dot(weights,( (1/2 .+ nodes./2) .> x) )/beta(α,β)/2^(α+β-1)\n",
    "end"
   ]
  },
  {
   "cell_type": "code",
   "execution_count": null,
   "id": "46fc564c",
   "metadata": {},
   "outputs": [],
   "source": []
  },
  {
   "cell_type": "code",
   "execution_count": null,
   "id": "b5f5498a",
   "metadata": {},
   "outputs": [],
   "source": [
    "using ForwardDiff,Zygote"
   ]
  },
  {
   "cell_type": "code",
   "execution_count": null,
   "id": "c8979e9b",
   "metadata": {},
   "outputs": [],
   "source": [
    "α=1.3\n",
    "β=6.0\n",
    "wc=0.5\n",
    "@show beta(α,β)/2^(α+β-1)\n",
    "@show beta_ccdf(α,β,wc)\n",
    "@show DistributionsAD.ccdf(DistributionsAD.Beta(α,β),wc)"
   ]
  },
  {
   "cell_type": "code",
   "execution_count": null,
   "id": "b87fbd8f",
   "metadata": {},
   "outputs": [],
   "source": [
    "using Quadrature, DistributionsAD\n",
    "using BenchmarkTools"
   ]
  },
  {
   "cell_type": "code",
   "execution_count": null,
   "id": "1765380a",
   "metadata": {},
   "outputs": [],
   "source": [
    "function dist_cdf1(p...)\n",
    "    #α,β,wc = p[1], p[2], p[3]\n",
    "    obj(x,p) = (x>=p[3])*DistributionsAD.pdf(DistributionsAD.Beta(p[1],p[2]),x)\n",
    "#     prob = QuadratureProblem(obj,0.0,1.0,p,order=2)\n",
    "#     Quadrature.solve(prob,QuadGKJL(),reltol = 1e-2)[1]\n",
    "    return Quad1d1(obj,p)\n",
    "end\n",
    "function Quad1d1(obj,p)\n",
    "    prob = QuadratureProblem(obj,0,1,p,order=2)\n",
    "    return solve(prob,QuadGKJL(),reltol = 1e-2)[1]\n",
    "end\n",
    "p=[2.23,4.15,0.51]\n",
    "@btime dist_cdf1($p...)\n",
    "@code_warntype dist_cdf1(p...)"
   ]
  },
  {
   "cell_type": "code",
   "execution_count": null,
   "id": "965fd909",
   "metadata": {},
   "outputs": [],
   "source": [
    "dist_cdf3(p...)::Real=solve(QuadratureProblem((x,p)->(x>=p[3])*DistributionsAD.pdf(DistributionsAD.Beta(p[1],p[2]),x),0,1,p,order=2),QuadGKJL(),reltol = 1e-2)[1]\n",
    "\n",
    "p=[2.23,4.15,0.51]\n",
    "@btime dist_cdf3($p...)\n",
    "@code_warntype dist_cdf3(p...)"
   ]
  },
  {
   "cell_type": "code",
   "execution_count": null,
   "id": "ce73ecd1",
   "metadata": {},
   "outputs": [],
   "source": [
    "dist_cdf4(p...)::Real=Quadrature.solve(Quadrature.QuadratureProblem((x,p)->(x>=p[3])*DistributionsAD.pdf(DistributionsAD.Beta(p[1],p[2]),x),0,1,p,order=2),QuadGKJL(),reltol = 1e-2)[1]\n",
    "\n",
    "\n",
    "p=[1.0,3.0,0.2]\n",
    "@btime dist_cdf4($p...)\n",
    "@code_warntype dist_cdf4(p...)"
   ]
  },
  {
   "cell_type": "code",
   "execution_count": null,
   "id": "84ff6d96",
   "metadata": {},
   "outputs": [],
   "source": [
    "@fastmath begin\n",
    "    \n",
    "end"
   ]
  },
  {
   "cell_type": "code",
   "execution_count": null,
   "id": "32f37860",
   "metadata": {},
   "outputs": [],
   "source": [
    "56.448 μs (153 allocations: 5.47 KiB)"
   ]
  },
  {
   "cell_type": "code",
   "execution_count": null,
   "id": "2dc94a5d",
   "metadata": {},
   "outputs": [],
   "source": [
    "p=[α,β,0.41]\n",
    "beta_ccdf(p)"
   ]
  },
  {
   "cell_type": "code",
   "execution_count": null,
   "id": "14a315c8",
   "metadata": {},
   "outputs": [],
   "source": [
    "dp1 = Zygote.gradient(beta_ccdf,p)"
   ]
  },
  {
   "cell_type": "code",
   "execution_count": null,
   "id": "fd4b0a58",
   "metadata": {},
   "outputs": [],
   "source": [
    "dp2 = FiniteDiff.finite_difference_gradient(beta_ccdf,p)\n",
    "dp3 = ForwardDiff.gradient(beta_ccdf,p)\n",
    "dp1[1] ≈ dp2 ≈ dp3"
   ]
  },
  {
   "cell_type": "code",
   "execution_count": null,
   "id": "94445c53",
   "metadata": {},
   "outputs": [],
   "source": [
    "# Pkg.add(\"FastGaussQuadrature\")\n",
    "#using FastGaussQuadrature\n",
    "α=1.3\n",
    "β=100.2\n",
    "a = β-1\n",
    "b = α-1\n",
    "\n",
    "num_nodes = 4000 # 100000, 1000, 10\n",
    "nodes, weights = gaussjacobi(num_nodes, a, b); \n",
    "\n",
    "#cdf \n",
    "f(x,wc) = (x .> wc)\n",
    "f_tilde(x,wc)=f(1/2+x/2,wc)\n",
    "F(wc) = dot(weights,f_tilde.(nodes,wc))/beta(α,β)/2^(α+β-1)\n",
    "F_exact(wc) = DistributionsAD.ccdf(DistributionsAD.Beta(α,β),wc)\n",
    "\n",
    "# mean\n",
    "f(x) = x\n",
    "f_tilde(x)=f(1/2+x/2)\n",
    "Ex = dot(weights,f_tilde.(nodes))/beta(α,β)/2^(α+β-1)\n",
    "Ex_exact = α/(α+β)\n",
    "\n",
    "# var\n",
    "f(x) = (x-Ex)^2\n",
    "f_tilde(x)=f(1/2+x/2)\n",
    "Varx = dot(weights,f_tilde.(nodes))/beta(α,β)/2^(α+β-1)\n",
    "Varx_exact = α*β/((α+β)^2*(α+β+1))\n",
    "\n",
    "# E[log(X)]\n",
    "f(x) = log(x)\n",
    "f_tilde(x)=f(1/2+x/2)\n",
    "Elogx = dot(weights,f_tilde.(nodes))/beta(α,β)/2^(α+β-1)\n",
    "Elogx_exact = digamma(α)-digamma(α+β)\n",
    "\n",
    "# E[X log(X)]\n",
    "f(x) = x*log(x)\n",
    "f_tilde(x)=f(1/2+x/2)\n",
    "Exlogx = dot(weights,f_tilde.(nodes))/beta(α,β)/2^(α+β-1)\n",
    "Exlogx_exact = (α/(α+β))*(digamma(α+1)-digamma(α+β+1))\n",
    "\n",
    "# var[log(X)]\n",
    "f(x) = (log(x)-Elogx)^2\n",
    "f_tilde(x)=f(1/2+x/2)\n",
    "varxlogx = dot(weights,f_tilde.(nodes))/beta(α,β)/2^(α+β-1)\n",
    "varxlogx_exact = trigamma(α)-trigamma(α+β)\n",
    "\n",
    "@testset \"beta quadrature\" begin\n",
    "    @test Ex ≈ Ex_exact\n",
    "    @test Varx ≈ Varx_exact\n",
    "    @test Elogx ≈ Elogx_exact\n",
    "    @test Exlogx ≈ Exlogx_exact    \n",
    "    @test varxlogx ≈ varxlogx_exact\n",
    "end\n",
    "\n",
    "# next step: create a function that integrates between w/c and 1\n",
    "# using change of variables rather than indicator function in the integrand\n",
    "# then use in constraint delta == integral(...)"
   ]
  },
  {
   "cell_type": "code",
   "execution_count": null,
   "id": "986c9111",
   "metadata": {},
   "outputs": [],
   "source": [
    "x\n",
    "w"
   ]
  },
  {
   "cell_type": "code",
   "execution_count": null,
   "id": "a82611eb",
   "metadata": {},
   "outputs": [],
   "source": [
    "using Quadrature\n",
    "using ForwardDiff"
   ]
  },
  {
   "cell_type": "code",
   "execution_count": null,
   "id": "0d192f92",
   "metadata": {},
   "outputs": [],
   "source": [
    "function dist_cdf(p...)\n",
    "    #α,β,wc = p[1], p[2], p[3]\n",
    "    obj(x,p) = DistributionsAD.pdf(DistributionsAD.Beta(p[1],p[2]),x[1])\n",
    "    prob = QuadratureProblem(obj,p[3],1.0,p[1:2])\n",
    "    Quadrature.solve(prob,QuadGKJL(),reltol=1e-2,abstol=1e-2)[1]\n",
    "end\n",
    "#@show DistributionsAD.ccdf(DistributionsAD.Beta(1.1,2.3),0.01233)\n",
    "ForwardDiff.gradient(dist_cdf, [1.1,2.3,0.5])"
   ]
  },
  {
   "cell_type": "code",
   "execution_count": null,
   "id": "ccfe3d70",
   "metadata": {},
   "outputs": [],
   "source": [
    "\n",
    "\n",
    "dist_cdf(xx::Real)::Real=DistributionsAD.pdf(DistributionsAD.Beta(1.0,2.0),xx)\n",
    "dist_cdfD(xx::Real)::Real=Distributions.cdf(Distributions.Beta(1.0,2.0),xx)\n",
    "dist_cdf(0.1)\n",
    "\n",
    "ForwardDiff.derivative(dist_cdf, 0.2)"
   ]
  },
  {
   "cell_type": "code",
   "execution_count": null,
   "id": "1508c009",
   "metadata": {},
   "outputs": [],
   "source": [
    "using Zygote, DistributionsAD"
   ]
  },
  {
   "cell_type": "code",
   "execution_count": null,
   "id": "4fb2b6d9",
   "metadata": {},
   "outputs": [],
   "source": [
    "dist_cdf(x)=DistributionsAD.logpdf(DistributionsAD.Beta(1.0,2.0),x)\n",
    "Zygote.gradient(dist_cdf, 0.5)"
   ]
  },
  {
   "cell_type": "code",
   "execution_count": null,
   "id": "ab1d9c02",
   "metadata": {},
   "outputs": [],
   "source": [
    "z = Variable(M,Positive()) \n",
    "problem = minimize(sum(h₀ᵀA*z))\n",
    "problem.constraints = [\n",
    "                        z>=lowA,z<=uppA,\n",
    "                        hᵀA*z==qA,\n",
    "                       ]\n",
    "Convex.solve!(problem,  SCS.Optimizer(verbose=true, eps=1e-10,linear_solver=SCS.DirectSolver), warmstart=false)\n",
    "zConvex = evaluate(z)\n",
    "\n",
    "λ=0.1;\n",
    "bc = [BilinearConstraint(transpose(z),HA,z,0.0,X=-transpose(zsol),Y=-zsol,λ=λ), [BilinearConstraint(transpose(z),H₄A[i],z,h₄₄₄ᵀA[i]*z-q₄A[i],X=-transpose(zsol),Y=-zsol,λ=λ) for i=1:N]...]\n",
    "bp = BilinearProblem(problem,bc)\n",
    "r = solve!(bp,() -> COSMO.Optimizer(verbose=true),iterations=2);\n",
    "\n",
    "# Convex.solve!(problem,  ProxSDP.Optimizer())\n",
    "# Convex.solve!(problem,  CSDP.Optimizer())\n",
    "# Convex.solve!(problem,  Tulip.Optimizer())\n",
    "\n",
    "zMC = evaluate(z);\n",
    "\n",
    "# using sparse matrices\n",
    "z = Variable(M,Positive()) \n",
    "problem = minimize(sum(h₀ᵀ*z))\n",
    "problem.constraints = [\n",
    "                        z>=low,z<=upp,\n",
    "                        hᵀ*z==q,\n",
    "                       ]\n",
    "Convex.solve!(problem,  SCS.Optimizer(verbose=true, eps=1e-10,linear_solver=SCS.DirectSolver), warmstart=false)\n",
    "zConvex = evaluate(z)\n",
    "\n",
    "\n",
    "\n",
    "λ=0.1;\n",
    "bc = [BilinearConstraint(transpose(z),H,z,0.0,X=-transpose(zConvex),Y=-zConvex,λ=λ), [BilinearConstraint(transpose(z),H₄[i],z,h₄₄₄ᵀ[i]*z-q₄[i],X=-transpose(zConvex),Y=-zConvex,λ=λ) for i=1:N]...]\n",
    "bp = BilinearProblem(problem,bc)\n",
    "r = solve!(bp,() -> COSMO.Optimizer(verbose=true),iterations=1);\n",
    "\n",
    "# Convex.solve!(problem,  ProxSDP.Optimizer())\n",
    "# Convex.solve!(problem,  CSDP.Optimizer())\n",
    "# Convex.solve!(problem,  Tulip.Optimizer())\n",
    "\n",
    "zMC = evaluate(z);"
   ]
  }
 ],
 "metadata": {
  "kernelspec": {
   "display_name": "Julia-8-threads 1.6.0",
   "language": "julia",
   "name": "julia-8-threads-1.6"
  },
  "language_info": {
   "file_extension": ".jl",
   "mimetype": "application/julia",
   "name": "julia",
   "version": "1.6.0"
  }
 },
 "nbformat": 4,
 "nbformat_minor": 5
}
