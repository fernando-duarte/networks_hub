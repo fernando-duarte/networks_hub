{
 "cells": [
  {
   "cell_type": "code",
   "execution_count": 1,
   "id": "9799a8ae",
   "metadata": {},
   "outputs": [
    {
     "data": {
      "text/plain": [
       "8"
      ]
     },
     "execution_count": 1,
     "metadata": {},
     "output_type": "execute_result"
    }
   ],
   "source": [
    "using Cuba, Distributions\n",
    "using BenchmarkTools, Test\n",
    "\n",
    "@test Threads.nthreads()>1\n",
    "Threads.nthreads()"
   ]
  },
  {
   "cell_type": "code",
   "execution_count": 2,
   "id": "85ff3da9",
   "metadata": {},
   "outputs": [
    {
     "data": {
      "text/plain": [
       "int_thread_el (generic function with 1 method)"
      ]
     },
     "execution_count": 2,
     "metadata": {},
     "output_type": "execute_result"
    }
   ],
   "source": [
    "M=25 # number of independent beta random variables\n",
    "atol=1e-6\n",
    "rtol=1e-3\n",
    "\n",
    "# integrate the pdf of the joint distribution -- should always equal 1\n",
    "function int(x, f)\n",
    "   f[1] = pdf(Product(Beta.(1.0,2.0*ones(M))),x)\n",
    "end\n",
    "\n",
    "# multithread\n",
    "function int_thread_col(x, f)\n",
    "    Threads.@threads for i in 1:size(x,2)\n",
    "      f[i] = pdf(Product(Beta.(1.0,2.0*ones(M))),@view(x[:,i]))\n",
    "    end\n",
    "end\n",
    "\n",
    "# multithread and loop to create product distribution\n",
    "function int_thread_el(x,f)\n",
    "   f[1,:] .= 1.0\n",
    "   Threads.@threads for j in 1:size(x,2)\n",
    "       for i in 1:size(x, 1)\n",
    "           f[1, j] *= pdf(Beta(1.0,2.0),@view(x[i,j]))\n",
    "       end\n",
    "   end\n",
    "end"
   ]
  },
  {
   "cell_type": "code",
   "execution_count": 2,
   "id": "a40b7995",
   "metadata": {},
   "outputs": [
    {
     "name": "stdout",
     "output_type": "stream",
     "text": [
      "(result, err) = cuhre(int, M, 1, atol = atol, rtol = rtol) = Component:\n",
      " 1: 1.0000000001442195 ± 4.947771938299587e-13 (prob.: -999.0)\n",
      "Integrand evaluations: 33576633\n",
      "Number of subregions:  1\n",
      "Note: The accuracy was not met within the maximum number of evaluations\n",
      "(result, err) = cuhre(int_thread_col, M, 1, atol = atol, rtol = rtol, nvec = 100) = Component:\n",
      " 1: 1.0000000001442195 ± 4.947771938299587e-13 (prob.: -999.0)\n",
      "Integrand evaluations: 33576633\n",
      "Number of subregions:  1\n",
      "Note: The accuracy was not met within the maximum number of evaluations\n",
      "(result, err) = cuhre(int_thread_el, M, 1, atol = atol, rtol = rtol, nvec = 100) = Component:\n",
      " 1: 1.0000000001442195 ± 4.947684797421449e-13 (prob.: -999.0)\n",
      "Integrand evaluations: 33576633\n",
      "Number of subregions:  1\n",
      "Note: The accuracy was not met within the maximum number of evaluations\n"
     ]
    }
   ],
   "source": [
    "# we get the right answer\n",
    "@show result, err = cuhre(int, M, 1, atol=atol, rtol=rtol);\n",
    "@show result, err = cuhre(int_thread_col, M, 1, atol=atol, rtol=rtol,nvec=100);\n",
    "@show result, err = cuhre(int_thread_el, M, 1, atol=atol, rtol=rtol,nvec=100);"
   ]
  },
  {
   "cell_type": "code",
   "execution_count": null,
   "id": "0783249b",
   "metadata": {},
   "outputs": [],
   "source": [
    "#@btime cuhre($(int), $M, 1, atol=$atol, rtol=$rtol) # slow\n",
    "\n",
    "println(\"multithread\")\n",
    "@btime cuhre($int_thread_col, $M, 1, atol=$atol, rtol=$rtol,nvec=$(16))\n",
    "@btime cuhre($int_thread_col, $M, 1, atol=$atol, rtol=$rtol,nvec=$(100))\n",
    "@btime cuhre($int_thread_col, $M, 1, atol=$atol, rtol=$rtol,nvec=$(1000))\n",
    "@btime cuhre($int_thread_col, $M, 1, atol=$atol, rtol=$rtol,nvec=$(10000))\n",
    "@btime cuhre($int_thread_col, $M, 1, atol=$atol, rtol=$rtol,nvec=$(100000))\n",
    "@btime cuhre($int_thread_col, $M, 1, atol=$atol, rtol=$rtol,nvec=$(1000000))\n",
    "@btime cuhre($int_thread_col, $M, 1, atol=$atol, rtol=$rtol,nvec=$(10000000))\n",
    "\n",
    "println(\"multithread and create product in loop\")\n",
    "@btime cuhre($int_thread_el, $M, 1, atol=$atol, rtol=$rtol,nvec=$(16))\n",
    "@btime cuhre($int_thread_el, $M, 1, atol=$atol, rtol=$rtol,nvec=$(100))\n",
    "@btime cuhre($int_thread_el, $M, 1, atol=$atol, rtol=$rtol,nvec=$(1000))\n",
    "@btime cuhre($int_thread_el, $M, 1, atol=$atol, rtol=$rtol,nvec=$(10000))\n",
    "@btime cuhre($int_thread_el, $M, 1, atol=$atol, rtol=$rtol,nvec=$(100000))\n",
    "@btime cuhre($int_thread_el, $M, 1, atol=$atol, rtol=$rtol,nvec=$(1000000))\n",
    "@btime cuhre($int_thread_el, $M, 1, atol=$atol, rtol=$rtol,nvec=$(10000000));\n",
    "\n",
    "# conclusions\n",
    "# int_thread_el seems faster than int_thread_col\n",
    "# nvec seems important for performance, looks like we want high nvec"
   ]
  },
  {
   "cell_type": "code",
   "execution_count": 3,
   "id": "8a7250f8",
   "metadata": {},
   "outputs": [
    {
     "name": "stdout",
     "output_type": "stream",
     "text": [
      "  123.003 s (250 allocations: 17.36 KiB)\n"
     ]
    }
   ],
   "source": [
    "@btime cuhre($int_thread_el, $M, 1, atol=$atol, rtol=$rtol,nvec=$(10000000));"
   ]
  },
  {
   "cell_type": "code",
   "execution_count": 4,
   "id": "b08d26d2",
   "metadata": {},
   "outputs": [
    {
     "ename": "LoadError",
     "evalue": "InterruptException:",
     "output_type": "error",
     "traceback": [
      "InterruptException:",
      "",
      "Stacktrace:",
      "  [1] macro expansion",
      "    @ ./In[2]:13 [inlined]",
      "  [2] (::var\"#31#threadsfor_fun#1\"{Matrix{Float64}, Matrix{Float64}, UnitRange{Int64}})(onethread::Bool)",
      "    @ Main ./threadingconstructs.jl:81",
      "  [3] #invokelatest#2",
      "    @ ./essentials.jl:708 [inlined]",
      "  [4] invokelatest",
      "    @ ./essentials.jl:706 [inlined]",
      "  [5] macro expansion",
      "    @ ./threadingconstructs.jl:86 [inlined]",
      "  [6] int_thread_col",
      "    @ ./In[2]:12 [inlined]",
      "  [7] generic_integrand!(ndim::Int32, x_::Ptr{Float64}, ncomp::Int32, f_::Ptr{Float64}, func!::typeof(int_thread_col), nvec::Int32)",
      "    @ Cuba ~/.julia/packages/Cuba/KIQTB/src/Cuba.jl:100",
      "  [8] dointegrate!",
      "    @ ~/.julia/packages/Cuba/KIQTB/src/cuhre.jl:40 [inlined]",
      "  [9] dointegrate",
      "    @ ~/.julia/packages/Cuba/KIQTB/src/Cuba.jl:195 [inlined]",
      " [10] cuhre(integrand::typeof(int_thread_col), ndim::Int64, ncomp::Int64; nvec::Int64, rtol::Float64, atol::Float64, flags::Int64, minevals::Int64, maxevals::Int64, key::Int64, statefile::String, spin::Ptr{Nothing}, abstol::Missing, reltol::Missing)",
      "    @ Cuba ~/.julia/packages/Cuba/KIQTB/src/cuhre.jl:97",
      " [11] var\"##core#302\"(int_thread_col#296::typeof(int_thread_col), M#297::Int64, atol#298::Float64, rtol#299::Float64, nvec#300::Int64)",
      "    @ Main ~/.julia/packages/BenchmarkTools/eCEpo/src/execution.jl:371",
      " [12] var\"##sample#303\"(__params::BenchmarkTools.Parameters)",
      "    @ Main ~/.julia/packages/BenchmarkTools/eCEpo/src/execution.jl:377",
      " [13] _run(b::BenchmarkTools.Benchmark{Symbol(\"##benchmark#301\")}, p::BenchmarkTools.Parameters; verbose::Bool, pad::String, kwargs::Base.Iterators.Pairs{Symbol, Integer, NTuple{4, Symbol}, NamedTuple{(:samples, :evals, :gctrial, :gcsample), Tuple{Int64, Int64, Bool, Bool}}})",
      "    @ Main ~/.julia/packages/BenchmarkTools/eCEpo/src/execution.jl:405",
      " [14] #invokelatest#2",
      "    @ ./essentials.jl:710 [inlined]",
      " [15] #run_result#37",
      "    @ ~/.julia/packages/BenchmarkTools/eCEpo/src/execution.jl:32 [inlined]",
      " [16] run(b::BenchmarkTools.Benchmark{Symbol(\"##benchmark#301\")}, p::BenchmarkTools.Parameters; progressid::Nothing, nleaves::Float64, ndone::Float64, kwargs::Base.Iterators.Pairs{Symbol, Integer, NTuple{5, Symbol}, NamedTuple{(:verbose, :samples, :evals, :gctrial, :gcsample), Tuple{Bool, Int64, Int64, Bool, Bool}}})",
      "    @ BenchmarkTools ~/.julia/packages/BenchmarkTools/eCEpo/src/execution.jl:94",
      " [17] #warmup#45",
      "    @ ~/.julia/packages/BenchmarkTools/eCEpo/src/execution.jl:141 [inlined]",
      " [18] warmup(item::BenchmarkTools.Benchmark{Symbol(\"##benchmark#301\")})",
      "    @ BenchmarkTools ~/.julia/packages/BenchmarkTools/eCEpo/src/execution.jl:141",
      " [19] top-level scope",
      "    @ ~/.julia/packages/BenchmarkTools/eCEpo/src/execution.jl:481",
      " [20] eval",
      "    @ ./boot.jl:360 [inlined]",
      " [21] include_string(mapexpr::typeof(REPL.softscope), mod::Module, code::String, filename::String)",
      "    @ Base ./loading.jl:1094"
     ]
    }
   ],
   "source": [
    "# let's try without index checking\n",
    "function int_thread_col_in(x, f)\n",
    "    Threads.@threads for i in 1:size(x,2)\n",
    "      @inbounds f[i] = pdf(Product(Beta.(1.0,2.0*ones(M))),@view(x[:,i]))\n",
    "    end\n",
    "end\n",
    "\n",
    "function int_thread_el_in(x,f)\n",
    "   f[1,:] .= 1.0\n",
    "   Threads.@threads for j in 1:size(x,2)\n",
    "       for i in 1:size(x, 1)\n",
    "           @inbounds f[1, j] *= pdf(Beta(1.0,2.0),@view(x[i,j]))\n",
    "       end\n",
    "   end\n",
    "end\n",
    "\n",
    "nvec=10000000\n",
    "@btime cuhre($int_thread_col, $M, 1, atol=$atol, rtol=$rtol,nvec=$nvec)\n",
    "@btime cuhre($int_thread_col_in, $M, 1, atol=$atol, rtol=$rtol,nvec=$nvec)\n",
    "\n",
    "@btime cuhre($int_thread_el, $M, 1, atol=$atol, rtol=$rtol,nvec=$nvec)\n",
    "@btime cuhre($int_thread_el_in, $M, 1, atol=$atol, rtol=$rtol,nvec=$nvec);\n",
    "\n",
    "# conclusion\n",
    "# using @inbounds does not seem to make a big difference"
   ]
  },
  {
   "cell_type": "code",
   "execution_count": 5,
   "id": "d765931f",
   "metadata": {},
   "outputs": [
    {
     "name": "stdout",
     "output_type": "stream",
     "text": [
      "(result, err) = divonne(int, M, 1, atol = atol, rtol = rtol) = Component:\n",
      " 1: 0.021030289911908962 ± 1235.6773461544174 (prob.: -999.0)\n",
      "Integrand evaluations: 1000816\n",
      "Number of subregions:  1004\n",
      "Note: Dimension out of range\n"
     ]
    }
   ],
   "source": [
    "# monte carlo divonne\n",
    "\n",
    "# wrong answer\n",
    "@show result, err = divonne(int, M, 1, atol=atol, rtol=rtol); # output suggests increasing maxevals"
   ]
  },
  {
   "cell_type": "code",
   "execution_count": null,
   "id": "e53e8d7d",
   "metadata": {},
   "outputs": [],
   "source": [
    "# better\n",
    "maxevals=1174707384\n",
    "\n",
    "@show result, err = divonne(int, M, 1, atol=atol, rtol=rtol,maxevals=maxevals);\n",
    "@show result, err = divonne(int_thread_col, M, 1, atol=atol, rtol=rtol,nvec=nvec,maxevals=maxevals);\n",
    "@show result, err = divonne(int_thread_el, M, 1, atol=atol, rtol=rtol,nvec=nvec,maxevals=maxevals);"
   ]
  },
  {
   "cell_type": "code",
   "execution_count": null,
   "id": "98d1c7bb",
   "metadata": {},
   "outputs": [],
   "source": [
    "@btime divonne($(int), $M, 1, atol=$atol, rtol=$rtol,maxevals=maxevals)\n",
    "\n",
    "println(\"multithread\")\n",
    "@btime divonne($int_thread_col, $M, 1, atol=$atol, rtol=$rtol,nvec=$(16),maxevals=maxevals)\n",
    "@btime divonne($int_thread_col, $M, 1, atol=$atol, rtol=$rtol,nvec=$(100),maxevals=maxevals)\n",
    "@btime divonne($int_thread_col, $M, 1, atol=$atol, rtol=$rtol,nvec=$(1000),maxevals=maxevals)\n",
    "@btime divonne($int_thread_col, $M, 1, atol=$atol, rtol=$rtol,nvec=$(10000),maxevals=maxevals)\n",
    "@btime divonne($int_thread_col, $M, 1, atol=$atol, rtol=$rtol,nvec=$(100000),maxevals=maxevals)\n",
    "@btime divonne($int_thread_col, $M, 1, atol=$atol, rtol=$rtol,nvec=$(1000000),maxevals=maxevals)\n",
    "@btime divonne($int_thread_col, $M, 1, atol=$atol, rtol=$rtol,nvec=$(10000000),maxevals=maxevals)\n",
    "\n",
    "println(\"multithread and create product in loop\")\n",
    "@btime divonne($int_thread_el, $M, 1, atol=$atol, rtol=$rtol,nvec=$(16),maxevals=maxevals)\n",
    "@btime divonne($int_thread_el, $M, 1, atol=$atol, rtol=$rtol,nvec=$(100),maxevals=maxevals)\n",
    "@btime divonne($int_thread_el, $M, 1, atol=$atol, rtol=$rtol,nvec=$(1000),maxevals=maxevals)\n",
    "@btime divonne($int_thread_el, $M, 1, atol=$atol, rtol=$rtol,nvec=$(10000),maxevals=maxevals)\n",
    "@btime divonne($int_thread_el, $M, 1, atol=$atol, rtol=$rtol,nvec=$(100000),maxevals=maxevals)\n",
    "@btime divonne($int_thread_el, $M, 1, atol=$atol, rtol=$rtol,nvec=$(1000000),maxevals=maxevals)\n",
    "@btime divonne($int_thread_el, $M, 1, atol=$atol, rtol=$rtol,nvec=$(10000000),maxevals=maxevals);\n"
   ]
  },
  {
   "cell_type": "code",
   "execution_count": 5,
   "id": "65a6af16",
   "metadata": {},
   "outputs": [
    {
     "data": {
      "text/plain": [
       "150"
      ]
     },
     "execution_count": 5,
     "metadata": {},
     "output_type": "execute_result"
    }
   ],
   "source": [
    "# monte carlo suave\n",
    "\n",
    "nvec=15000000\n",
    "maxevals=300000000\n",
    "nmin=2\n",
    "nnew=80000\n",
    "flatness=150"
   ]
  },
  {
   "cell_type": "code",
   "execution_count": null,
   "id": "baa681ff",
   "metadata": {},
   "outputs": [],
   "source": [
    "@show result, err = suave(int, M, 1, atol=atol, rtol=rtol,maxevals=maxevals,nnew=nnew,nmin=nmin,flatness=flatness); \n",
    "@show result, err = suave(int_thread_col, M, 1, atol=atol, rtol=rtol,maxevals=maxevals, nvec=nvec,nnew=nnew,nmin=nmin,flatness=flatness); \n",
    "@show result, err = suave(int_thread_el, M, 1, atol=atol, rtol=rtol,maxevals=maxevals, nvec=nvec,nnew=nnew,nmin=nmin,flatness=flatness); "
   ]
  },
  {
   "cell_type": "code",
   "execution_count": 6,
   "id": "128dca4b",
   "metadata": {},
   "outputs": [
    {
     "name": "stdout",
     "output_type": "stream",
     "text": [
      "  51.661 s (58960003 allocations: 6.79 GiB)\n"
     ]
    },
    {
     "data": {
      "text/plain": [
       "Component:\n",
       " 1: 0.9964268414111838 ± 0.0009925145844409677 (prob.: 1.0)\n",
       "Integrand evaluations: 5360000\n",
       "Number of subregions:  67\n",
       "Note: The desired accuracy was reached"
      ]
     },
     "execution_count": 6,
     "metadata": {},
     "output_type": "execute_result"
    }
   ],
   "source": [
    "@btime suave($(int), $M, 1, atol=$atol, rtol=$rtol,maxevals=$maxevals, nnew=$nnew,nmin=$nmin,flatness=$flatness) # fast"
   ]
  },
  {
   "cell_type": "code",
   "execution_count": null,
   "id": "6913122a",
   "metadata": {},
   "outputs": [],
   "source": [
    "println(\"multithread\")\n",
    "@btime suave($int_thread_col, $M, 1, atol=$atol, rtol=$rtol,nvec=$(16),maxevals=$maxevals, nnew=$nnew,nmin=$nmin,flatness=$flatness); \n",
    "@btime suave($int_thread_col, $M, 1, atol=$atol, rtol=$rtol,nvec=$(100),maxevals=$maxevals, nnew=$nnew,nmin=$nmin,flatness=$flatness); \n",
    "@btime suave($int_thread_col, $M, 1, atol=$atol, rtol=$rtol,nvec=$(1000),maxevals=$maxevals, nnew=$nnew,nmin=$nmin,flatness=$flatness); \n",
    "@btime suave($int_thread_col, $M, 1, atol=$atol, rtol=$rtol,nvec=$(10000),maxevals=$maxevals, nnew=$nnew,nmin=$nmin,flatness=$flatness); \n",
    "@btime suave($int_thread_col, $M, 1, atol=$atol, rtol=$rtol,nvec=$(100000),maxevals=$maxevals, nnew=$nnew,nmin=$nmin,flatness=$flatness); \n",
    "@btime suave($int_thread_col, $M, 1, atol=$atol, rtol=$rtol,nvec=$(1000000),maxevals=$maxevals, nnew=$nnew,nmin=$nmin,flatness=$flatness); \n",
    "@btime suave($int_thread_col, $M, 1, atol=$atol, rtol=$rtol,nvec=$(10000000),maxevals=$maxevals, nnew=$nnew,nmin=$nmin,flatness=$flatness); \n",
    "\n",
    "println(\"multithread and create product in loop\")\n",
    "@btime suave($int_thread_el, $M, 1, atol=$atol, rtol=$rtol,nvec=$(16),maxevals=$maxevals, nnew=$nnew,nmin=$nmin,flatness=$flatness); \n",
    "@btime suave($int_thread_el, $M, 1, atol=$atol, rtol=$rtol,nvec=$(100),maxevals=$maxevals, nnew=$nnew,nmin=$nmin,flatness=$flatness); \n",
    "@btime suave($int_thread_el, $M, 1, atol=$atol, rtol=$rtol,nvec=$(1000),maxevals=$maxevals, nnew=$nnew,nmin=$nmin,flatness=$flatness); \n",
    "@btime suave($int_thread_el, $M, 1, atol=$atol, rtol=$rtol,nvec=$(10000),maxevals=$maxevals, nnew=$nnew,nmin=$nmin,flatness=$flatness); \n",
    "@btime suave($int_thread_el, $M, 1, atol=$atol, rtol=$rtol,nvec=$(100000),maxevals=$maxevals, nnew=$nnew,nmin=$nmin,flatness=$flatness); \n",
    "@btime suave($int_thread_el, $M, 1, atol=$atol, rtol=$rtol,nvec=$(1000000),maxevals=$maxevals, nnew=$nnew,nmin=$nmin,flatness=$flatness); "
   ]
  },
  {
   "cell_type": "code",
   "execution_count": 8,
   "id": "5173cf5e",
   "metadata": {},
   "outputs": [
    {
     "name": "stdout",
     "output_type": "stream",
     "text": [
      "  30.941 s (25772 allocations: 2.08 MiB)\n"
     ]
    }
   ],
   "source": [
    "@btime suave($int_thread_el, $M, 1, atol=$atol, rtol=$rtol,nvec=$(10000),maxevals=$maxevals, nnew=$nnew,nmin=$nmin,flatness=$flatness); "
   ]
  },
  {
   "cell_type": "code",
   "execution_count": null,
   "id": "b34c48dc",
   "metadata": {},
   "outputs": [],
   "source": [
    "# ### Default values of parameters\n",
    "# # Common arguments.\n",
    "# const NVEC      = 1\n",
    "# const RTOL      = 1e-4\n",
    "# const ATOL      = 1e-12\n",
    "# const FLAGS     = 0\n",
    "# const SEED      = 0\n",
    "# const MINEVALS  = 0\n",
    "# const MAXEVALS  = 1000000\n",
    "# const STATEFILE = \"\"\n",
    "# const SPIN      = C_NULL\n",
    "\n",
    "# # Vegas-specific arguments.\n",
    "# const NSTART    = 1000\n",
    "# const NINCREASE = 500\n",
    "# const NBATCH    = 1000\n",
    "# const GRIDNO    = 0\n",
    "\n",
    "# # Suave-specific arguments.\n",
    "# const NNEW     = 1000\n",
    "# const NMIN     = 2\n",
    "# const FLATNESS = 25.0\n",
    "\n",
    "# # Divonne-specific arguments.\n",
    "# const KEY1         = 47\n",
    "# const KEY2         = 1\n",
    "# const KEY3         = 1\n",
    "# const MAXPASS      = 5\n",
    "# const BORDER       = 0.0\n",
    "# const MAXCHISQ     = 10.0\n",
    "# const MINDEVIATION = 0.25\n",
    "# const NGIVEN       = 0\n",
    "# const LDXGIVEN     = 0\n",
    "# const XGIVEN       = 0\n",
    "# const NEXTRA       = 0\n",
    "# const PEAKFINDER   = C_NULL\n",
    "\n",
    "# # Cuhre-specific argument.\n",
    "# const KEY = 0"
   ]
  },
  {
   "cell_type": "code",
   "execution_count": null,
   "id": "cf6a8948",
   "metadata": {},
   "outputs": [],
   "source": [
    " @cushow index\n",
    "@cuprintln \"thread $index: stride=$stride\"\n",
    "@fastmath"
   ]
  }
 ],
 "metadata": {
  "kernelspec": {
   "display_name": "Julia-8-threads 1.6.0",
   "language": "julia",
   "name": "julia-8-threads-1.6"
  },
  "language_info": {
   "file_extension": ".jl",
   "mimetype": "application/julia",
   "name": "julia",
   "version": "1.6.0"
  }
 },
 "nbformat": 4,
 "nbformat_minor": 5
}
