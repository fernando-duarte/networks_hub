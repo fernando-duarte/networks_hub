{
 "cells": [
  {
   "cell_type": "code",
   "execution_count": null,
   "id": "f67e3f84",
   "metadata": {},
   "outputs": [],
   "source": [
    "import Pkg;Pkg.activate(\"optim\")\n",
    "Pkg.instantiate()"
   ]
  },
  {
   "cell_type": "code",
   "execution_count": null,
   "id": "8f07d04b",
   "metadata": {},
   "outputs": [],
   "source": [
    "using Cuba, Distributions\n",
    "using BenchmarkTools, Test\n",
    "using Quadrature\n",
    "\n",
    "@test Threads.nthreads()>1\n",
    "Threads.nthreads()"
   ]
  },
  {
   "cell_type": "code",
   "execution_count": null,
   "id": "adafc886",
   "metadata": {},
   "outputs": [],
   "source": [
    "M=5 # number of independent beta random variables\n",
    "atol=1e-6\n",
    "rtol=1e-3\n",
    "\n",
    "# integrate the pdf of the joint distribution -- should always equal 1\n",
    "function int(x, f)\n",
    "   f[1] = pdf(Product(Beta.(1.0,2.0*ones(M))),x)\n",
    "end\n",
    "\n",
    "# multithread\n",
    "function int_thread_col(x, f)\n",
    "    Threads.@threads for i in 1:size(x,2)\n",
    "      f[i] = pdf(Product(Beta.(1.0,2.0*ones(M))),@view(x[:,i]))\n",
    "    end\n",
    "end\n",
    "\n",
    "# multithread and loop to create product distribution\n",
    "function int_thread_el(x,f)\n",
    "   f[1,:] .= 1.0\n",
    "   Threads.@threads for j in 1:size(x,2)\n",
    "       for i in 1:size(x, 1)\n",
    "           f[1, j] *= pdf(Beta(1.0,2.0),@view(x[i,j]))\n",
    "       end\n",
    "   end\n",
    "end"
   ]
  },
  {
   "cell_type": "code",
   "execution_count": null,
   "id": "8b5d20ba",
   "metadata": {},
   "outputs": [],
   "source": [
    "# we get the right answer\n",
    "@show result, err = cuhre(int, M, 1, atol=atol, rtol=rtol);\n",
    "@show result, err = cuhre(int_thread_col, M, 1, atol=atol, rtol=rtol,nvec=100);\n",
    "@show result, err = cuhre(int_thread_el, M, 1, atol=atol, rtol=rtol,nvec=100);"
   ]
  },
  {
   "cell_type": "code",
   "execution_count": null,
   "id": "7d8b8a72",
   "metadata": {},
   "outputs": [],
   "source": [
    "#@btime cuhre($(int), $M, 1, atol=$atol, rtol=$rtol) # slow\n",
    "\n",
    "println(\"multithread\")\n",
    "@btime cuhre($int_thread_col, $M, 1, atol=$atol, rtol=$rtol,nvec=$(16))\n",
    "@btime cuhre($int_thread_col, $M, 1, atol=$atol, rtol=$rtol,nvec=$(100))\n",
    "@btime cuhre($int_thread_col, $M, 1, atol=$atol, rtol=$rtol,nvec=$(1000))\n",
    "@btime cuhre($int_thread_col, $M, 1, atol=$atol, rtol=$rtol,nvec=$(10000))\n",
    "@btime cuhre($int_thread_col, $M, 1, atol=$atol, rtol=$rtol,nvec=$(100000))\n",
    "@btime cuhre($int_thread_col, $M, 1, atol=$atol, rtol=$rtol,nvec=$(1000000))\n",
    "@btime cuhre($int_thread_col, $M, 1, atol=$atol, rtol=$rtol,nvec=$(10000000))\n",
    "\n",
    "println(\"multithread and create product in loop\")\n",
    "@btime cuhre($int_thread_el, $M, 1, atol=$atol, rtol=$rtol,nvec=$(16))\n",
    "@btime cuhre($int_thread_el, $M, 1, atol=$atol, rtol=$rtol,nvec=$(100))\n",
    "@btime cuhre($int_thread_el, $M, 1, atol=$atol, rtol=$rtol,nvec=$(1000))\n",
    "@btime cuhre($int_thread_el, $M, 1, atol=$atol, rtol=$rtol,nvec=$(10000))\n",
    "@btime cuhre($int_thread_el, $M, 1, atol=$atol, rtol=$rtol,nvec=$(100000))\n",
    "@btime cuhre($int_thread_el, $M, 1, atol=$atol, rtol=$rtol,nvec=$(1000000))\n",
    "@btime cuhre($int_thread_el, $M, 1, atol=$atol, rtol=$rtol,nvec=$(10000000));\n",
    "\n",
    "# conclusions\n",
    "# int_thread_el seems faster than int_thread_col\n",
    "# nvec seems important for performance, looks like we want high nvec"
   ]
  },
  {
   "cell_type": "code",
   "execution_count": null,
   "id": "7e115563",
   "metadata": {},
   "outputs": [],
   "source": [
    "@btime cuhre($int_thread_el, $M, 1, atol=$atol, rtol=$rtol,nvec=$(10000000));"
   ]
  },
  {
   "cell_type": "code",
   "execution_count": null,
   "id": "bfd565f8",
   "metadata": {},
   "outputs": [],
   "source": [
    "# let's try without index checking\n",
    "function int_thread_col_in(x, f)\n",
    "    Threads.@threads for i in 1:size(x,2)\n",
    "      @inbounds f[i] = pdf(Product(Beta.(1.0,2.0*ones(M))),@view(x[:,i]))\n",
    "    end\n",
    "end\n",
    "\n",
    "function int_thread_el_in(x,f)\n",
    "   f[1,:] .= 1.0\n",
    "   Threads.@threads for j in 1:size(x,2)\n",
    "       for i in 1:size(x, 1)\n",
    "           @inbounds f[1, j] *= pdf(Beta(1.0,2.0),@view(x[i,j]))\n",
    "       end\n",
    "   end\n",
    "end\n",
    "\n",
    "nvec=10000000\n",
    "@btime cuhre($int_thread_col, $M, 1, atol=$atol, rtol=$rtol,nvec=$nvec)\n",
    "@btime cuhre($int_thread_col_in, $M, 1, atol=$atol, rtol=$rtol,nvec=$nvec)\n",
    "\n",
    "@btime cuhre($int_thread_el, $M, 1, atol=$atol, rtol=$rtol,nvec=$nvec)\n",
    "@btime cuhre($int_thread_el_in, $M, 1, atol=$atol, rtol=$rtol,nvec=$nvec);\n",
    "\n",
    "# conclusion\n",
    "# using @inbounds does not seem to make a big difference"
   ]
  },
  {
   "cell_type": "code",
   "execution_count": null,
   "id": "9e9dbdfc",
   "metadata": {},
   "outputs": [],
   "source": [
    "# monte carlo divonne\n",
    "\n",
    "# wrong answer\n",
    "@show result, err = divonne(int, M, 1, atol=atol, rtol=rtol); # output suggests increasing maxevals"
   ]
  },
  {
   "cell_type": "code",
   "execution_count": null,
   "id": "e3dfa598",
   "metadata": {},
   "outputs": [],
   "source": [
    "# better\n",
    "maxevals=1174707384\n",
    "\n",
    "@show result, err = divonne(int, M, 1, atol=atol, rtol=rtol,maxevals=maxevals);\n",
    "@show result, err = divonne(int_thread_col, M, 1, atol=atol, rtol=rtol,nvec=nvec,maxevals=maxevals);\n",
    "@show result, err = divonne(int_thread_el, M, 1, atol=atol, rtol=rtol,nvec=nvec,maxevals=maxevals);"
   ]
  },
  {
   "cell_type": "code",
   "execution_count": null,
   "id": "271187a2",
   "metadata": {},
   "outputs": [],
   "source": [
    "@btime divonne($(int), $M, 1, atol=$atol, rtol=$rtol,maxevals=maxevals)\n",
    "\n",
    "println(\"multithread\")\n",
    "@btime divonne($int_thread_col, $M, 1, atol=$atol, rtol=$rtol,nvec=$(16),maxevals=maxevals)\n",
    "@btime divonne($int_thread_col, $M, 1, atol=$atol, rtol=$rtol,nvec=$(100),maxevals=maxevals)\n",
    "@btime divonne($int_thread_col, $M, 1, atol=$atol, rtol=$rtol,nvec=$(1000),maxevals=maxevals)\n",
    "@btime divonne($int_thread_col, $M, 1, atol=$atol, rtol=$rtol,nvec=$(10000),maxevals=maxevals)\n",
    "@btime divonne($int_thread_col, $M, 1, atol=$atol, rtol=$rtol,nvec=$(100000),maxevals=maxevals)\n",
    "@btime divonne($int_thread_col, $M, 1, atol=$atol, rtol=$rtol,nvec=$(1000000),maxevals=maxevals)\n",
    "@btime divonne($int_thread_col, $M, 1, atol=$atol, rtol=$rtol,nvec=$(10000000),maxevals=maxevals)\n",
    "\n",
    "println(\"multithread and create product in loop\")\n",
    "@btime divonne($int_thread_el, $M, 1, atol=$atol, rtol=$rtol,nvec=$(16),maxevals=maxevals)\n",
    "@btime divonne($int_thread_el, $M, 1, atol=$atol, rtol=$rtol,nvec=$(100),maxevals=maxevals)\n",
    "@btime divonne($int_thread_el, $M, 1, atol=$atol, rtol=$rtol,nvec=$(1000),maxevals=maxevals)\n",
    "@btime divonne($int_thread_el, $M, 1, atol=$atol, rtol=$rtol,nvec=$(10000),maxevals=maxevals)\n",
    "@btime divonne($int_thread_el, $M, 1, atol=$atol, rtol=$rtol,nvec=$(100000),maxevals=maxevals)\n",
    "@btime divonne($int_thread_el, $M, 1, atol=$atol, rtol=$rtol,nvec=$(1000000),maxevals=maxevals)\n",
    "@btime divonne($int_thread_el, $M, 1, atol=$atol, rtol=$rtol,nvec=$(10000000),maxevals=maxevals);\n"
   ]
  },
  {
   "cell_type": "code",
   "execution_count": null,
   "id": "31b1f490",
   "metadata": {},
   "outputs": [],
   "source": [
    "# monte carlo suave\n",
    "\n",
    "nvec=15000000\n",
    "maxevals=300000000\n",
    "nmin=2\n",
    "nnew=80000\n",
    "flatness=150"
   ]
  },
  {
   "cell_type": "code",
   "execution_count": null,
   "id": "d5416675",
   "metadata": {},
   "outputs": [],
   "source": [
    "@show result, err = suave(int, M, 1, atol=atol, rtol=rtol,maxevals=maxevals,nnew=nnew,nmin=nmin,flatness=flatness); \n",
    "@show result, err = suave(int_thread_col, M, 1, atol=atol, rtol=rtol,maxevals=maxevals, nvec=nvec,nnew=nnew,nmin=nmin,flatness=flatness); \n",
    "@show result, err = suave(int_thread_el, M, 1, atol=atol, rtol=rtol,maxevals=maxevals, nvec=nvec,nnew=nnew,nmin=nmin,flatness=flatness); "
   ]
  },
  {
   "cell_type": "code",
   "execution_count": null,
   "id": "960d596e",
   "metadata": {},
   "outputs": [],
   "source": [
    "@btime suave($(int), $M, 1, atol=$atol, rtol=$rtol,maxevals=$maxevals, nnew=$nnew,nmin=$nmin,flatness=$flatness) # fast"
   ]
  },
  {
   "cell_type": "code",
   "execution_count": null,
   "id": "b63f49c8",
   "metadata": {},
   "outputs": [],
   "source": [
    "println(\"multithread\")\n",
    "@btime suave($int_thread_col, $M, 1, atol=$atol, rtol=$rtol,nvec=$(16),maxevals=$maxevals, nnew=$nnew,nmin=$nmin,flatness=$flatness); \n",
    "@btime suave($int_thread_col, $M, 1, atol=$atol, rtol=$rtol,nvec=$(100),maxevals=$maxevals, nnew=$nnew,nmin=$nmin,flatness=$flatness); \n",
    "@btime suave($int_thread_col, $M, 1, atol=$atol, rtol=$rtol,nvec=$(1000),maxevals=$maxevals, nnew=$nnew,nmin=$nmin,flatness=$flatness); \n",
    "@btime suave($int_thread_col, $M, 1, atol=$atol, rtol=$rtol,nvec=$(10000),maxevals=$maxevals, nnew=$nnew,nmin=$nmin,flatness=$flatness); \n",
    "@btime suave($int_thread_col, $M, 1, atol=$atol, rtol=$rtol,nvec=$(100000),maxevals=$maxevals, nnew=$nnew,nmin=$nmin,flatness=$flatness); \n",
    "@btime suave($int_thread_col, $M, 1, atol=$atol, rtol=$rtol,nvec=$(1000000),maxevals=$maxevals, nnew=$nnew,nmin=$nmin,flatness=$flatness); \n",
    "@btime suave($int_thread_col, $M, 1, atol=$atol, rtol=$rtol,nvec=$(10000000),maxevals=$maxevals, nnew=$nnew,nmin=$nmin,flatness=$flatness); \n",
    "\n",
    "println(\"multithread and create product in loop\")\n",
    "@btime suave($int_thread_el, $M, 1, atol=$atol, rtol=$rtol,nvec=$(16),maxevals=$maxevals, nnew=$nnew,nmin=$nmin,flatness=$flatness); \n",
    "@btime suave($int_thread_el, $M, 1, atol=$atol, rtol=$rtol,nvec=$(100),maxevals=$maxevals, nnew=$nnew,nmin=$nmin,flatness=$flatness); \n",
    "@btime suave($int_thread_el, $M, 1, atol=$atol, rtol=$rtol,nvec=$(1000),maxevals=$maxevals, nnew=$nnew,nmin=$nmin,flatness=$flatness); \n",
    "@btime suave($int_thread_el, $M, 1, atol=$atol, rtol=$rtol,nvec=$(10000),maxevals=$maxevals, nnew=$nnew,nmin=$nmin,flatness=$flatness); \n",
    "@btime suave($int_thread_el, $M, 1, atol=$atol, rtol=$rtol,nvec=$(100000),maxevals=$maxevals, nnew=$nnew,nmin=$nmin,flatness=$flatness); \n",
    "@btime suave($int_thread_el, $M, 1, atol=$atol, rtol=$rtol,nvec=$(1000000),maxevals=$maxevals, nnew=$nnew,nmin=$nmin,flatness=$flatness); "
   ]
  },
  {
   "cell_type": "code",
   "execution_count": null,
   "id": "763e9f7b",
   "metadata": {},
   "outputs": [],
   "source": [
    "@btime suave($int_thread_el, $M, 1, atol=$atol, rtol=$rtol,nvec=$(10000),maxevals=$maxevals, nnew=$nnew,nmin=$nmin,flatness=$flatness); "
   ]
  },
  {
   "cell_type": "code",
   "execution_count": null,
   "id": "c5074495",
   "metadata": {},
   "outputs": [],
   "source": [
    "# ### Default values of parameters\n",
    "# # Common arguments.\n",
    "# const NVEC      = 1\n",
    "# const RTOL      = 1e-4\n",
    "# const ATOL      = 1e-12\n",
    "# const FLAGS     = 0\n",
    "# const SEED      = 0\n",
    "# const MINEVALS  = 0\n",
    "# const MAXEVALS  = 1000000\n",
    "# const STATEFILE = \"\"\n",
    "# const SPIN      = C_NULL\n",
    "\n",
    "# # Vegas-specific arguments.\n",
    "# const NSTART    = 1000\n",
    "# const NINCREASE = 500\n",
    "# const NBATCH    = 1000\n",
    "# const GRIDNO    = 0\n",
    "\n",
    "# # Suave-specific arguments.\n",
    "# const NNEW     = 1000\n",
    "# const NMIN     = 2\n",
    "# const FLATNESS = 25.0\n",
    "\n",
    "# # Divonne-specific arguments.\n",
    "# const KEY1         = 47\n",
    "# const KEY2         = 1\n",
    "# const KEY3         = 1\n",
    "# const MAXPASS      = 5\n",
    "# const BORDER       = 0.0\n",
    "# const MAXCHISQ     = 10.0\n",
    "# const MINDEVIATION = 0.25\n",
    "# const NGIVEN       = 0\n",
    "# const LDXGIVEN     = 0\n",
    "# const XGIVEN       = 0\n",
    "# const NEXTRA       = 0\n",
    "# const PEAKFINDER   = C_NULL\n",
    "\n",
    "# # Cuhre-specific argument.\n",
    "# const KEY = 0"
   ]
  },
  {
   "cell_type": "code",
   "execution_count": null,
   "id": "7828273d",
   "metadata": {},
   "outputs": [],
   "source": [
    " @cushow index\n",
    "@cuprintln \"thread $index: stride=$stride\"\n",
    "@fastmath"
   ]
  },
  {
   "cell_type": "code",
   "execution_count": 1,
   "id": "880376df",
   "metadata": {},
   "outputs": [
    {
     "name": "stderr",
     "output_type": "stream",
     "text": [
      "\u001b[32m\u001b[1m  Activating\u001b[22m\u001b[39m environment at `~/SageMaker/networks_hub/SAN/code/network_simulations/optim/Project.toml`\n"
     ]
    },
    {
     "data": {
      "text/plain": [
       "48"
      ]
     },
     "execution_count": 1,
     "metadata": {},
     "output_type": "execute_result"
    }
   ],
   "source": [
    "import Pkg;Pkg.activate(\"optim\")\n",
    "using Cuba, Distributions, HCubature\n",
    "using BenchmarkTools, Test\n",
    "using Quadrature\n",
    "using Zygote, FiniteDiff, ForwardDiff\n",
    "include(\"ExtendedPowerDist.jl\"); using .ExtendedPowerDist\n",
    "using DataFrames\n",
    "include(\"NetDefs.jl\"); using .NetDefs\n",
    "using NLsolve, SpecialFunctions\n",
    "@test Threads.nthreads()>1\n",
    "Threads.nthreads()"
   ]
  },
  {
   "cell_type": "code",
   "execution_count": 6,
   "id": "e7d9d143",
   "metadata": {},
   "outputs": [
    {
     "data": {
      "text/plain": [
       "obj_nlsolve (generic function with 1 method)"
      ]
     },
     "execution_count": 6,
     "metadata": {},
     "output_type": "execute_result"
    }
   ],
   "source": [
    "function c_p(p_clear,z,p,x)\n",
    "    c, Aᵀ = selc*z, transpose(reshape(selA*z,N,N))\n",
    "    p_bar, γ = p[N+1:2N], p[3N+1]\n",
    "    return p_clear - min.( (1+γ)*(Aᵀ*p_clear + (1 .- x).*c) - γ*p_bar, p_bar)\n",
    "end\n",
    "\n",
    "function sump_nlsolve(z,p,x)\n",
    "    p_bar = p[N+1:2N]\n",
    "    sum(nlsolve(p_clear -> c_p(p_clear,z,p,x),p_bar).zero)\n",
    "end\n",
    "\n",
    "# computes integrand sum(p(x))\n",
    "function int_thread(f,x,zp)\n",
    "   z, p = zp[1:M], zp[M+1:6N+1+2N*M+M^2]\n",
    "   α, β = selα*z, selβ*z\n",
    "   f[:] .= 1.0\n",
    "   Threads.@threads for j in 1:size(x,2)\n",
    "       f[j] *= sump_nlsolve(z,p,x[:,j])\n",
    "       for i in 1:size(x, 1)\n",
    "           f[j] *= density(ExtendedPowerDist.ExtPow(α[i],β[i]),x[i,j])\n",
    "       end\n",
    "   end\n",
    "end\n",
    "\n",
    "rtol=1e-2; atol=1e-2;\n",
    "# integral sum(p(x))\n",
    "function int_nlsolve(z,p)\n",
    "    zp = vcat(z,p)\n",
    "    prob = QuadratureProblem(int_thread,zeros(N),ones(N),zp;batch=100000)\n",
    "    solve(prob,CubaCuhre(),reltol=rtol,abstol=atol)[1]\n",
    "end\n",
    "\n",
    "function ev(α,β)\n",
    "   return 1 .- (1/2)*sqrt.(pi ./ β).*exp.( (α .+ 1).^2 ./ (4β)).*erfc.( (α .+ 1) ./ (2sqrt.(β)) ) \n",
    "end\n",
    "\n",
    "function obj_Ecx(z)\n",
    "    c, α, β = selc*z, selα*z, selβ*z\n",
    "    return sum(c.*ev(α,β))\n",
    "end\n",
    "\n",
    "# objective function E[c*x - sum(p(x))]\n",
    "function obj_nlsolve(z,p)\n",
    "    return obj_Ecx(z) - int_nlsolve(z,p) # spillovers for network\n",
    "end"
   ]
  },
  {
   "cell_type": "code",
   "execution_count": 7,
   "id": "98a5ed0a",
   "metadata": {},
   "outputs": [
    {
     "data": {
      "text/plain": [
       "5-element Vector{Float64}:\n",
       " 2.006993\n",
       " 1.794448\n",
       " 1.6433575\n",
       " 1.207323\n",
       " 1.032553"
      ]
     },
     "execution_count": 7,
     "metadata": {},
     "output_type": "execute_result"
    }
   ],
   "source": [
    "z0A = Array(z0); p0A = Array(p0)\n",
    "zp0 = vcat(z0A,p0A)\n",
    "p_clear0 = p0A[N+1:2N]"
   ]
  },
  {
   "cell_type": "code",
   "execution_count": 8,
   "id": "1ac5d0c7",
   "metadata": {},
   "outputs": [
    {
     "name": "stdout",
     "output_type": "stream",
     "text": [
      "obj_nlsolve(z0A, p0A) = -4.093742470342109\n"
     ]
    },
    {
     "data": {
      "text/plain": [
       "-4.093742470342109"
      ]
     },
     "execution_count": 8,
     "metadata": {},
     "output_type": "execute_result"
    }
   ],
   "source": [
    "@show obj_nlsolve(z0A,p0A)"
   ]
  },
  {
   "cell_type": "code",
   "execution_count": 14,
   "id": "27652826",
   "metadata": {},
   "outputs": [
    {
     "data": {
      "text/plain": [
       "-4.147318627728024"
      ]
     },
     "execution_count": 14,
     "metadata": {},
     "output_type": "execute_result"
    }
   ],
   "source": [
    "mb=40000\n",
    "f0 = zeros(mb)\n",
    "x0_r = rand(N,mb)\n",
    "int_thread(f0,x0_r,zp0)\n",
    "obj_Ecx(z0A) - mean(f0)"
   ]
  },
  {
   "cell_type": "code",
   "execution_count": 95,
   "id": "ee3538dd",
   "metadata": {},
   "outputs": [
    {
     "data": {
      "text/plain": [
       "d2obj_nlsolve (generic function with 1 method)"
      ]
     },
     "execution_count": 95,
     "metadata": {},
     "output_type": "execute_result"
    }
   ],
   "source": [
    "# nlsolve rrule\n",
    "using ChainRulesCore\n",
    "function ChainRulesCore.rrule(config::RuleConfig{>:HasReverseMode}, ::typeof(nlsolve), f, x0; kwargs...)\n",
    "    result = nlsolve(f, x0; kwargs...)\n",
    "    function nlsolve_pullback(Δresult)\n",
    "        Δx = Δresult[].zero\n",
    "        x = result.zero\n",
    "        _, f_pullback = rrule_via_ad(config, f, x)\n",
    "        JT(v) = f_pullback(v)[2] # w.r.t. x\n",
    "        # solve JT*Δfx = -Δx\n",
    "        Δfx = nlsolve(v -> JT(v) + Δx, zero(x); kwargs...).zero\n",
    "        ∂f = f_pullback(Δfx)[1] # w.r.t. f itself (implicitly closed-over variables)\n",
    "        return (NoTangent(), ∂f, ZeroTangent())\n",
    "    end\n",
    "    return result, nlsolve_pullback\n",
    "end\n",
    "\n",
    "function dsump_nlsolve(z,p,x)\n",
    "    p_bar = p[N+1:2N]\n",
    "    Zygote.gradient(z->sump_nlsolve(z,p,x),z)[1]\n",
    "end\n",
    "\n",
    "function int_dsump(f,x,zp)\n",
    "   z, p = zp[1:M], zp[M+1:6N+1+2N*M+M^2]\n",
    "   α, β = selα*z, selβ*z\n",
    "   f .= 1.0\n",
    "   Threads.@threads for j in 1:size(x,2)\n",
    "       f[:,j] .*= dsump_nlsolve(z,p,x[:,j])\n",
    "       for i in 1:size(x, 1)\n",
    "           f[:,j] .*= density(ExtendedPowerDist.ExtPow(α[i],β[i]),x[i,j])\n",
    "       end\n",
    "   end\n",
    "end\n",
    "\n",
    "function int_dsump(f,x,zp)\n",
    "   z, p = zp[1:M], zp[M+1:6N+1+2N*M+M^2]\n",
    "   α, β = selα*z, selβ*z\n",
    "   f .= 1.0\n",
    "   Threads.@threads for j in 1:size(x,2)\n",
    "       f[:,j] .*= sump_nlsolve(z,p,x[:,j])\n",
    "       for i in 1:size(x, 1)\n",
    "           f[:,j] .*= density(ExtendedPowerDist.ExtPow(α[i],β[i]),x[i,j])\n",
    "       end\n",
    "   end\n",
    "end\n",
    "\n",
    "function dobj_nlsolve(z,p,x,df)\n",
    "    g = zeros(length(z),size(x,2))\n",
    "    int_dsump(g,x,vcat(z,p))\n",
    "    return Zygote.gradient(z->obj_Ecx(z),z)[1] - dropdims(mean(g,dims=2),dims=2)\n",
    "end\n",
    "\n",
    "function d2obj_nlsolve(z,p,x,d2f)\n",
    "    d2f .= Zygote.hessian(z->obj_Ecx(z),z)\n",
    "    return d2f\n",
    "end"
   ]
  },
  {
   "cell_type": "code",
   "execution_count": 98,
   "id": "9b10ab3a",
   "metadata": {},
   "outputs": [
    {
     "data": {
      "text/plain": [
       "45×45 Matrix{Float64}:\n",
       " 0.0  0.0  0.0  0.0  0.0  0.0  0.0  0.0  …   0.0        0.0        0.0\n",
       " 0.0  0.0  0.0  0.0  0.0  0.0  0.0  0.0      0.0        0.0        0.0\n",
       " 0.0  0.0  0.0  0.0  0.0  0.0  0.0  0.0      0.0        0.0        0.0\n",
       " 0.0  0.0  0.0  0.0  0.0  0.0  0.0  0.0      0.0        0.0        0.0\n",
       " 0.0  0.0  0.0  0.0  0.0  0.0  0.0  0.0      0.0        0.0        0.0\n",
       " 0.0  0.0  0.0  0.0  0.0  0.0  0.0  0.0  …   0.0        0.0        0.0\n",
       " 0.0  0.0  0.0  0.0  0.0  0.0  0.0  0.0      0.0        0.0        0.0\n",
       " 0.0  0.0  0.0  0.0  0.0  0.0  0.0  0.0      0.0        0.0        0.0\n",
       " 0.0  0.0  0.0  0.0  0.0  0.0  0.0  0.0      0.0        0.0        0.0\n",
       " 0.0  0.0  0.0  0.0  0.0  0.0  0.0  0.0      0.0        0.0        0.0\n",
       " 0.0  0.0  0.0  0.0  0.0  0.0  0.0  0.0  …   0.0        0.0        0.0\n",
       " 0.0  0.0  0.0  0.0  0.0  0.0  0.0  0.0      0.0        0.0        0.0\n",
       " 0.0  0.0  0.0  0.0  0.0  0.0  0.0  0.0      0.0        0.0        0.0\n",
       " ⋮                        ⋮              ⋱                        \n",
       " 0.0  0.0  0.0  0.0  0.0  0.0  0.0  0.0      0.0        0.371343   0.0\n",
       " 0.0  0.0  0.0  0.0  0.0  0.0  0.0  0.0      0.0        0.0        0.371343\n",
       " 0.0  0.0  0.0  0.0  0.0  0.0  0.0  0.0  …   0.0        0.0        0.0\n",
       " 0.0  0.0  0.0  0.0  0.0  0.0  0.0  0.0      0.0        0.0        0.0\n",
       " 0.0  0.0  0.0  0.0  0.0  0.0  0.0  0.0     -0.473736   0.0        0.0\n",
       " 0.0  0.0  0.0  0.0  0.0  0.0  0.0  0.0      0.0       -0.340505   0.0\n",
       " 0.0  0.0  0.0  0.0  0.0  0.0  0.0  0.0      0.0        0.0       -0.28126\n",
       " 0.0  0.0  0.0  0.0  0.0  0.0  0.0  0.0  …   0.0        0.0        0.0\n",
       " 0.0  0.0  0.0  0.0  0.0  0.0  0.0  0.0      0.0        0.0        0.0\n",
       " 0.0  0.0  0.0  0.0  0.0  0.0  0.0  0.0     -0.824276   0.0        0.0\n",
       " 0.0  0.0  0.0  0.0  0.0  0.0  0.0  0.0      0.0       -0.592461   0.0\n",
       " 0.0  0.0  0.0  0.0  0.0  0.0  0.0  0.0      0.0        0.0       -0.489378"
      ]
     },
     "execution_count": 98,
     "metadata": {},
     "output_type": "execute_result"
    }
   ],
   "source": [
    "mb=10\n",
    "df0 = zeros(M)\n",
    "x0_r = rand(N,mb)\n",
    "g0 = zeros(length(z0),size(x0_r,2))\n",
    "int_dsump(g0,x0_r,vcat(z0A,p0A))\n",
    "#df0 .= Zygote.gradient(z->obj_Ecx(z),z0A)[1] - dropdims(mean(g0,dims=2),dims=2)\n",
    "dobj_nlsolve(z0A,p0A,x0_r,df0)\n",
    "\n",
    "h0 = zeros(M,M)\n",
    "d2obj_nlsolve(z0A,p0A,x0_r,h0)"
   ]
  },
  {
   "cell_type": "code",
   "execution_count": 99,
   "id": "b93b8fa2",
   "metadata": {},
   "outputs": [
    {
     "data": {
      "text/plain": [
       "45×10 Matrix{Float64}:\n",
       " 0.0       0.0          0.533786   …  0.0190917    0.604367  0.0\n",
       " 0.0       0.0          0.339645      0.010617     0.479863  0.0\n",
       " 0.0       0.0          0.325032      0.00552172   0.294206  0.0\n",
       " 0.0       0.0          0.0836838     0.00593505   0.212128  0.0\n",
       " 0.0       0.0          0.0612584     0.000853542  0.163786  0.0\n",
       " 2.40267   0.00250752   0.800678   …  0.0286376    0.90655   0.0\n",
       " 1.62753   0.000862284  0.509467      0.0159254    0.719795  0.0\n",
       " 0.622903  0.000516387  0.487548      0.00828258   0.441308  0.0\n",
       " 0.706585  0.000405496  0.125526      0.00890257   0.318192  0.0\n",
       " 0.369274  0.000618497  0.0918876     0.00128031   0.245679  0.0\n",
       " 3.60401   0.00376129   1.20102    …  0.0429564    1.35982   8.25792\n",
       " 2.4413    0.00129343   0.764201      0.0238881    1.07969   7.38339\n",
       " 0.934355  0.00077458   0.731322      0.0124239    0.661962  5.14056\n",
       " ⋮                                 ⋱                         \n",
       " 1.79344   0.000330711  0.273448      0.0283902    0.671242  2.4975\n",
       " 2.30418   0.00385927   0.573356      0.00798884   1.53298   6.62682\n",
       " 0.0       0.0          0.0        …  0.0          0.0       0.0\n",
       " 0.0       0.0          0.0           0.0          0.0       0.0\n",
       " 0.0       0.0          0.0           0.0          0.0       0.0\n",
       " 0.0       0.0          0.0           0.0          0.0       0.0\n",
       " 0.0       0.0          0.0           0.0          0.0       0.0\n",
       " 0.0       0.0          0.0        …  0.0          0.0       0.0\n",
       " 0.0       0.0          0.0           0.0          0.0       0.0\n",
       " 0.0       0.0          0.0           0.0          0.0       0.0\n",
       " 0.0       0.0          0.0           0.0          0.0       0.0\n",
       " 0.0       0.0          0.0           0.0          0.0       0.0"
      ]
     },
     "execution_count": 99,
     "metadata": {},
     "output_type": "execute_result"
    }
   ],
   "source": [
    "g0"
   ]
  },
  {
   "cell_type": "code",
   "execution_count": 49,
   "id": "bd674d36",
   "metadata": {},
   "outputs": [
    {
     "data": {
      "text/plain": [
       "45×1 Matrix{Float64}:\n",
       " -0.1634711996548124\n",
       " -0.1224335481990602\n",
       " -0.09393037335127047\n",
       " -0.03885367025398878\n",
       " -0.006525423682122654\n",
       " -0.5361449449131931\n",
       " -0.39075158553876205\n",
       " -0.2956423068321641\n",
       " -0.16010011873381294\n",
       " -0.06551918313716311\n",
       " -0.8288997387181899\n",
       " -0.6081957872061624\n",
       " -0.4523912795875934\n",
       "  ⋮\n",
       " -0.09877659615332718\n",
       " -0.084604413714433\n",
       "  0.3976185549927378\n",
       "  0.35436929337632983\n",
       "  0.3330899825994633\n",
       "  0.2394134791913638\n",
       "  0.1977575787108351\n",
       "  0.40384559390089514\n",
       "  0.3599190126990379\n",
       "  0.33830645012976324\n",
       "  0.24316289438173166\n",
       "  0.20085462768290296"
      ]
     },
     "execution_count": 49,
     "metadata": {},
     "output_type": "execute_result"
    }
   ],
   "source": []
  },
  {
   "cell_type": "code",
   "execution_count": null,
   "id": "1738a9dd",
   "metadata": {},
   "outputs": [],
   "source": [
    "function prod_pdf(f,x,zp)\n",
    "   z, p = zp[1:M], zp[M+1:6N+1+2N*M+M^2]\n",
    "   α, β = selα*z, selβ*z\n",
    "   f[:] .= 1.0\n",
    "   Threads.@threads for j in 1:size(x,2)\n",
    "       for i in 1:size(x, 1)\n",
    "           f[j] *= density(ExtendedPowerDist.ExtPow(α[i],β[i]),x[i,j])\n",
    "       end\n",
    "   end\n",
    "end"
   ]
  },
  {
   "cell_type": "code",
   "execution_count": null,
   "id": "7617b311",
   "metadata": {},
   "outputs": [],
   "source": []
  },
  {
   "cell_type": "code",
   "execution_count": null,
   "id": "28bcc437",
   "metadata": {},
   "outputs": [],
   "source": [
    "\n",
    "rtol=1e-1; atol=1e-1;\n",
    "function dint_nlsolve(z,p)\n",
    "    zp = vcat(z,p)\n",
    "    prob = QuadratureProblem(int_dsump,zeros(N),ones(N),zp;batch=10000,nout=2)\n",
    "    solve(prob,CubaCuhre(),reltol=rtol,abstol=atol)[1]\n",
    "end"
   ]
  },
  {
   "cell_type": "code",
   "execution_count": null,
   "id": "1828a1f7",
   "metadata": {},
   "outputs": [],
   "source": []
  },
  {
   "cell_type": "code",
   "execution_count": null,
   "id": "9c85e159",
   "metadata": {},
   "outputs": [],
   "source": []
  },
  {
   "cell_type": "code",
   "execution_count": null,
   "id": "a239a896",
   "metadata": {},
   "outputs": [],
   "source": []
  },
  {
   "cell_type": "code",
   "execution_count": null,
   "id": "afc165f5",
   "metadata": {},
   "outputs": [],
   "source": []
  },
  {
   "cell_type": "code",
   "execution_count": null,
   "id": "41a692ef",
   "metadata": {},
   "outputs": [],
   "source": [
    "function int_dsump_c(x,f,zp)\n",
    "   z, p = zp[1:M], zp[M+1:6N+1+2N*M+M^2]\n",
    "   α, β = selα*z, selβ*z\n",
    "   f .= 1.0\n",
    "   Threads.@threads for j in 1:size(x,2)\n",
    "       f[:,j] .= f[:,j].*dsump_nlsolve(z,p,x[:,j])\n",
    "       for i in 1:size(x, 1)\n",
    "           f[:,j] *= density(ExtendedPowerDist.ExtPow(α[i],β[i]),x[i,j])\n",
    "       end\n",
    "   end\n",
    "end\n",
    "int_dsump_c2(x,f) = int_dsump_c(x,f,zp0)\n",
    "\n",
    "cuhre(int_dsump_c2,N,M, atol=atol, rtol=rtol,nvec=1000)"
   ]
  },
  {
   "cell_type": "code",
   "execution_count": null,
   "id": "57b815d0",
   "metadata": {},
   "outputs": [],
   "source": []
  },
  {
   "cell_type": "code",
   "execution_count": null,
   "id": "b6b75482",
   "metadata": {},
   "outputs": [],
   "source": [
    "mb=1000\n",
    "x0_r = rand(N,mb)"
   ]
  },
  {
   "cell_type": "code",
   "execution_count": null,
   "id": "d62436c3",
   "metadata": {},
   "outputs": [],
   "source": [
    "f0=zeros(M,mb)\n",
    "int_dsump(f0,x0_r,zp0)\n",
    "f0"
   ]
  },
  {
   "cell_type": "code",
   "execution_count": null,
   "id": "ae1e746d",
   "metadata": {},
   "outputs": [],
   "source": [
    "mean(f0,dims=2)"
   ]
  },
  {
   "cell_type": "code",
   "execution_count": null,
   "id": "ae64b586",
   "metadata": {},
   "outputs": [],
   "source": []
  },
  {
   "cell_type": "code",
   "execution_count": null,
   "id": "26a18ee5",
   "metadata": {},
   "outputs": [],
   "source": [
    "\n",
    "c_p(p_clear0,z0A,p0A,x0[:,1])\n",
    "sump_nlsolve(z0A,p0A,x0[:,1])\n",
    "int_nlsolve(z0A,p0A)\n",
    "obj_Ecx(z0A)"
   ]
  },
  {
   "cell_type": "code",
   "execution_count": null,
   "id": "b8d7c30c",
   "metadata": {},
   "outputs": [],
   "source": [
    "obj_nlsolve(z0A,p0A)"
   ]
  },
  {
   "cell_type": "code",
   "execution_count": null,
   "id": "6213df4d",
   "metadata": {},
   "outputs": [],
   "source": [
    "function sump_contraction(z,p,x)\n",
    "    mb = size(x,2)\n",
    "    c, Aᵀ = selc*z, transpose(reshape(selA*z,N,N))\n",
    "    p_bar, γ = p[N+1:2N], p[3N+1]\n",
    "    p_bar_rep = repeat(p_bar,1,mb)\n",
    "    c_rep = repeat(c,1,mb)\n",
    "    p1 = min.( (1+γ)*(Aᵀ*p_bar_rep + (1 .- x).*c_rep) - γ*p_bar_rep, p_bar_rep)\n",
    "    p2 = min.( (1+γ)*(Aᵀ*p1        + (1 .- x).*c_rep) - γ*p_bar_rep, p_bar_rep)\n",
    "    p3 = min.( (1+γ)*(Aᵀ*p2        + (1 .- x).*c_rep) - γ*p_bar_rep, p_bar_rep)\n",
    "    p4 = min.( (1+γ)*(Aᵀ*p3        + (1 .- x).*c_rep) - γ*p_bar_rep, p_bar_rep)\n",
    "    #p_n = min.( (1+γ)*(Aᵀ*p_{n-1} + (1 .- x).*c_rep) - γ*p_bar_rep, p_bar_rep)\n",
    "    return sum(p4,dims=1)\n",
    "end\n",
    "\n",
    "function obj_contraction_uniform2(z,p,x)\n",
    "    # x drawn from uniform distribution\n",
    "    c, α, β = selc*z, selα*z, selβ*z\n",
    "    return sum(c.*ev(α,β)) - mean(sump_contraction(z,p,x).*extpow_prod_pdf(x,α,β)) # spillovers for network\n",
    "end"
   ]
  },
  {
   "cell_type": "code",
   "execution_count": null,
   "id": "5cbddc09",
   "metadata": {},
   "outputs": [],
   "source": [
    "mb=100000\n",
    "x0_r = rand(N,mb)\n",
    "obj_contraction_uniform2(z0A,p0A,x0_r)"
   ]
  },
  {
   "cell_type": "code",
   "execution_count": null,
   "id": "63e1aab0",
   "metadata": {},
   "outputs": [],
   "source": [
    "mb=25000\n",
    "x0_r = rand(N,mb)\n",
    "f0=zeros(mb)\n",
    "f1=zeros(mb)\n",
    "int_thread(f0,x0_r,zp0)\n",
    "int_thread(f1,x0_r,zp0)\n",
    "obj_Ecx(z0A) - mean(f0)\n",
    "obj_Ecx(z0A) - (mean(f0)+mean(f1))/2\n"
   ]
  },
  {
   "cell_type": "code",
   "execution_count": null,
   "id": "322fa134",
   "metadata": {},
   "outputs": [],
   "source": [
    "d1=Zygote.gradient(obj_Ecx,z0A)[1]\n",
    "h1=Zygote.hessian(obj_Ecx,z0A)"
   ]
  },
  {
   "cell_type": "code",
   "execution_count": null,
   "id": "501f45a9",
   "metadata": {},
   "outputs": [],
   "source": [
    "d1=ForwardDiff.gradient(obj_Ecx,z0A)[1]\n",
    "h1=ForwardDiff.hessian(obj_Ecx,z0A)"
   ]
  },
  {
   "cell_type": "code",
   "execution_count": null,
   "id": "a75a8056",
   "metadata": {},
   "outputs": [],
   "source": [
    "d1=Zygote.gradient(z->sump_nlsolve(z,p0A,x0_r[:,1]),z0A)[1]"
   ]
  },
  {
   "cell_type": "code",
   "execution_count": null,
   "id": "6e706054",
   "metadata": {},
   "outputs": [],
   "source": [
    "d2=FiniteDiff.finite_difference_gradient(z->sump_nlsolve(z,p0A,x0_r[:,1]),z0A)"
   ]
  },
  {
   "cell_type": "code",
   "execution_count": null,
   "id": "1c9c617f",
   "metadata": {},
   "outputs": [],
   "source": [
    "d3=Zygote.gradient(z->sump_contraction(z,p0A,x0_r[:,1])[1],z0A)[1]"
   ]
  },
  {
   "cell_type": "code",
   "execution_count": null,
   "id": "24b860fe",
   "metadata": {},
   "outputs": [],
   "source": [
    "d4=ForwardDiff.gradient(z->sump_contraction(z,p0A,x0_r[:,1])[1],z0A)"
   ]
  },
  {
   "cell_type": "code",
   "execution_count": null,
   "id": "4e27ff5a",
   "metadata": {},
   "outputs": [],
   "source": []
  },
  {
   "cell_type": "code",
   "execution_count": null,
   "id": "9a6258cb",
   "metadata": {},
   "outputs": [],
   "source": []
  },
  {
   "cell_type": "code",
   "execution_count": null,
   "id": "4b5a2fa5",
   "metadata": {},
   "outputs": [],
   "source": []
  },
  {
   "cell_type": "code",
   "execution_count": null,
   "id": "1d7c752e",
   "metadata": {},
   "outputs": [],
   "source": [
    "mb=20000\n",
    "x0_r = rand(N,mb)\n",
    "\n",
    "@show d1\n",
    "@show d2"
   ]
  },
  {
   "cell_type": "code",
   "execution_count": null,
   "id": "fd043fa0",
   "metadata": {},
   "outputs": [],
   "source": [
    "Zygote.jacobian(αβ->ev(αβ[1:N],αβ[N+1:2N]),fill(0.5,2N))[1]\n",
    "Zygote.gradient(cαβ->sum(cαβ[1:N].*ev(cαβ[N+1:2N],cαβ[2N+1:3N])),fill(0.5,3N))[1]\n"
   ]
  },
  {
   "cell_type": "code",
   "execution_count": null,
   "id": "65a5a181",
   "metadata": {},
   "outputs": [],
   "source": [
    "@btime Zygote.gradient(z->obj_nlsolve(z,p0A,x0_r[:,1]),z0A)[1];"
   ]
  },
  {
   "cell_type": "code",
   "execution_count": null,
   "id": "eebd284f",
   "metadata": {},
   "outputs": [],
   "source": [
    "@btime FiniteDiff.finite_difference_gradient(z->obj_nlsolve(z,p0A,x0_r[:,1]),z0A);"
   ]
  },
  {
   "cell_type": "code",
   "execution_count": null,
   "id": "7296feb2",
   "metadata": {},
   "outputs": [],
   "source": []
  },
  {
   "cell_type": "code",
   "execution_count": null,
   "id": "52ded575",
   "metadata": {},
   "outputs": [],
   "source": [
    "obj_nlsolve(z0A,p0A)"
   ]
  },
  {
   "cell_type": "code",
   "execution_count": null,
   "id": "fedc127f",
   "metadata": {},
   "outputs": [],
   "source": [
    "df1=Zygote.gradient(z->obj_nlsolve(z,p0A),z0A)[1]"
   ]
  },
  {
   "cell_type": "code",
   "execution_count": null,
   "id": "8f22d086",
   "metadata": {},
   "outputs": [],
   "source": [
    "df2 = FiniteDiff.finite_difference_gradient(z->obj_nlsolve(z,p0A),z0A)"
   ]
  },
  {
   "cell_type": "code",
   "execution_count": null,
   "id": "bb8b0d00",
   "metadata": {},
   "outputs": [],
   "source": [
    "# multithread and loop to create product distribution\n",
    "function int_thread_elq(f,x,zp)\n",
    "   z, p = zp[1:M], zp[M+1:6N+1+2N*M+M^2]\n",
    "   α, β = selα*z, selβ*z\n",
    "   f[1,:] .= 1.0\n",
    "   Threads.@threads for j in 1:size(x,2)\n",
    "       f[1, j] *= obj_contraction(z,p,x[:,j])\n",
    "       for i in 1:size(x, 1)\n",
    "           f[1, j] *= density(ExtendedPowerDist.ExtPow(α[i],β[i]),x[i,j])\n",
    "       end\n",
    "   end\n",
    "end\n",
    "\n",
    "# integrate the pdf of the joint distribution -- should always equal 1\n",
    "function int(f,x,zp)\n",
    "   z, p = zp[1:M], zp[M+1:6N+1+2N*M+M^2]\n",
    "   α, β = selα*z, selβ*z\n",
    "   f[1] = (obj_contraction(z,p,x)*prod(density.(ExtendedPowerDist.ExtPow.(α, β),x),dims=1))[1]\n",
    "end"
   ]
  },
  {
   "cell_type": "code",
   "execution_count": null,
   "id": "97ded68f",
   "metadata": {},
   "outputs": [],
   "source": [
    "f0=[0.0]\n",
    "int(f0,ones(N)/10,zp0)\n",
    "f0"
   ]
  },
  {
   "cell_type": "code",
   "execution_count": null,
   "id": "1bc1deca",
   "metadata": {},
   "outputs": [],
   "source": [
    "q0 = [0.0]\n",
    "int_thread_elq(q0,ones(N)/10,zp0)\n",
    "q0"
   ]
  },
  {
   "cell_type": "code",
   "execution_count": null,
   "id": "9c6bb392",
   "metadata": {},
   "outputs": [],
   "source": [
    "function diff_obj(z,p)\n",
    "    zp = vcat(z,p)\n",
    "    prob = QuadratureProblem(int_thread_elq,zeros(N),ones(N),zp;batch=10000)\n",
    "    solve(prob,CubaCuhre(),reltol=rtol,abstol=atol)[1]\n",
    "end\n",
    "\n",
    "function diff_objH(z,p)\n",
    "    zp = vcat(z,p)\n",
    "    prob = QuadratureProblem(int,zeros(N),ones(N),zp;batch=0)\n",
    "    solve(prob,HCubatureJL(),reltol=rtol,abstol=atol)[1]\n",
    "end\n"
   ]
  },
  {
   "cell_type": "code",
   "execution_count": null,
   "id": "1183dff1",
   "metadata": {},
   "outputs": [],
   "source": [
    "diff_obj(z0A,p0A)\n"
   ]
  },
  {
   "cell_type": "code",
   "execution_count": null,
   "id": "5f1ba3ff",
   "metadata": {},
   "outputs": [],
   "source": [
    "diff_objH(z0A,p0A)"
   ]
  },
  {
   "cell_type": "code",
   "execution_count": null,
   "id": "bfe04254",
   "metadata": {},
   "outputs": [],
   "source": [
    "dp1 = Zygote.gradient(z->diff_obj(z,p0A),z0A)"
   ]
  },
  {
   "cell_type": "code",
   "execution_count": null,
   "id": "b439198e",
   "metadata": {},
   "outputs": [],
   "source": [
    "dp2 = FiniteDiff.finite_difference_gradient(z->diff_obj(z,p0A),z0A)"
   ]
  },
  {
   "cell_type": "code",
   "execution_count": null,
   "id": "79c1bf8c",
   "metadata": {},
   "outputs": [],
   "source": [
    "dp3 = ForwardDiff.gradient(z->diff_obj(z,p0A),z0A)"
   ]
  },
  {
   "cell_type": "code",
   "execution_count": null,
   "id": "dd6b998f",
   "metadata": {},
   "outputs": [],
   "source": [
    "ExtendedPowerDist.moment(ExtendedPowerDist.ExtPow(p[1],p[2]), 1)"
   ]
  },
  {
   "cell_type": "code",
   "execution_count": null,
   "id": "345fb5c1",
   "metadata": {},
   "outputs": [],
   "source": [
    "# multithread and loop to create product distribution\n",
    "function int_thread_el(x,f)\n",
    "   f[1,:] .= 1.0\n",
    "   Threads.@threads for j in 1:size(x,2)\n",
    "       for i in 1:size(x, 1)\n",
    "           f[1, j] *= pdf(Beta(1.0,2.0),@view(x[i,j]))\n",
    "       end\n",
    "   end\n",
    "end\n",
    "cuhre(int_thread_el, M, 1, atol=atol, rtol=rtol,nvec=(100000));"
   ]
  },
  {
   "cell_type": "code",
   "execution_count": null,
   "id": "6bf46af5",
   "metadata": {},
   "outputs": [],
   "source": [
    "using ForwardDiff\n",
    "f(x,p) = p[2]*sum(sin.(x .* p))\n",
    "lb = ones(2)\n",
    "ub = 3ones(2)\n",
    "p = [1.5,2.0]\n",
    "\n",
    "function testf(p)\n",
    "    prob = QuadratureProblem(f,lb,ub,p)\n",
    "    sin(solve(prob,CubaCuhre(),reltol=1e-6,abstol=1e-6)[1])\n",
    "end\n",
    "dp3 = ForwardDiff.gradient(testf,p)\n"
   ]
  },
  {
   "cell_type": "code",
   "execution_count": null,
   "id": "e8ec8fd1",
   "metadata": {},
   "outputs": [],
   "source": [
    "function p_fp(p_clear,z,p,x)\n",
    "    c, Aᵀ = selc*z, transpose(reshape(selA*z,N,N))\n",
    "    p_bar, γ = p[N+1:2N], p[3N+1]\n",
    "    p1 = min.( (1+γ)*(Aᵀ*p_clear + (1 .- x).*c) - γ*p_bar, p_bar)\n",
    "    #p2 = min.( (1+γ)*(Aᵀ*p1        + (1 .- x).*c_rep) - γ*p_bar_rep, p_bar_rep)\n",
    "    #p3 = min.( (1+γ)*(Aᵀ*p2        + (1 .- x).*c_rep) - γ*p_bar_rep, p_bar_rep)\n",
    "    #p_n = min.( (1+γ)*(Aᵀ*p_{n-1} + (1 .- x).*c_rep) - γ*p_bar_rep, p_bar_rep)\n",
    "    return p_clear - p1\n",
    "end\n",
    "p_s(p_clear) = p_fp(p_clear,z0A,p0A,ones(N)/10)"
   ]
  },
  {
   "cell_type": "code",
   "execution_count": null,
   "id": "50996d0e",
   "metadata": {},
   "outputs": [],
   "source": [
    "\n",
    "p_clear0 = p0A[N+1:2N];\n",
    "pc(z) = nlsolve(p_clear -> p_fp(p_clear,z,p0A,ones(N)/10),p_clear0).zero\n",
    "obj(z) = sum(-pc(z))"
   ]
  },
  {
   "cell_type": "code",
   "execution_count": null,
   "id": "a1a67e18",
   "metadata": {},
   "outputs": [],
   "source": [
    "obj(z0A)"
   ]
  },
  {
   "cell_type": "code",
   "execution_count": null,
   "id": "122168cb",
   "metadata": {},
   "outputs": [],
   "source": []
  },
  {
   "cell_type": "code",
   "execution_count": null,
   "id": "208b7050",
   "metadata": {},
   "outputs": [],
   "source": [
    "bla=Zygote.gradient(obj,z0A)[1]"
   ]
  },
  {
   "cell_type": "code",
   "execution_count": null,
   "id": "95296329",
   "metadata": {},
   "outputs": [],
   "source": [
    "FiniteDiff.finite_difference_jacobian(z->Zygote.gradient(obj,z)[1],z0A)"
   ]
  },
  {
   "cell_type": "code",
   "execution_count": null,
   "id": "70a9fb1f",
   "metadata": {},
   "outputs": [],
   "source": [
    "function ChainRulesCore.frule((_, _, _, ṗ), nlsolve::typeof(nlsolve), f, u0, p; kwargs...)\n",
    "    u = nlsolve(f, u0, p; kwargs...)\n",
    "    fu, fp = Base.Fix2(f, p), Base.Fix1(f, u)\n",
    "\n",
    "    pushforward = -dfdu(fu, u) \\ (dfdp(fp, u, p) * ṗ) # TODO: jvp\n",
    "    return u, pushforward\n",
    "end"
   ]
  },
  {
   "cell_type": "code",
   "execution_count": null,
   "id": "e1c1a5ba",
   "metadata": {},
   "outputs": [],
   "source": [
    "ForwardDiff.gradient(obj,z0A)"
   ]
  },
  {
   "cell_type": "code",
   "execution_count": null,
   "id": "1ba56103",
   "metadata": {},
   "outputs": [],
   "source": [
    "numerical_nlsolve(p_clear -> p_fp(p_clear,z,p0A,ones(N)/10),p_clear0,z)"
   ]
  },
  {
   "cell_type": "code",
   "execution_count": null,
   "id": "a9fd1e75",
   "metadata": {},
   "outputs": [],
   "source": []
  },
  {
   "cell_type": "code",
   "execution_count": null,
   "id": "fd07c393",
   "metadata": {},
   "outputs": [],
   "source": [
    "?numerical_nlsolve"
   ]
  },
  {
   "cell_type": "code",
   "execution_count": null,
   "id": "92980107",
   "metadata": {},
   "outputs": [],
   "source": [
    "Pkg.add(\"Diffractor\");using Diffractor"
   ]
  },
  {
   "cell_type": "code",
   "execution_count": null,
   "id": "8c827e94",
   "metadata": {},
   "outputs": [],
   "source": [
    "using ModelingToolkit\n",
    "using Zygote\n",
    "using ModelingToolkit.StructuralTransformations: numerical_nlsolve\n",
    "using ChainRulesCore\n",
    "using ForwardDiff\n",
    "\n",
    "dfdu(f, u) = u isa Number ? ForwardDiff.derivative(f, u) : ForwardDiff.jacobian(f, u)\n",
    "dfdp(f, u, p) = u isa Number && p isa Number ? ForwardDiff.derivative(f, p) :\n",
    "                u isa Number ? ForwardDiff.gradient(f, p) :\n",
    "                ForwardDiff.jacobian(f, p)\n",
    "\n",
    "function ChainRulesCore.frule((_, _, _, ṗ), nlsolve::typeof(numerical_nlsolve), f, u0, p)\n",
    "    u = nlsolve(f, u0, p)\n",
    "    fu, fp = Base.Fix2(f, p), Base.Fix1(f, u)\n",
    "\n",
    "    pushforward = -dfdu(fu, u) \\ (dfdp(fp, u, p) * ṗ) # TODO: jvp\n",
    "    return u, pushforward\n",
    "end\n",
    "\n",
    "function ChainRulesCore.rrule(nlsolve::typeof(numerical_nlsolve), f, u0, p)\n",
    "    u = nlsolve(f, u0, p)\n",
    "    fu, fp = Base.Fix2(f, p), Base.Fix1(f, u)\n",
    "\n",
    "    function nlsolve_pullback(ū)\n",
    "        p̄ = -dfdp(fp, u, p)' * (dfdu(fu, u)' \\  ū) # TODO: vjp\n",
    "        ZeroTangent(), ZeroTangent(), ZeroTangent(), p̄\n",
    "    end\n",
    "    return u, nlsolve_pullback\n",
    "end\n",
    "\n",
    "function nlfun(p)\n",
    "    u0 = ones(2)\n",
    "    numerical_nlsolve(u0, p) do u, p\n",
    "        x, y = u\n",
    "        [(x+3)*(y^3-7)+p[1]\n",
    "         sin(y*exp(x)-p[2])]\n",
    "    end |> sum\n",
    "end\n",
    "\n",
    "Zygote.gradient(nlfun, [18, -1])[1]\n",
    "ForwardDiff.gradient(nlfun, [18, -1])\n",
    "#=\n",
    "julia> Zygote.gradient(nlfun, [18, -1])[1]\n",
    "2-element Vector{Float64}:\n",
    " -0.009532247816399934\n",
    "  0.4895491994463628\n",
    "julia> ForwardDiff.gradient(nlfun, [18, -1])\n",
    "2-element Vector{Float64}:\n",
    " -0.009532385532365253\n",
    "  0.48954879301835347\n",
    "=#"
   ]
  },
  {
   "cell_type": "code",
   "execution_count": null,
   "id": "86512226",
   "metadata": {},
   "outputs": [],
   "source": [
    "import Pkg; Pkg.add(\"LinearMaps\")"
   ]
  },
  {
   "cell_type": "code",
   "execution_count": null,
   "id": "70a00bb5",
   "metadata": {},
   "outputs": [],
   "source": [
    "import Pkg; Pkg.activate(\"optim\")\n",
    "using NLsolve\n",
    "using Zygote\n",
    "\n",
    "using SparseArrays\n",
    "using LinearAlgebra\n",
    "using Random\n",
    "Random.seed!(1234)\n",
    "\n",
    "using IterativeSolvers\n",
    "using LinearMaps\n",
    "\n",
    "\n",
    "NN = 100\n",
    "nonlin = 0.1\n",
    "AA = Array(spdiagm(0 => fill(10.0, NN), 1 => fill(-1.0, NN-1), -1 => fill(-1.0, NN-1)))\n",
    "p00 = randn(NN)\n",
    "h(x, p) = AA*x + nonlin*x.^2 - p\n",
    "solve_x(p) = nlsolve(x -> h(x, p), zeros(NN)).zero\n",
    "obj(p) = sum(solve_x(p))\n",
    "\n",
    "\n",
    "g_auto = Zygote.gradient(obj, p00)[1]\n",
    "g_analytic = gmres((AA + Diagonal(2*nonlin*solve_x(p00)))', ones(NN))\n",
    "display(g_auto)\n",
    "display(g_analytic)\n",
    "@show sum(abs, g_auto - g_analytic) / NN"
   ]
  },
  {
   "cell_type": "code",
   "execution_count": null,
   "id": "cc50322c",
   "metadata": {},
   "outputs": [],
   "source": []
  }
 ],
 "metadata": {
  "kernelspec": {
   "display_name": "Julia-48-threads 1.6.0",
   "language": "julia",
   "name": "julia-48-threads-1.6"
  },
  "language_info": {
   "file_extension": ".jl",
   "mimetype": "application/julia",
   "name": "julia",
   "version": "1.6.0"
  }
 },
 "nbformat": 4,
 "nbformat_minor": 5
}
