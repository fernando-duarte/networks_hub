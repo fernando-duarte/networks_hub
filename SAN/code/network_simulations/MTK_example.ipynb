{
 "cells": [
  {
   "cell_type": "code",
   "execution_count": null,
   "id": "e5db2ced",
   "metadata": {},
   "outputs": [],
   "source": [
    "import Pkg; Pkg.add(url=\"https://github.com/JuliaStats/StatsFuns.jl\", rev=\"an/nopdf\")\n",
    "Pkg.add(\"SpecialFunctions\")\n",
    "using StatsFuns: betapdf,betalogpdf,betacdf, betaccdf,betalogcdf,betalogccdf,betainvcdf,betainvccdf,xlogy, log1p,logbeta\n",
    "using SpecialFunctions: beta_inc"
   ]
  },
  {
   "cell_type": "code",
   "execution_count": null,
   "id": "db011bdc",
   "metadata": {},
   "outputs": [],
   "source": [
    "function betalogpdf2(α::T, β::T, x::T) where T<:Real\n",
    "    return if (x < 1 || x > 1)\n",
    "        -Inf\n",
    "    elseif x <= 0.5\n",
    "        xlogy(α - 1, x) + (β - 1) * log1p(-x) - logbeta(α, β)\n",
    "    else\n",
    "        betalogpdf2(β, α, 1 - x)\n",
    "    end\n",
    "end\n",
    "\n",
    "function betalogcdf2(α::Float64, β::Float64, x::Float64)\n",
    "    if x < 0\n",
    "        return -Inf\n",
    "    elseif x > 1\n",
    "        return 0\n",
    "    else\n",
    "        p, q = beta_inc(α, β, x)\n",
    "        if p < eps(one(p))\n",
    "            # see https://dlmf.nist.gov/8.17#E7\n",
    "            return -log(α) + α*log(x) + log(_₂F₁(promote(α, 1 - β, α + 1, x)...)) - logbeta(α, β)\n",
    "        elseif p <= 0.7\n",
    "            return log(p)\n",
    "        else\n",
    "            return log1p(-q)\n",
    "        end\n",
    "    end\n",
    "end\n",
    "betalogcdf2(α::Real, β::Real, x::Real) = betalogcdf2(promote(float(α), β, x)...)\n",
    "beta_inc2(α::Real, β::Real, x::Real) = beta_inc(promote(float(α), β, x)...)"
   ]
  },
  {
   "cell_type": "code",
   "execution_count": null,
   "id": "67dcbc15",
   "metadata": {},
   "outputs": [],
   "source": [
    "α=1.1;β=2.3;x=2.0\n",
    "betalogpdf2(α,β,x)\n",
    "betalogcdf2(α,β,x)\n"
   ]
  },
  {
   "cell_type": "code",
   "execution_count": null,
   "id": "85d1dfaa",
   "metadata": {},
   "outputs": [],
   "source": [
    "using ForwardDiff, Zygote"
   ]
  },
  {
   "cell_type": "code",
   "execution_count": null,
   "id": "5cbff8ba",
   "metadata": {},
   "outputs": [],
   "source": [
    "ForwardDiff.derivative(x->beta_inc2(α,β,x),0.3)"
   ]
  },
  {
   "cell_type": "code",
   "execution_count": null,
   "id": "394587ec",
   "metadata": {},
   "outputs": [],
   "source": [
    "import Pkg; Pkg.add.([\"ModelingToolkit\",\"GalacticOptim\",\"Optim\",\"ForwardDiff\",\"Zygote\",\"NonlinearSolve\",\"RuntimeGeneratedFunctions\"])"
   ]
  },
  {
   "cell_type": "code",
   "execution_count": null,
   "id": "e1b85561",
   "metadata": {},
   "outputs": [],
   "source": [
    "using ModelingToolkit, GalacticOptim, Optim, ForwardDiff, Zygote, NonlinearSolve,RuntimeGeneratedFunctions,LinearAlgebra"
   ]
  },
  {
   "cell_type": "code",
   "execution_count": null,
   "id": "8e3dbb95",
   "metadata": {},
   "outputs": [],
   "source": [
    "import ModelingToolkit: calculate_gradient, generate_gradient\n",
    "function calculate_gradient(sys::NonlinearSystem)\n",
    "    expand_derivatives.(gradient(equations(sys), states(sys)))\n",
    "end\n",
    "\n",
    "function generate_gradient(sys::NonlinearSystem, vs = states(sys), ps = parameters(sys); kwargs...)\n",
    "    grad = calculate_gradient(sys)\n",
    "    return build_function(grad, vs, ps;\n",
    "                          conv = AbstractSysToExpr(sys),kwargs...)\n",
    "end"
   ]
  },
  {
   "cell_type": "code",
   "execution_count": null,
   "id": "80920177",
   "metadata": {},
   "outputs": [],
   "source": [
    "using SciMLBase,DiffEqBase,Symbolics, ModelingToolkit, GalacticOptim, Optim, ForwardDiff, Zygote, NonlinearSolve,RuntimeGeneratedFunctions,LinearAlgebra \n",
    "using UnPack: @unpack\n",
    "\n",
    "module NonLinProbPrecompile\n",
    "    using ModelingToolkit, LinearAlgebra\n",
    "\n",
    "    function system(; kwargs...)\n",
    "        # Define some variables\n",
    "        A = Matrix(I,2,2); b = rand(2)\n",
    "        @variables z[1:5]\n",
    "        @parameters p[1:2]\n",
    "        zcat = vcat(z...);\n",
    "        pcat = vcat(p...);\n",
    "    \n",
    "        # Define a system of nonlinear equations\n",
    "        ceq = vcat(0 .~ A*zcat[1:2].^4 - pcat, 0 .~ A*zcat[3:4] - pcat + vcat(z[5],z[2]))\n",
    "        ns = NonlinearSystem(ceq,z,p)\n",
    "        return generate_function(ns,z,p)\n",
    "    end\n",
    "    # Setting eval_expression=false and eval_module=[this module] will ensure\n",
    "    # the RGFs are put into our own cache, initialised below.\n",
    "    using RuntimeGeneratedFunctions\n",
    "    RuntimeGeneratedFunctions.init(@__MODULE__)\n",
    "    const f_noeval_good = system(; eval_expression=false, eval_module=@__MODULE__)\n",
    "end"
   ]
  },
  {
   "cell_type": "code",
   "execution_count": null,
   "id": "457b36bb",
   "metadata": {},
   "outputs": [],
   "source": [
    "f = eval(NonLinProbPrecompile.f_noeval_good[1])\n",
    "z0=ones(5)\n",
    "p0=[2.2,2.3]\n",
    "@variables z[1:5]\n",
    "@parameters p[1:2]\n",
    "f_expr = f(z,p)\n",
    "eq = 0 .~ f(z,p)\n",
    "ns = NonlinearSystem(eq,z,p; name=:random_name, defaults=merge(Dict(vcat(z) .=> z0),Dict(vcat(p) .=> p0)) ) #NonlinearSystem(eq,z,p)\n",
    "prob_ns = NonlinearProblem(ns,z0,p0; check_length=false,jac = true, sparse=true,checkbounds = false, linenumbers = false) #NonlinearProblem(ns,z0,p0; check_length=false)\n",
    "# NonlinearFunction(ns,z0,p0)\n",
    "@show states(ns);\n",
    "@show parameters(ns);"
   ]
  },
  {
   "cell_type": "code",
   "execution_count": null,
   "id": "26e26f6e",
   "metadata": {},
   "outputs": [],
   "source": [
    "sys_num = generate_function(ns) \n",
    "sys_sym = generate_function(ns,z,p) \n",
    "jac_num = generate_jacobian(ns)\n",
    "jac_sym = generate_jacobian(ns,z,p) \n",
    "jac_sym_sp = Symbolics.sparsejacobian(f(z,p),states(ns))\n",
    "hess_sym = ModelingToolkit.hessian(f(z,p)[1],states(ns); simplify=true) # hessian of 1st equation in f\n",
    "hess_num = build_function(hess_sym, states(ns); expression = false, target = Symbolics.JuliaTarget())\n",
    "\n",
    "sn = @eval eval(sys_num[1])\n",
    "sn_iip = @eval eval(sys_num[2])\n",
    "ss = @eval eval(sys_sym[1])\n",
    "\n",
    "jn = @eval eval(jac_num[1])\n",
    "jn_iip = @eval eval(jac_num[2])\n",
    "js = @eval eval(jac_sym[1])\n",
    "js_sp = jac_sym_sp\n",
    "\n",
    "hn = @eval eval(hess_num[1])\n",
    "hn_iip = @eval eval(hess_num[2])\n",
    "hs = @eval eval(hess_sym)"
   ]
  },
  {
   "cell_type": "code",
   "execution_count": null,
   "id": "c1d3014c",
   "metadata": {},
   "outputs": [],
   "source": [
    "@show sn(z0,p0)\n",
    "@show ss(z,p)\n",
    "@show jn(z0,p0)\n",
    "@show js(z,p)\n",
    "@show js_sp\n",
    "@show hn(z0,p0)\n",
    "@show hs\n",
    "\n",
    "sn_z0 = zeros(length(z0)) \n",
    "jn_z0 = zeros(length(eq),length(z0)) \n",
    "hn_z0 = zeros(length(z0),length(z0)) \n",
    "@show sn_iip(sn_z0,z0,p0)\n",
    "@show jn_iip(jn_z0,z0,p0)\n",
    "@show hn_iip(hn_z0,z0,p0)\n",
    "\n",
    "@show sn_z0\n",
    "@show jn_z0\n",
    "@show hn_z0"
   ]
  },
  {
   "cell_type": "code",
   "execution_count": null,
   "id": "fb4c995a",
   "metadata": {},
   "outputs": [],
   "source": [
    "ns_tear = tearing(ns;simplify=true)\n",
    "ns_tear = tearing(ns;simplify=false)\n",
    "states(ns_tear)\n",
    "parameters(ns_tear)\n",
    "s = structure(ns_tear)\n",
    "@unpack fullvars, vartype, varassoc, inv_varassoc, varmask, algeqs, graph, solvable_graph, assign, inv_assign, scc, partitions = s\n",
    "@show jac_spcy = ModelingToolkit.jacobian_sparsity(ns);\n",
    "@show jac_spcy.colptr;\n",
    "@show jac_spcy.rowval;"
   ]
  },
  {
   "cell_type": "code",
   "execution_count": null,
   "id": "21f13d02",
   "metadata": {},
   "outputs": [],
   "source": [
    "zcat = vcat(z...)\n",
    "loss =  sum(zcat).^3\n",
    "op_sys = OptimizationSystem(loss,z,p,name=:sys1)"
   ]
  },
  {
   "cell_type": "code",
   "execution_count": null,
   "id": "731f26e6",
   "metadata": {},
   "outputs": [],
   "source": [
    "@show equations(op_sys);\n",
    "@show states(op_sys);\n",
    "@show parameters(op_sys);"
   ]
  },
  {
   "cell_type": "code",
   "execution_count": null,
   "id": "5a944478",
   "metadata": {},
   "outputs": [],
   "source": [
    "op_grad_sym = calculate_gradient(op_sys)\n",
    "op_hess_sym = calculate_hessian(op_sys)\n",
    "\n",
    "op_loss_num = generate_function(op_sys)\n",
    "op_grad_num = generate_gradient(op_sys)\n",
    "op_hess_num = generate_hessian(op_sys)\n",
    "op_hess_spcy = ModelingToolkit.hessian_sparsity(op_sys)"
   ]
  },
  {
   "cell_type": "code",
   "execution_count": null,
   "id": "fb6bba12",
   "metadata": {},
   "outputs": [],
   "source": [
    "display(op_grad_sym)\n",
    "display(op_hess_sym)\n",
    "\n",
    "op_ln = @eval eval(op_loss_num)\n",
    "\n",
    "op_gn = @eval eval(op_grad_num[1])\n",
    "op_gn_iip = @eval eval(op_grad_num[2])\n",
    "\n",
    "op_hess = @eval eval(op_hess_num[1])\n",
    "op_hess_iip = @eval eval(op_hess_num[2])\n",
    "op_hess_sp = op_hess_spcy\n"
   ]
  },
  {
   "cell_type": "code",
   "execution_count": null,
   "id": "dcd9e9ed",
   "metadata": {},
   "outputs": [],
   "source": [
    "@show op_ln(z0,p0)\n",
    "@show op_gn(z0,p0)\n",
    "gn0 = zeros(length(z0))\n",
    "op_gn_iip(gn0,z0,p0)\n",
    "@show gn0;\n",
    "@show op_hess(z0,p0)\n",
    "hess0 = zeros(length(z0),length(z0))\n",
    "op_hess_iip(hess0,z0,p0)\n",
    "@show hess0\n",
    "@show display(op_hess_sp )"
   ]
  },
  {
   "cell_type": "code",
   "execution_count": null,
   "id": "f9fb3330",
   "metadata": {},
   "outputs": [],
   "source": [
    "prob = OptimizationProblem(op_sys,z0,p0,grad=true,hess=true, lb=zeros(size(z0)), ub=ones(size(z0)) )\n",
    "sol = solve(prob,Optim.Newton())"
   ]
  },
  {
   "cell_type": "code",
   "execution_count": null,
   "id": "83a949eb",
   "metadata": {},
   "outputs": [],
   "source": [
    "# equality_constraints not implemented yet?\n",
    "op_eq = [0 ~ z[1]]\n",
    "op_sys = OptimizationSystem(loss,z,p,name=:sys1,equality_constraints=op_eq)"
   ]
  },
  {
   "cell_type": "code",
   "execution_count": null,
   "id": "d465cdcd",
   "metadata": {},
   "outputs": [],
   "source": [
    "# lb and ub\n",
    "opt_f = OptimizationFunction(op_ln,GalacticOptim.AutoZygote())\n",
    "opt_prob = OptimizationProblem(opt_f, z0, p0 , lb=zeros(size(z0)), ub=ones(size(z0)) )\n",
    "solve(opt_prob,Optim.BFGS())           "
   ]
  },
  {
   "cell_type": "code",
   "execution_count": null,
   "id": "a391bc2f",
   "metadata": {},
   "outputs": [],
   "source": [
    "# lb and ub\n",
    "opt_f = OptimizationFunction(op_ln,GalacticOptim.AutoForwardDiff())\n",
    "opt_prob = OptimizationProblem(opt_f, z0, p0 , lb=zeros(size(z0)), ub=ones(size(z0)) )\n",
    "solve(opt_prob,IPNewton())"
   ]
  },
  {
   "cell_type": "code",
   "execution_count": null,
   "id": "72305375",
   "metadata": {},
   "outputs": [],
   "source": [
    "                          grad=nothing,\n",
    "                          hess=nothing,\n",
    "                          hv=nothing,\n",
    "                          cons=nothing,\n",
    "                          cons_j=nothing,\n",
    "                          cons_h=nothing)"
   ]
  },
  {
   "cell_type": "code",
   "execution_count": null,
   "id": "e4548677",
   "metadata": {},
   "outputs": [],
   "source": [
    "import Pkg; \n",
    "Pkg.resolve();Pkg.gc();Pkg.precompile()\n"
   ]
  },
  {
   "cell_type": "code",
   "execution_count": null,
   "id": "895c9493",
   "metadata": {},
   "outputs": [],
   "source": [
    "1"
   ]
  },
  {
   "cell_type": "code",
   "execution_count": null,
   "id": "4f842958",
   "metadata": {},
   "outputs": [],
   "source": [
    "prob = OptimizationProblem(op_sys,z0,p0,grad=true,hess=true, lb=zeros(size(z0)), ub=ones(size(z0)),lcons=0,ucons=0.1 )\n",
    "sol = solve(prob,Optim.Newton())\n",
    "#OptimizationProblemExpr(op_sys, z0,p0, lb=zeros(size(z0)), ub=ones(size(z0)) ,grad=true,hess=true)"
   ]
  },
  {
   "cell_type": "code",
   "execution_count": null,
   "id": "e4b4d42c",
   "metadata": {},
   "outputs": [],
   "source": [
    "calculate_gradient(op_sys)\n",
    "calculate_hessian(op_sys)\n",
    "generate_gradient(op_sys)\n",
    "generate_hessian(op_sys)\n",
    "ModelingToolkit.hessian_sparsity(op_sys)"
   ]
  },
  {
   "cell_type": "code",
   "execution_count": null,
   "id": "519bf385",
   "metadata": {},
   "outputs": [],
   "source": [
    "\n"
   ]
  },
  {
   "cell_type": "code",
   "execution_count": null,
   "id": "7021cda7",
   "metadata": {},
   "outputs": [],
   "source": [
    "\n",
    "\n",
    "\n"
   ]
  },
  {
   "cell_type": "code",
   "execution_count": null,
   "id": "65965764",
   "metadata": {},
   "outputs": [],
   "source": [
    "using ModelingToolkit, SparseArrays, Test, GalacticOptim, Optim\n",
    "\n",
    "\n",
    "equations(combinedsys)\n",
    "states(combinedsys)\n",
    "parameters(combinedsys)\n",
    "\n",
    "calculate_gradient(combinedsys)\n",
    "calculate_hessian(combinedsys)\n",
    "generate_function(combinedsys)\n",
    "generate_gradient(combinedsys)\n",
    "generate_hessian(combinedsys)\n",
    "ModelingToolkit.hessian_sparsity(combinedsys)\n",
    "\n",
    "u0 = [\n",
    "    sys1.x=>1.0\n",
    "    sys1.y=>2.0\n",
    "    sys2.x=>3.0\n",
    "    sys2.y=>4.0\n",
    "    z=>5.0\n",
    "]\n",
    "p = [\n",
    "    sys1.a => 6.0\n",
    "    sys1.b => 7.0\n",
    "    sys2.a => 8.0\n",
    "    sys2.b => 9.0\n",
    "    β => 10.0\n",
    "]\n",
    "\n",
    "prob = OptimizationProblem(combinedsys,u0,p,grad=true)\n",
    "sol = solve(prob,NelderMead())\n",
    "@test sol.minimum < -1e5\n",
    "\n",
    "prob2 = remake(prob,u0=sol.minimizer)\n",
    "sol = solve(prob,BFGS(initial_stepnorm=0.0001),allow_f_increases=true)\n",
    "@test sol.minimum < -1e8\n",
    "sol = solve(prob2,BFGS(initial_stepnorm=0.0001),allow_f_increases=true)\n",
    "@test sol.minimum < -1e9\n",
    "\n",
    "rosenbrock(x, p) =  (p[1] - x[1])^2 + p[2] * (x[2] - x[1]^2)^2\n",
    "x0 = zeros(2)\n",
    "_p  = [1.0, 100.0]\n",
    "\n",
    "f = OptimizationFunction(rosenbrock,ModelingToolkit.AutoModelingToolkit(),x0,_p,grad=true,hess=true)\n",
    "prob = OptimizationProblem(f,x0,_p)\n",
    "sol = solve(prob,Optim.Newton())"
   ]
  }
 ],
 "metadata": {
  "kernelspec": {
   "display_name": "Julia 1.6.0",
   "language": "julia",
   "name": "julia-1.6"
  },
  "language_info": {
   "file_extension": ".jl",
   "mimetype": "application/julia",
   "name": "julia",
   "version": "1.6.0"
  }
 },
 "nbformat": 4,
 "nbformat_minor": 5
}
