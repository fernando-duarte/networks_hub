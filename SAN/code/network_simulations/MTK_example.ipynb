{
 "cells": [
  {
   "cell_type": "code",
   "execution_count": null,
   "id": "4569464b",
   "metadata": {},
   "outputs": [],
   "source": [
    "import Pkg; Pkg.add(url=\"https://github.com/JuliaStats/StatsFuns.jl\", rev=\"an/nopdf\")\n",
    "Pkg.add(\"SpecialFunctions\")\n",
    "using StatsFuns: betapdf,betalogpdf,betacdf, betaccdf,betalogcdf,betalogccdf,betainvcdf,betainvccdf,xlogy, log1p,logbeta\n",
    "using SpecialFunctions: beta_inc"
   ]
  },
  {
   "cell_type": "code",
   "execution_count": null,
   "id": "48ab336f",
   "metadata": {},
   "outputs": [],
   "source": [
    "function betalogpdf2(α::T, β::T, x::T) where T<:Real\n",
    "    return if (x < 1 || x > 1)\n",
    "        -Inf\n",
    "    elseif x <= 0.5\n",
    "        xlogy(α - 1, x) + (β - 1) * log1p(-x) - logbeta(α, β)\n",
    "    else\n",
    "        betalogpdf2(β, α, 1 - x)\n",
    "    end\n",
    "end\n",
    "\n",
    "function betalogcdf2(α::Float64, β::Float64, x::Float64)\n",
    "    if x < 0\n",
    "        return -Inf\n",
    "    elseif x > 1\n",
    "        return 0\n",
    "    else\n",
    "        p, q = beta_inc(α, β, x)\n",
    "        if p < eps(one(p))\n",
    "            # see https://dlmf.nist.gov/8.17#E7\n",
    "            return -log(α) + α*log(x) + log(_₂F₁(promote(α, 1 - β, α + 1, x)...)) - logbeta(α, β)\n",
    "        elseif p <= 0.7\n",
    "            return log(p)\n",
    "        else\n",
    "            return log1p(-q)\n",
    "        end\n",
    "    end\n",
    "end\n",
    "betalogcdf2(α::Real, β::Real, x::Real) = betalogcdf2(promote(float(α), β, x)...)\n",
    "beta_inc2(α::Real, β::Real, x::Real) = beta_inc(promote(float(α), β, x)...)"
   ]
  },
  {
   "cell_type": "code",
   "execution_count": null,
   "id": "363ddc05",
   "metadata": {},
   "outputs": [],
   "source": [
    "α=1.1;β=2.3;x=2.0\n",
    "betalogpdf2(α,β,x)\n",
    "betalogcdf2(α,β,x)\n"
   ]
  },
  {
   "cell_type": "code",
   "execution_count": null,
   "id": "fb8a4560",
   "metadata": {},
   "outputs": [],
   "source": [
    "using ForwardDiff, Zygote"
   ]
  },
  {
   "cell_type": "code",
   "execution_count": null,
   "id": "ec70572b",
   "metadata": {},
   "outputs": [],
   "source": [
    "ForwardDiff.derivative(x->beta_inc2(α,β,x),0.3)"
   ]
  },
  {
   "cell_type": "code",
   "execution_count": null,
   "id": "150d6bda",
   "metadata": {},
   "outputs": [],
   "source": [
    "import Pkg; Pkg.add.([\"ModelingToolkit\",\"GalacticOptim\",\"Optim\",\"ForwardDiff\",\"Zygote\",\"NonlinearSolve\",\"RuntimeGeneratedFunctions\"])"
   ]
  },
  {
   "cell_type": "code",
   "execution_count": null,
   "id": "f84c306e",
   "metadata": {},
   "outputs": [],
   "source": [
    "using ModelingToolkit, GalacticOptim, Optim, ForwardDiff, Zygote, NonlinearSolve,RuntimeGeneratedFunctions,LinearAlgebra"
   ]
  },
  {
   "cell_type": "code",
   "execution_count": null,
   "id": "96490a7b",
   "metadata": {},
   "outputs": [],
   "source": [
    "import ModelingToolkit: calculate_gradient, generate_gradient\n",
    "function calculate_gradient(sys::NonlinearSystem)\n",
    "    expand_derivatives.(gradient(equations(sys), states(sys)))\n",
    "end\n",
    "\n",
    "function generate_gradient(sys::NonlinearSystem, vs = states(sys), ps = parameters(sys); kwargs...)\n",
    "    grad = calculate_gradient(sys)\n",
    "    return build_function(grad, vs, ps;\n",
    "                          conv = AbstractSysToExpr(sys),kwargs...)\n",
    "end"
   ]
  },
  {
   "cell_type": "code",
   "execution_count": null,
   "id": "fa521f42",
   "metadata": {},
   "outputs": [],
   "source": [
    "using SciMLBase,DiffEqBase,Symbolics, ModelingToolkit, GalacticOptim, Optim, ForwardDiff, Zygote, NonlinearSolve,RuntimeGeneratedFunctions,LinearAlgebra \n",
    "using UnPack: @unpack\n",
    "\n",
    "module NonLinProbPrecompile\n",
    "    using ModelingToolkit, LinearAlgebra\n",
    "\n",
    "    function system(; kwargs...)\n",
    "        # Define some variables\n",
    "        A = Matrix(I,2,2); b = rand(2)\n",
    "        @variables z[1:5]\n",
    "        @parameters p[1:2]\n",
    "        zcat = vcat(z...);\n",
    "        pcat = vcat(p...);\n",
    "    \n",
    "        # Define a system of nonlinear equations\n",
    "        ceq = vcat(0 .~ A*zcat[1:2].^4 - pcat, 0 .~ A*zcat[3:4] - pcat + vcat(z[5],z[2]))\n",
    "        ns = NonlinearSystem(ceq,z,p)\n",
    "        return generate_function(ns,z,p)\n",
    "    end\n",
    "    # Setting eval_expression=false and eval_module=[this module] will ensure\n",
    "    # the RGFs are put into our own cache, initialised below.\n",
    "    using RuntimeGeneratedFunctions\n",
    "    RuntimeGeneratedFunctions.init(@__MODULE__)\n",
    "    const f_noeval_good = system(; eval_expression=false, eval_module=@__MODULE__)\n",
    "end"
   ]
  },
  {
   "cell_type": "code",
   "execution_count": null,
   "id": "197e61dc",
   "metadata": {},
   "outputs": [],
   "source": [
    "f = eval(NonLinProbPrecompile.f_noeval_good[1])\n",
    "z0=ones(5)\n",
    "p0=[2.2,2.3]\n",
    "@variables z[1:5]\n",
    "@parameters p[1:2]\n",
    "f_expr = f(z,p)\n",
    "eq = 0 .~ f(z,p)\n",
    "ns = NonlinearSystem(eq,z,p; name=:random_name, defaults=merge(Dict(vcat(z) .=> z0),Dict(vcat(p) .=> p0)) ) #NonlinearSystem(eq,z,p)\n",
    "prob_ns = NonlinearProblem(ns,z0,p0; check_length=false,jac = true, sparse=true,checkbounds = false, linenumbers = false) #NonlinearProblem(ns,z0,p0; check_length=false)\n",
    "# NonlinearFunction(ns,z0,p0)\n",
    "@show states(ns);\n",
    "@show parameters(ns);"
   ]
  },
  {
   "cell_type": "code",
   "execution_count": null,
   "id": "8c98998d",
   "metadata": {},
   "outputs": [],
   "source": [
    "sys_num = generate_function(ns) \n",
    "sys_sym = generate_function(ns,z,p) \n",
    "jac_num = generate_jacobian(ns)\n",
    "jac_sym = generate_jacobian(ns,z,p) \n",
    "jac_sym_sp = Symbolics.sparsejacobian(f(z,p),states(ns))\n",
    "hess_sym = ModelingToolkit.hessian(f(z,p)[1],states(ns); simplify=true) # hessian of 1st equation in f\n",
    "hess_num = build_function(hess_sym, states(ns); expression = false, target = Symbolics.JuliaTarget())\n",
    "\n",
    "sn = @eval eval(sys_num[1])\n",
    "sn_iip = @eval eval(sys_num[2])\n",
    "ss = @eval eval(sys_sym[1])\n",
    "\n",
    "jn = @eval eval(jac_num[1])\n",
    "jn_iip = @eval eval(jac_num[2])\n",
    "js = @eval eval(jac_sym[1])\n",
    "js_sp = jac_sym_sp\n",
    "\n",
    "hn = @eval eval(hess_num[1])\n",
    "hn_iip = @eval eval(hess_num[2])\n",
    "hs = @eval eval(hess_sym)"
   ]
  },
  {
   "cell_type": "code",
   "execution_count": null,
   "id": "81f99b80",
   "metadata": {},
   "outputs": [],
   "source": [
    "@show sn(z0,p0)\n",
    "@show ss(z,p)\n",
    "@show jn(z0,p0)\n",
    "@show js(z,p)\n",
    "@show js_sp\n",
    "@show hn(z0,p0)\n",
    "@show hs\n",
    "\n",
    "sn_z0 = zeros(length(z0)) \n",
    "jn_z0 = zeros(length(eq),length(z0)) \n",
    "hn_z0 = zeros(length(z0),length(z0)) \n",
    "@show sn_iip(sn_z0,z0,p0)\n",
    "@show jn_iip(jn_z0,z0,p0)\n",
    "@show hn_iip(hn_z0,z0,p0)\n",
    "\n",
    "@show sn_z0\n",
    "@show jn_z0\n",
    "@show hn_z0"
   ]
  },
  {
   "cell_type": "code",
   "execution_count": null,
   "id": "4898c461",
   "metadata": {},
   "outputs": [],
   "source": [
    "ns_tear = tearing(ns;simplify=true)\n",
    "ns_tear = tearing(ns;simplify=false)\n",
    "states(ns_tear)\n",
    "parameters(ns_tear)\n",
    "s = structure(ns_tear)\n",
    "@unpack fullvars, vartype, varassoc, inv_varassoc, varmask, algeqs, graph, solvable_graph, assign, inv_assign, scc, partitions = s\n",
    "@show jac_spcy = ModelingToolkit.jacobian_sparsity(ns);\n",
    "@show jac_spcy.colptr;\n",
    "@show jac_spcy.rowval;"
   ]
  },
  {
   "cell_type": "code",
   "execution_count": null,
   "id": "da90f9cd",
   "metadata": {},
   "outputs": [],
   "source": [
    "zcat = vcat(z...)\n",
    "loss =  sum(zcat).^3\n",
    "op_sys = OptimizationSystem(loss,z,p,name=:sys1)"
   ]
  },
  {
   "cell_type": "code",
   "execution_count": null,
   "id": "84e18f52",
   "metadata": {},
   "outputs": [],
   "source": [
    "@show equations(op_sys);\n",
    "@show states(op_sys);\n",
    "@show parameters(op_sys);"
   ]
  },
  {
   "cell_type": "code",
   "execution_count": null,
   "id": "abccd473",
   "metadata": {},
   "outputs": [],
   "source": [
    "op_grad_sym = calculate_gradient(op_sys)\n",
    "op_hess_sym = calculate_hessian(op_sys)\n",
    "\n",
    "op_loss_num = generate_function(op_sys)\n",
    "op_grad_num = generate_gradient(op_sys)\n",
    "op_hess_num = generate_hessian(op_sys)\n",
    "op_hess_spcy = ModelingToolkit.hessian_sparsity(op_sys)"
   ]
  },
  {
   "cell_type": "code",
   "execution_count": null,
   "id": "eca87fe6",
   "metadata": {},
   "outputs": [],
   "source": [
    "display(op_grad_sym)\n",
    "display(op_hess_sym)\n",
    "\n",
    "op_ln = @eval eval(op_loss_num)\n",
    "\n",
    "op_gn = @eval eval(op_grad_num[1])\n",
    "op_gn_iip = @eval eval(op_grad_num[2])\n",
    "\n",
    "op_hess = @eval eval(op_hess_num[1])\n",
    "op_hess_iip = @eval eval(op_hess_num[2])\n",
    "op_hess_sp = op_hess_spcy\n"
   ]
  },
  {
   "cell_type": "code",
   "execution_count": null,
   "id": "58ae6146",
   "metadata": {},
   "outputs": [],
   "source": [
    "@show op_ln(z0,p0)\n",
    "@show op_gn(z0,p0)\n",
    "gn0 = zeros(length(z0))\n",
    "op_gn_iip(gn0,z0,p0)\n",
    "@show gn0;\n",
    "@show op_hess(z0,p0)\n",
    "hess0 = zeros(length(z0),length(z0))\n",
    "op_hess_iip(hess0,z0,p0)\n",
    "@show hess0\n",
    "@show display(op_hess_sp )"
   ]
  },
  {
   "cell_type": "code",
   "execution_count": null,
   "id": "f0b68012",
   "metadata": {},
   "outputs": [],
   "source": [
    "prob = OptimizationProblem(op_sys,z0,p0,grad=true,hess=true, lb=zeros(size(z0)), ub=ones(size(z0)) )\n",
    "sol = solve(prob,Optim.Newton())"
   ]
  },
  {
   "cell_type": "code",
   "execution_count": null,
   "id": "f9c17c9e",
   "metadata": {},
   "outputs": [],
   "source": [
    "# equality_constraints not implemented yet?\n",
    "op_eq = [0 ~ z[1]]\n",
    "op_sys = OptimizationSystem(loss,z,p,name=:sys1,equality_constraints=op_eq)"
   ]
  },
  {
   "cell_type": "code",
   "execution_count": null,
   "id": "fbf29d17",
   "metadata": {},
   "outputs": [],
   "source": [
    "# lb and ub\n",
    "opt_f = OptimizationFunction(op_ln,GalacticOptim.AutoZygote())\n",
    "opt_prob = OptimizationProblem(opt_f, z0, p0 , lb=zeros(size(z0)), ub=ones(size(z0)) )\n",
    "solve(opt_prob,Optim.BFGS())           "
   ]
  },
  {
   "cell_type": "code",
   "execution_count": null,
   "id": "2c7a0a77",
   "metadata": {},
   "outputs": [],
   "source": [
    "# lb and ub\n",
    "opt_f = OptimizationFunction(op_ln,GalacticOptim.AutoForwardDiff())\n",
    "opt_prob = OptimizationProblem(opt_f, z0, p0 , lb=zeros(size(z0)), ub=ones(size(z0)) )\n",
    "solve(opt_prob,IPNewton())"
   ]
  },
  {
   "cell_type": "code",
   "execution_count": null,
   "id": "e7f96bc9",
   "metadata": {},
   "outputs": [],
   "source": [
    "                          grad=nothing,\n",
    "                          hess=nothing,\n",
    "                          hv=nothing,\n",
    "                          cons=nothing,\n",
    "                          cons_j=nothing,\n",
    "                          cons_h=nothing)"
   ]
  },
  {
   "cell_type": "code",
   "execution_count": null,
   "id": "afa3614c",
   "metadata": {},
   "outputs": [],
   "source": [
    "import Pkg; \n",
    "Pkg.resolve();Pkg.gc();Pkg.precompile()\n"
   ]
  },
  {
   "cell_type": "code",
   "execution_count": null,
   "id": "e7a605a1",
   "metadata": {},
   "outputs": [],
   "source": [
    "1"
   ]
  },
  {
   "cell_type": "code",
   "execution_count": null,
   "id": "9a16dc1e",
   "metadata": {},
   "outputs": [],
   "source": [
    "prob = OptimizationProblem(op_sys,z0,p0,grad=true,hess=true, lb=zeros(size(z0)), ub=ones(size(z0)),lcons=0,ucons=0.1 )\n",
    "sol = solve(prob,Optim.Newton())\n",
    "#OptimizationProblemExpr(op_sys, z0,p0, lb=zeros(size(z0)), ub=ones(size(z0)) ,grad=true,hess=true)"
   ]
  },
  {
   "cell_type": "code",
   "execution_count": null,
   "id": "b0936b77",
   "metadata": {},
   "outputs": [],
   "source": [
    "calculate_gradient(op_sys)\n",
    "calculate_hessian(op_sys)\n",
    "generate_gradient(op_sys)\n",
    "generate_hessian(op_sys)\n",
    "ModelingToolkit.hessian_sparsity(op_sys)"
   ]
  },
  {
   "cell_type": "code",
   "execution_count": null,
   "id": "5c0d3c94",
   "metadata": {},
   "outputs": [],
   "source": [
    "\n"
   ]
  },
  {
   "cell_type": "code",
   "execution_count": null,
   "id": "d87fd22f",
   "metadata": {},
   "outputs": [],
   "source": [
    "\n",
    "\n",
    "\n"
   ]
  },
  {
   "cell_type": "code",
   "execution_count": null,
   "id": "1d994e0d",
   "metadata": {},
   "outputs": [],
   "source": [
    "using ModelingToolkit, SparseArrays, Test, GalacticOptim, Optim\n",
    "\n",
    "\n",
    "equations(combinedsys)\n",
    "states(combinedsys)\n",
    "parameters(combinedsys)\n",
    "\n",
    "calculate_gradient(combinedsys)\n",
    "calculate_hessian(combinedsys)\n",
    "generate_function(combinedsys)\n",
    "generate_gradient(combinedsys)\n",
    "generate_hessian(combinedsys)\n",
    "ModelingToolkit.hessian_sparsity(combinedsys)\n",
    "\n",
    "u0 = [\n",
    "    sys1.x=>1.0\n",
    "    sys1.y=>2.0\n",
    "    sys2.x=>3.0\n",
    "    sys2.y=>4.0\n",
    "    z=>5.0\n",
    "]\n",
    "p = [\n",
    "    sys1.a => 6.0\n",
    "    sys1.b => 7.0\n",
    "    sys2.a => 8.0\n",
    "    sys2.b => 9.0\n",
    "    β => 10.0\n",
    "]\n",
    "\n",
    "prob = OptimizationProblem(combinedsys,u0,p,grad=true)\n",
    "sol = solve(prob,NelderMead())\n",
    "@test sol.minimum < -1e5\n",
    "\n",
    "prob2 = remake(prob,u0=sol.minimizer)\n",
    "sol = solve(prob,BFGS(initial_stepnorm=0.0001),allow_f_increases=true)\n",
    "@test sol.minimum < -1e8\n",
    "sol = solve(prob2,BFGS(initial_stepnorm=0.0001),allow_f_increases=true)\n",
    "@test sol.minimum < -1e9\n",
    "\n",
    "rosenbrock(x, p) =  (p[1] - x[1])^2 + p[2] * (x[2] - x[1]^2)^2\n",
    "x0 = zeros(2)\n",
    "_p  = [1.0, 100.0]\n",
    "\n",
    "f = OptimizationFunction(rosenbrock,ModelingToolkit.AutoModelingToolkit(),x0,_p,grad=true,hess=true)\n",
    "prob = OptimizationProblem(f,x0,_p)\n",
    "sol = solve(prob,Optim.Newton())"
   ]
  },
  {
   "cell_type": "code",
   "execution_count": 1,
   "id": "13800762",
   "metadata": {},
   "outputs": [
    {
     "name": "stderr",
     "output_type": "stream",
     "text": [
      "\u001b[32m\u001b[1m  Activating\u001b[22m\u001b[39m environment at `~/SageMaker/networks_hub/SAN/code/network_simulations/optim/Project.toml`\n"
     ]
    }
   ],
   "source": [
    "import Pkg;Pkg.activate(\"optim\")\n",
    "Pkg.instantiate()\n",
    "using ModelingToolkit, LinearAlgebra, Symbolics"
   ]
  },
  {
   "cell_type": "code",
   "execution_count": 503,
   "id": "cd076186",
   "metadata": {},
   "outputs": [
    {
     "data": {
      "text/latex": [
       "\\begin{equation}\n",
       "\\left[\n",
       "\\begin{array}{c}\n",
       "z31 \\\\\n",
       "z32 \\\\\n",
       "z33 \\\\\n",
       "z34 \\\\\n",
       "z35 \\\\\n",
       "\\end{array}\n",
       "\\right]\n",
       "\\end{equation}\n"
      ],
      "text/plain": [
       "5-element Vector{Num}:\n",
       " z31\n",
       " z32\n",
       " z33\n",
       " z34\n",
       " z35"
      ]
     },
     "execution_count": 503,
     "metadata": {},
     "output_type": "execute_result"
    }
   ],
   "source": [
    "N=5\n",
    "M=N^2+4*N\n",
    "\n",
    "for i=1:M\n",
    "   @eval @parameters ($(Symbol(\"z$i\"))) \n",
    "end\n",
    "for i=1:N\n",
    "   @eval @parameters ($(Symbol(\"x$i\")))\n",
    "   @eval @parameters ($(Symbol(\"p_bar$i\")))\n",
    "end\n",
    "@parameters γ\n",
    "zvec = [ @eval ($(Symbol(\"z$i\"))) for i=1:M]\n",
    "p_barvec = [ @eval ($(Symbol(\"p_bar$i\"))) for i=1:N]\n",
    "xvec = [ @eval ($(Symbol(\"x$i\"))) for i=1:N]\n",
    "Aᵀ = Array(transpose(reshape(zvec[1:N^2],N,N)))\n",
    "c = zvec[N^2+N+1:N^2+2N]\n",
    "#z = vcat(A...,b,c,α,β)\n"
   ]
  },
  {
   "cell_type": "code",
   "execution_count": 504,
   "id": "86587581",
   "metadata": {},
   "outputs": [
    {
     "data": {
      "text/latex": [
       "\\begin{equation}\n",
       "\\left[\n",
       "\\begin{array}{c}\n",
       "\\mathrm{p1}\\left( z1, z2, z3, z4, z5, z6, z7, z8, z9, z10, z11, z12, z13, z14, z15, z16, z17, z18, z19, z20, z21, z22, z23, z24, z25, z26, z27, z28, z29, z30, z31, z32, z33, z34, z35, z36, z37, z38, z39, z40, z41, z42, z43, z44, z45 \\right) \\\\\n",
       "\\mathrm{p2}\\left( z1, z2, z3, z4, z5, z6, z7, z8, z9, z10, z11, z12, z13, z14, z15, z16, z17, z18, z19, z20, z21, z22, z23, z24, z25, z26, z27, z28, z29, z30, z31, z32, z33, z34, z35, z36, z37, z38, z39, z40, z41, z42, z43, z44, z45 \\right) \\\\\n",
       "\\mathrm{p3}\\left( z1, z2, z3, z4, z5, z6, z7, z8, z9, z10, z11, z12, z13, z14, z15, z16, z17, z18, z19, z20, z21, z22, z23, z24, z25, z26, z27, z28, z29, z30, z31, z32, z33, z34, z35, z36, z37, z38, z39, z40, z41, z42, z43, z44, z45 \\right) \\\\\n",
       "\\mathrm{p4}\\left( z1, z2, z3, z4, z5, z6, z7, z8, z9, z10, z11, z12, z13, z14, z15, z16, z17, z18, z19, z20, z21, z22, z23, z24, z25, z26, z27, z28, z29, z30, z31, z32, z33, z34, z35, z36, z37, z38, z39, z40, z41, z42, z43, z44, z45 \\right) \\\\\n",
       "\\mathrm{p5}\\left( z1, z2, z3, z4, z5, z6, z7, z8, z9, z10, z11, z12, z13, z14, z15, z16, z17, z18, z19, z20, z21, z22, z23, z24, z25, z26, z27, z28, z29, z30, z31, z32, z33, z34, z35, z36, z37, z38, z39, z40, z41, z42, z43, z44, z45 \\right) \\\\\n",
       "\\end{array}\n",
       "\\right]\n",
       "\\end{equation}\n"
      ],
      "text/plain": [
       "5-element Vector{Num}:\n",
       " p1(z1, z2, z3, z4, z5, z6, z7, z8, z9, z10, z11, z12, z13, z14, z15, z16, z17, z18, z19, z20, z21, z22, z23, z24, z25, z26, z27, z28, z29, z30, z31, z32, z33, z34, z35, z36, z37, z38, z39, z40, z41, z42, z43, z44, z45)\n",
       " p2(z1, z2, z3, z4, z5, z6, z7, z8, z9, z10, z11, z12, z13, z14, z15, z16, z17, z18, z19, z20, z21, z22, z23, z24, z25, z26, z27, z28, z29, z30, z31, z32, z33, z34, z35, z36, z37, z38, z39, z40, z41, z42, z43, z44, z45)\n",
       " p3(z1, z2, z3, z4, z5, z6, z7, z8, z9, z10, z11, z12, z13, z14, z15, z16, z17, z18, z19, z20, z21, z22, z23, z24, z25, z26, z27, z28, z29, z30, z31, z32, z33, z34, z35, z36, z37, z38, z39, z40, z41, z42, z43, z44, z45)\n",
       " p4(z1, z2, z3, z4, z5, z6, z7, z8, z9, z10, z11, z12, z13, z14, z15, z16, z17, z18, z19, z20, z21, z22, z23, z24, z25, z26, z27, z28, z29, z30, z31, z32, z33, z34, z35, z36, z37, z38, z39, z40, z41, z42, z43, z44, z45)\n",
       " p5(z1, z2, z3, z4, z5, z6, z7, z8, z9, z10, z11, z12, z13, z14, z15, z16, z17, z18, z19, z20, z21, z22, z23, z24, z25, z26, z27, z28, z29, z30, z31, z32, z33, z34, z35, z36, z37, z38, z39, z40, z41, z42, z43, z44, z45)"
      ]
     },
     "execution_count": 504,
     "metadata": {},
     "output_type": "execute_result"
    }
   ],
   "source": [
    "for i=1:N\n",
    "   @eval @parameters $(Symbol(\"p$i\"))($(zvec...))\n",
    "end\n",
    "pvec = [ @eval $(Symbol(\"p$i\")) for i=1:N]"
   ]
  },
  {
   "cell_type": "code",
   "execution_count": 505,
   "id": "6e93fa96",
   "metadata": {},
   "outputs": [
    {
     "data": {
      "text/latex": [
       "\\begin{equation}\n",
       "\\left[\n",
       "\\begin{array}{c}\n",
       "\\mathrm{min}\\left( \\left( 1 + \\gamma \\right) \\left( z1 \\mathrm{p1}\\left( z1, z2, z3, z4, z5, z6, z7, z8, z9, z10, z11, z12, z13, z14, z15, z16, z17, z18, z19, z20, z21, z22, z23, z24, z25, z26, z27, z28, z29, z30, z31, z32, z33, z34, z35, z36, z37, z38, z39, z40, z41, z42, z43, z44, z45 \\right) + z2 \\mathrm{p2}\\left( z1, z2, z3, z4, z5, z6, z7, z8, z9, z10, z11, z12, z13, z14, z15, z16, z17, z18, z19, z20, z21, z22, z23, z24, z25, z26, z27, z28, z29, z30, z31, z32, z33, z34, z35, z36, z37, z38, z39, z40, z41, z42, z43, z44, z45 \\right) + z3 \\mathrm{p3}\\left( z1, z2, z3, z4, z5, z6, z7, z8, z9, z10, z11, z12, z13, z14, z15, z16, z17, z18, z19, z20, z21, z22, z23, z24, z25, z26, z27, z28, z29, z30, z31, z32, z33, z34, z35, z36, z37, z38, z39, z40, z41, z42, z43, z44, z45 \\right) + z31 \\left( 1 - x1 \\right) + z4 \\mathrm{p4}\\left( z1, z2, z3, z4, z5, z6, z7, z8, z9, z10, z11, z12, z13, z14, z15, z16, z17, z18, z19, z20, z21, z22, z23, z24, z25, z26, z27, z28, z29, z30, z31, z32, z33, z34, z35, z36, z37, z38, z39, z40, z41, z42, z43, z44, z45 \\right) + z5 \\mathrm{p5}\\left( z1, z2, z3, z4, z5, z6, z7, z8, z9, z10, z11, z12, z13, z14, z15, z16, z17, z18, z19, z20, z21, z22, z23, z24, z25, z26, z27, z28, z29, z30, z31, z32, z33, z34, z35, z36, z37, z38, z39, z40, z41, z42, z43, z44, z45 \\right) \\right) - p_{bar1} \\gamma, p_{bar1} \\right) - \\mathrm{p1}\\left( z1, z2, z3, z4, z5, z6, z7, z8, z9, z10, z11, z12, z13, z14, z15, z16, z17, z18, z19, z20, z21, z22, z23, z24, z25, z26, z27, z28, z29, z30, z31, z32, z33, z34, z35, z36, z37, z38, z39, z40, z41, z42, z43, z44, z45 \\right) \\\\\n",
       "\\mathrm{min}\\left( \\left( 1 + \\gamma \\right) \\left( z10 \\mathrm{p5}\\left( z1, z2, z3, z4, z5, z6, z7, z8, z9, z10, z11, z12, z13, z14, z15, z16, z17, z18, z19, z20, z21, z22, z23, z24, z25, z26, z27, z28, z29, z30, z31, z32, z33, z34, z35, z36, z37, z38, z39, z40, z41, z42, z43, z44, z45 \\right) + z32 \\left( 1 - x2 \\right) + z6 \\mathrm{p1}\\left( z1, z2, z3, z4, z5, z6, z7, z8, z9, z10, z11, z12, z13, z14, z15, z16, z17, z18, z19, z20, z21, z22, z23, z24, z25, z26, z27, z28, z29, z30, z31, z32, z33, z34, z35, z36, z37, z38, z39, z40, z41, z42, z43, z44, z45 \\right) + z7 \\mathrm{p2}\\left( z1, z2, z3, z4, z5, z6, z7, z8, z9, z10, z11, z12, z13, z14, z15, z16, z17, z18, z19, z20, z21, z22, z23, z24, z25, z26, z27, z28, z29, z30, z31, z32, z33, z34, z35, z36, z37, z38, z39, z40, z41, z42, z43, z44, z45 \\right) + z8 \\mathrm{p3}\\left( z1, z2, z3, z4, z5, z6, z7, z8, z9, z10, z11, z12, z13, z14, z15, z16, z17, z18, z19, z20, z21, z22, z23, z24, z25, z26, z27, z28, z29, z30, z31, z32, z33, z34, z35, z36, z37, z38, z39, z40, z41, z42, z43, z44, z45 \\right) + z9 \\mathrm{p4}\\left( z1, z2, z3, z4, z5, z6, z7, z8, z9, z10, z11, z12, z13, z14, z15, z16, z17, z18, z19, z20, z21, z22, z23, z24, z25, z26, z27, z28, z29, z30, z31, z32, z33, z34, z35, z36, z37, z38, z39, z40, z41, z42, z43, z44, z45 \\right) \\right) - p_{bar2} \\gamma, p_{bar2} \\right) - \\mathrm{p2}\\left( z1, z2, z3, z4, z5, z6, z7, z8, z9, z10, z11, z12, z13, z14, z15, z16, z17, z18, z19, z20, z21, z22, z23, z24, z25, z26, z27, z28, z29, z30, z31, z32, z33, z34, z35, z36, z37, z38, z39, z40, z41, z42, z43, z44, z45 \\right) \\\\\n",
       "\\mathrm{min}\\left( \\left( 1 + \\gamma \\right) \\left( z11 \\mathrm{p1}\\left( z1, z2, z3, z4, z5, z6, z7, z8, z9, z10, z11, z12, z13, z14, z15, z16, z17, z18, z19, z20, z21, z22, z23, z24, z25, z26, z27, z28, z29, z30, z31, z32, z33, z34, z35, z36, z37, z38, z39, z40, z41, z42, z43, z44, z45 \\right) + z12 \\mathrm{p2}\\left( z1, z2, z3, z4, z5, z6, z7, z8, z9, z10, z11, z12, z13, z14, z15, z16, z17, z18, z19, z20, z21, z22, z23, z24, z25, z26, z27, z28, z29, z30, z31, z32, z33, z34, z35, z36, z37, z38, z39, z40, z41, z42, z43, z44, z45 \\right) + z13 \\mathrm{p3}\\left( z1, z2, z3, z4, z5, z6, z7, z8, z9, z10, z11, z12, z13, z14, z15, z16, z17, z18, z19, z20, z21, z22, z23, z24, z25, z26, z27, z28, z29, z30, z31, z32, z33, z34, z35, z36, z37, z38, z39, z40, z41, z42, z43, z44, z45 \\right) + z14 \\mathrm{p4}\\left( z1, z2, z3, z4, z5, z6, z7, z8, z9, z10, z11, z12, z13, z14, z15, z16, z17, z18, z19, z20, z21, z22, z23, z24, z25, z26, z27, z28, z29, z30, z31, z32, z33, z34, z35, z36, z37, z38, z39, z40, z41, z42, z43, z44, z45 \\right) + z15 \\mathrm{p5}\\left( z1, z2, z3, z4, z5, z6, z7, z8, z9, z10, z11, z12, z13, z14, z15, z16, z17, z18, z19, z20, z21, z22, z23, z24, z25, z26, z27, z28, z29, z30, z31, z32, z33, z34, z35, z36, z37, z38, z39, z40, z41, z42, z43, z44, z45 \\right) + z33 \\left( 1 - x3 \\right) \\right) - p_{bar3} \\gamma, p_{bar3} \\right) - \\mathrm{p3}\\left( z1, z2, z3, z4, z5, z6, z7, z8, z9, z10, z11, z12, z13, z14, z15, z16, z17, z18, z19, z20, z21, z22, z23, z24, z25, z26, z27, z28, z29, z30, z31, z32, z33, z34, z35, z36, z37, z38, z39, z40, z41, z42, z43, z44, z45 \\right) \\\\\n",
       "\\mathrm{min}\\left( \\left( 1 + \\gamma \\right) \\left( z16 \\mathrm{p1}\\left( z1, z2, z3, z4, z5, z6, z7, z8, z9, z10, z11, z12, z13, z14, z15, z16, z17, z18, z19, z20, z21, z22, z23, z24, z25, z26, z27, z28, z29, z30, z31, z32, z33, z34, z35, z36, z37, z38, z39, z40, z41, z42, z43, z44, z45 \\right) + z17 \\mathrm{p2}\\left( z1, z2, z3, z4, z5, z6, z7, z8, z9, z10, z11, z12, z13, z14, z15, z16, z17, z18, z19, z20, z21, z22, z23, z24, z25, z26, z27, z28, z29, z30, z31, z32, z33, z34, z35, z36, z37, z38, z39, z40, z41, z42, z43, z44, z45 \\right) + z18 \\mathrm{p3}\\left( z1, z2, z3, z4, z5, z6, z7, z8, z9, z10, z11, z12, z13, z14, z15, z16, z17, z18, z19, z20, z21, z22, z23, z24, z25, z26, z27, z28, z29, z30, z31, z32, z33, z34, z35, z36, z37, z38, z39, z40, z41, z42, z43, z44, z45 \\right) + z19 \\mathrm{p4}\\left( z1, z2, z3, z4, z5, z6, z7, z8, z9, z10, z11, z12, z13, z14, z15, z16, z17, z18, z19, z20, z21, z22, z23, z24, z25, z26, z27, z28, z29, z30, z31, z32, z33, z34, z35, z36, z37, z38, z39, z40, z41, z42, z43, z44, z45 \\right) + z20 \\mathrm{p5}\\left( z1, z2, z3, z4, z5, z6, z7, z8, z9, z10, z11, z12, z13, z14, z15, z16, z17, z18, z19, z20, z21, z22, z23, z24, z25, z26, z27, z28, z29, z30, z31, z32, z33, z34, z35, z36, z37, z38, z39, z40, z41, z42, z43, z44, z45 \\right) + z34 \\left( 1 - x4 \\right) \\right) - p_{bar4} \\gamma, p_{bar4} \\right) - \\mathrm{p4}\\left( z1, z2, z3, z4, z5, z6, z7, z8, z9, z10, z11, z12, z13, z14, z15, z16, z17, z18, z19, z20, z21, z22, z23, z24, z25, z26, z27, z28, z29, z30, z31, z32, z33, z34, z35, z36, z37, z38, z39, z40, z41, z42, z43, z44, z45 \\right) \\\\\n",
       "\\mathrm{min}\\left( \\left( 1 + \\gamma \\right) \\left( z21 \\mathrm{p1}\\left( z1, z2, z3, z4, z5, z6, z7, z8, z9, z10, z11, z12, z13, z14, z15, z16, z17, z18, z19, z20, z21, z22, z23, z24, z25, z26, z27, z28, z29, z30, z31, z32, z33, z34, z35, z36, z37, z38, z39, z40, z41, z42, z43, z44, z45 \\right) + z22 \\mathrm{p2}\\left( z1, z2, z3, z4, z5, z6, z7, z8, z9, z10, z11, z12, z13, z14, z15, z16, z17, z18, z19, z20, z21, z22, z23, z24, z25, z26, z27, z28, z29, z30, z31, z32, z33, z34, z35, z36, z37, z38, z39, z40, z41, z42, z43, z44, z45 \\right) + z23 \\mathrm{p3}\\left( z1, z2, z3, z4, z5, z6, z7, z8, z9, z10, z11, z12, z13, z14, z15, z16, z17, z18, z19, z20, z21, z22, z23, z24, z25, z26, z27, z28, z29, z30, z31, z32, z33, z34, z35, z36, z37, z38, z39, z40, z41, z42, z43, z44, z45 \\right) + z24 \\mathrm{p4}\\left( z1, z2, z3, z4, z5, z6, z7, z8, z9, z10, z11, z12, z13, z14, z15, z16, z17, z18, z19, z20, z21, z22, z23, z24, z25, z26, z27, z28, z29, z30, z31, z32, z33, z34, z35, z36, z37, z38, z39, z40, z41, z42, z43, z44, z45 \\right) + z25 \\mathrm{p5}\\left( z1, z2, z3, z4, z5, z6, z7, z8, z9, z10, z11, z12, z13, z14, z15, z16, z17, z18, z19, z20, z21, z22, z23, z24, z25, z26, z27, z28, z29, z30, z31, z32, z33, z34, z35, z36, z37, z38, z39, z40, z41, z42, z43, z44, z45 \\right) + z35 \\left( 1 - x5 \\right) \\right) - p_{bar5} \\gamma, p_{bar5} \\right) - \\mathrm{p5}\\left( z1, z2, z3, z4, z5, z6, z7, z8, z9, z10, z11, z12, z13, z14, z15, z16, z17, z18, z19, z20, z21, z22, z23, z24, z25, z26, z27, z28, z29, z30, z31, z32, z33, z34, z35, z36, z37, z38, z39, z40, z41, z42, z43, z44, z45 \\right) \\\\\n",
       "\\end{array}\n",
       "\\right]\n",
       "\\end{equation}\n"
      ],
      "text/plain": [
       "5-element Vector{Num}:\n",
       "      min((1 + γ)*(z1*p1(z1, z2, z3, z4, z5, z6, z7, z8, z9, z10, z11, z12, z13, z14, z15, z16, z17, z18, z19, z20, z21, z22, z23, z24, z25, z26, z27, z28, z29, z30, z31, z32, z33, z34, z35, z36, z37, z38, z39, z40, z41, z42, z43, z44, z45) + z2*p2(z1, z2, z3, z4, z5, z6, z7, z8, z9, z10, z11, z12, z13, z14, z15, z16, z17, z18, z19, z20, z21, z22, z23, z24, z25, z26, z27, z28, z29, z30, z31, z32, z33, z34, z35, z36, z37, z38, z39, z40, z41, z42, z43, z44, z45) + z3*p3(z1, z2, z3, z4, z5, z6, z7, z8, z9, z10, z11, z12, z13, z14, z15, z16, z17, z18, z19, z20, z21, z22, z23, z24, z25, z26, z27, z28, z29, z30, z31, z32, z33, z34, z35, z36, z37, z38, z39, z40, z41, z42, z43, z44, z45) + z31*(1 - x1) + z4*p4(z1, z2, z3, z4, z5, z6, z7, z8, z9, z10, z11, z12, z13, z14, z15, z16, z17, z18, z19, z20, z21, z22, z23, z24, z25, z26, z27, z28, z29, z30, z31, z32, z33, z34, z35, z36, z37, z38, z39, z40, z41, z42, z43, z44, z45) + z5*p5(z1, z2, z3, z4, z5, z6, z7, z8, z9, z10, z11, z12, z13, z14, z15, z16, z17, z18, z19, z20, z21, z22, z23, z24, z25, z26, z27, z28, z29, z30, z31, z32, z33, z34, z35, z36, z37, z38, z39, z40, z41, z42, z43, z44, z45)) - (p_bar1*γ), p_bar1) - p1(z1, z2, z3, z4, z5, z6, z7, z8, z9, z10, z11, z12, z13, z14, z15, z16, z17, z18, z19, z20, z21, z22, z23, z24, z25, z26, z27, z28, z29, z30, z31, z32, z33, z34, z35, z36, z37, z38, z39, z40, z41, z42, z43, z44, z45)\n",
       "     min((1 + γ)*(z10*p5(z1, z2, z3, z4, z5, z6, z7, z8, z9, z10, z11, z12, z13, z14, z15, z16, z17, z18, z19, z20, z21, z22, z23, z24, z25, z26, z27, z28, z29, z30, z31, z32, z33, z34, z35, z36, z37, z38, z39, z40, z41, z42, z43, z44, z45) + z32*(1 - x2) + z6*p1(z1, z2, z3, z4, z5, z6, z7, z8, z9, z10, z11, z12, z13, z14, z15, z16, z17, z18, z19, z20, z21, z22, z23, z24, z25, z26, z27, z28, z29, z30, z31, z32, z33, z34, z35, z36, z37, z38, z39, z40, z41, z42, z43, z44, z45) + z7*p2(z1, z2, z3, z4, z5, z6, z7, z8, z9, z10, z11, z12, z13, z14, z15, z16, z17, z18, z19, z20, z21, z22, z23, z24, z25, z26, z27, z28, z29, z30, z31, z32, z33, z34, z35, z36, z37, z38, z39, z40, z41, z42, z43, z44, z45) + z8*p3(z1, z2, z3, z4, z5, z6, z7, z8, z9, z10, z11, z12, z13, z14, z15, z16, z17, z18, z19, z20, z21, z22, z23, z24, z25, z26, z27, z28, z29, z30, z31, z32, z33, z34, z35, z36, z37, z38, z39, z40, z41, z42, z43, z44, z45) + z9*p4(z1, z2, z3, z4, z5, z6, z7, z8, z9, z10, z11, z12, z13, z14, z15, z16, z17, z18, z19, z20, z21, z22, z23, z24, z25, z26, z27, z28, z29, z30, z31, z32, z33, z34, z35, z36, z37, z38, z39, z40, z41, z42, z43, z44, z45)) - (p_bar2*γ), p_bar2) - p2(z1, z2, z3, z4, z5, z6, z7, z8, z9, z10, z11, z12, z13, z14, z15, z16, z17, z18, z19, z20, z21, z22, z23, z24, z25, z26, z27, z28, z29, z30, z31, z32, z33, z34, z35, z36, z37, z38, z39, z40, z41, z42, z43, z44, z45)\n",
       " min((1 + γ)*(z11*p1(z1, z2, z3, z4, z5, z6, z7, z8, z9, z10, z11, z12, z13, z14, z15, z16, z17, z18, z19, z20, z21, z22, z23, z24, z25, z26, z27, z28, z29, z30, z31, z32, z33, z34, z35, z36, z37, z38, z39, z40, z41, z42, z43, z44, z45) + z12*p2(z1, z2, z3, z4, z5, z6, z7, z8, z9, z10, z11, z12, z13, z14, z15, z16, z17, z18, z19, z20, z21, z22, z23, z24, z25, z26, z27, z28, z29, z30, z31, z32, z33, z34, z35, z36, z37, z38, z39, z40, z41, z42, z43, z44, z45) + z13*p3(z1, z2, z3, z4, z5, z6, z7, z8, z9, z10, z11, z12, z13, z14, z15, z16, z17, z18, z19, z20, z21, z22, z23, z24, z25, z26, z27, z28, z29, z30, z31, z32, z33, z34, z35, z36, z37, z38, z39, z40, z41, z42, z43, z44, z45) + z14*p4(z1, z2, z3, z4, z5, z6, z7, z8, z9, z10, z11, z12, z13, z14, z15, z16, z17, z18, z19, z20, z21, z22, z23, z24, z25, z26, z27, z28, z29, z30, z31, z32, z33, z34, z35, z36, z37, z38, z39, z40, z41, z42, z43, z44, z45) + z15*p5(z1, z2, z3, z4, z5, z6, z7, z8, z9, z10, z11, z12, z13, z14, z15, z16, z17, z18, z19, z20, z21, z22, z23, z24, z25, z26, z27, z28, z29, z30, z31, z32, z33, z34, z35, z36, z37, z38, z39, z40, z41, z42, z43, z44, z45) + z33*(1 - x3)) - (p_bar3*γ), p_bar3) - p3(z1, z2, z3, z4, z5, z6, z7, z8, z9, z10, z11, z12, z13, z14, z15, z16, z17, z18, z19, z20, z21, z22, z23, z24, z25, z26, z27, z28, z29, z30, z31, z32, z33, z34, z35, z36, z37, z38, z39, z40, z41, z42, z43, z44, z45)\n",
       " min((1 + γ)*(z16*p1(z1, z2, z3, z4, z5, z6, z7, z8, z9, z10, z11, z12, z13, z14, z15, z16, z17, z18, z19, z20, z21, z22, z23, z24, z25, z26, z27, z28, z29, z30, z31, z32, z33, z34, z35, z36, z37, z38, z39, z40, z41, z42, z43, z44, z45) + z17*p2(z1, z2, z3, z4, z5, z6, z7, z8, z9, z10, z11, z12, z13, z14, z15, z16, z17, z18, z19, z20, z21, z22, z23, z24, z25, z26, z27, z28, z29, z30, z31, z32, z33, z34, z35, z36, z37, z38, z39, z40, z41, z42, z43, z44, z45) + z18*p3(z1, z2, z3, z4, z5, z6, z7, z8, z9, z10, z11, z12, z13, z14, z15, z16, z17, z18, z19, z20, z21, z22, z23, z24, z25, z26, z27, z28, z29, z30, z31, z32, z33, z34, z35, z36, z37, z38, z39, z40, z41, z42, z43, z44, z45) + z19*p4(z1, z2, z3, z4, z5, z6, z7, z8, z9, z10, z11, z12, z13, z14, z15, z16, z17, z18, z19, z20, z21, z22, z23, z24, z25, z26, z27, z28, z29, z30, z31, z32, z33, z34, z35, z36, z37, z38, z39, z40, z41, z42, z43, z44, z45) + z20*p5(z1, z2, z3, z4, z5, z6, z7, z8, z9, z10, z11, z12, z13, z14, z15, z16, z17, z18, z19, z20, z21, z22, z23, z24, z25, z26, z27, z28, z29, z30, z31, z32, z33, z34, z35, z36, z37, z38, z39, z40, z41, z42, z43, z44, z45) + z34*(1 - x4)) - (p_bar4*γ), p_bar4) - p4(z1, z2, z3, z4, z5, z6, z7, z8, z9, z10, z11, z12, z13, z14, z15, z16, z17, z18, z19, z20, z21, z22, z23, z24, z25, z26, z27, z28, z29, z30, z31, z32, z33, z34, z35, z36, z37, z38, z39, z40, z41, z42, z43, z44, z45)\n",
       " min((1 + γ)*(z21*p1(z1, z2, z3, z4, z5, z6, z7, z8, z9, z10, z11, z12, z13, z14, z15, z16, z17, z18, z19, z20, z21, z22, z23, z24, z25, z26, z27, z28, z29, z30, z31, z32, z33, z34, z35, z36, z37, z38, z39, z40, z41, z42, z43, z44, z45) + z22*p2(z1, z2, z3, z4, z5, z6, z7, z8, z9, z10, z11, z12, z13, z14, z15, z16, z17, z18, z19, z20, z21, z22, z23, z24, z25, z26, z27, z28, z29, z30, z31, z32, z33, z34, z35, z36, z37, z38, z39, z40, z41, z42, z43, z44, z45) + z23*p3(z1, z2, z3, z4, z5, z6, z7, z8, z9, z10, z11, z12, z13, z14, z15, z16, z17, z18, z19, z20, z21, z22, z23, z24, z25, z26, z27, z28, z29, z30, z31, z32, z33, z34, z35, z36, z37, z38, z39, z40, z41, z42, z43, z44, z45) + z24*p4(z1, z2, z3, z4, z5, z6, z7, z8, z9, z10, z11, z12, z13, z14, z15, z16, z17, z18, z19, z20, z21, z22, z23, z24, z25, z26, z27, z28, z29, z30, z31, z32, z33, z34, z35, z36, z37, z38, z39, z40, z41, z42, z43, z44, z45) + z25*p5(z1, z2, z3, z4, z5, z6, z7, z8, z9, z10, z11, z12, z13, z14, z15, z16, z17, z18, z19, z20, z21, z22, z23, z24, z25, z26, z27, z28, z29, z30, z31, z32, z33, z34, z35, z36, z37, z38, z39, z40, z41, z42, z43, z44, z45) + z35*(1 - x5)) - (p_bar5*γ), p_bar5) - p5(z1, z2, z3, z4, z5, z6, z7, z8, z9, z10, z11, z12, z13, z14, z15, z16, z17, z18, z19, z20, z21, z22, z23, z24, z25, z26, z27, z28, z29, z30, z31, z32, z33, z34, z35, z36, z37, z38, z39, z40, z41, z42, z43, z44, z45)"
      ]
     },
     "execution_count": 505,
     "metadata": {},
     "output_type": "execute_result"
    }
   ],
   "source": [
    "#eq = Aᵀ*pvec - pvec\n",
    "#min.( (1+γ)*(Aᵀ*pvec + (1 .- x).*c) - γ*p_bar, p_bar)\n",
    "\n",
    "eq = min.(((1+γ)*(Aᵀ*pvec + (1 .- xvec).*c) - γ*p_barvec),p_barvec) - pvec\n"
   ]
  },
  {
   "cell_type": "code",
   "execution_count": 288,
   "id": "6f4fe942",
   "metadata": {},
   "outputs": [],
   "source": [
    "deq = Symbolics.jacobian(eq,zvec);"
   ]
  },
  {
   "cell_type": "code",
   "execution_count": 289,
   "id": "8917947e",
   "metadata": {},
   "outputs": [
    {
     "data": {
      "text/latex": [
       "\\begin{equation}\n",
       " - \\mathrm{\\frac{d}{d z1}}\\left( \\mathrm{p1}\\left( z1, z2, z3, z4, z5, z6, z7, z8, z9, z10, z11, z12, z13, z14, z15, z16, z17, z18, z19, z20, z21 \\right) \\right) + \\mathrm{ifelse}\\left( \\left( \\left( 1 + \\gamma \\right) \\left( z1 \\mathrm{p1}\\left( z1, z2, z3, z4, z5, z6, z7, z8, z9, z10, z11, z12, z13, z14, z15, z16, z17, z18, z19, z20, z21 \\right) + z13 \\left( 1 - x1 \\right) + z2 \\mathrm{p2}\\left( z1, z2, z3, z4, z5, z6, z7, z8, z9, z10, z11, z12, z13, z14, z15, z16, z17, z18, z19, z20, z21 \\right) + z3 \\mathrm{p3}\\left( z1, z2, z3, z4, z5, z6, z7, z8, z9, z10, z11, z12, z13, z14, z15, z16, z17, z18, z19, z20, z21 \\right) \\right) - p_{bar1} \\gamma < p_{bar1} \\right), 1, 0 \\right) \\left( 1 + \\gamma \\right) \\left( z1 \\mathrm{\\frac{d}{d z1}}\\left( \\mathrm{p1}\\left( z1, z2, z3, z4, z5, z6, z7, z8, z9, z10, z11, z12, z13, z14, z15, z16, z17, z18, z19, z20, z21 \\right) \\right) + z2 \\mathrm{\\frac{d}{d z1}}\\left( \\mathrm{p2}\\left( z1, z2, z3, z4, z5, z6, z7, z8, z9, z10, z11, z12, z13, z14, z15, z16, z17, z18, z19, z20, z21 \\right) \\right) + z3 \\mathrm{\\frac{d}{d z1}}\\left( \\mathrm{p3}\\left( z1, z2, z3, z4, z5, z6, z7, z8, z9, z10, z11, z12, z13, z14, z15, z16, z17, z18, z19, z20, z21 \\right) \\right) + \\mathrm{p1}\\left( z1, z2, z3, z4, z5, z6, z7, z8, z9, z10, z11, z12, z13, z14, z15, z16, z17, z18, z19, z20, z21 \\right) \\right)\n",
       "\\end{equation}\n"
      ],
      "text/plain": [
       "IfElse.ifelse(((1 + γ)*(z1*p1(z1, z2, z3, z4, z5, z6, z7, z8, z9, z10, z11, z12, z13, z14, z15, z16, z17, z18, z19, z20, z21) + z13*(1 - x1) + z2*p2(z1, z2, z3, z4, z5, z6, z7, z8, z9, z10, z11, z12, z13, z14, z15, z16, z17, z18, z19, z20, z21) + z3*p3(z1, z2, z3, z4, z5, z6, z7, z8, z9, z10, z11, z12, z13, z14, z15, z16, z17, z18, z19, z20, z21)) - (p_bar1*γ)) < p_bar1, 1, 0)*(1 + γ)*(z1*Differential(z1)(p1(z1, z2, z3, z4, z5, z6, z7, z8, z9, z10, z11, z12, z13, z14, z15, z16, z17, z18, z19, z20, z21)) + z2*Differential(z1)(p2(z1, z2, z3, z4, z5, z6, z7, z8, z9, z10, z11, z12, z13, z14, z15, z16, z17, z18, z19, z20, z21)) + z3*Differential(z1)(p3(z1, z2, z3, z4, z5, z6, z7, z8, z9, z10, z11, z12, z13, z14, z15, z16, z17, z18, z19, z20, z21)) + p1(z1, z2, z3, z4, z5, z6, z7, z8, z9, z10, z11, z12, z13, z14, z15, z16, z17, z18, z19, z20, z21)) - Differential(z1)(p1(z1, z2, z3, z4, z5, z6, z7, z8, z9, z10, z11, z12, z13, z14, z15, z16, z17, z18, z19, z20, z21))"
      ]
     },
     "execution_count": 289,
     "metadata": {},
     "output_type": "execute_result"
    }
   ],
   "source": [
    "deq[1]"
   ]
  },
  {
   "cell_type": "code",
   "execution_count": 290,
   "id": "6a56dee5",
   "metadata": {},
   "outputs": [],
   "source": [
    "#_deq = expand_derivatives.(deq);"
   ]
  },
  {
   "cell_type": "code",
   "execution_count": 291,
   "id": "2d906411",
   "metadata": {},
   "outputs": [],
   "source": [
    "g_eq=Symbolics.jacobian(eq,zvec);"
   ]
  },
  {
   "cell_type": "code",
   "execution_count": 292,
   "id": "8b0bc6e6",
   "metadata": {},
   "outputs": [
    {
     "name": "stdout",
     "output_type": "stream",
     "text": [
      "size(g_eq) = (3, 21)\n"
     ]
    }
   ],
   "source": [
    "@show size(g_eq)\n",
    "g_eq = reshape(g_eq,N*M);"
   ]
  },
  {
   "cell_type": "code",
   "execution_count": 293,
   "id": "0120b6b2",
   "metadata": {},
   "outputs": [
    {
     "name": "stdout",
     "output_type": "stream",
     "text": [
      "D(pvec[1]) = Differential(z1)(p1(z1, z2, z3, z4, z5, z6, z7, z8, z9, z10, z11, z12, z13, z14, z15, z16, z17, z18, z19, z20, z21))\n",
      "g_eq[1] = IfElse.ifelse(((1 + γ)*(z1*p1(z1, z2, z3, z4, z5, z6, z7, z8, z9, z10, z11, z12, z13, z14, z15, z16, z17, z18, z19, z20, z21) + z13*(1 - x1) + z2*p2(z1, z2, z3, z4, z5, z6, z7, z8, z9, z10, z11, z12, z13, z14, z15, z16, z17, z18, z19, z20, z21) + z3*p3(z1, z2, z3, z4, z5, z6, z7, z8, z9, z10, z11, z12, z13, z14, z15, z16, z17, z18, z19, z20, z21)) - (p_bar1*γ)) < p_bar1, 1, 0)*(1 + γ)*(z1*Differential(z1)(p1(z1, z2, z3, z4, z5, z6, z7, z8, z9, z10, z11, z12, z13, z14, z15, z16, z17, z18, z19, z20, z21)) + z2*Differential(z1)(p2(z1, z2, z3, z4, z5, z6, z7, z8, z9, z10, z11, z12, z13, z14, z15, z16, z17, z18, z19, z20, z21)) + z3*Differential(z1)(p3(z1, z2, z3, z4, z5, z6, z7, z8, z9, z10, z11, z12, z13, z14, z15, z16, z17, z18, z19, z20, z21)) + p1(z1, z2, z3, z4, z5, z6, z7, z8, z9, z10, z11, z12, z13, z14, z15, z16, z17, z18, z19, z20, z21)) - Differential(z1)(p1(z1, z2, z3, z4, z5, z6, z7, z8, z9, z10, z11, z12, z13, z14, z15, z16, z17, z18, z19, z20, z21))\n"
     ]
    }
   ],
   "source": [
    "D = Differential(z1)\n",
    "@show D(pvec[1])\n",
    "@show g_eq[1];"
   ]
  },
  {
   "cell_type": "code",
   "execution_count": 506,
   "id": "340a34ed",
   "metadata": {},
   "outputs": [],
   "source": [
    "for i=1:M\n",
    "    @eval $(Symbol(\"D$i\")) = Differential($(Symbol(\"z$i\")))\n",
    "    for j=1:N\n",
    "        @eval @parameters $(Symbol(\"d$i$j\"))\n",
    "    end\n",
    "end\n",
    "dvec = [ @eval ($(Symbol(\"d$i$j\"))) for i=1:M, j=1:N];"
   ]
  },
  {
   "cell_type": "code",
   "execution_count": 507,
   "id": "f6a5428b",
   "metadata": {},
   "outputs": [],
   "source": [
    "subs = Dict{Num,Num}()\n",
    "for i=1:M\n",
    "    for j=1:N\n",
    "        temp = @eval Dict([Differential(\"z$i\")(pvec[$j])=> eval(Symbol(\"d$i$j\"))])\n",
    "        merge!(subs,temp)\n",
    "    end\n",
    "end\n",
    "\n"
   ]
  },
  {
   "cell_type": "code",
   "execution_count": 508,
   "id": "fe7bac00",
   "metadata": {},
   "outputs": [],
   "source": [
    "dict_Dz = Dict{Num,Num}()\n",
    "for i=1:M\n",
    "    for j=1:N\n",
    "        temp = @eval Dict([Differential($(Symbol(\"z$i\")))(pvec[$j]) => $(Symbol(\"d$i$j\"))])\n",
    "        merge!(dict_Dz,temp)\n",
    "    end\n",
    "end\n",
    "\n",
    "for j=1:N\n",
    "    @eval @variables $(Symbol(\"pclear$j\"))\n",
    "end\n",
    "pclearvec = [ @eval ($(Symbol(\"pclear$i\"))) for i=1:N]\n",
    "\n",
    "dict_p = Dict{Num,Num}()\n",
    "for j=1:N\n",
    "    temp = @eval Dict([pvec[$j] => $(Symbol(\"pclear$j\")) ])\n",
    "    merge!(dict_p,temp)\n",
    "end\n"
   ]
  },
  {
   "cell_type": "code",
   "execution_count": null,
   "id": "7ff58e5d",
   "metadata": {},
   "outputs": [],
   "source": []
  },
  {
   "cell_type": "code",
   "execution_count": 297,
   "id": "86e4376f",
   "metadata": {},
   "outputs": [],
   "source": [
    "lin_sys = [0 ~ Symbolics.substitute(g_eq[i],merge(dict_Dz,dict_p)) for i=1:M*N]\n",
    "dvec = [@eval $(Symbol(\"d$i$j\")) for i=1:M for j=1:N];"
   ]
  },
  {
   "cell_type": "code",
   "execution_count": 300,
   "id": "e585e797",
   "metadata": {},
   "outputs": [
    {
     "name": "stdout",
     "output_type": "stream",
     "text": [
      "size(lin_sys) = (63,)\n"
     ]
    },
    {
     "data": {
      "text/latex": [
       "\\begin{equation}\n",
       " - \\frac{\\mathrm{ifelse}\\left( \\left( \\left( 1 + \\gamma \\right) \\left( pclear1 z1 + pclear2 z2 + pclear3 z3 + z13 \\left( 1 - x1 \\right) \\right) - p_{bar1} \\gamma < p_{bar1} \\right), 1, 0 \\right) \\left( 1 + \\gamma \\right) \\left( pclear1 + d12 z2 + d13 z3 \\right)}{-1 + z1 \\mathrm{ifelse}\\left( \\left( \\left( 1 + \\gamma \\right) \\left( pclear1 z1 + pclear2 z2 + pclear3 z3 + z13 \\left( 1 - x1 \\right) \\right) - p_{bar1} \\gamma < p_{bar1} \\right), 1, 0 \\right) \\left( 1 + \\gamma \\right)}\n",
       "\\end{equation}\n"
      ],
      "text/plain": [
       "-((z1*IfElse.ifelse(((1 + γ)*(pclear1*z1 + pclear2*z2 + pclear3*z3 + z13*(1 - x1)) - (p_bar1*γ)) < p_bar1, 1, 0)*(1 + γ) - 1)^-1)*IfElse.ifelse(((1 + γ)*(pclear1*z1 + pclear2*z2 + pclear3*z3 + z13*(1 - x1)) - (p_bar1*γ)) < p_bar1, 1, 0)*(1 + γ)*(pclear1 + d12*z2 + d13*z3)"
      ]
     },
     "execution_count": 300,
     "metadata": {},
     "output_type": "execute_result"
    }
   ],
   "source": [
    "@show size(lin_sys)\n",
    "lin_sys[1]\n",
    "Symbolics.solve_for(lin_sys[1],d11)"
   ]
  },
  {
   "cell_type": "code",
   "execution_count": null,
   "id": "7f11761a",
   "metadata": {},
   "outputs": [],
   "source": [
    "sol = Symbolics.solve_for(lin_sys,dvec;simplify=true);"
   ]
  },
  {
   "cell_type": "code",
   "execution_count": 274,
   "id": "f37b04f9",
   "metadata": {},
   "outputs": [],
   "source": [
    "sol[1];"
   ]
  },
  {
   "cell_type": "code",
   "execution_count": 302,
   "id": "d1882874",
   "metadata": {},
   "outputs": [
    {
     "data": {
      "text/plain": [
       "0 ~ IfElse.ifelse(((1 + γ)*(pclear1*z1 + pclear2*z2 + pclear3*z3 + z13*(1 - x1)) - (p_bar1*γ)) < p_bar1, 1, 0)*(1 + γ)*(pclear1 + d11*z1 + d12*z2 + d13*z3) - d11"
      ]
     },
     "execution_count": 302,
     "metadata": {},
     "output_type": "execute_result"
    }
   ],
   "source": [
    "lin_sys[1]"
   ]
  },
  {
   "cell_type": "code",
   "execution_count": 543,
   "id": "d90e9348",
   "metadata": {},
   "outputs": [
    {
     "data": {
      "text/plain": [
       "5×5 BitMatrix:\n",
       " 0  0  0  0  0\n",
       " 1  0  0  0  0\n",
       " 1  1  0  0  0\n",
       " 1  1  1  0  0\n",
       " 1  1  1  1  0"
      ]
     },
     "execution_count": 543,
     "metadata": {},
     "output_type": "execute_result"
    }
   ],
   "source": [
    "tril!(trues(N,N), -1)"
   ]
  },
  {
   "cell_type": "code",
   "execution_count": 627,
   "id": "da4563e7",
   "metadata": {},
   "outputs": [
    {
     "data": {
      "text/plain": [
       "10-element Vector{Pair{Num, Int64}}:\n",
       "  z6 => 0\n",
       " z16 => 0\n",
       " z22 => 0\n",
       " z18 => 0\n",
       " z23 => 0\n",
       " z24 => 0\n",
       "  z3 => 0\n",
       "  z5 => 0\n",
       "  z8 => 0\n",
       "  z9 => 0"
      ]
     },
     "execution_count": 627,
     "metadata": {},
     "output_type": "execute_result"
    }
   ],
   "source": [
    "li = LinearIndices((N,N))\n",
    "liᵀ= transpose(li)\n",
    "id = li[tril!(trues(N,N), -1)]\n",
    "idᵀ = liᵀ[tril!(trues(N,N), -1)]\n",
    "\n",
    "lt = (LowerTriangular(Aᵀ)-Diagonal(Aᵀ))[id] .=> 0\n",
    "ut = (UpperTriangular(Aᵀ)-Diagonal(Aᵀ))[idᵀ] .=> 0\n",
    "\n",
    "nz = N*(N-1)÷2\n",
    "pick = rand(Bool,nz)\n",
    "lut = vcat(lt[pick],ut[.!(pick)])"
   ]
  },
  {
   "cell_type": "code",
   "execution_count": 628,
   "id": "92c3a489",
   "metadata": {},
   "outputs": [
    {
     "data": {
      "text/latex": [
       "\\begin{equation}\n",
       "\\left[\n",
       "\\begin{array}{ccccc}\n",
       "0 & z2 & 0 & z4 & 0 \\\\\n",
       "0 & 0 & 0 & 0 & z10 \\\\\n",
       "z11 & z12 & 0 & z14 & z15 \\\\\n",
       "0 & z17 & 0 & 0 & z20 \\\\\n",
       "z21 & 0 & 0 & 0 & 0 \\\\\n",
       "\\end{array}\n",
       "\\right]\n",
       "\\end{equation}\n"
      ],
      "text/plain": [
       "5×5 Matrix{Num}:\n",
       "   0   z2  0   z4    0\n",
       "   0    0  0    0  z10\n",
       " z11  z12  0  z14  z15\n",
       "   0  z17  0    0  z20\n",
       " z21    0  0    0    0"
      ]
     },
     "execution_count": 628,
     "metadata": {},
     "output_type": "execute_result"
    }
   ],
   "source": [
    "dict_γ = Dict([γ=>0])\n",
    "dict_A = Dict(diag(Aᵀ).=> 0)\n",
    "dict_zero = Dict(lut)\n",
    "fp = [Symbolics.substitute(eq[i],merge(dict_Dz,dict_p,dict_γ,dict_A,dict_zero)) for i=1:N]\n",
    "[Symbolics.substitute(Aᵀ[i,j],merge(dict_A,dict_zero)) for i=1:N, j=1:N]"
   ]
  },
  {
   "cell_type": "code",
   "execution_count": 682,
   "id": "9ba2941b",
   "metadata": {},
   "outputs": [
    {
     "data": {
      "text/latex": [
       "\\begin{align}\n",
       "0 =&  - pclear1 + \\mathrm{min}\\left( pclear2 z2 + pclear4 z4 + z31 \\left( 1 - x1 \\right), p_{bar1} \\right) \\\\\n",
       "0 =&  - pclear2 + \\mathrm{min}\\left( pclear5 z10 + z32 \\left( 1 - x2 \\right), p_{bar2} \\right) \\\\\n",
       "0 =&  - pclear3 + \\mathrm{min}\\left( pclear1 z11 + pclear2 z12 + pclear4 z14 + pclear5 z15 + z33 \\left( 1 - x3 \\right), p_{bar3} \\right) \\\\\n",
       "0 =&  - pclear4 + \\mathrm{min}\\left( pclear2 z17 + pclear5 z20 + z34 \\left( 1 - x4 \\right), p_{bar4} \\right) \\\\\n",
       "0 =&  - pclear5 + \\mathrm{min}\\left( pclear1 z21 + z35 \\left( 1 - x5 \\right), p_{bar5} \\right)\n",
       "\\end{align}\n"
      ],
      "text/plain": [
       "\u001b[0m\u001b[1mModel ##NonlinearSystem#124275 with 5 equations\u001b[22m\n",
       "\u001b[0m\u001b[1mStates (5):\u001b[22m\n",
       "  pclear1\n",
       "  pclear2\n",
       "  pclear3\n",
       "  pclear4\n",
       "  pclear5\n",
       "\u001b[0m\u001b[1mParameters (55):\u001b[22m\n",
       "  z1\n",
       "  z2\n",
       "  z3\n",
       "  z4\n",
       "  z5\n",
       "  z6\n",
       "⋮"
      ]
     },
     "execution_count": 682,
     "metadata": {},
     "output_type": "execute_result"
    }
   ],
   "source": [
    "ns_eq = 0 .~ fp\n",
    "ns = NonlinearSystem(ns_eq, pclearvec,vcat(zvec...,xvec...,p_barvec...))"
   ]
  },
  {
   "cell_type": "code",
   "execution_count": 683,
   "id": "cac45e9a",
   "metadata": {},
   "outputs": [
    {
     "name": "stdout",
     "output_type": "stream",
     "text": [
      "count = 2\n",
      "count = 3\n"
     ]
    },
    {
     "data": {
      "text/latex": [
       "\\begin{align}\n",
       "0 =&  - pclear5 + \\mathrm{min}\\left( z21 \\mathrm{min}\\left( z2 \\mathrm{min}\\left( pclear5 z10 + z32 \\left( 1 - x2 \\right), p_{bar2} \\right) + z31 \\left( 1 - x1 \\right) + z4 \\mathrm{min}\\left( pclear5 z20 + z17 \\mathrm{min}\\left( pclear5 z10 + z32 \\left( 1 - x2 \\right), p_{bar2} \\right) + z34 \\left( 1 - x4 \\right), p_{bar4} \\right), p_{bar1} \\right) + z35 \\left( 1 - x5 \\right), p_{bar5} \\right)\n",
       "\\end{align}\n"
      ],
      "text/plain": [
       "\u001b[0m\u001b[1mModel ##NonlinearSystem#124275 with 1 equations\u001b[22m\n",
       "\u001b[0m\u001b[1mStates (1):\u001b[22m\n",
       "  pclear5\n",
       "\u001b[0m\u001b[1mParameters (55):\u001b[22m\n",
       "  z1\n",
       "  z2\n",
       "  z3\n",
       "  z4\n",
       "  z5\n",
       "  z6\n",
       "⋮\n",
       "\u001b[35mIncidence matrix:\u001b[39m\n",
       " ×"
      ]
     },
     "execution_count": 683,
     "metadata": {},
     "output_type": "execute_result"
    }
   ],
   "source": [
    "ns_old = ns\n",
    "ns_new = structural_simplify(ns)\n",
    "count=1\n",
    "while ns_old != ns_new\n",
    "    ns_old=ns_new\n",
    "    ns_new=structural_simplify(ns_new)\n",
    "    count += 1\n",
    "    @show count\n",
    "end   \n",
    "ns_new    "
   ]
  },
  {
   "cell_type": "code",
   "execution_count": 684,
   "id": "e6660615",
   "metadata": {},
   "outputs": [
    {
     "data": {
      "text/plain": [
       "1-element Vector{Any}:\n",
       " pclear5"
      ]
     },
     "execution_count": 684,
     "metadata": {},
     "output_type": "execute_result"
    }
   ],
   "source": [
    "states(ns_new)"
   ]
  },
  {
   "cell_type": "code",
   "execution_count": 685,
   "id": "d8a1f2bd",
   "metadata": {},
   "outputs": [
    {
     "data": {
      "text/plain": [
       "55-element Vector{Pair{Sym{Real, Base.ImmutableDict{DataType, Any}}, Float64}}:\n",
       "     z1 => 0.07479366447488212\n",
       "     z2 => 0.2607268729193257\n",
       "     z3 => 0.4927678084197209\n",
       "     z4 => 0.13883751223836427\n",
       "     z5 => 0.8076584483256972\n",
       "     z6 => 0.9680514399112186\n",
       "     z7 => 0.006172191841003594\n",
       "     z8 => 0.901647265277506\n",
       "     z9 => 0.08345093711943918\n",
       "    z10 => 0.08664643838336761\n",
       "    z11 => 0.15588875937739455\n",
       "    z12 => 0.9345000088580333\n",
       "    z13 => 0.6723650802127072\n",
       "        ⋮\n",
       "    z44 => 0.9014792285817244\n",
       "    z45 => 0.009239807298989211\n",
       "     x1 => 0.9432577367771464\n",
       "     x2 => 0.6109814444982788\n",
       "     x3 => 0.9343221013025402\n",
       "     x4 => 0.1418887485567899\n",
       "     x5 => 0.6664650028913848\n",
       " p_bar1 => 0.9208219549388541\n",
       " p_bar2 => 0.7005649889023702\n",
       " p_bar3 => 0.6847395809503594\n",
       " p_bar4 => 0.7486066720659037\n",
       " p_bar5 => 0.8085322640698109"
      ]
     },
     "execution_count": 685,
     "metadata": {},
     "output_type": "execute_result"
    }
   ],
   "source": [
    "using NonlinearSolve\n",
    "guess = states(ns_new) .=> 1.0\n",
    "params = parameters(ns_new) .=> rand(length(parameters(ns_new)))\n"
   ]
  },
  {
   "cell_type": "code",
   "execution_count": 686,
   "id": "808c8e59",
   "metadata": {},
   "outputs": [
    {
     "data": {
      "text/plain": [
       "u: 1-element Vector{Float64}:\n",
       " 0.06595074068218666"
      ]
     },
     "execution_count": 686,
     "metadata": {},
     "output_type": "execute_result"
    }
   ],
   "source": [
    "using LinearAlgebra\n",
    "BLAS.set_num_threads(32)\n",
    "\n",
    "prob = NonlinearProblem(ns_new,guess,params)\n",
    "sol = solve(prob,NewtonRaphson())"
   ]
  },
  {
   "cell_type": "code",
   "execution_count": 707,
   "id": "5d189331",
   "metadata": {},
   "outputs": [
    {
     "data": {
      "text/latex": [
       "\\begin{align}\n",
       "pclear2 =& \\mathrm{min}\\left( 0.06595074068218666 z10 + z32 \\left( 1 - x2 \\right), p_{bar2} \\right) \\\\\n",
       "pclear4 =& \\mathrm{min}\\left( z17 \\mathrm{min}\\left( 0.06595074068218666 z10 + z32 \\left( 1 - x2 \\right), p_{bar2} \\right) + 0.06595074068218666 z20 + z34 \\left( 1 - x4 \\right), p_{bar4} \\right) \\\\\n",
       "pclear1 =& \\mathrm{min}\\left( pclear2 z2 + pclear4 z4 + z31 \\left( 1 - x1 \\right), p_{bar1} \\right) \\\\\n",
       "pclear3 =& \\mathrm{min}\\left( pclear1 z11 + pclear2 z12 + pclear4 z14 + 0.06595074068218666 z15 + z33 \\left( 1 - x3 \\right), p_{bar3} \\right)\n",
       "\\end{align}\n"
      ],
      "text/plain": [
       "4-element Vector{Equation}:\n",
       " pclear2 ~ min(0.06595074068218666z10 + z32*(1 - x2), p_bar2)\n",
       " pclear4 ~ min(z17*min(0.06595074068218666z10 + z32*(1 - x2), p_bar2) + 0.06595074068218666z20 + z34*(1 - x4), p_bar4)\n",
       " pclear1 ~ min(pclear2*z2 + pclear4*z4 + z31*(1 - x1), p_bar1)\n",
       " pclear3 ~ min(pclear1*z11 + pclear2*z12 + pclear4*z14 + 0.06595074068218666z15 + z33*(1 - x3), p_bar3)"
      ]
     },
     "execution_count": 707,
     "metadata": {},
     "output_type": "execute_result"
    }
   ],
   "source": [
    "ns_new.states\n",
    "\n",
    "vcat(setdiff(pclearvec,ns_new.states)...)\n",
    "ns_new.states .=> sol.u\n",
    "Dict(ns_new.states .=> sol.u)\n"
   ]
  },
  {
   "cell_type": "code",
   "execution_count": 712,
   "id": "3237b9e6",
   "metadata": {},
   "outputs": [
    {
     "data": {
      "text/latex": [
       "\\begin{align}\n",
       "\\end{align}\n"
      ],
      "text/plain": [
       "\u001b[0m\u001b[1mModel ##NonlinearSystem#124283 with 0 equations\u001b[22m\n",
       "\u001b[0m\u001b[1mStates (0):\u001b[22m\n",
       "\u001b[0m\u001b[1mParameters (55):\u001b[22m\n",
       "  z1\n",
       "  z2\n",
       "  z3\n",
       "  z4\n",
       "  z5\n",
       "  z6\n",
       "⋮\n",
       "\u001b[35mIncidence matrix:\u001b[39m\n"
      ]
     },
     "execution_count": 712,
     "metadata": {},
     "output_type": "execute_result"
    }
   ],
   "source": [
    "ns_num = [Symbolics.substitute(ns_new.observed[i],Dict(ns_new.states .=> sol.u)) for i=1:length(ns_new.observed)]\n",
    "ns_obs_old = NonlinearSystem(ns_num, setdiff(pclearvec,ns_new.states),vcat(zvec...,xvec...,p_barvec...))\n",
    "ns_obs_new = structural_simplify(ns_obs_old)"
   ]
  },
  {
   "cell_type": "code",
   "execution_count": 728,
   "id": "59311cb0",
   "metadata": {},
   "outputs": [
    {
     "data": {
      "text/latex": [
       "\\begin{align}\n",
       "0 =&  - pclear2 + \\mathrm{min}\\left( 0.06595074068218666 z10 + z32 \\left( 1 - x2 \\right), p_{bar2} \\right) \\\\\n",
       "0 =&  - pclear4 + \\mathrm{min}\\left( z17 \\mathrm{min}\\left( 0.06595074068218666 z10 + z32 \\left( 1 - x2 \\right), p_{bar2} \\right) + 0.06595074068218666 z20 + z34 \\left( 1 - x4 \\right), p_{bar4} \\right) \\\\\n",
       "0 =&  - pclear1 + \\mathrm{min}\\left( pclear2 z2 + pclear4 z4 + z31 \\left( 1 - x1 \\right), p_{bar1} \\right) \\\\\n",
       "0 =&  - pclear3 + \\mathrm{min}\\left( pclear1 z11 + pclear2 z12 + pclear4 z14 + 0.06595074068218666 z15 + z33 \\left( 1 - x3 \\right), p_{bar3} \\right)\n",
       "\\end{align}\n"
      ],
      "text/plain": [
       "\u001b[0m\u001b[1mModel ##NonlinearSystem#124283 with 4 equations\u001b[22m\n",
       "\u001b[0m\u001b[1mStates (4):\u001b[22m\n",
       "  pclear2\n",
       "  pclear4\n",
       "  pclear1\n",
       "  pclear3\n",
       "\u001b[0m\u001b[1mParameters (55):\u001b[22m\n",
       "  z1\n",
       "  z2\n",
       "  z3\n",
       "  z4\n",
       "  z5\n",
       "  z6\n",
       "⋮"
      ]
     },
     "execution_count": 728,
     "metadata": {},
     "output_type": "execute_result"
    }
   ],
   "source": [
    "alias_elimination(ns_obs_old)\n"
   ]
  },
  {
   "cell_type": "code",
   "execution_count": 715,
   "id": "0f866c72",
   "metadata": {},
   "outputs": [
    {
     "data": {
      "text/latex": [
       "\\begin{align}\n",
       "pclear2 =& \\mathrm{min}\\left( 0.06595074068218666 z10 + z32 \\left( 1 - x2 \\right), p_{bar2} \\right) \\\\\n",
       "pclear4 =& \\mathrm{min}\\left( z17 \\mathrm{min}\\left( 0.06595074068218666 z10 + z32 \\left( 1 - x2 \\right), p_{bar2} \\right) + 0.06595074068218666 z20 + z34 \\left( 1 - x4 \\right), p_{bar4} \\right) \\\\\n",
       "pclear1 =& \\mathrm{min}\\left( pclear2 z2 + pclear4 z4 + z31 \\left( 1 - x1 \\right), p_{bar1} \\right) \\\\\n",
       "pclear3 =& \\mathrm{min}\\left( pclear1 z11 + pclear2 z12 + pclear4 z14 + 0.06595074068218666 z15 + z33 \\left( 1 - x3 \\right), p_{bar3} \\right)\n",
       "\\end{align}\n"
      ],
      "text/plain": [
       "\u001b[0m\u001b[1mModel ##NonlinearSystem#124283 with 4 equations\u001b[22m\n",
       "\u001b[0m\u001b[1mStates (4):\u001b[22m\n",
       "  pclear1\n",
       "  pclear2\n",
       "  pclear3\n",
       "  pclear4\n",
       "\u001b[0m\u001b[1mParameters (55):\u001b[22m\n",
       "  z1\n",
       "  z2\n",
       "  z3\n",
       "  z4\n",
       "  z5\n",
       "  z6\n",
       "⋮"
      ]
     },
     "execution_count": 715,
     "metadata": {},
     "output_type": "execute_result"
    }
   ],
   "source": [
    "ns_obs_old"
   ]
  },
  {
   "cell_type": "code",
   "execution_count": null,
   "id": "8cc05bc0",
   "metadata": {},
   "outputs": [],
   "source": [
    "dump(sim_sys)"
   ]
  },
  {
   "cell_type": "code",
   "execution_count": 433,
   "id": "8998d51b",
   "metadata": {},
   "outputs": [
    {
     "ename": "LoadError",
     "evalue": "MethodError: no method matching asdigraph(::BipartiteGraph{Int64, Vector{Vector{Int64}}, Int64, Nothing})\n\u001b[0mClosest candidates are:\n\u001b[0m  asdigraph(::BipartiteGraph, \u001b[91m::ModelingToolkit.AbstractSystem\u001b[39m; variables, equationsfirst) at /home/ec2-user/.julia/packages/ModelingToolkit/45oYI/src/systems/dependency_graphs.jl:188",
     "output_type": "error",
     "traceback": [
      "MethodError: no method matching asdigraph(::BipartiteGraph{Int64, Vector{Vector{Int64}}, Int64, Nothing})\n\u001b[0mClosest candidates are:\n\u001b[0m  asdigraph(::BipartiteGraph, \u001b[91m::ModelingToolkit.AbstractSystem\u001b[39m; variables, equationsfirst) at /home/ec2-user/.julia/packages/ModelingToolkit/45oYI/src/systems/dependency_graphs.jl:188",
      "",
      "Stacktrace:",
      " [1] top-level scope",
      "   @ In[433]:1",
      " [2] eval",
      "   @ ./boot.jl:360 [inlined]",
      " [3] include_string(mapexpr::typeof(REPL.softscope), mod::Module, code::String, filename::String)",
      "   @ Base ./loading.jl:1094"
     ]
    }
   ],
   "source": [
    "asdigraph(sim_sys.structure.solvable_graph)"
   ]
  },
  {
   "cell_type": "code",
   "execution_count": 640,
   "id": "3e9c5394",
   "metadata": {},
   "outputs": [
    {
     "ename": "LoadError",
     "evalue": "syntax: space required before \"?\" operator",
     "output_type": "error",
     "traceback": [
      "syntax: space required before \"?\" operator",
      "",
      "Stacktrace:",
      " [1] top-level scope",
      "   @ In[640]:2",
      " [2] eval",
      "   @ ./boot.jl:360 [inlined]",
      " [3] include_string(mapexpr::typeof(REPL.softscope), mod::Module, code::String, filename::String)",
      "   @ Base ./loading.jl:1094"
     ]
    }
   ],
   "source": [
    "tear_sys =  tearing(ns)\n",
    "tearing"
   ]
  },
  {
   "cell_type": "code",
   "execution_count": 405,
   "id": "6a3a1211",
   "metadata": {},
   "outputs": [
    {
     "data": {
      "text/plain": [
       "Incidence matrix:\n",
       " ×  ×  ×\n",
       " ⋅  ×  ×\n",
       " ⋅  ⋅  ×"
      ]
     },
     "execution_count": 405,
     "metadata": {},
     "output_type": "execute_result"
    }
   ],
   "source": [
    "sys = initialize_system_structure(ns)\n",
    "StructuralTransformations.find_solvables!(sys)\n",
    "sss = structure(sys)\n",
    "@unpack graph, solvable_graph, fullvars = sss\n"
   ]
  },
  {
   "cell_type": "code",
   "execution_count": 678,
   "id": "db6e5e14",
   "metadata": {},
   "outputs": [
    {
     "name": "stdout",
     "output_type": "stream",
     "text": [
      "NonlinearSystem\n",
      "  eqs: Array{Equation}((1,))\n",
      "    1: Equation\n",
      "      lhs: Int64 0\n",
      "      rhs: SymbolicUtils.Add{Real, Int64, Dict{Any, Number}, Nothing}\n",
      "        coeff: Int64 0\n",
      "        dict: Dict{Any, Number}\n",
      "          slots: Array{UInt8}((16,)) UInt8[0x00, 0x01, 0x00, 0x00, 0x00, 0x00, 0x00, 0x01, 0x00, 0x00, 0x00, 0x00, 0x00, 0x00, 0x00, 0x00]\n",
      "          keys: Array{Any}((16,))\n",
      "            1: #undef\n",
      "            2: Term{Real, Nothing}\n",
      "              f: min (function of type typeof(min))\n",
      "              arguments: Array{SymbolicUtils.Symbolic{Real}}((2,))\n",
      "                1: SymbolicUtils.Add{Real, Int64, Dict{Any, Number}, Nothing}\n",
      "                2: Sym{Real, Base.ImmutableDict{DataType, Any}}\n",
      "              metadata: Nothing nothing\n",
      "              hash: Base.RefValue{UInt64}\n",
      "                x: UInt64 0x23f41dbf84dfc3e1\n",
      "            3: #undef\n",
      "            4: #undef\n",
      "            5: #undef\n",
      "            ...\n",
      "            12: #undef\n",
      "            13: #undef\n",
      "            14: #undef\n",
      "            15: #undef\n",
      "            16: #undef\n",
      "          vals: Array{Number}((16,)) Number[#undef, 1, #undef, #undef, #undef, #undef, #undef, -1, #undef, #undef, #undef, #undef, #undef, #undef, #undef, #undef]\n",
      "          ndel: Int64 0\n",
      "          count: Int64 2\n",
      "          age: UInt64 0x0000000000000002\n",
      "          idxfloor: Int64 2\n",
      "          maxprobe: Int64 0\n",
      "        sorted_args_cache: Base.RefValue{Any}\n",
      "          x: Array{SymbolicUtils.Symbolic{Real}}((2,))\n",
      "            1: SymbolicUtils.Mul{Real, Int64, Dict{Any, Number}, Nothing}\n",
      "              coeff: Int64 -1\n",
      "              dict: Dict{Any, Number}\n",
      "                slots: Array{UInt8}((16,)) UInt8[0x00, 0x00, 0x00, 0x00, 0x00, 0x00, 0x00, 0x01, 0x00, 0x00, 0x00, 0x00, 0x00, 0x00, 0x00, 0x00]\n",
      "                keys: Array{Any}((16,))\n",
      "                vals: Array{Number}((16,)) Number[#undef, #undef, #undef, #undef, #undef, #undef, #undef, 1, #undef, #undef, #undef, #undef, #undef, #undef, #undef, #undef]\n",
      "                ndel: Int64 0\n",
      "                count: Int64 1\n",
      "                age: UInt64 0x0000000000000001\n",
      "                idxfloor: Int64 8\n",
      "                maxprobe: Int64 0\n",
      "              sorted_args_cache: Base.RefValue{Any}\n",
      "                x: Array{Any}((2,))\n",
      "              hash: Base.RefValue{UInt64}\n",
      "                x: UInt64 0x0c87c280ab2535a3\n",
      "              metadata: Nothing nothing\n",
      "            2: Term{Real, Nothing}\n",
      "              f: min (function of type typeof(min))\n",
      "              arguments: Array{SymbolicUtils.Symbolic{Real}}((2,))\n",
      "                1: SymbolicUtils.Add{Real, Int64, Dict{Any, Number}, Nothing}\n",
      "                2: Sym{Real, Base.ImmutableDict{DataType, Any}}\n",
      "              metadata: Nothing nothing\n",
      "              hash: Base.RefValue{UInt64}\n",
      "                x: UInt64 0x23f41dbf84dfc3e1\n",
      "        hash: Base.RefValue{UInt64}\n",
      "          x: UInt64 0xe169ff4d68d16135\n",
      "        metadata: Nothing nothing\n",
      "  states: Array{Any}((1,))\n",
      "    1: Sym{Real, Nothing}\n",
      "      name: Symbol pclear5\n",
      "      metadata: Nothing nothing\n",
      "  ps: Array{Sym{Real, Base.ImmutableDict{DataType, Any}}}((55,))\n",
      "    1: Sym{Real, Base.ImmutableDict{DataType, Any}}\n",
      "      name: Symbol z1\n",
      "      metadata: Base.ImmutableDict{DataType, Any}\n",
      "        parent: Base.ImmutableDict{DataType, Any}\n",
      "          parent: #undef\n",
      "          key: #undef\n",
      "          value: #undef\n",
      "        key: ModelingToolkit.MTKParameterCtx <: Any\n",
      "        value: Bool true\n",
      "    2: Sym{Real, Base.ImmutableDict{DataType, Any}}\n",
      "      name: Symbol z2\n",
      "      metadata: Base.ImmutableDict{DataType, Any}\n",
      "        parent: Base.ImmutableDict{DataType, Any}\n",
      "          parent: #undef\n",
      "          key: #undef\n",
      "          value: #undef\n",
      "        key: ModelingToolkit.MTKParameterCtx <: Any\n",
      "        value: Bool true\n",
      "    3: Sym{Real, Base.ImmutableDict{DataType, Any}}\n",
      "      name: Symbol z3\n",
      "      metadata: Base.ImmutableDict{DataType, Any}\n",
      "        parent: Base.ImmutableDict{DataType, Any}\n",
      "          parent: #undef\n",
      "          key: #undef\n",
      "          value: #undef\n",
      "        key: ModelingToolkit.MTKParameterCtx <: Any\n",
      "        value: Bool true\n",
      "    4: Sym{Real, Base.ImmutableDict{DataType, Any}}\n",
      "      name: Symbol z4\n",
      "      metadata: Base.ImmutableDict{DataType, Any}\n",
      "        parent: Base.ImmutableDict{DataType, Any}\n",
      "          parent: #undef\n",
      "          key: #undef\n",
      "          value: #undef\n",
      "        key: ModelingToolkit.MTKParameterCtx <: Any\n",
      "        value: Bool true\n",
      "    5: Sym{Real, Base.ImmutableDict{DataType, Any}}\n",
      "      name: Symbol z5\n",
      "      metadata: Base.ImmutableDict{DataType, Any}\n",
      "        parent: Base.ImmutableDict{DataType, Any}\n",
      "          parent: #undef\n",
      "          key: #undef\n",
      "          value: #undef\n",
      "        key: ModelingToolkit.MTKParameterCtx <: Any\n",
      "        value: Bool true\n",
      "    ...\n",
      "    51: Sym{Real, Base.ImmutableDict{DataType, Any}}\n",
      "      name: Symbol p_bar1\n",
      "      metadata: Base.ImmutableDict{DataType, Any}\n",
      "        parent: Base.ImmutableDict{DataType, Any}\n",
      "          parent: #undef\n",
      "          key: #undef\n",
      "          value: #undef\n",
      "        key: ModelingToolkit.MTKParameterCtx <: Any\n",
      "        value: Bool true\n",
      "    52: Sym{Real, Base.ImmutableDict{DataType, Any}}\n",
      "      name: Symbol p_bar2\n",
      "      metadata: Base.ImmutableDict{DataType, Any}\n",
      "        parent: Base.ImmutableDict{DataType, Any}\n",
      "          parent: #undef\n",
      "          key: #undef\n",
      "          value: #undef\n",
      "        key: ModelingToolkit.MTKParameterCtx <: Any\n",
      "        value: Bool true\n",
      "    53: Sym{Real, Base.ImmutableDict{DataType, Any}}\n",
      "      name: Symbol p_bar3\n",
      "      metadata: Base.ImmutableDict{DataType, Any}\n",
      "        parent: Base.ImmutableDict{DataType, Any}\n",
      "          parent: #undef\n",
      "          key: #undef\n",
      "          value: #undef\n",
      "        key: ModelingToolkit.MTKParameterCtx <: Any\n",
      "        value: Bool true\n",
      "    54: Sym{Real, Base.ImmutableDict{DataType, Any}}\n",
      "      name: Symbol p_bar4\n",
      "      metadata: Base.ImmutableDict{DataType, Any}\n",
      "        parent: Base.ImmutableDict{DataType, Any}\n",
      "          parent: #undef\n",
      "          key: #undef\n",
      "          value: #undef\n",
      "        key: ModelingToolkit.MTKParameterCtx <: Any\n",
      "        value: Bool true\n",
      "    55: Sym{Real, Base.ImmutableDict{DataType, Any}}\n",
      "      name: Symbol p_bar5\n",
      "      metadata: Base.ImmutableDict{DataType, Any}\n",
      "        parent: Base.ImmutableDict{DataType, Any}\n",
      "          parent: #undef\n",
      "          key: #undef\n",
      "          value: #undef\n",
      "        key: ModelingToolkit.MTKParameterCtx <: Any\n",
      "        value: Bool true\n",
      "  var_to_name: Dict{Any, Any}\n",
      "    slots: Array{UInt8}((256,)) UInt8[0x01, 0x00, 0x00, 0x00, 0x01, 0x00, 0x01, 0x00, 0x01, 0x00  …  0x01, 0x00, 0x00, 0x00, 0x01, 0x00, 0x01, 0x00, 0x00, 0x00]\n",
      "    keys: Array{Any}((256,))\n",
      "      1: Symbol z3\n",
      "      2: #undef\n",
      "      3: #undef\n",
      "      4: #undef\n",
      "      5: Symbol p_bar2\n",
      "      ...\n",
      "      252: #undef\n",
      "      253: Symbol p_bar4\n",
      "      254: #undef\n",
      "      255: #undef\n",
      "      256: #undef\n",
      "    vals: Array{Any}((256,))\n",
      "      1: Sym{Real, Base.ImmutableDict{DataType, Any}}\n",
      "        name: Symbol z3\n",
      "        metadata: Base.ImmutableDict{DataType, Any}\n",
      "          parent: Base.ImmutableDict{DataType, Any}\n",
      "            parent: #undef\n",
      "            key: #undef\n",
      "            value: #undef\n",
      "          key: ModelingToolkit.MTKParameterCtx <: Any\n",
      "          value: Bool true\n",
      "      2: #undef\n",
      "      3: #undef\n",
      "      4: #undef\n",
      "      5: Sym{Real, Base.ImmutableDict{DataType, Any}}\n",
      "        name: Symbol p_bar2\n",
      "        metadata: Base.ImmutableDict{DataType, Any}\n",
      "          parent: Base.ImmutableDict{DataType, Any}\n",
      "            parent: #undef\n",
      "            key: #undef\n",
      "            value: #undef\n",
      "          key: ModelingToolkit.MTKParameterCtx <: Any\n",
      "          value: Bool true\n",
      "      ...\n",
      "      252: #undef\n",
      "      253: Sym{Real, Base.ImmutableDict{DataType, Any}}\n",
      "        name: Symbol p_bar4\n",
      "        metadata: Base.ImmutableDict{DataType, Any}\n",
      "          parent: Base.ImmutableDict{DataType, Any}\n",
      "            parent: #undef\n",
      "            key: #undef\n",
      "            value: #undef\n",
      "          key: ModelingToolkit.MTKParameterCtx <: Any\n",
      "          value: Bool true\n",
      "      254: #undef\n",
      "      255: #undef\n",
      "      256: #undef\n",
      "    ndel: Int64 0\n",
      "    count: Int64 60\n",
      "    age: UInt64 0x000000000000003e\n",
      "    idxfloor: Int64 1\n",
      "    maxprobe: Int64 1\n",
      "  observed: Array{Equation}((4,))\n",
      "    1: Equation\n",
      "      lhs: Sym{Real, Nothing}\n",
      "        name: Symbol pclear2\n",
      "        metadata: Nothing nothing\n",
      "      rhs: Term{Real, Nothing}\n",
      "        f: min (function of type typeof(min))\n",
      "        arguments: Array{SymbolicUtils.Symbolic{Real}}((2,))\n",
      "          1: SymbolicUtils.Add{Real, Int64, Dict{Any, Number}, Nothing}\n",
      "            coeff: Int64 0\n",
      "            dict: Dict{Any, Number}\n",
      "              slots: Array{UInt8}((16,)) UInt8[0x00, 0x00, 0x01, 0x00, 0x00, 0x00, 0x00, 0x00, 0x01, 0x00, 0x00, 0x00, 0x00, 0x00, 0x00, 0x00]\n",
      "              keys: Array{Any}((16,))\n",
      "                1: #undef\n",
      "                2: #undef\n",
      "                3: SymbolicUtils.Mul{Real, Int64, Dict{Any, Number}, Nothing}\n",
      "                4: #undef\n",
      "                5: #undef\n",
      "                ...\n",
      "                12: #undef\n",
      "                13: #undef\n",
      "                14: #undef\n",
      "                15: #undef\n",
      "                16: #undef\n",
      "              vals: Array{Number}((16,)) Number[#undef, #undef, 1, #undef, #undef, #undef, #undef, #undef, 1, #undef, #undef, #undef, #undef, #undef, #undef, #undef]\n",
      "              ndel: Int64 0\n",
      "              count: Int64 2\n",
      "              age: UInt64 0x0000000000000002\n",
      "              idxfloor: Int64 3\n",
      "              maxprobe: Int64 0\n",
      "            sorted_args_cache: Base.RefValue{Any}\n",
      "              x: Array{SymbolicUtils.Mul{Real, Int64, Dict{Any, Number}, Nothing}}((2,))\n",
      "                1: SymbolicUtils.Mul{Real, Int64, Dict{Any, Number}, Nothing}\n",
      "                2: SymbolicUtils.Mul{Real, Int64, Dict{Any, Number}, Nothing}\n",
      "            hash: Base.RefValue{UInt64}\n",
      "              x: UInt64 0xfbeb8a669d2d9a11\n",
      "            metadata: Nothing nothing\n",
      "          2: Sym{Real, Base.ImmutableDict{DataType, Any}}\n",
      "            name: Symbol p_bar2\n",
      "            metadata: Base.ImmutableDict{DataType, Any}\n",
      "              parent: Base.ImmutableDict{DataType, Any}\n",
      "                parent: #undef\n",
      "                key: #undef\n",
      "                value: #undef\n",
      "              key: ModelingToolkit.MTKParameterCtx <: Any\n",
      "              value: Bool true\n",
      "        metadata: Nothing nothing\n",
      "        hash: Base.RefValue{UInt64}\n",
      "          x: UInt64 0x38593193aa70b027\n",
      "    2: Equation\n",
      "      lhs: Sym{Real, Nothing}\n",
      "        name: Symbol pclear4\n",
      "        metadata: Nothing nothing\n",
      "      rhs: Term{Real, Nothing}\n",
      "        f: min (function of type typeof(min))\n",
      "        arguments: Array{SymbolicUtils.Symbolic{Real}}((2,))\n",
      "          1: SymbolicUtils.Add{Real, Int64, Dict{Any, Number}, Nothing}\n",
      "            coeff: Int64 0\n",
      "            dict: Dict{Any, Number}\n",
      "              slots: Array{UInt8}((16,)) UInt8[0x01, 0x00, 0x01, 0x00, 0x00, 0x00, 0x00, 0x00, 0x00, 0x00, 0x01, 0x00, 0x00, 0x00, 0x00, 0x00]\n",
      "              keys: Array{Any}((16,))\n",
      "                1: SymbolicUtils.Mul{Real, Int64, Dict{Any, Number}, Nothing}\n",
      "                2: #undef\n",
      "                3: SymbolicUtils.Mul{Real, Int64, Dict{Any, Number}, Nothing}\n",
      "                4: #undef\n",
      "                5: #undef\n",
      "                ...\n",
      "                12: #undef\n",
      "                13: #undef\n",
      "                14: #undef\n",
      "                15: #undef\n",
      "                16: #undef\n",
      "              vals: Array{Number}((16,)) Number[1, #undef, 1, #undef, #undef, #undef, #undef, #undef, #undef, #undef, 1, #undef, #undef, #undef, #undef, #undef]\n",
      "              ndel: Int64 0\n",
      "              count: Int64 3\n",
      "              age: UInt64 0x0000000000000003\n",
      "              idxfloor: Int64 1\n",
      "              maxprobe: Int64 0\n",
      "            sorted_args_cache: Base.RefValue{Any}\n",
      "              x: Array{SymbolicUtils.Mul{Real, Int64, Dict{Any, Number}, Nothing}}((3,))\n",
      "                1: SymbolicUtils.Mul{Real, Int64, Dict{Any, Number}, Nothing}\n",
      "                2: SymbolicUtils.Mul{Real, Int64, Dict{Any, Number}, Nothing}\n",
      "                3: SymbolicUtils.Mul{Real, Int64, Dict{Any, Number}, Nothing}\n",
      "            hash: Base.RefValue{UInt64}\n",
      "              x: UInt64 0x4a73ce0431d486d9\n",
      "            metadata: Nothing nothing\n",
      "          2: Sym{Real, Base.ImmutableDict{DataType, Any}}\n",
      "            name: Symbol p_bar4\n",
      "            metadata: Base.ImmutableDict{DataType, Any}\n",
      "              parent: Base.ImmutableDict{DataType, Any}\n",
      "                parent: #undef\n",
      "                key: #undef\n",
      "                value: #undef\n",
      "              key: ModelingToolkit.MTKParameterCtx <: Any\n",
      "              value: Bool true\n",
      "        metadata: Nothing nothing\n",
      "        hash: Base.RefValue{UInt64}\n",
      "          x: UInt64 0x9de049dc12ed1b90\n",
      "    3: Equation\n",
      "      lhs: Sym{Real, Nothing}\n",
      "        name: Symbol pclear1\n",
      "        metadata: Nothing nothing\n",
      "      rhs: Term{Real, Nothing}\n",
      "        f: min (function of type typeof(min))\n",
      "        arguments: Array{SymbolicUtils.Symbolic{Real}}((2,))\n",
      "          1: SymbolicUtils.Add{Real, Int64, Dict{Any, Number}, Nothing}\n",
      "            coeff: Int64 0\n",
      "            dict: Dict{Any, Number}\n",
      "              slots: Array{UInt8}((16,)) UInt8[0x00, 0x00, 0x01, 0x00, 0x01, 0x00, 0x01, 0x00, 0x00, 0x00, 0x00, 0x00, 0x00, 0x00, 0x00, 0x00]\n",
      "              keys: Array{Any}((16,))\n",
      "                1: #undef\n",
      "                2: #undef\n",
      "                3: SymbolicUtils.Mul{Real, Int64, Dict{Any, Number}, Nothing}\n",
      "                4: #undef\n",
      "                5: SymbolicUtils.Mul{Real, Int64, Dict{Any, Number}, Nothing}\n",
      "                ...\n",
      "                12: #undef\n",
      "                13: #undef\n",
      "                14: #undef\n",
      "                15: #undef\n",
      "                16: #undef\n",
      "              vals: Array{Number}((16,)) Number[#undef, #undef, 1, #undef, 1, #undef, 1, #undef, #undef, #undef, #undef, #undef, #undef, #undef, #undef, #undef]\n",
      "              ndel: Int64 0\n",
      "              count: Int64 3\n",
      "              age: UInt64 0x0000000000000003\n",
      "              idxfloor: Int64 3\n",
      "              maxprobe: Int64 0\n",
      "            sorted_args_cache: Base.RefValue{Any}\n",
      "              x: Array{SymbolicUtils.Mul{Real, Int64, Dict{Any, Number}, Nothing}}((3,))\n",
      "                1: SymbolicUtils.Mul{Real, Int64, Dict{Any, Number}, Nothing}\n",
      "                2: SymbolicUtils.Mul{Real, Int64, Dict{Any, Number}, Nothing}\n",
      "                3: SymbolicUtils.Mul{Real, Int64, Dict{Any, Number}, Nothing}\n",
      "            hash: Base.RefValue{UInt64}\n",
      "              x: UInt64 0x4c3da7674710d43c\n",
      "            metadata: Nothing nothing\n",
      "          2: Sym{Real, Base.ImmutableDict{DataType, Any}}\n",
      "            name: Symbol p_bar1\n",
      "            metadata: Base.ImmutableDict{DataType, Any}\n",
      "              parent: Base.ImmutableDict{DataType, Any}\n",
      "                parent: #undef\n",
      "                key: #undef\n",
      "                value: #undef\n",
      "              key: ModelingToolkit.MTKParameterCtx <: Any\n",
      "              value: Bool true\n",
      "        metadata: Nothing nothing\n",
      "        hash: Base.RefValue{UInt64}\n",
      "          x: UInt64 0xd3cbc1d211c993db\n",
      "    4: Equation\n",
      "      lhs: Sym{Real, Nothing}\n",
      "        name: Symbol pclear3\n",
      "        metadata: Nothing nothing\n",
      "      rhs: Term{Real, Nothing}\n",
      "        f: min (function of type typeof(min))\n",
      "        arguments: Array{SymbolicUtils.Symbolic{Real}}((2,))\n",
      "          1: SymbolicUtils.Add{Real, Int64, Dict{Any, Number}, Nothing}\n",
      "            coeff: Int64 0\n",
      "            dict: Dict{Any, Number}\n",
      "              slots: Array{UInt8}((16,)) UInt8[0x00, 0x00, 0x01, 0x00, 0x00, 0x00, 0x00, 0x00, 0x00, 0x01, 0x01, 0x01, 0x00, 0x01, 0x00, 0x00]\n",
      "              keys: Array{Any}((16,))\n",
      "                1: #undef\n",
      "                2: #undef\n",
      "                3: SymbolicUtils.Mul{Real, Int64, Dict{Any, Number}, Nothing}\n",
      "                4: #undef\n",
      "                5: #undef\n",
      "                ...\n",
      "                12: SymbolicUtils.Mul{Real, Int64, Dict{Any, Number}, Nothing}\n",
      "                13: #undef\n",
      "                14: SymbolicUtils.Mul{Real, Int64, Dict{Any, Number}, Nothing}\n",
      "                15: #undef\n",
      "                16: #undef\n",
      "              vals: Array{Number}((16,)) Number[#undef, #undef, 1, #undef, #undef, #undef, #undef, #undef, #undef, 1, 1, 1, #undef, 1, #undef, #undef]\n",
      "              ndel: Int64 0\n",
      "              count: Int64 5\n",
      "              age: UInt64 0x0000000000000005\n",
      "              idxfloor: Int64 3\n",
      "              maxprobe: Int64 1\n",
      "            sorted_args_cache: Base.RefValue{Any}\n",
      "              x: Array{SymbolicUtils.Mul{Real, Int64, Dict{Any, Number}, Nothing}}((5,))\n",
      "                1: SymbolicUtils.Mul{Real, Int64, Dict{Any, Number}, Nothing}\n",
      "                2: SymbolicUtils.Mul{Real, Int64, Dict{Any, Number}, Nothing}\n",
      "                3: SymbolicUtils.Mul{Real, Int64, Dict{Any, Number}, Nothing}\n",
      "                4: SymbolicUtils.Mul{Real, Int64, Dict{Any, Number}, Nothing}\n",
      "                5: SymbolicUtils.Mul{Real, Int64, Dict{Any, Number}, Nothing}\n",
      "            hash: Base.RefValue{UInt64}\n",
      "              x: UInt64 0x6ed0e417bd9b3ee4\n",
      "            metadata: Nothing nothing\n",
      "          2: Sym{Real, Base.ImmutableDict{DataType, Any}}\n",
      "            name: Symbol p_bar3\n",
      "            metadata: Base.ImmutableDict{DataType, Any}\n",
      "              parent: Base.ImmutableDict{DataType, Any}\n",
      "                parent: #undef\n",
      "                key: #undef\n",
      "                value: #undef\n",
      "              key: ModelingToolkit.MTKParameterCtx <: Any\n",
      "              value: Bool true\n",
      "        metadata: Nothing nothing\n",
      "        hash: Base.RefValue{UInt64}\n",
      "          x: UInt64 0x7b5ee3a030c215c4\n",
      "  jac: Base.RefValue{Any}\n",
      "    x: Array{Num}((0, 0)) Matrix{Num}(undef, 0, 0)\n",
      "  name: Symbol ##NonlinearSystem#124272\n",
      "  systems: Array{NonlinearSystem}((0,))\n",
      "  defaults: Dict{Any, Any}\n",
      "    slots: Array{UInt8}((16,)) UInt8[0x00, 0x00, 0x00, 0x00, 0x00, 0x00, 0x00, 0x00, 0x00, 0x00, 0x00, 0x00, 0x00, 0x00, 0x00, 0x00]\n",
      "    keys: Array{Any}((16,))\n",
      "      1: #undef\n",
      "      2: #undef\n",
      "      3: #undef\n",
      "      4: #undef\n",
      "      5: #undef\n",
      "      ...\n",
      "      12: #undef\n",
      "      13: #undef\n",
      "      14: #undef\n",
      "      15: #undef\n",
      "      16: #undef\n",
      "    vals: Array{Any}((16,))\n",
      "      1: #undef\n",
      "      2: #undef\n",
      "      3: #undef\n",
      "      4: #undef\n",
      "      5: #undef\n",
      "      ...\n",
      "      12: #undef\n",
      "      13: #undef\n",
      "      14: #undef\n",
      "      15: #undef\n",
      "      16: #undef\n",
      "    ndel: Int64 0\n",
      "    count: Int64 0\n",
      "    age: UInt64 0x0000000000000000\n",
      "    idxfloor: Int64 1\n",
      "    maxprobe: Int64 0\n",
      "  structure: SystemStructure\n",
      "    fullvars: Array{Any}((1,))\n",
      "      1: Sym{Real, Nothing}\n",
      "        name: Symbol pclear5\n",
      "        metadata: Nothing nothing\n",
      "    vartype: Array{ModelingToolkit.SystemStructures.VariableType}((1,))\n",
      "      1: ModelingToolkit.SystemStructures.VariableType ModelingToolkit.SystemStructures.ALGEBRAIC_VARIABLE\n",
      "    varassoc: Array{Int64}((1,)) [0]\n",
      "    inv_varassoc: Array{Int64}((1,)) [0]\n",
      "    varmask: BitVector\n",
      "      chunks: Array{UInt64}((1,)) UInt64[0x0000000000000001]\n",
      "      len: Int64 1\n",
      "      dims: Tuple{Int64}\n",
      "        1: Int64 140045509998336\n",
      "    algeqs: BitVector\n",
      "      chunks: Array{UInt64}((1,)) UInt64[0x0000000000000001]\n",
      "      len: Int64 1\n",
      "      dims: Tuple{Int64}\n",
      "        1: Int64 140045526633328\n",
      "    graph: BipartiteGraph{Int64, Vector{Vector{Int64}}, Int64, Nothing}\n",
      "      ne: Int64 1\n",
      "      fadjlist: Array{Vector{Int64}}((1,))\n",
      "        1: Array{Int64}((1,)) [1]\n",
      "      badjlist: Int64 1\n",
      "      metadata: Nothing nothing\n",
      "    solvable_graph: BipartiteGraph{Int64, Vector{Vector{Int64}}, Int64, Nothing}\n",
      "      ne: Int64 0\n",
      "      fadjlist: Array{Vector{Int64}}((1,))\n",
      "        1: Array{Int64}((0,)) Int64[]\n",
      "      badjlist: Int64 1\n",
      "      metadata: Nothing nothing\n",
      "    assign: Array{Int64}((1,)) [1]\n",
      "    inv_assign: Array{Int64}((1,)) [1]\n",
      "    scc: Array{Vector{Int64}}((0,))\n",
      "    partitions: Array{ModelingToolkit.SystemStructures.SystemPartition}((1,))\n",
      "      1: ModelingToolkit.SystemStructures.SystemPartition\n",
      "        e_solved: Array{Int64}((0,)) Int64[]\n",
      "        v_solved: Array{Int64}((0,)) Int64[]\n",
      "        e_residual: Array{Int64}((1,)) [1]\n",
      "        v_residual: Array{Int64}((1,)) [1]\n",
      "  connection_type: Nothing nothing\n"
     ]
    }
   ],
   "source": [
    "dump(ns_new)"
   ]
  },
  {
   "cell_type": "code",
   "execution_count": 381,
   "id": "55cdcffd",
   "metadata": {},
   "outputs": [
    {
     "data": {
      "text/latex": [
       "\\begin{align}\n",
       "0 =&  - pclear3 + \\mathrm{min}\\left( z15 \\left( 1 - x3 \\right) + z7 \\mathrm{min}\\left( z13 \\left( 1 - x1 \\right) + z2 \\mathrm{min}\\left( pclear3 z6 + z14 \\left( 1 - x2 \\right), p_{bar2} \\right), p_{bar1} \\right), p_{bar3} \\right)\n",
       "\\end{align}\n"
      ],
      "text/plain": [
       "1-element Vector{Equation}:\n",
       " 0 ~ min(z15*(1 - x3) + z7*min(z13*(1 - x1) + z2*min(pclear3*z6 + z14*(1 - x2), p_bar2), p_bar1), p_bar3) - pclear3"
      ]
     },
     "execution_count": 381,
     "metadata": {},
     "output_type": "execute_result"
    }
   ],
   "source": [
    "using ModelingToolkit.BipartiteGraphs\n",
    "big_rc = initialize_system_structure(big_rc)\n",
    "inc_org = BipartiteGraphs.incidence_matrix(structure(big_rc).graph)\n",
    "blt_org = StructuralTransformations.sorted_incidence_matrix(big_rc, only_algeqs=true, only_algvars=true)\n",
    "blt_reduced = StructuralTransformations.sorted_incidence_matrix(sys, only_algeqs=true, only_algvars=true)"
   ]
  },
  {
   "cell_type": "code",
   "execution_count": 285,
   "id": "fbee775e",
   "metadata": {},
   "outputs": [],
   "source": []
  },
  {
   "cell_type": "code",
   "execution_count": 285,
   "id": "5e33367c",
   "metadata": {},
   "outputs": [],
   "source": [
    "prob = NonlinearProblem(sim_sys,[1.0,2.0,3.0],ps)\n",
    "sol = solve(prob,NewtonRaphson())"
   ]
  },
  {
   "cell_type": "code",
   "execution_count": 285,
   "id": "92df7d2f",
   "metadata": {},
   "outputs": [
    {
     "data": {
      "text/latex": [
       "\\begin{equation}\n",
       "\\left[\n",
       "\\begin{array}{c}\n",
       "\\mathrm{min}\\left( k1^{2}, ub1 \\right) \\\\\n",
       "\\mathrm{min}\\left( k2, ub2 \\right) \\\\\n",
       "\\end{array}\n",
       "\\right]\n",
       "\\end{equation}\n"
      ],
      "text/plain": [
       "2-element Vector{Num}:\n",
       " min(k1^2, ub1)\n",
       "   min(k2, ub2)"
      ]
     },
     "execution_count": 285,
     "metadata": {},
     "output_type": "execute_result"
    }
   ],
   "source": [
    "Dk = Differential(k1)\n",
    "eq = min.([k1^2,k2],[ub1,ub2])"
   ]
  },
  {
   "cell_type": "code",
   "execution_count": 286,
   "id": "74a6a965",
   "metadata": {},
   "outputs": [
    {
     "data": {
      "text/latex": [
       "\\begin{equation}\n",
       "\\left[\n",
       "\\begin{array}{c}\n",
       "2 k1 \\mathrm{ifelse}\\left( \\left( k1^{2} < ub1 \\right), 1, 0 \\right) \\\\\n",
       "0 \\\\\n",
       "\\end{array}\n",
       "\\right]\n",
       "\\end{equation}\n"
      ],
      "text/plain": [
       "2-element Vector{Num}:\n",
       " 2k1*IfElse.ifelse((k1^2) < ub1, 1, 0)\n",
       "     0"
      ]
     },
     "execution_count": 286,
     "metadata": {},
     "output_type": "execute_result"
    }
   ],
   "source": [
    "expand_derivatives.(Dk.(eq))"
   ]
  },
  {
   "cell_type": "code",
   "execution_count": null,
   "id": "e3b87b8e",
   "metadata": {},
   "outputs": [],
   "source": []
  }
 ],
 "metadata": {
  "kernelspec": {
   "display_name": "Julia-32-threads 1.6.0",
   "language": "julia",
   "name": "julia-32-threads-1.6"
  },
  "language_info": {
   "file_extension": ".jl",
   "mimetype": "application/julia",
   "name": "julia",
   "version": "1.6.0"
  }
 },
 "nbformat": 4,
 "nbformat_minor": 5
}
