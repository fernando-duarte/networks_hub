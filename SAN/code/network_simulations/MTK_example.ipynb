{
 "cells": [
  {
   "cell_type": "code",
   "execution_count": null,
   "id": "e85698ed",
   "metadata": {},
   "outputs": [],
   "source": [
    "import Pkg; Pkg.add(url=\"https://github.com/JuliaStats/StatsFuns.jl\", rev=\"an/nopdf\")\n",
    "Pkg.add(\"SpecialFunctions\")\n",
    "using StatsFuns: betapdf,betalogpdf,betacdf, betaccdf,betalogcdf,betalogccdf,betainvcdf,betainvccdf,xlogy, log1p,logbeta\n",
    "using SpecialFunctions: beta_inc"
   ]
  },
  {
   "cell_type": "code",
   "execution_count": null,
   "id": "504e1d60",
   "metadata": {},
   "outputs": [],
   "source": [
    "function betalogpdf2(α::T, β::T, x::T) where T<:Real\n",
    "    return if (x < 1 || x > 1)\n",
    "        -Inf\n",
    "    elseif x <= 0.5\n",
    "        xlogy(α - 1, x) + (β - 1) * log1p(-x) - logbeta(α, β)\n",
    "    else\n",
    "        betalogpdf2(β, α, 1 - x)\n",
    "    end\n",
    "end\n",
    "\n",
    "function betalogcdf2(α::Float64, β::Float64, x::Float64)\n",
    "    if x < 0\n",
    "        return -Inf\n",
    "    elseif x > 1\n",
    "        return 0\n",
    "    else\n",
    "        p, q = beta_inc(α, β, x)\n",
    "        if p < eps(one(p))\n",
    "            # see https://dlmf.nist.gov/8.17#E7\n",
    "            return -log(α) + α*log(x) + log(_₂F₁(promote(α, 1 - β, α + 1, x)...)) - logbeta(α, β)\n",
    "        elseif p <= 0.7\n",
    "            return log(p)\n",
    "        else\n",
    "            return log1p(-q)\n",
    "        end\n",
    "    end\n",
    "end\n",
    "betalogcdf2(α::Real, β::Real, x::Real) = betalogcdf2(promote(float(α), β, x)...)\n",
    "beta_inc2(α::Real, β::Real, x::Real) = beta_inc(promote(float(α), β, x)...)"
   ]
  },
  {
   "cell_type": "code",
   "execution_count": null,
   "id": "7590a676",
   "metadata": {},
   "outputs": [],
   "source": [
    "α=1.1;β=2.3;x=2.0\n",
    "betalogpdf2(α,β,x)\n",
    "betalogcdf2(α,β,x)\n"
   ]
  },
  {
   "cell_type": "code",
   "execution_count": null,
   "id": "b9416ac0",
   "metadata": {},
   "outputs": [],
   "source": [
    "using ForwardDiff, Zygote"
   ]
  },
  {
   "cell_type": "code",
   "execution_count": null,
   "id": "c22f99cb",
   "metadata": {},
   "outputs": [],
   "source": [
    "ForwardDiff.derivative(x->beta_inc2(α,β,x),0.3)"
   ]
  },
  {
   "cell_type": "code",
   "execution_count": null,
   "id": "3b09c05e",
   "metadata": {},
   "outputs": [],
   "source": [
    "import Pkg; Pkg.add.([\"ModelingToolkit\",\"GalacticOptim\",\"Optim\",\"ForwardDiff\",\"Zygote\",\"NonlinearSolve\",\"RuntimeGeneratedFunctions\"])"
   ]
  },
  {
   "cell_type": "code",
   "execution_count": null,
   "id": "4137e6cd",
   "metadata": {},
   "outputs": [],
   "source": [
    "using ModelingToolkit, GalacticOptim, Optim, ForwardDiff, Zygote, NonlinearSolve,RuntimeGeneratedFunctions,LinearAlgebra"
   ]
  },
  {
   "cell_type": "code",
   "execution_count": null,
   "id": "1dcd6122",
   "metadata": {},
   "outputs": [],
   "source": [
    "import ModelingToolkit: calculate_gradient, generate_gradient\n",
    "function calculate_gradient(sys::NonlinearSystem)\n",
    "    expand_derivatives.(gradient(equations(sys), states(sys)))\n",
    "end\n",
    "\n",
    "function generate_gradient(sys::NonlinearSystem, vs = states(sys), ps = parameters(sys); kwargs...)\n",
    "    grad = calculate_gradient(sys)\n",
    "    return build_function(grad, vs, ps;\n",
    "                          conv = AbstractSysToExpr(sys),kwargs...)\n",
    "end"
   ]
  },
  {
   "cell_type": "code",
   "execution_count": null,
   "id": "e6bf60ae",
   "metadata": {},
   "outputs": [],
   "source": [
    "using SciMLBase,DiffEqBase,Symbolics, ModelingToolkit, GalacticOptim, Optim, ForwardDiff, Zygote, NonlinearSolve,RuntimeGeneratedFunctions,LinearAlgebra \n",
    "using UnPack: @unpack\n",
    "\n",
    "module NonLinProbPrecompile\n",
    "    using ModelingToolkit, LinearAlgebra\n",
    "\n",
    "    function system(; kwargs...)\n",
    "        # Define some variables\n",
    "        A = Matrix(I,2,2); b = rand(2)\n",
    "        @variables z[1:5]\n",
    "        @parameters p[1:2]\n",
    "        zcat = vcat(z...);\n",
    "        pcat = vcat(p...);\n",
    "    \n",
    "        # Define a system of nonlinear equations\n",
    "        ceq = vcat(0 .~ A*zcat[1:2].^4 - pcat, 0 .~ A*zcat[3:4] - pcat + vcat(z[5],z[2]))\n",
    "        ns = NonlinearSystem(ceq,z,p)\n",
    "        return generate_function(ns,z,p)\n",
    "    end\n",
    "    # Setting eval_expression=false and eval_module=[this module] will ensure\n",
    "    # the RGFs are put into our own cache, initialised below.\n",
    "    using RuntimeGeneratedFunctions\n",
    "    RuntimeGeneratedFunctions.init(@__MODULE__)\n",
    "    const f_noeval_good = system(; eval_expression=false, eval_module=@__MODULE__)\n",
    "end"
   ]
  },
  {
   "cell_type": "code",
   "execution_count": null,
   "id": "c6145f8b",
   "metadata": {},
   "outputs": [],
   "source": [
    "f = eval(NonLinProbPrecompile.f_noeval_good[1])\n",
    "z0=ones(5)\n",
    "p0=[2.2,2.3]\n",
    "@variables z[1:5]\n",
    "@parameters p[1:2]\n",
    "f_expr = f(z,p)\n",
    "eq = 0 .~ f(z,p)\n",
    "ns = NonlinearSystem(eq,z,p; name=:random_name, defaults=merge(Dict(vcat(z) .=> z0),Dict(vcat(p) .=> p0)) ) #NonlinearSystem(eq,z,p)\n",
    "prob_ns = NonlinearProblem(ns,z0,p0; check_length=false,jac = true, sparse=true,checkbounds = false, linenumbers = false) #NonlinearProblem(ns,z0,p0; check_length=false)\n",
    "# NonlinearFunction(ns,z0,p0)\n",
    "@show states(ns);\n",
    "@show parameters(ns);"
   ]
  },
  {
   "cell_type": "code",
   "execution_count": null,
   "id": "70126f77",
   "metadata": {},
   "outputs": [],
   "source": [
    "sys_num = generate_function(ns) \n",
    "sys_sym = generate_function(ns,z,p) \n",
    "jac_num = generate_jacobian(ns)\n",
    "jac_sym = generate_jacobian(ns,z,p) \n",
    "jac_sym_sp = Symbolics.sparsejacobian(f(z,p),states(ns))\n",
    "hess_sym = ModelingToolkit.hessian(f(z,p)[1],states(ns); simplify=true) # hessian of 1st equation in f\n",
    "hess_num = build_function(hess_sym, states(ns); expression = false, target = Symbolics.JuliaTarget())\n",
    "\n",
    "sn = @eval eval(sys_num[1])\n",
    "sn_iip = @eval eval(sys_num[2])\n",
    "ss = @eval eval(sys_sym[1])\n",
    "\n",
    "jn = @eval eval(jac_num[1])\n",
    "jn_iip = @eval eval(jac_num[2])\n",
    "js = @eval eval(jac_sym[1])\n",
    "js_sp = jac_sym_sp\n",
    "\n",
    "hn = @eval eval(hess_num[1])\n",
    "hn_iip = @eval eval(hess_num[2])\n",
    "hs = @eval eval(hess_sym)"
   ]
  },
  {
   "cell_type": "code",
   "execution_count": null,
   "id": "4765e182",
   "metadata": {},
   "outputs": [],
   "source": [
    "@show sn(z0,p0)\n",
    "@show ss(z,p)\n",
    "@show jn(z0,p0)\n",
    "@show js(z,p)\n",
    "@show js_sp\n",
    "@show hn(z0,p0)\n",
    "@show hs\n",
    "\n",
    "sn_z0 = zeros(length(z0)) \n",
    "jn_z0 = zeros(length(eq),length(z0)) \n",
    "hn_z0 = zeros(length(z0),length(z0)) \n",
    "@show sn_iip(sn_z0,z0,p0)\n",
    "@show jn_iip(jn_z0,z0,p0)\n",
    "@show hn_iip(hn_z0,z0,p0)\n",
    "\n",
    "@show sn_z0\n",
    "@show jn_z0\n",
    "@show hn_z0"
   ]
  },
  {
   "cell_type": "code",
   "execution_count": null,
   "id": "e9af9287",
   "metadata": {},
   "outputs": [],
   "source": [
    "ns_tear = tearing(ns;simplify=true)\n",
    "ns_tear = tearing(ns;simplify=false)\n",
    "states(ns_tear)\n",
    "parameters(ns_tear)\n",
    "s = structure(ns_tear)\n",
    "@unpack fullvars, vartype, varassoc, inv_varassoc, varmask, algeqs, graph, solvable_graph, assign, inv_assign, scc, partitions = s\n",
    "@show jac_spcy = ModelingToolkit.jacobian_sparsity(ns);\n",
    "@show jac_spcy.colptr;\n",
    "@show jac_spcy.rowval;"
   ]
  },
  {
   "cell_type": "code",
   "execution_count": null,
   "id": "433c9bb9",
   "metadata": {},
   "outputs": [],
   "source": [
    "zcat = vcat(z...)\n",
    "loss =  sum(zcat).^3\n",
    "op_sys = OptimizationSystem(loss,z,p,name=:sys1)"
   ]
  },
  {
   "cell_type": "code",
   "execution_count": null,
   "id": "0e49c6d3",
   "metadata": {},
   "outputs": [],
   "source": [
    "@show equations(op_sys);\n",
    "@show states(op_sys);\n",
    "@show parameters(op_sys);"
   ]
  },
  {
   "cell_type": "code",
   "execution_count": null,
   "id": "994d3359",
   "metadata": {},
   "outputs": [],
   "source": [
    "op_grad_sym = calculate_gradient(op_sys)\n",
    "op_hess_sym = calculate_hessian(op_sys)\n",
    "\n",
    "op_loss_num = generate_function(op_sys)\n",
    "op_grad_num = generate_gradient(op_sys)\n",
    "op_hess_num = generate_hessian(op_sys)\n",
    "op_hess_spcy = ModelingToolkit.hessian_sparsity(op_sys)"
   ]
  },
  {
   "cell_type": "code",
   "execution_count": null,
   "id": "e323eae2",
   "metadata": {},
   "outputs": [],
   "source": [
    "display(op_grad_sym)\n",
    "display(op_hess_sym)\n",
    "\n",
    "op_ln = @eval eval(op_loss_num)\n",
    "\n",
    "op_gn = @eval eval(op_grad_num[1])\n",
    "op_gn_iip = @eval eval(op_grad_num[2])\n",
    "\n",
    "op_hess = @eval eval(op_hess_num[1])\n",
    "op_hess_iip = @eval eval(op_hess_num[2])\n",
    "op_hess_sp = op_hess_spcy\n"
   ]
  },
  {
   "cell_type": "code",
   "execution_count": null,
   "id": "42fad928",
   "metadata": {},
   "outputs": [],
   "source": [
    "@show op_ln(z0,p0)\n",
    "@show op_gn(z0,p0)\n",
    "gn0 = zeros(length(z0))\n",
    "op_gn_iip(gn0,z0,p0)\n",
    "@show gn0;\n",
    "@show op_hess(z0,p0)\n",
    "hess0 = zeros(length(z0),length(z0))\n",
    "op_hess_iip(hess0,z0,p0)\n",
    "@show hess0\n",
    "@show display(op_hess_sp )"
   ]
  },
  {
   "cell_type": "code",
   "execution_count": null,
   "id": "12591f9c",
   "metadata": {},
   "outputs": [],
   "source": [
    "prob = OptimizationProblem(op_sys,z0,p0,grad=true,hess=true, lb=zeros(size(z0)), ub=ones(size(z0)) )\n",
    "sol = solve(prob,Optim.Newton())"
   ]
  },
  {
   "cell_type": "code",
   "execution_count": null,
   "id": "aabbce8b",
   "metadata": {},
   "outputs": [],
   "source": [
    "# equality_constraints not implemented yet?\n",
    "op_eq = [0 ~ z[1]]\n",
    "op_sys = OptimizationSystem(loss,z,p,name=:sys1,equality_constraints=op_eq)"
   ]
  },
  {
   "cell_type": "code",
   "execution_count": null,
   "id": "4f8dfc58",
   "metadata": {},
   "outputs": [],
   "source": [
    "# lb and ub\n",
    "opt_f = OptimizationFunction(op_ln,GalacticOptim.AutoZygote())\n",
    "opt_prob = OptimizationProblem(opt_f, z0, p0 , lb=zeros(size(z0)), ub=ones(size(z0)) )\n",
    "solve(opt_prob,Optim.BFGS())           "
   ]
  },
  {
   "cell_type": "code",
   "execution_count": null,
   "id": "6a997515",
   "metadata": {},
   "outputs": [],
   "source": [
    "# lb and ub\n",
    "opt_f = OptimizationFunction(op_ln,GalacticOptim.AutoForwardDiff())\n",
    "opt_prob = OptimizationProblem(opt_f, z0, p0 , lb=zeros(size(z0)), ub=ones(size(z0)) )\n",
    "solve(opt_prob,IPNewton())"
   ]
  },
  {
   "cell_type": "code",
   "execution_count": null,
   "id": "e2826a8c",
   "metadata": {},
   "outputs": [],
   "source": [
    "                          grad=nothing,\n",
    "                          hess=nothing,\n",
    "                          hv=nothing,\n",
    "                          cons=nothing,\n",
    "                          cons_j=nothing,\n",
    "                          cons_h=nothing)"
   ]
  },
  {
   "cell_type": "code",
   "execution_count": null,
   "id": "c51eb482",
   "metadata": {},
   "outputs": [],
   "source": [
    "import Pkg; \n",
    "Pkg.resolve();Pkg.gc();Pkg.precompile()\n"
   ]
  },
  {
   "cell_type": "code",
   "execution_count": null,
   "id": "4b02f9d2",
   "metadata": {},
   "outputs": [],
   "source": [
    "1"
   ]
  },
  {
   "cell_type": "code",
   "execution_count": null,
   "id": "6ef9658a",
   "metadata": {},
   "outputs": [],
   "source": [
    "prob = OptimizationProblem(op_sys,z0,p0,grad=true,hess=true, lb=zeros(size(z0)), ub=ones(size(z0)),lcons=0,ucons=0.1 )\n",
    "sol = solve(prob,Optim.Newton())\n",
    "#OptimizationProblemExpr(op_sys, z0,p0, lb=zeros(size(z0)), ub=ones(size(z0)) ,grad=true,hess=true)"
   ]
  },
  {
   "cell_type": "code",
   "execution_count": null,
   "id": "8d3a8c39",
   "metadata": {},
   "outputs": [],
   "source": [
    "calculate_gradient(op_sys)\n",
    "calculate_hessian(op_sys)\n",
    "generate_gradient(op_sys)\n",
    "generate_hessian(op_sys)\n",
    "ModelingToolkit.hessian_sparsity(op_sys)"
   ]
  },
  {
   "cell_type": "code",
   "execution_count": null,
   "id": "b0a41436",
   "metadata": {},
   "outputs": [],
   "source": [
    "\n"
   ]
  },
  {
   "cell_type": "code",
   "execution_count": null,
   "id": "66d31d51",
   "metadata": {},
   "outputs": [],
   "source": [
    "\n",
    "\n",
    "\n"
   ]
  },
  {
   "cell_type": "code",
   "execution_count": null,
   "id": "e25120bd",
   "metadata": {},
   "outputs": [],
   "source": [
    "using ModelingToolkit, SparseArrays, Test, GalacticOptim, Optim\n",
    "\n",
    "\n",
    "equations(combinedsys)\n",
    "states(combinedsys)\n",
    "parameters(combinedsys)\n",
    "\n",
    "calculate_gradient(combinedsys)\n",
    "calculate_hessian(combinedsys)\n",
    "generate_function(combinedsys)\n",
    "generate_gradient(combinedsys)\n",
    "generate_hessian(combinedsys)\n",
    "ModelingToolkit.hessian_sparsity(combinedsys)\n",
    "\n",
    "u0 = [\n",
    "    sys1.x=>1.0\n",
    "    sys1.y=>2.0\n",
    "    sys2.x=>3.0\n",
    "    sys2.y=>4.0\n",
    "    z=>5.0\n",
    "]\n",
    "p = [\n",
    "    sys1.a => 6.0\n",
    "    sys1.b => 7.0\n",
    "    sys2.a => 8.0\n",
    "    sys2.b => 9.0\n",
    "    β => 10.0\n",
    "]\n",
    "\n",
    "prob = OptimizationProblem(combinedsys,u0,p,grad=true)\n",
    "sol = solve(prob,NelderMead())\n",
    "@test sol.minimum < -1e5\n",
    "\n",
    "prob2 = remake(prob,u0=sol.minimizer)\n",
    "sol = solve(prob,BFGS(initial_stepnorm=0.0001),allow_f_increases=true)\n",
    "@test sol.minimum < -1e8\n",
    "sol = solve(prob2,BFGS(initial_stepnorm=0.0001),allow_f_increases=true)\n",
    "@test sol.minimum < -1e9\n",
    "\n",
    "rosenbrock(x, p) =  (p[1] - x[1])^2 + p[2] * (x[2] - x[1]^2)^2\n",
    "x0 = zeros(2)\n",
    "_p  = [1.0, 100.0]\n",
    "\n",
    "f = OptimizationFunction(rosenbrock,ModelingToolkit.AutoModelingToolkit(),x0,_p,grad=true,hess=true)\n",
    "prob = OptimizationProblem(f,x0,_p)\n",
    "sol = solve(prob,Optim.Newton())"
   ]
  },
  {
   "cell_type": "code",
   "execution_count": 1,
   "id": "414b9ca7",
   "metadata": {},
   "outputs": [
    {
     "name": "stderr",
     "output_type": "stream",
     "text": [
      "\u001b[32m\u001b[1m  Activating\u001b[22m\u001b[39m environment at `~/SageMaker/networks_hub/SAN/code/network_simulations/optim/Project.toml`\n",
      "┌ Info: Precompiling ModelingToolkit [961ee093-0014-501f-94e3-6117800e7a78]\n",
      "└ @ Base loading.jl:1317\n"
     ]
    }
   ],
   "source": [
    "import Pkg;Pkg.activate(\"optim\")\n",
    "Pkg.instantiate()\n",
    "using ModelingToolkit, LinearAlgebra, Symbolics"
   ]
  },
  {
   "cell_type": "code",
   "execution_count": 389,
   "id": "3a869849",
   "metadata": {},
   "outputs": [
    {
     "data": {
      "text/latex": [
       "\\begin{equation}\n",
       "z{_2}\n",
       "\\end{equation}\n"
      ],
      "text/plain": [
       "z[2]"
      ]
     },
     "execution_count": 389,
     "metadata": {},
     "output_type": "execute_result"
    }
   ],
   "source": [
    "M=3\n",
    "@parameters z[1:M^2]\n",
    "@variables p[1:3](z[1],z[2],z[3],z[4],z[5],z[6],z[7],z[8],z[9])\n",
    "@parameters x\n",
    "b = rand(1)[1]\n",
    "A = Array(transpose(reshape(z[1:M^2],M,M)))\n",
    "c = z[2]"
   ]
  },
  {
   "cell_type": "code",
   "execution_count": 390,
   "id": "2e3d8228",
   "metadata": {},
   "outputs": [
    {
     "data": {
      "text/plain": [
       "3×3 Matrix{Num}:\n",
       " (z[1:9])[1]  (z[1:9])[2]  (z[1:9])[3]\n",
       " (z[1:9])[4]  (z[1:9])[5]  (z[1:9])[6]\n",
       " (z[1:9])[7]  (z[1:9])[8]  (z[1:9])[9]"
      ]
     },
     "execution_count": 390,
     "metadata": {},
     "output_type": "execute_result"
    }
   ],
   "source": [
    "A"
   ]
  },
  {
   "cell_type": "code",
   "execution_count": 391,
   "id": "0018e136",
   "metadata": {},
   "outputs": [
    {
     "data": {
      "text/plain": [
       "(Num[(z[1:9])[1] (z[1:9])[2] (z[1:9])[3]; (z[1:9])[4] (z[1:9])[5] (z[1:9])[6]; (z[1:9])[7] (z[1:9])[8] (z[1:9])[9]]*map(Symbolics.CallWith((z[1], z[2], z[3], z[4], z[5], z[6], z[7], z[8], z[9])), p))[Base.OneTo(3)]"
      ]
     },
     "execution_count": 391,
     "metadata": {},
     "output_type": "execute_result"
    }
   ],
   "source": [
    "eq = A*p"
   ]
  },
  {
   "cell_type": "code",
   "execution_count": 392,
   "id": "e4bedad5",
   "metadata": {},
   "outputs": [
    {
     "data": {
      "text/latex": [
       "\\begin{equation}\n",
       "\\left[\n",
       "\\begin{array}{c}\n",
       "z{_1} \\mathrm{p{_1}}\\left( z{_1}, z{_2}, z{_3}, z{_4}, z{_5}, z{_6}, z{_7}, z{_8}, z{_9} \\right) + z{_2} \\mathrm{p{_2}}\\left( z{_1}, z{_2}, z{_3}, z{_4}, z{_5}, z{_6}, z{_7}, z{_8}, z{_9} \\right) + z{_3} \\mathrm{p{_3}}\\left( z{_1}, z{_2}, z{_3}, z{_4}, z{_5}, z{_6}, z{_7}, z{_8}, z{_9} \\right) \\\\\n",
       "z{_4} \\mathrm{p{_1}}\\left( z{_1}, z{_2}, z{_3}, z{_4}, z{_5}, z{_6}, z{_7}, z{_8}, z{_9} \\right) + z{_5} \\mathrm{p{_2}}\\left( z{_1}, z{_2}, z{_3}, z{_4}, z{_5}, z{_6}, z{_7}, z{_8}, z{_9} \\right) + z{_6} \\mathrm{p{_3}}\\left( z{_1}, z{_2}, z{_3}, z{_4}, z{_5}, z{_6}, z{_7}, z{_8}, z{_9} \\right) \\\\\n",
       "z{_7} \\mathrm{p{_1}}\\left( z{_1}, z{_2}, z{_3}, z{_4}, z{_5}, z{_6}, z{_7}, z{_8}, z{_9} \\right) + z{_8} \\mathrm{p{_2}}\\left( z{_1}, z{_2}, z{_3}, z{_4}, z{_5}, z{_6}, z{_7}, z{_8}, z{_9} \\right) + z{_9} \\mathrm{p{_3}}\\left( z{_1}, z{_2}, z{_3}, z{_4}, z{_5}, z{_6}, z{_7}, z{_8}, z{_9} \\right) \\\\\n",
       "\\end{array}\n",
       "\\right]\n",
       "\\end{equation}\n"
      ],
      "text/plain": [
       "3-element Vector{Num}:\n",
       " z[1]*p[1](z[1], z[2], z[3], z[4], z[5], z[6], z[7], z[8], z[9]) + z[2]*p[2](z[1], z[2], z[3], z[4], z[5], z[6], z[7], z[8], z[9]) + z[3]*p[3](z[1], z[2], z[3], z[4], z[5], z[6], z[7], z[8], z[9])\n",
       " z[4]*p[1](z[1], z[2], z[3], z[4], z[5], z[6], z[7], z[8], z[9]) + z[5]*p[2](z[1], z[2], z[3], z[4], z[5], z[6], z[7], z[8], z[9]) + z[6]*p[3](z[1], z[2], z[3], z[4], z[5], z[6], z[7], z[8], z[9])\n",
       " z[7]*p[1](z[1], z[2], z[3], z[4], z[5], z[6], z[7], z[8], z[9]) + z[8]*p[2](z[1], z[2], z[3], z[4], z[5], z[6], z[7], z[8], z[9]) + z[9]*p[3](z[1], z[2], z[3], z[4], z[5], z[6], z[7], z[8], z[9])"
      ]
     },
     "execution_count": 392,
     "metadata": {},
     "output_type": "execute_result"
    }
   ],
   "source": [
    "eq = Symbolics.scalarize(Symbolics.scalarize(eq))"
   ]
  },
  {
   "cell_type": "code",
   "execution_count": 393,
   "id": "640621fd",
   "metadata": {},
   "outputs": [
    {
     "data": {
      "text/latex": [
       "\\begin{equation}\n",
       "\\left[\n",
       "\\begin{array}{ccccccccc}\n",
       "\\mathrm{\\frac{d}{d z{_1}}}\\left( \\mathrm{p{_1}}\\left( z{_1}, z{_2}, z{_3}, z{_4}, z{_5}, z{_6}, z{_7}, z{_8}, z{_9} \\right) \\right) z{_1} + \\mathrm{\\frac{d}{d z{_1}}}\\left( \\mathrm{p{_2}}\\left( z{_1}, z{_2}, z{_3}, z{_4}, z{_5}, z{_6}, z{_7}, z{_8}, z{_9} \\right) \\right) z{_2} + \\mathrm{\\frac{d}{d z{_1}}}\\left( \\mathrm{p{_3}}\\left( z{_1}, z{_2}, z{_3}, z{_4}, z{_5}, z{_6}, z{_7}, z{_8}, z{_9} \\right) \\right) z{_3} + \\mathrm{p{_1}}\\left( z{_1}, z{_2}, z{_3}, z{_4}, z{_5}, z{_6}, z{_7}, z{_8}, z{_9} \\right) & \\mathrm{\\frac{d}{d z{_2}}}\\left( \\mathrm{p{_1}}\\left( z{_1}, z{_2}, z{_3}, z{_4}, z{_5}, z{_6}, z{_7}, z{_8}, z{_9} \\right) \\right) z{_1} + \\mathrm{\\frac{d}{d z{_2}}}\\left( \\mathrm{p{_2}}\\left( z{_1}, z{_2}, z{_3}, z{_4}, z{_5}, z{_6}, z{_7}, z{_8}, z{_9} \\right) \\right) z{_2} + \\mathrm{\\frac{d}{d z{_2}}}\\left( \\mathrm{p{_3}}\\left( z{_1}, z{_2}, z{_3}, z{_4}, z{_5}, z{_6}, z{_7}, z{_8}, z{_9} \\right) \\right) z{_3} + \\mathrm{p{_2}}\\left( z{_1}, z{_2}, z{_3}, z{_4}, z{_5}, z{_6}, z{_7}, z{_8}, z{_9} \\right) & \\mathrm{\\frac{d}{d z{_3}}}\\left( \\mathrm{p{_1}}\\left( z{_1}, z{_2}, z{_3}, z{_4}, z{_5}, z{_6}, z{_7}, z{_8}, z{_9} \\right) \\right) z{_1} + \\mathrm{\\frac{d}{d z{_3}}}\\left( \\mathrm{p{_2}}\\left( z{_1}, z{_2}, z{_3}, z{_4}, z{_5}, z{_6}, z{_7}, z{_8}, z{_9} \\right) \\right) z{_2} + \\mathrm{\\frac{d}{d z{_3}}}\\left( \\mathrm{p{_3}}\\left( z{_1}, z{_2}, z{_3}, z{_4}, z{_5}, z{_6}, z{_7}, z{_8}, z{_9} \\right) \\right) z{_3} + \\mathrm{p{_3}}\\left( z{_1}, z{_2}, z{_3}, z{_4}, z{_5}, z{_6}, z{_7}, z{_8}, z{_9} \\right) & \\mathrm{\\frac{d}{d z{_4}}}\\left( \\mathrm{p{_1}}\\left( z{_1}, z{_2}, z{_3}, z{_4}, z{_5}, z{_6}, z{_7}, z{_8}, z{_9} \\right) \\right) z{_1} + \\mathrm{\\frac{d}{d z{_4}}}\\left( \\mathrm{p{_2}}\\left( z{_1}, z{_2}, z{_3}, z{_4}, z{_5}, z{_6}, z{_7}, z{_8}, z{_9} \\right) \\right) z{_2} + \\mathrm{\\frac{d}{d z{_4}}}\\left( \\mathrm{p{_3}}\\left( z{_1}, z{_2}, z{_3}, z{_4}, z{_5}, z{_6}, z{_7}, z{_8}, z{_9} \\right) \\right) z{_3} & \\mathrm{\\frac{d}{d z{_5}}}\\left( \\mathrm{p{_1}}\\left( z{_1}, z{_2}, z{_3}, z{_4}, z{_5}, z{_6}, z{_7}, z{_8}, z{_9} \\right) \\right) z{_1} + \\mathrm{\\frac{d}{d z{_5}}}\\left( \\mathrm{p{_2}}\\left( z{_1}, z{_2}, z{_3}, z{_4}, z{_5}, z{_6}, z{_7}, z{_8}, z{_9} \\right) \\right) z{_2} + \\mathrm{\\frac{d}{d z{_5}}}\\left( \\mathrm{p{_3}}\\left( z{_1}, z{_2}, z{_3}, z{_4}, z{_5}, z{_6}, z{_7}, z{_8}, z{_9} \\right) \\right) z{_3} & \\mathrm{\\frac{d}{d z{_6}}}\\left( \\mathrm{p{_1}}\\left( z{_1}, z{_2}, z{_3}, z{_4}, z{_5}, z{_6}, z{_7}, z{_8}, z{_9} \\right) \\right) z{_1} + \\mathrm{\\frac{d}{d z{_6}}}\\left( \\mathrm{p{_2}}\\left( z{_1}, z{_2}, z{_3}, z{_4}, z{_5}, z{_6}, z{_7}, z{_8}, z{_9} \\right) \\right) z{_2} + \\mathrm{\\frac{d}{d z{_6}}}\\left( \\mathrm{p{_3}}\\left( z{_1}, z{_2}, z{_3}, z{_4}, z{_5}, z{_6}, z{_7}, z{_8}, z{_9} \\right) \\right) z{_3} & \\mathrm{\\frac{d}{d z{_7}}}\\left( \\mathrm{p{_1}}\\left( z{_1}, z{_2}, z{_3}, z{_4}, z{_5}, z{_6}, z{_7}, z{_8}, z{_9} \\right) \\right) z{_1} + \\mathrm{\\frac{d}{d z{_7}}}\\left( \\mathrm{p{_2}}\\left( z{_1}, z{_2}, z{_3}, z{_4}, z{_5}, z{_6}, z{_7}, z{_8}, z{_9} \\right) \\right) z{_2} + \\mathrm{\\frac{d}{d z{_7}}}\\left( \\mathrm{p{_3}}\\left( z{_1}, z{_2}, z{_3}, z{_4}, z{_5}, z{_6}, z{_7}, z{_8}, z{_9} \\right) \\right) z{_3} & \\mathrm{\\frac{d}{d z{_8}}}\\left( \\mathrm{p{_1}}\\left( z{_1}, z{_2}, z{_3}, z{_4}, z{_5}, z{_6}, z{_7}, z{_8}, z{_9} \\right) \\right) z{_1} + \\mathrm{\\frac{d}{d z{_8}}}\\left( \\mathrm{p{_2}}\\left( z{_1}, z{_2}, z{_3}, z{_4}, z{_5}, z{_6}, z{_7}, z{_8}, z{_9} \\right) \\right) z{_2} + \\mathrm{\\frac{d}{d z{_8}}}\\left( \\mathrm{p{_3}}\\left( z{_1}, z{_2}, z{_3}, z{_4}, z{_5}, z{_6}, z{_7}, z{_8}, z{_9} \\right) \\right) z{_3} & \\mathrm{\\frac{d}{d z{_9}}}\\left( \\mathrm{p{_1}}\\left( z{_1}, z{_2}, z{_3}, z{_4}, z{_5}, z{_6}, z{_7}, z{_8}, z{_9} \\right) \\right) z{_1} + \\mathrm{\\frac{d}{d z{_9}}}\\left( \\mathrm{p{_2}}\\left( z{_1}, z{_2}, z{_3}, z{_4}, z{_5}, z{_6}, z{_7}, z{_8}, z{_9} \\right) \\right) z{_2} + \\mathrm{\\frac{d}{d z{_9}}}\\left( \\mathrm{p{_3}}\\left( z{_1}, z{_2}, z{_3}, z{_4}, z{_5}, z{_6}, z{_7}, z{_8}, z{_9} \\right) \\right) z{_3} \\\\\n",
       "\\mathrm{\\frac{d}{d z{_1}}}\\left( \\mathrm{p{_1}}\\left( z{_1}, z{_2}, z{_3}, z{_4}, z{_5}, z{_6}, z{_7}, z{_8}, z{_9} \\right) \\right) z{_4} + \\mathrm{\\frac{d}{d z{_1}}}\\left( \\mathrm{p{_2}}\\left( z{_1}, z{_2}, z{_3}, z{_4}, z{_5}, z{_6}, z{_7}, z{_8}, z{_9} \\right) \\right) z{_5} + \\mathrm{\\frac{d}{d z{_1}}}\\left( \\mathrm{p{_3}}\\left( z{_1}, z{_2}, z{_3}, z{_4}, z{_5}, z{_6}, z{_7}, z{_8}, z{_9} \\right) \\right) z{_6} & \\mathrm{\\frac{d}{d z{_2}}}\\left( \\mathrm{p{_1}}\\left( z{_1}, z{_2}, z{_3}, z{_4}, z{_5}, z{_6}, z{_7}, z{_8}, z{_9} \\right) \\right) z{_4} + \\mathrm{\\frac{d}{d z{_2}}}\\left( \\mathrm{p{_2}}\\left( z{_1}, z{_2}, z{_3}, z{_4}, z{_5}, z{_6}, z{_7}, z{_8}, z{_9} \\right) \\right) z{_5} + \\mathrm{\\frac{d}{d z{_2}}}\\left( \\mathrm{p{_3}}\\left( z{_1}, z{_2}, z{_3}, z{_4}, z{_5}, z{_6}, z{_7}, z{_8}, z{_9} \\right) \\right) z{_6} & \\mathrm{\\frac{d}{d z{_3}}}\\left( \\mathrm{p{_1}}\\left( z{_1}, z{_2}, z{_3}, z{_4}, z{_5}, z{_6}, z{_7}, z{_8}, z{_9} \\right) \\right) z{_4} + \\mathrm{\\frac{d}{d z{_3}}}\\left( \\mathrm{p{_2}}\\left( z{_1}, z{_2}, z{_3}, z{_4}, z{_5}, z{_6}, z{_7}, z{_8}, z{_9} \\right) \\right) z{_5} + \\mathrm{\\frac{d}{d z{_3}}}\\left( \\mathrm{p{_3}}\\left( z{_1}, z{_2}, z{_3}, z{_4}, z{_5}, z{_6}, z{_7}, z{_8}, z{_9} \\right) \\right) z{_6} & \\mathrm{\\frac{d}{d z{_4}}}\\left( \\mathrm{p{_1}}\\left( z{_1}, z{_2}, z{_3}, z{_4}, z{_5}, z{_6}, z{_7}, z{_8}, z{_9} \\right) \\right) z{_4} + \\mathrm{\\frac{d}{d z{_4}}}\\left( \\mathrm{p{_2}}\\left( z{_1}, z{_2}, z{_3}, z{_4}, z{_5}, z{_6}, z{_7}, z{_8}, z{_9} \\right) \\right) z{_5} + \\mathrm{\\frac{d}{d z{_4}}}\\left( \\mathrm{p{_3}}\\left( z{_1}, z{_2}, z{_3}, z{_4}, z{_5}, z{_6}, z{_7}, z{_8}, z{_9} \\right) \\right) z{_6} + \\mathrm{p{_1}}\\left( z{_1}, z{_2}, z{_3}, z{_4}, z{_5}, z{_6}, z{_7}, z{_8}, z{_9} \\right) & \\mathrm{\\frac{d}{d z{_5}}}\\left( \\mathrm{p{_1}}\\left( z{_1}, z{_2}, z{_3}, z{_4}, z{_5}, z{_6}, z{_7}, z{_8}, z{_9} \\right) \\right) z{_4} + \\mathrm{\\frac{d}{d z{_5}}}\\left( \\mathrm{p{_2}}\\left( z{_1}, z{_2}, z{_3}, z{_4}, z{_5}, z{_6}, z{_7}, z{_8}, z{_9} \\right) \\right) z{_5} + \\mathrm{\\frac{d}{d z{_5}}}\\left( \\mathrm{p{_3}}\\left( z{_1}, z{_2}, z{_3}, z{_4}, z{_5}, z{_6}, z{_7}, z{_8}, z{_9} \\right) \\right) z{_6} + \\mathrm{p{_2}}\\left( z{_1}, z{_2}, z{_3}, z{_4}, z{_5}, z{_6}, z{_7}, z{_8}, z{_9} \\right) & \\mathrm{\\frac{d}{d z{_6}}}\\left( \\mathrm{p{_1}}\\left( z{_1}, z{_2}, z{_3}, z{_4}, z{_5}, z{_6}, z{_7}, z{_8}, z{_9} \\right) \\right) z{_4} + \\mathrm{\\frac{d}{d z{_6}}}\\left( \\mathrm{p{_2}}\\left( z{_1}, z{_2}, z{_3}, z{_4}, z{_5}, z{_6}, z{_7}, z{_8}, z{_9} \\right) \\right) z{_5} + \\mathrm{\\frac{d}{d z{_6}}}\\left( \\mathrm{p{_3}}\\left( z{_1}, z{_2}, z{_3}, z{_4}, z{_5}, z{_6}, z{_7}, z{_8}, z{_9} \\right) \\right) z{_6} + \\mathrm{p{_3}}\\left( z{_1}, z{_2}, z{_3}, z{_4}, z{_5}, z{_6}, z{_7}, z{_8}, z{_9} \\right) & \\mathrm{\\frac{d}{d z{_7}}}\\left( \\mathrm{p{_1}}\\left( z{_1}, z{_2}, z{_3}, z{_4}, z{_5}, z{_6}, z{_7}, z{_8}, z{_9} \\right) \\right) z{_4} + \\mathrm{\\frac{d}{d z{_7}}}\\left( \\mathrm{p{_2}}\\left( z{_1}, z{_2}, z{_3}, z{_4}, z{_5}, z{_6}, z{_7}, z{_8}, z{_9} \\right) \\right) z{_5} + \\mathrm{\\frac{d}{d z{_7}}}\\left( \\mathrm{p{_3}}\\left( z{_1}, z{_2}, z{_3}, z{_4}, z{_5}, z{_6}, z{_7}, z{_8}, z{_9} \\right) \\right) z{_6} & \\mathrm{\\frac{d}{d z{_8}}}\\left( \\mathrm{p{_1}}\\left( z{_1}, z{_2}, z{_3}, z{_4}, z{_5}, z{_6}, z{_7}, z{_8}, z{_9} \\right) \\right) z{_4} + \\mathrm{\\frac{d}{d z{_8}}}\\left( \\mathrm{p{_2}}\\left( z{_1}, z{_2}, z{_3}, z{_4}, z{_5}, z{_6}, z{_7}, z{_8}, z{_9} \\right) \\right) z{_5} + \\mathrm{\\frac{d}{d z{_8}}}\\left( \\mathrm{p{_3}}\\left( z{_1}, z{_2}, z{_3}, z{_4}, z{_5}, z{_6}, z{_7}, z{_8}, z{_9} \\right) \\right) z{_6} & \\mathrm{\\frac{d}{d z{_9}}}\\left( \\mathrm{p{_1}}\\left( z{_1}, z{_2}, z{_3}, z{_4}, z{_5}, z{_6}, z{_7}, z{_8}, z{_9} \\right) \\right) z{_4} + \\mathrm{\\frac{d}{d z{_9}}}\\left( \\mathrm{p{_2}}\\left( z{_1}, z{_2}, z{_3}, z{_4}, z{_5}, z{_6}, z{_7}, z{_8}, z{_9} \\right) \\right) z{_5} + \\mathrm{\\frac{d}{d z{_9}}}\\left( \\mathrm{p{_3}}\\left( z{_1}, z{_2}, z{_3}, z{_4}, z{_5}, z{_6}, z{_7}, z{_8}, z{_9} \\right) \\right) z{_6} \\\\\n",
       "\\mathrm{\\frac{d}{d z{_1}}}\\left( \\mathrm{p{_1}}\\left( z{_1}, z{_2}, z{_3}, z{_4}, z{_5}, z{_6}, z{_7}, z{_8}, z{_9} \\right) \\right) z{_7} + \\mathrm{\\frac{d}{d z{_1}}}\\left( \\mathrm{p{_2}}\\left( z{_1}, z{_2}, z{_3}, z{_4}, z{_5}, z{_6}, z{_7}, z{_8}, z{_9} \\right) \\right) z{_8} + \\mathrm{\\frac{d}{d z{_1}}}\\left( \\mathrm{p{_3}}\\left( z{_1}, z{_2}, z{_3}, z{_4}, z{_5}, z{_6}, z{_7}, z{_8}, z{_9} \\right) \\right) z{_9} & \\mathrm{\\frac{d}{d z{_2}}}\\left( \\mathrm{p{_1}}\\left( z{_1}, z{_2}, z{_3}, z{_4}, z{_5}, z{_6}, z{_7}, z{_8}, z{_9} \\right) \\right) z{_7} + \\mathrm{\\frac{d}{d z{_2}}}\\left( \\mathrm{p{_2}}\\left( z{_1}, z{_2}, z{_3}, z{_4}, z{_5}, z{_6}, z{_7}, z{_8}, z{_9} \\right) \\right) z{_8} + \\mathrm{\\frac{d}{d z{_2}}}\\left( \\mathrm{p{_3}}\\left( z{_1}, z{_2}, z{_3}, z{_4}, z{_5}, z{_6}, z{_7}, z{_8}, z{_9} \\right) \\right) z{_9} & \\mathrm{\\frac{d}{d z{_3}}}\\left( \\mathrm{p{_1}}\\left( z{_1}, z{_2}, z{_3}, z{_4}, z{_5}, z{_6}, z{_7}, z{_8}, z{_9} \\right) \\right) z{_7} + \\mathrm{\\frac{d}{d z{_3}}}\\left( \\mathrm{p{_2}}\\left( z{_1}, z{_2}, z{_3}, z{_4}, z{_5}, z{_6}, z{_7}, z{_8}, z{_9} \\right) \\right) z{_8} + \\mathrm{\\frac{d}{d z{_3}}}\\left( \\mathrm{p{_3}}\\left( z{_1}, z{_2}, z{_3}, z{_4}, z{_5}, z{_6}, z{_7}, z{_8}, z{_9} \\right) \\right) z{_9} & \\mathrm{\\frac{d}{d z{_4}}}\\left( \\mathrm{p{_1}}\\left( z{_1}, z{_2}, z{_3}, z{_4}, z{_5}, z{_6}, z{_7}, z{_8}, z{_9} \\right) \\right) z{_7} + \\mathrm{\\frac{d}{d z{_4}}}\\left( \\mathrm{p{_2}}\\left( z{_1}, z{_2}, z{_3}, z{_4}, z{_5}, z{_6}, z{_7}, z{_8}, z{_9} \\right) \\right) z{_8} + \\mathrm{\\frac{d}{d z{_4}}}\\left( \\mathrm{p{_3}}\\left( z{_1}, z{_2}, z{_3}, z{_4}, z{_5}, z{_6}, z{_7}, z{_8}, z{_9} \\right) \\right) z{_9} & \\mathrm{\\frac{d}{d z{_5}}}\\left( \\mathrm{p{_1}}\\left( z{_1}, z{_2}, z{_3}, z{_4}, z{_5}, z{_6}, z{_7}, z{_8}, z{_9} \\right) \\right) z{_7} + \\mathrm{\\frac{d}{d z{_5}}}\\left( \\mathrm{p{_2}}\\left( z{_1}, z{_2}, z{_3}, z{_4}, z{_5}, z{_6}, z{_7}, z{_8}, z{_9} \\right) \\right) z{_8} + \\mathrm{\\frac{d}{d z{_5}}}\\left( \\mathrm{p{_3}}\\left( z{_1}, z{_2}, z{_3}, z{_4}, z{_5}, z{_6}, z{_7}, z{_8}, z{_9} \\right) \\right) z{_9} & \\mathrm{\\frac{d}{d z{_6}}}\\left( \\mathrm{p{_1}}\\left( z{_1}, z{_2}, z{_3}, z{_4}, z{_5}, z{_6}, z{_7}, z{_8}, z{_9} \\right) \\right) z{_7} + \\mathrm{\\frac{d}{d z{_6}}}\\left( \\mathrm{p{_2}}\\left( z{_1}, z{_2}, z{_3}, z{_4}, z{_5}, z{_6}, z{_7}, z{_8}, z{_9} \\right) \\right) z{_8} + \\mathrm{\\frac{d}{d z{_6}}}\\left( \\mathrm{p{_3}}\\left( z{_1}, z{_2}, z{_3}, z{_4}, z{_5}, z{_6}, z{_7}, z{_8}, z{_9} \\right) \\right) z{_9} & \\mathrm{\\frac{d}{d z{_7}}}\\left( \\mathrm{p{_1}}\\left( z{_1}, z{_2}, z{_3}, z{_4}, z{_5}, z{_6}, z{_7}, z{_8}, z{_9} \\right) \\right) z{_7} + \\mathrm{\\frac{d}{d z{_7}}}\\left( \\mathrm{p{_2}}\\left( z{_1}, z{_2}, z{_3}, z{_4}, z{_5}, z{_6}, z{_7}, z{_8}, z{_9} \\right) \\right) z{_8} + \\mathrm{\\frac{d}{d z{_7}}}\\left( \\mathrm{p{_3}}\\left( z{_1}, z{_2}, z{_3}, z{_4}, z{_5}, z{_6}, z{_7}, z{_8}, z{_9} \\right) \\right) z{_9} + \\mathrm{p{_1}}\\left( z{_1}, z{_2}, z{_3}, z{_4}, z{_5}, z{_6}, z{_7}, z{_8}, z{_9} \\right) & \\mathrm{\\frac{d}{d z{_8}}}\\left( \\mathrm{p{_1}}\\left( z{_1}, z{_2}, z{_3}, z{_4}, z{_5}, z{_6}, z{_7}, z{_8}, z{_9} \\right) \\right) z{_7} + \\mathrm{\\frac{d}{d z{_8}}}\\left( \\mathrm{p{_2}}\\left( z{_1}, z{_2}, z{_3}, z{_4}, z{_5}, z{_6}, z{_7}, z{_8}, z{_9} \\right) \\right) z{_8} + \\mathrm{\\frac{d}{d z{_8}}}\\left( \\mathrm{p{_3}}\\left( z{_1}, z{_2}, z{_3}, z{_4}, z{_5}, z{_6}, z{_7}, z{_8}, z{_9} \\right) \\right) z{_9} + \\mathrm{p{_2}}\\left( z{_1}, z{_2}, z{_3}, z{_4}, z{_5}, z{_6}, z{_7}, z{_8}, z{_9} \\right) & \\mathrm{\\frac{d}{d z{_9}}}\\left( \\mathrm{p{_1}}\\left( z{_1}, z{_2}, z{_3}, z{_4}, z{_5}, z{_6}, z{_7}, z{_8}, z{_9} \\right) \\right) z{_7} + \\mathrm{\\frac{d}{d z{_9}}}\\left( \\mathrm{p{_2}}\\left( z{_1}, z{_2}, z{_3}, z{_4}, z{_5}, z{_6}, z{_7}, z{_8}, z{_9} \\right) \\right) z{_8} + \\mathrm{\\frac{d}{d z{_9}}}\\left( \\mathrm{p{_3}}\\left( z{_1}, z{_2}, z{_3}, z{_4}, z{_5}, z{_6}, z{_7}, z{_8}, z{_9} \\right) \\right) z{_9} + \\mathrm{p{_3}}\\left( z{_1}, z{_2}, z{_3}, z{_4}, z{_5}, z{_6}, z{_7}, z{_8}, z{_9} \\right) \\\\\n",
       "\\end{array}\n",
       "\\right]\n",
       "\\end{equation}\n"
      ],
      "text/plain": [
       "3×9 OffsetArray(::Matrix{Num}, 1:3, 1:9) with eltype Num with indices 1:3×1:9:\n",
       " Differential(z[1])(p[1](z[1], z[2], z[3], z[4], z[5], z[6], z[7], z[8], z[9]))*z[1] + Differential(z[1])(p[2](z[1], z[2], z[3], z[4], z[5], z[6], z[7], z[8], z[9]))*z[2] + Differential(z[1])(p[3](z[1], z[2], z[3], z[4], z[5], z[6], z[7], z[8], z[9]))*z[3] + p[1](z[1], z[2], z[3], z[4], z[5], z[6], z[7], z[8], z[9])  …  Differential(z[9])(p[1](z[1], z[2], z[3], z[4], z[5], z[6], z[7], z[8], z[9]))*z[1] + Differential(z[9])(p[2](z[1], z[2], z[3], z[4], z[5], z[6], z[7], z[8], z[9]))*z[2] + Differential(z[9])(p[3](z[1], z[2], z[3], z[4], z[5], z[6], z[7], z[8], z[9]))*z[3]\n",
       " Differential(z[1])(p[1](z[1], z[2], z[3], z[4], z[5], z[6], z[7], z[8], z[9]))*z[4] + Differential(z[1])(p[2](z[1], z[2], z[3], z[4], z[5], z[6], z[7], z[8], z[9]))*z[5] + Differential(z[1])(p[3](z[1], z[2], z[3], z[4], z[5], z[6], z[7], z[8], z[9]))*z[6]                                                                  Differential(z[9])(p[1](z[1], z[2], z[3], z[4], z[5], z[6], z[7], z[8], z[9]))*z[4] + Differential(z[9])(p[2](z[1], z[2], z[3], z[4], z[5], z[6], z[7], z[8], z[9]))*z[5] + Differential(z[9])(p[3](z[1], z[2], z[3], z[4], z[5], z[6], z[7], z[8], z[9]))*z[6]\n",
       " Differential(z[1])(p[1](z[1], z[2], z[3], z[4], z[5], z[6], z[7], z[8], z[9]))*z[7] + Differential(z[1])(p[2](z[1], z[2], z[3], z[4], z[5], z[6], z[7], z[8], z[9]))*z[8] + Differential(z[1])(p[3](z[1], z[2], z[3], z[4], z[5], z[6], z[7], z[8], z[9]))*z[9]                                                                  Differential(z[9])(p[1](z[1], z[2], z[3], z[4], z[5], z[6], z[7], z[8], z[9]))*z[7] + Differential(z[9])(p[2](z[1], z[2], z[3], z[4], z[5], z[6], z[7], z[8], z[9]))*z[8] + Differential(z[9])(p[3](z[1], z[2], z[3], z[4], z[5], z[6], z[7], z[8], z[9]))*z[9] + p[3](z[1], z[2], z[3], z[4], z[5], z[6], z[7], z[8], z[9])"
      ]
     },
     "execution_count": 393,
     "metadata": {},
     "output_type": "execute_result"
    }
   ],
   "source": [
    "D = Differential(z[1])\n",
    "deq = Symbolics.jacobian(eq,z)"
   ]
  },
  {
   "cell_type": "code",
   "execution_count": 394,
   "id": "e78876eb",
   "metadata": {},
   "outputs": [
    {
     "data": {
      "text/latex": [
       "\\begin{equation}\n",
       "\\left[\n",
       "\\begin{array}{ccccccccc}\n",
       "\\mathrm{\\frac{d}{d z{_1}}}\\left( \\mathrm{p{_1}}\\left( z{_1}, z{_2}, z{_3}, z{_4}, z{_5}, z{_6}, z{_7}, z{_8}, z{_9} \\right) \\right) z{_1} + \\mathrm{\\frac{d}{d z{_1}}}\\left( \\mathrm{p{_2}}\\left( z{_1}, z{_2}, z{_3}, z{_4}, z{_5}, z{_6}, z{_7}, z{_8}, z{_9} \\right) \\right) z{_2} + \\mathrm{\\frac{d}{d z{_1}}}\\left( \\mathrm{p{_3}}\\left( z{_1}, z{_2}, z{_3}, z{_4}, z{_5}, z{_6}, z{_7}, z{_8}, z{_9} \\right) \\right) z{_3} + \\mathrm{p{_1}}\\left( z{_1}, z{_2}, z{_3}, z{_4}, z{_5}, z{_6}, z{_7}, z{_8}, z{_9} \\right) & \\mathrm{\\frac{d}{d z{_2}}}\\left( \\mathrm{p{_1}}\\left( z{_1}, z{_2}, z{_3}, z{_4}, z{_5}, z{_6}, z{_7}, z{_8}, z{_9} \\right) \\right) z{_1} + \\mathrm{\\frac{d}{d z{_2}}}\\left( \\mathrm{p{_2}}\\left( z{_1}, z{_2}, z{_3}, z{_4}, z{_5}, z{_6}, z{_7}, z{_8}, z{_9} \\right) \\right) z{_2} + \\mathrm{\\frac{d}{d z{_2}}}\\left( \\mathrm{p{_3}}\\left( z{_1}, z{_2}, z{_3}, z{_4}, z{_5}, z{_6}, z{_7}, z{_8}, z{_9} \\right) \\right) z{_3} + \\mathrm{p{_2}}\\left( z{_1}, z{_2}, z{_3}, z{_4}, z{_5}, z{_6}, z{_7}, z{_8}, z{_9} \\right) & \\mathrm{\\frac{d}{d z{_3}}}\\left( \\mathrm{p{_1}}\\left( z{_1}, z{_2}, z{_3}, z{_4}, z{_5}, z{_6}, z{_7}, z{_8}, z{_9} \\right) \\right) z{_1} + \\mathrm{\\frac{d}{d z{_3}}}\\left( \\mathrm{p{_2}}\\left( z{_1}, z{_2}, z{_3}, z{_4}, z{_5}, z{_6}, z{_7}, z{_8}, z{_9} \\right) \\right) z{_2} + \\mathrm{\\frac{d}{d z{_3}}}\\left( \\mathrm{p{_3}}\\left( z{_1}, z{_2}, z{_3}, z{_4}, z{_5}, z{_6}, z{_7}, z{_8}, z{_9} \\right) \\right) z{_3} + \\mathrm{p{_3}}\\left( z{_1}, z{_2}, z{_3}, z{_4}, z{_5}, z{_6}, z{_7}, z{_8}, z{_9} \\right) & \\mathrm{\\frac{d}{d z{_4}}}\\left( \\mathrm{p{_1}}\\left( z{_1}, z{_2}, z{_3}, z{_4}, z{_5}, z{_6}, z{_7}, z{_8}, z{_9} \\right) \\right) z{_1} + \\mathrm{\\frac{d}{d z{_4}}}\\left( \\mathrm{p{_2}}\\left( z{_1}, z{_2}, z{_3}, z{_4}, z{_5}, z{_6}, z{_7}, z{_8}, z{_9} \\right) \\right) z{_2} + \\mathrm{\\frac{d}{d z{_4}}}\\left( \\mathrm{p{_3}}\\left( z{_1}, z{_2}, z{_3}, z{_4}, z{_5}, z{_6}, z{_7}, z{_8}, z{_9} \\right) \\right) z{_3} & \\mathrm{\\frac{d}{d z{_5}}}\\left( \\mathrm{p{_1}}\\left( z{_1}, z{_2}, z{_3}, z{_4}, z{_5}, z{_6}, z{_7}, z{_8}, z{_9} \\right) \\right) z{_1} + \\mathrm{\\frac{d}{d z{_5}}}\\left( \\mathrm{p{_2}}\\left( z{_1}, z{_2}, z{_3}, z{_4}, z{_5}, z{_6}, z{_7}, z{_8}, z{_9} \\right) \\right) z{_2} + \\mathrm{\\frac{d}{d z{_5}}}\\left( \\mathrm{p{_3}}\\left( z{_1}, z{_2}, z{_3}, z{_4}, z{_5}, z{_6}, z{_7}, z{_8}, z{_9} \\right) \\right) z{_3} & \\mathrm{\\frac{d}{d z{_6}}}\\left( \\mathrm{p{_1}}\\left( z{_1}, z{_2}, z{_3}, z{_4}, z{_5}, z{_6}, z{_7}, z{_8}, z{_9} \\right) \\right) z{_1} + \\mathrm{\\frac{d}{d z{_6}}}\\left( \\mathrm{p{_2}}\\left( z{_1}, z{_2}, z{_3}, z{_4}, z{_5}, z{_6}, z{_7}, z{_8}, z{_9} \\right) \\right) z{_2} + \\mathrm{\\frac{d}{d z{_6}}}\\left( \\mathrm{p{_3}}\\left( z{_1}, z{_2}, z{_3}, z{_4}, z{_5}, z{_6}, z{_7}, z{_8}, z{_9} \\right) \\right) z{_3} & \\mathrm{\\frac{d}{d z{_7}}}\\left( \\mathrm{p{_1}}\\left( z{_1}, z{_2}, z{_3}, z{_4}, z{_5}, z{_6}, z{_7}, z{_8}, z{_9} \\right) \\right) z{_1} + \\mathrm{\\frac{d}{d z{_7}}}\\left( \\mathrm{p{_2}}\\left( z{_1}, z{_2}, z{_3}, z{_4}, z{_5}, z{_6}, z{_7}, z{_8}, z{_9} \\right) \\right) z{_2} + \\mathrm{\\frac{d}{d z{_7}}}\\left( \\mathrm{p{_3}}\\left( z{_1}, z{_2}, z{_3}, z{_4}, z{_5}, z{_6}, z{_7}, z{_8}, z{_9} \\right) \\right) z{_3} & \\mathrm{\\frac{d}{d z{_8}}}\\left( \\mathrm{p{_1}}\\left( z{_1}, z{_2}, z{_3}, z{_4}, z{_5}, z{_6}, z{_7}, z{_8}, z{_9} \\right) \\right) z{_1} + \\mathrm{\\frac{d}{d z{_8}}}\\left( \\mathrm{p{_2}}\\left( z{_1}, z{_2}, z{_3}, z{_4}, z{_5}, z{_6}, z{_7}, z{_8}, z{_9} \\right) \\right) z{_2} + \\mathrm{\\frac{d}{d z{_8}}}\\left( \\mathrm{p{_3}}\\left( z{_1}, z{_2}, z{_3}, z{_4}, z{_5}, z{_6}, z{_7}, z{_8}, z{_9} \\right) \\right) z{_3} & \\mathrm{\\frac{d}{d z{_9}}}\\left( \\mathrm{p{_1}}\\left( z{_1}, z{_2}, z{_3}, z{_4}, z{_5}, z{_6}, z{_7}, z{_8}, z{_9} \\right) \\right) z{_1} + \\mathrm{\\frac{d}{d z{_9}}}\\left( \\mathrm{p{_2}}\\left( z{_1}, z{_2}, z{_3}, z{_4}, z{_5}, z{_6}, z{_7}, z{_8}, z{_9} \\right) \\right) z{_2} + \\mathrm{\\frac{d}{d z{_9}}}\\left( \\mathrm{p{_3}}\\left( z{_1}, z{_2}, z{_3}, z{_4}, z{_5}, z{_6}, z{_7}, z{_8}, z{_9} \\right) \\right) z{_3} \\\\\n",
       "\\mathrm{\\frac{d}{d z{_1}}}\\left( \\mathrm{p{_1}}\\left( z{_1}, z{_2}, z{_3}, z{_4}, z{_5}, z{_6}, z{_7}, z{_8}, z{_9} \\right) \\right) z{_4} + \\mathrm{\\frac{d}{d z{_1}}}\\left( \\mathrm{p{_2}}\\left( z{_1}, z{_2}, z{_3}, z{_4}, z{_5}, z{_6}, z{_7}, z{_8}, z{_9} \\right) \\right) z{_5} + \\mathrm{\\frac{d}{d z{_1}}}\\left( \\mathrm{p{_3}}\\left( z{_1}, z{_2}, z{_3}, z{_4}, z{_5}, z{_6}, z{_7}, z{_8}, z{_9} \\right) \\right) z{_6} & \\mathrm{\\frac{d}{d z{_2}}}\\left( \\mathrm{p{_1}}\\left( z{_1}, z{_2}, z{_3}, z{_4}, z{_5}, z{_6}, z{_7}, z{_8}, z{_9} \\right) \\right) z{_4} + \\mathrm{\\frac{d}{d z{_2}}}\\left( \\mathrm{p{_2}}\\left( z{_1}, z{_2}, z{_3}, z{_4}, z{_5}, z{_6}, z{_7}, z{_8}, z{_9} \\right) \\right) z{_5} + \\mathrm{\\frac{d}{d z{_2}}}\\left( \\mathrm{p{_3}}\\left( z{_1}, z{_2}, z{_3}, z{_4}, z{_5}, z{_6}, z{_7}, z{_8}, z{_9} \\right) \\right) z{_6} & \\mathrm{\\frac{d}{d z{_3}}}\\left( \\mathrm{p{_1}}\\left( z{_1}, z{_2}, z{_3}, z{_4}, z{_5}, z{_6}, z{_7}, z{_8}, z{_9} \\right) \\right) z{_4} + \\mathrm{\\frac{d}{d z{_3}}}\\left( \\mathrm{p{_2}}\\left( z{_1}, z{_2}, z{_3}, z{_4}, z{_5}, z{_6}, z{_7}, z{_8}, z{_9} \\right) \\right) z{_5} + \\mathrm{\\frac{d}{d z{_3}}}\\left( \\mathrm{p{_3}}\\left( z{_1}, z{_2}, z{_3}, z{_4}, z{_5}, z{_6}, z{_7}, z{_8}, z{_9} \\right) \\right) z{_6} & \\mathrm{\\frac{d}{d z{_4}}}\\left( \\mathrm{p{_1}}\\left( z{_1}, z{_2}, z{_3}, z{_4}, z{_5}, z{_6}, z{_7}, z{_8}, z{_9} \\right) \\right) z{_4} + \\mathrm{\\frac{d}{d z{_4}}}\\left( \\mathrm{p{_2}}\\left( z{_1}, z{_2}, z{_3}, z{_4}, z{_5}, z{_6}, z{_7}, z{_8}, z{_9} \\right) \\right) z{_5} + \\mathrm{\\frac{d}{d z{_4}}}\\left( \\mathrm{p{_3}}\\left( z{_1}, z{_2}, z{_3}, z{_4}, z{_5}, z{_6}, z{_7}, z{_8}, z{_9} \\right) \\right) z{_6} + \\mathrm{p{_1}}\\left( z{_1}, z{_2}, z{_3}, z{_4}, z{_5}, z{_6}, z{_7}, z{_8}, z{_9} \\right) & \\mathrm{\\frac{d}{d z{_5}}}\\left( \\mathrm{p{_1}}\\left( z{_1}, z{_2}, z{_3}, z{_4}, z{_5}, z{_6}, z{_7}, z{_8}, z{_9} \\right) \\right) z{_4} + \\mathrm{\\frac{d}{d z{_5}}}\\left( \\mathrm{p{_2}}\\left( z{_1}, z{_2}, z{_3}, z{_4}, z{_5}, z{_6}, z{_7}, z{_8}, z{_9} \\right) \\right) z{_5} + \\mathrm{\\frac{d}{d z{_5}}}\\left( \\mathrm{p{_3}}\\left( z{_1}, z{_2}, z{_3}, z{_4}, z{_5}, z{_6}, z{_7}, z{_8}, z{_9} \\right) \\right) z{_6} + \\mathrm{p{_2}}\\left( z{_1}, z{_2}, z{_3}, z{_4}, z{_5}, z{_6}, z{_7}, z{_8}, z{_9} \\right) & \\mathrm{\\frac{d}{d z{_6}}}\\left( \\mathrm{p{_1}}\\left( z{_1}, z{_2}, z{_3}, z{_4}, z{_5}, z{_6}, z{_7}, z{_8}, z{_9} \\right) \\right) z{_4} + \\mathrm{\\frac{d}{d z{_6}}}\\left( \\mathrm{p{_2}}\\left( z{_1}, z{_2}, z{_3}, z{_4}, z{_5}, z{_6}, z{_7}, z{_8}, z{_9} \\right) \\right) z{_5} + \\mathrm{\\frac{d}{d z{_6}}}\\left( \\mathrm{p{_3}}\\left( z{_1}, z{_2}, z{_3}, z{_4}, z{_5}, z{_6}, z{_7}, z{_8}, z{_9} \\right) \\right) z{_6} + \\mathrm{p{_3}}\\left( z{_1}, z{_2}, z{_3}, z{_4}, z{_5}, z{_6}, z{_7}, z{_8}, z{_9} \\right) & \\mathrm{\\frac{d}{d z{_7}}}\\left( \\mathrm{p{_1}}\\left( z{_1}, z{_2}, z{_3}, z{_4}, z{_5}, z{_6}, z{_7}, z{_8}, z{_9} \\right) \\right) z{_4} + \\mathrm{\\frac{d}{d z{_7}}}\\left( \\mathrm{p{_2}}\\left( z{_1}, z{_2}, z{_3}, z{_4}, z{_5}, z{_6}, z{_7}, z{_8}, z{_9} \\right) \\right) z{_5} + \\mathrm{\\frac{d}{d z{_7}}}\\left( \\mathrm{p{_3}}\\left( z{_1}, z{_2}, z{_3}, z{_4}, z{_5}, z{_6}, z{_7}, z{_8}, z{_9} \\right) \\right) z{_6} & \\mathrm{\\frac{d}{d z{_8}}}\\left( \\mathrm{p{_1}}\\left( z{_1}, z{_2}, z{_3}, z{_4}, z{_5}, z{_6}, z{_7}, z{_8}, z{_9} \\right) \\right) z{_4} + \\mathrm{\\frac{d}{d z{_8}}}\\left( \\mathrm{p{_2}}\\left( z{_1}, z{_2}, z{_3}, z{_4}, z{_5}, z{_6}, z{_7}, z{_8}, z{_9} \\right) \\right) z{_5} + \\mathrm{\\frac{d}{d z{_8}}}\\left( \\mathrm{p{_3}}\\left( z{_1}, z{_2}, z{_3}, z{_4}, z{_5}, z{_6}, z{_7}, z{_8}, z{_9} \\right) \\right) z{_6} & \\mathrm{\\frac{d}{d z{_9}}}\\left( \\mathrm{p{_1}}\\left( z{_1}, z{_2}, z{_3}, z{_4}, z{_5}, z{_6}, z{_7}, z{_8}, z{_9} \\right) \\right) z{_4} + \\mathrm{\\frac{d}{d z{_9}}}\\left( \\mathrm{p{_2}}\\left( z{_1}, z{_2}, z{_3}, z{_4}, z{_5}, z{_6}, z{_7}, z{_8}, z{_9} \\right) \\right) z{_5} + \\mathrm{\\frac{d}{d z{_9}}}\\left( \\mathrm{p{_3}}\\left( z{_1}, z{_2}, z{_3}, z{_4}, z{_5}, z{_6}, z{_7}, z{_8}, z{_9} \\right) \\right) z{_6} \\\\\n",
       "\\mathrm{\\frac{d}{d z{_1}}}\\left( \\mathrm{p{_1}}\\left( z{_1}, z{_2}, z{_3}, z{_4}, z{_5}, z{_6}, z{_7}, z{_8}, z{_9} \\right) \\right) z{_7} + \\mathrm{\\frac{d}{d z{_1}}}\\left( \\mathrm{p{_2}}\\left( z{_1}, z{_2}, z{_3}, z{_4}, z{_5}, z{_6}, z{_7}, z{_8}, z{_9} \\right) \\right) z{_8} + \\mathrm{\\frac{d}{d z{_1}}}\\left( \\mathrm{p{_3}}\\left( z{_1}, z{_2}, z{_3}, z{_4}, z{_5}, z{_6}, z{_7}, z{_8}, z{_9} \\right) \\right) z{_9} & \\mathrm{\\frac{d}{d z{_2}}}\\left( \\mathrm{p{_1}}\\left( z{_1}, z{_2}, z{_3}, z{_4}, z{_5}, z{_6}, z{_7}, z{_8}, z{_9} \\right) \\right) z{_7} + \\mathrm{\\frac{d}{d z{_2}}}\\left( \\mathrm{p{_2}}\\left( z{_1}, z{_2}, z{_3}, z{_4}, z{_5}, z{_6}, z{_7}, z{_8}, z{_9} \\right) \\right) z{_8} + \\mathrm{\\frac{d}{d z{_2}}}\\left( \\mathrm{p{_3}}\\left( z{_1}, z{_2}, z{_3}, z{_4}, z{_5}, z{_6}, z{_7}, z{_8}, z{_9} \\right) \\right) z{_9} & \\mathrm{\\frac{d}{d z{_3}}}\\left( \\mathrm{p{_1}}\\left( z{_1}, z{_2}, z{_3}, z{_4}, z{_5}, z{_6}, z{_7}, z{_8}, z{_9} \\right) \\right) z{_7} + \\mathrm{\\frac{d}{d z{_3}}}\\left( \\mathrm{p{_2}}\\left( z{_1}, z{_2}, z{_3}, z{_4}, z{_5}, z{_6}, z{_7}, z{_8}, z{_9} \\right) \\right) z{_8} + \\mathrm{\\frac{d}{d z{_3}}}\\left( \\mathrm{p{_3}}\\left( z{_1}, z{_2}, z{_3}, z{_4}, z{_5}, z{_6}, z{_7}, z{_8}, z{_9} \\right) \\right) z{_9} & \\mathrm{\\frac{d}{d z{_4}}}\\left( \\mathrm{p{_1}}\\left( z{_1}, z{_2}, z{_3}, z{_4}, z{_5}, z{_6}, z{_7}, z{_8}, z{_9} \\right) \\right) z{_7} + \\mathrm{\\frac{d}{d z{_4}}}\\left( \\mathrm{p{_2}}\\left( z{_1}, z{_2}, z{_3}, z{_4}, z{_5}, z{_6}, z{_7}, z{_8}, z{_9} \\right) \\right) z{_8} + \\mathrm{\\frac{d}{d z{_4}}}\\left( \\mathrm{p{_3}}\\left( z{_1}, z{_2}, z{_3}, z{_4}, z{_5}, z{_6}, z{_7}, z{_8}, z{_9} \\right) \\right) z{_9} & \\mathrm{\\frac{d}{d z{_5}}}\\left( \\mathrm{p{_1}}\\left( z{_1}, z{_2}, z{_3}, z{_4}, z{_5}, z{_6}, z{_7}, z{_8}, z{_9} \\right) \\right) z{_7} + \\mathrm{\\frac{d}{d z{_5}}}\\left( \\mathrm{p{_2}}\\left( z{_1}, z{_2}, z{_3}, z{_4}, z{_5}, z{_6}, z{_7}, z{_8}, z{_9} \\right) \\right) z{_8} + \\mathrm{\\frac{d}{d z{_5}}}\\left( \\mathrm{p{_3}}\\left( z{_1}, z{_2}, z{_3}, z{_4}, z{_5}, z{_6}, z{_7}, z{_8}, z{_9} \\right) \\right) z{_9} & \\mathrm{\\frac{d}{d z{_6}}}\\left( \\mathrm{p{_1}}\\left( z{_1}, z{_2}, z{_3}, z{_4}, z{_5}, z{_6}, z{_7}, z{_8}, z{_9} \\right) \\right) z{_7} + \\mathrm{\\frac{d}{d z{_6}}}\\left( \\mathrm{p{_2}}\\left( z{_1}, z{_2}, z{_3}, z{_4}, z{_5}, z{_6}, z{_7}, z{_8}, z{_9} \\right) \\right) z{_8} + \\mathrm{\\frac{d}{d z{_6}}}\\left( \\mathrm{p{_3}}\\left( z{_1}, z{_2}, z{_3}, z{_4}, z{_5}, z{_6}, z{_7}, z{_8}, z{_9} \\right) \\right) z{_9} & \\mathrm{\\frac{d}{d z{_7}}}\\left( \\mathrm{p{_1}}\\left( z{_1}, z{_2}, z{_3}, z{_4}, z{_5}, z{_6}, z{_7}, z{_8}, z{_9} \\right) \\right) z{_7} + \\mathrm{\\frac{d}{d z{_7}}}\\left( \\mathrm{p{_2}}\\left( z{_1}, z{_2}, z{_3}, z{_4}, z{_5}, z{_6}, z{_7}, z{_8}, z{_9} \\right) \\right) z{_8} + \\mathrm{\\frac{d}{d z{_7}}}\\left( \\mathrm{p{_3}}\\left( z{_1}, z{_2}, z{_3}, z{_4}, z{_5}, z{_6}, z{_7}, z{_8}, z{_9} \\right) \\right) z{_9} + \\mathrm{p{_1}}\\left( z{_1}, z{_2}, z{_3}, z{_4}, z{_5}, z{_6}, z{_7}, z{_8}, z{_9} \\right) & \\mathrm{\\frac{d}{d z{_8}}}\\left( \\mathrm{p{_1}}\\left( z{_1}, z{_2}, z{_3}, z{_4}, z{_5}, z{_6}, z{_7}, z{_8}, z{_9} \\right) \\right) z{_7} + \\mathrm{\\frac{d}{d z{_8}}}\\left( \\mathrm{p{_2}}\\left( z{_1}, z{_2}, z{_3}, z{_4}, z{_5}, z{_6}, z{_7}, z{_8}, z{_9} \\right) \\right) z{_8} + \\mathrm{\\frac{d}{d z{_8}}}\\left( \\mathrm{p{_3}}\\left( z{_1}, z{_2}, z{_3}, z{_4}, z{_5}, z{_6}, z{_7}, z{_8}, z{_9} \\right) \\right) z{_9} + \\mathrm{p{_2}}\\left( z{_1}, z{_2}, z{_3}, z{_4}, z{_5}, z{_6}, z{_7}, z{_8}, z{_9} \\right) & \\mathrm{\\frac{d}{d z{_9}}}\\left( \\mathrm{p{_1}}\\left( z{_1}, z{_2}, z{_3}, z{_4}, z{_5}, z{_6}, z{_7}, z{_8}, z{_9} \\right) \\right) z{_7} + \\mathrm{\\frac{d}{d z{_9}}}\\left( \\mathrm{p{_2}}\\left( z{_1}, z{_2}, z{_3}, z{_4}, z{_5}, z{_6}, z{_7}, z{_8}, z{_9} \\right) \\right) z{_8} + \\mathrm{\\frac{d}{d z{_9}}}\\left( \\mathrm{p{_3}}\\left( z{_1}, z{_2}, z{_3}, z{_4}, z{_5}, z{_6}, z{_7}, z{_8}, z{_9} \\right) \\right) z{_9} + \\mathrm{p{_3}}\\left( z{_1}, z{_2}, z{_3}, z{_4}, z{_5}, z{_6}, z{_7}, z{_8}, z{_9} \\right) \\\\\n",
       "\\end{array}\n",
       "\\right]\n",
       "\\end{equation}\n"
      ],
      "text/plain": [
       "3×9 OffsetArray(::Matrix{Num}, 1:3, 1:9) with eltype Num with indices 1:3×1:9:\n",
       " Differential(z[1])(p[1](z[1], z[2], z[3], z[4], z[5], z[6], z[7], z[8], z[9]))*z[1] + Differential(z[1])(p[2](z[1], z[2], z[3], z[4], z[5], z[6], z[7], z[8], z[9]))*z[2] + Differential(z[1])(p[3](z[1], z[2], z[3], z[4], z[5], z[6], z[7], z[8], z[9]))*z[3] + p[1](z[1], z[2], z[3], z[4], z[5], z[6], z[7], z[8], z[9])  …  Differential(z[9])(p[1](z[1], z[2], z[3], z[4], z[5], z[6], z[7], z[8], z[9]))*z[1] + Differential(z[9])(p[2](z[1], z[2], z[3], z[4], z[5], z[6], z[7], z[8], z[9]))*z[2] + Differential(z[9])(p[3](z[1], z[2], z[3], z[4], z[5], z[6], z[7], z[8], z[9]))*z[3]\n",
       " Differential(z[1])(p[1](z[1], z[2], z[3], z[4], z[5], z[6], z[7], z[8], z[9]))*z[4] + Differential(z[1])(p[2](z[1], z[2], z[3], z[4], z[5], z[6], z[7], z[8], z[9]))*z[5] + Differential(z[1])(p[3](z[1], z[2], z[3], z[4], z[5], z[6], z[7], z[8], z[9]))*z[6]                                                                  Differential(z[9])(p[1](z[1], z[2], z[3], z[4], z[5], z[6], z[7], z[8], z[9]))*z[4] + Differential(z[9])(p[2](z[1], z[2], z[3], z[4], z[5], z[6], z[7], z[8], z[9]))*z[5] + Differential(z[9])(p[3](z[1], z[2], z[3], z[4], z[5], z[6], z[7], z[8], z[9]))*z[6]\n",
       " Differential(z[1])(p[1](z[1], z[2], z[3], z[4], z[5], z[6], z[7], z[8], z[9]))*z[7] + Differential(z[1])(p[2](z[1], z[2], z[3], z[4], z[5], z[6], z[7], z[8], z[9]))*z[8] + Differential(z[1])(p[3](z[1], z[2], z[3], z[4], z[5], z[6], z[7], z[8], z[9]))*z[9]                                                                  Differential(z[9])(p[1](z[1], z[2], z[3], z[4], z[5], z[6], z[7], z[8], z[9]))*z[7] + Differential(z[9])(p[2](z[1], z[2], z[3], z[4], z[5], z[6], z[7], z[8], z[9]))*z[8] + Differential(z[9])(p[3](z[1], z[2], z[3], z[4], z[5], z[6], z[7], z[8], z[9]))*z[9] + p[3](z[1], z[2], z[3], z[4], z[5], z[6], z[7], z[8], z[9])"
      ]
     },
     "execution_count": 394,
     "metadata": {},
     "output_type": "execute_result"
    }
   ],
   "source": [
    "Symbolics.simplify(deq)"
   ]
  },
  {
   "cell_type": "code",
   "execution_count": 395,
   "id": "9a0b6549",
   "metadata": {},
   "outputs": [
    {
     "data": {
      "text/latex": [
       "\\begin{equation}\n",
       "\\left[\n",
       "\\begin{array}{ccccccccc}\n",
       "\\mathrm{\\frac{d}{d z{_1}}}\\left( \\mathrm{p{_1}}\\left( z{_1}, z{_2}, z{_3}, z{_4}, z{_5}, z{_6}, z{_7}, z{_8}, z{_9} \\right) \\right) z{_1} + \\mathrm{\\frac{d}{d z{_1}}}\\left( \\mathrm{p{_2}}\\left( z{_1}, z{_2}, z{_3}, z{_4}, z{_5}, z{_6}, z{_7}, z{_8}, z{_9} \\right) \\right) z{_2} + \\mathrm{\\frac{d}{d z{_1}}}\\left( \\mathrm{p{_3}}\\left( z{_1}, z{_2}, z{_3}, z{_4}, z{_5}, z{_6}, z{_7}, z{_8}, z{_9} \\right) \\right) z{_3} + \\mathrm{p{_1}}\\left( z{_1}, z{_2}, z{_3}, z{_4}, z{_5}, z{_6}, z{_7}, z{_8}, z{_9} \\right) & \\mathrm{\\frac{d}{d z{_2}}}\\left( \\mathrm{p{_1}}\\left( z{_1}, z{_2}, z{_3}, z{_4}, z{_5}, z{_6}, z{_7}, z{_8}, z{_9} \\right) \\right) z{_1} + \\mathrm{\\frac{d}{d z{_2}}}\\left( \\mathrm{p{_2}}\\left( z{_1}, z{_2}, z{_3}, z{_4}, z{_5}, z{_6}, z{_7}, z{_8}, z{_9} \\right) \\right) z{_2} + \\mathrm{\\frac{d}{d z{_2}}}\\left( \\mathrm{p{_3}}\\left( z{_1}, z{_2}, z{_3}, z{_4}, z{_5}, z{_6}, z{_7}, z{_8}, z{_9} \\right) \\right) z{_3} + \\mathrm{p{_2}}\\left( z{_1}, z{_2}, z{_3}, z{_4}, z{_5}, z{_6}, z{_7}, z{_8}, z{_9} \\right) & \\mathrm{\\frac{d}{d z{_3}}}\\left( \\mathrm{p{_1}}\\left( z{_1}, z{_2}, z{_3}, z{_4}, z{_5}, z{_6}, z{_7}, z{_8}, z{_9} \\right) \\right) z{_1} + \\mathrm{\\frac{d}{d z{_3}}}\\left( \\mathrm{p{_2}}\\left( z{_1}, z{_2}, z{_3}, z{_4}, z{_5}, z{_6}, z{_7}, z{_8}, z{_9} \\right) \\right) z{_2} + \\mathrm{\\frac{d}{d z{_3}}}\\left( \\mathrm{p{_3}}\\left( z{_1}, z{_2}, z{_3}, z{_4}, z{_5}, z{_6}, z{_7}, z{_8}, z{_9} \\right) \\right) z{_3} + \\mathrm{p{_3}}\\left( z{_1}, z{_2}, z{_3}, z{_4}, z{_5}, z{_6}, z{_7}, z{_8}, z{_9} \\right) & \\mathrm{\\frac{d}{d z{_4}}}\\left( \\mathrm{p{_1}}\\left( z{_1}, z{_2}, z{_3}, z{_4}, z{_5}, z{_6}, z{_7}, z{_8}, z{_9} \\right) \\right) z{_1} + \\mathrm{\\frac{d}{d z{_4}}}\\left( \\mathrm{p{_2}}\\left( z{_1}, z{_2}, z{_3}, z{_4}, z{_5}, z{_6}, z{_7}, z{_8}, z{_9} \\right) \\right) z{_2} + \\mathrm{\\frac{d}{d z{_4}}}\\left( \\mathrm{p{_3}}\\left( z{_1}, z{_2}, z{_3}, z{_4}, z{_5}, z{_6}, z{_7}, z{_8}, z{_9} \\right) \\right) z{_3} & \\mathrm{\\frac{d}{d z{_5}}}\\left( \\mathrm{p{_1}}\\left( z{_1}, z{_2}, z{_3}, z{_4}, z{_5}, z{_6}, z{_7}, z{_8}, z{_9} \\right) \\right) z{_1} + \\mathrm{\\frac{d}{d z{_5}}}\\left( \\mathrm{p{_2}}\\left( z{_1}, z{_2}, z{_3}, z{_4}, z{_5}, z{_6}, z{_7}, z{_8}, z{_9} \\right) \\right) z{_2} + \\mathrm{\\frac{d}{d z{_5}}}\\left( \\mathrm{p{_3}}\\left( z{_1}, z{_2}, z{_3}, z{_4}, z{_5}, z{_6}, z{_7}, z{_8}, z{_9} \\right) \\right) z{_3} & \\mathrm{\\frac{d}{d z{_6}}}\\left( \\mathrm{p{_1}}\\left( z{_1}, z{_2}, z{_3}, z{_4}, z{_5}, z{_6}, z{_7}, z{_8}, z{_9} \\right) \\right) z{_1} + \\mathrm{\\frac{d}{d z{_6}}}\\left( \\mathrm{p{_2}}\\left( z{_1}, z{_2}, z{_3}, z{_4}, z{_5}, z{_6}, z{_7}, z{_8}, z{_9} \\right) \\right) z{_2} + \\mathrm{\\frac{d}{d z{_6}}}\\left( \\mathrm{p{_3}}\\left( z{_1}, z{_2}, z{_3}, z{_4}, z{_5}, z{_6}, z{_7}, z{_8}, z{_9} \\right) \\right) z{_3} & \\mathrm{\\frac{d}{d z{_7}}}\\left( \\mathrm{p{_1}}\\left( z{_1}, z{_2}, z{_3}, z{_4}, z{_5}, z{_6}, z{_7}, z{_8}, z{_9} \\right) \\right) z{_1} + \\mathrm{\\frac{d}{d z{_7}}}\\left( \\mathrm{p{_2}}\\left( z{_1}, z{_2}, z{_3}, z{_4}, z{_5}, z{_6}, z{_7}, z{_8}, z{_9} \\right) \\right) z{_2} + \\mathrm{\\frac{d}{d z{_7}}}\\left( \\mathrm{p{_3}}\\left( z{_1}, z{_2}, z{_3}, z{_4}, z{_5}, z{_6}, z{_7}, z{_8}, z{_9} \\right) \\right) z{_3} & \\mathrm{\\frac{d}{d z{_8}}}\\left( \\mathrm{p{_1}}\\left( z{_1}, z{_2}, z{_3}, z{_4}, z{_5}, z{_6}, z{_7}, z{_8}, z{_9} \\right) \\right) z{_1} + \\mathrm{\\frac{d}{d z{_8}}}\\left( \\mathrm{p{_2}}\\left( z{_1}, z{_2}, z{_3}, z{_4}, z{_5}, z{_6}, z{_7}, z{_8}, z{_9} \\right) \\right) z{_2} + \\mathrm{\\frac{d}{d z{_8}}}\\left( \\mathrm{p{_3}}\\left( z{_1}, z{_2}, z{_3}, z{_4}, z{_5}, z{_6}, z{_7}, z{_8}, z{_9} \\right) \\right) z{_3} & \\mathrm{\\frac{d}{d z{_9}}}\\left( \\mathrm{p{_1}}\\left( z{_1}, z{_2}, z{_3}, z{_4}, z{_5}, z{_6}, z{_7}, z{_8}, z{_9} \\right) \\right) z{_1} + \\mathrm{\\frac{d}{d z{_9}}}\\left( \\mathrm{p{_2}}\\left( z{_1}, z{_2}, z{_3}, z{_4}, z{_5}, z{_6}, z{_7}, z{_8}, z{_9} \\right) \\right) z{_2} + \\mathrm{\\frac{d}{d z{_9}}}\\left( \\mathrm{p{_3}}\\left( z{_1}, z{_2}, z{_3}, z{_4}, z{_5}, z{_6}, z{_7}, z{_8}, z{_9} \\right) \\right) z{_3} \\\\\n",
       "\\mathrm{\\frac{d}{d z{_1}}}\\left( \\mathrm{p{_1}}\\left( z{_1}, z{_2}, z{_3}, z{_4}, z{_5}, z{_6}, z{_7}, z{_8}, z{_9} \\right) \\right) z{_4} + \\mathrm{\\frac{d}{d z{_1}}}\\left( \\mathrm{p{_2}}\\left( z{_1}, z{_2}, z{_3}, z{_4}, z{_5}, z{_6}, z{_7}, z{_8}, z{_9} \\right) \\right) z{_5} + \\mathrm{\\frac{d}{d z{_1}}}\\left( \\mathrm{p{_3}}\\left( z{_1}, z{_2}, z{_3}, z{_4}, z{_5}, z{_6}, z{_7}, z{_8}, z{_9} \\right) \\right) z{_6} & \\mathrm{\\frac{d}{d z{_2}}}\\left( \\mathrm{p{_1}}\\left( z{_1}, z{_2}, z{_3}, z{_4}, z{_5}, z{_6}, z{_7}, z{_8}, z{_9} \\right) \\right) z{_4} + \\mathrm{\\frac{d}{d z{_2}}}\\left( \\mathrm{p{_2}}\\left( z{_1}, z{_2}, z{_3}, z{_4}, z{_5}, z{_6}, z{_7}, z{_8}, z{_9} \\right) \\right) z{_5} + \\mathrm{\\frac{d}{d z{_2}}}\\left( \\mathrm{p{_3}}\\left( z{_1}, z{_2}, z{_3}, z{_4}, z{_5}, z{_6}, z{_7}, z{_8}, z{_9} \\right) \\right) z{_6} & \\mathrm{\\frac{d}{d z{_3}}}\\left( \\mathrm{p{_1}}\\left( z{_1}, z{_2}, z{_3}, z{_4}, z{_5}, z{_6}, z{_7}, z{_8}, z{_9} \\right) \\right) z{_4} + \\mathrm{\\frac{d}{d z{_3}}}\\left( \\mathrm{p{_2}}\\left( z{_1}, z{_2}, z{_3}, z{_4}, z{_5}, z{_6}, z{_7}, z{_8}, z{_9} \\right) \\right) z{_5} + \\mathrm{\\frac{d}{d z{_3}}}\\left( \\mathrm{p{_3}}\\left( z{_1}, z{_2}, z{_3}, z{_4}, z{_5}, z{_6}, z{_7}, z{_8}, z{_9} \\right) \\right) z{_6} & \\mathrm{\\frac{d}{d z{_4}}}\\left( \\mathrm{p{_1}}\\left( z{_1}, z{_2}, z{_3}, z{_4}, z{_5}, z{_6}, z{_7}, z{_8}, z{_9} \\right) \\right) z{_4} + \\mathrm{\\frac{d}{d z{_4}}}\\left( \\mathrm{p{_2}}\\left( z{_1}, z{_2}, z{_3}, z{_4}, z{_5}, z{_6}, z{_7}, z{_8}, z{_9} \\right) \\right) z{_5} + \\mathrm{\\frac{d}{d z{_4}}}\\left( \\mathrm{p{_3}}\\left( z{_1}, z{_2}, z{_3}, z{_4}, z{_5}, z{_6}, z{_7}, z{_8}, z{_9} \\right) \\right) z{_6} + \\mathrm{p{_1}}\\left( z{_1}, z{_2}, z{_3}, z{_4}, z{_5}, z{_6}, z{_7}, z{_8}, z{_9} \\right) & \\mathrm{\\frac{d}{d z{_5}}}\\left( \\mathrm{p{_1}}\\left( z{_1}, z{_2}, z{_3}, z{_4}, z{_5}, z{_6}, z{_7}, z{_8}, z{_9} \\right) \\right) z{_4} + \\mathrm{\\frac{d}{d z{_5}}}\\left( \\mathrm{p{_2}}\\left( z{_1}, z{_2}, z{_3}, z{_4}, z{_5}, z{_6}, z{_7}, z{_8}, z{_9} \\right) \\right) z{_5} + \\mathrm{\\frac{d}{d z{_5}}}\\left( \\mathrm{p{_3}}\\left( z{_1}, z{_2}, z{_3}, z{_4}, z{_5}, z{_6}, z{_7}, z{_8}, z{_9} \\right) \\right) z{_6} + \\mathrm{p{_2}}\\left( z{_1}, z{_2}, z{_3}, z{_4}, z{_5}, z{_6}, z{_7}, z{_8}, z{_9} \\right) & \\mathrm{\\frac{d}{d z{_6}}}\\left( \\mathrm{p{_1}}\\left( z{_1}, z{_2}, z{_3}, z{_4}, z{_5}, z{_6}, z{_7}, z{_8}, z{_9} \\right) \\right) z{_4} + \\mathrm{\\frac{d}{d z{_6}}}\\left( \\mathrm{p{_2}}\\left( z{_1}, z{_2}, z{_3}, z{_4}, z{_5}, z{_6}, z{_7}, z{_8}, z{_9} \\right) \\right) z{_5} + \\mathrm{\\frac{d}{d z{_6}}}\\left( \\mathrm{p{_3}}\\left( z{_1}, z{_2}, z{_3}, z{_4}, z{_5}, z{_6}, z{_7}, z{_8}, z{_9} \\right) \\right) z{_6} + \\mathrm{p{_3}}\\left( z{_1}, z{_2}, z{_3}, z{_4}, z{_5}, z{_6}, z{_7}, z{_8}, z{_9} \\right) & \\mathrm{\\frac{d}{d z{_7}}}\\left( \\mathrm{p{_1}}\\left( z{_1}, z{_2}, z{_3}, z{_4}, z{_5}, z{_6}, z{_7}, z{_8}, z{_9} \\right) \\right) z{_4} + \\mathrm{\\frac{d}{d z{_7}}}\\left( \\mathrm{p{_2}}\\left( z{_1}, z{_2}, z{_3}, z{_4}, z{_5}, z{_6}, z{_7}, z{_8}, z{_9} \\right) \\right) z{_5} + \\mathrm{\\frac{d}{d z{_7}}}\\left( \\mathrm{p{_3}}\\left( z{_1}, z{_2}, z{_3}, z{_4}, z{_5}, z{_6}, z{_7}, z{_8}, z{_9} \\right) \\right) z{_6} & \\mathrm{\\frac{d}{d z{_8}}}\\left( \\mathrm{p{_1}}\\left( z{_1}, z{_2}, z{_3}, z{_4}, z{_5}, z{_6}, z{_7}, z{_8}, z{_9} \\right) \\right) z{_4} + \\mathrm{\\frac{d}{d z{_8}}}\\left( \\mathrm{p{_2}}\\left( z{_1}, z{_2}, z{_3}, z{_4}, z{_5}, z{_6}, z{_7}, z{_8}, z{_9} \\right) \\right) z{_5} + \\mathrm{\\frac{d}{d z{_8}}}\\left( \\mathrm{p{_3}}\\left( z{_1}, z{_2}, z{_3}, z{_4}, z{_5}, z{_6}, z{_7}, z{_8}, z{_9} \\right) \\right) z{_6} & \\mathrm{\\frac{d}{d z{_9}}}\\left( \\mathrm{p{_1}}\\left( z{_1}, z{_2}, z{_3}, z{_4}, z{_5}, z{_6}, z{_7}, z{_8}, z{_9} \\right) \\right) z{_4} + \\mathrm{\\frac{d}{d z{_9}}}\\left( \\mathrm{p{_2}}\\left( z{_1}, z{_2}, z{_3}, z{_4}, z{_5}, z{_6}, z{_7}, z{_8}, z{_9} \\right) \\right) z{_5} + \\mathrm{\\frac{d}{d z{_9}}}\\left( \\mathrm{p{_3}}\\left( z{_1}, z{_2}, z{_3}, z{_4}, z{_5}, z{_6}, z{_7}, z{_8}, z{_9} \\right) \\right) z{_6} \\\\\n",
       "\\mathrm{\\frac{d}{d z{_1}}}\\left( \\mathrm{p{_1}}\\left( z{_1}, z{_2}, z{_3}, z{_4}, z{_5}, z{_6}, z{_7}, z{_8}, z{_9} \\right) \\right) z{_7} + \\mathrm{\\frac{d}{d z{_1}}}\\left( \\mathrm{p{_2}}\\left( z{_1}, z{_2}, z{_3}, z{_4}, z{_5}, z{_6}, z{_7}, z{_8}, z{_9} \\right) \\right) z{_8} + \\mathrm{\\frac{d}{d z{_1}}}\\left( \\mathrm{p{_3}}\\left( z{_1}, z{_2}, z{_3}, z{_4}, z{_5}, z{_6}, z{_7}, z{_8}, z{_9} \\right) \\right) z{_9} & \\mathrm{\\frac{d}{d z{_2}}}\\left( \\mathrm{p{_1}}\\left( z{_1}, z{_2}, z{_3}, z{_4}, z{_5}, z{_6}, z{_7}, z{_8}, z{_9} \\right) \\right) z{_7} + \\mathrm{\\frac{d}{d z{_2}}}\\left( \\mathrm{p{_2}}\\left( z{_1}, z{_2}, z{_3}, z{_4}, z{_5}, z{_6}, z{_7}, z{_8}, z{_9} \\right) \\right) z{_8} + \\mathrm{\\frac{d}{d z{_2}}}\\left( \\mathrm{p{_3}}\\left( z{_1}, z{_2}, z{_3}, z{_4}, z{_5}, z{_6}, z{_7}, z{_8}, z{_9} \\right) \\right) z{_9} & \\mathrm{\\frac{d}{d z{_3}}}\\left( \\mathrm{p{_1}}\\left( z{_1}, z{_2}, z{_3}, z{_4}, z{_5}, z{_6}, z{_7}, z{_8}, z{_9} \\right) \\right) z{_7} + \\mathrm{\\frac{d}{d z{_3}}}\\left( \\mathrm{p{_2}}\\left( z{_1}, z{_2}, z{_3}, z{_4}, z{_5}, z{_6}, z{_7}, z{_8}, z{_9} \\right) \\right) z{_8} + \\mathrm{\\frac{d}{d z{_3}}}\\left( \\mathrm{p{_3}}\\left( z{_1}, z{_2}, z{_3}, z{_4}, z{_5}, z{_6}, z{_7}, z{_8}, z{_9} \\right) \\right) z{_9} & \\mathrm{\\frac{d}{d z{_4}}}\\left( \\mathrm{p{_1}}\\left( z{_1}, z{_2}, z{_3}, z{_4}, z{_5}, z{_6}, z{_7}, z{_8}, z{_9} \\right) \\right) z{_7} + \\mathrm{\\frac{d}{d z{_4}}}\\left( \\mathrm{p{_2}}\\left( z{_1}, z{_2}, z{_3}, z{_4}, z{_5}, z{_6}, z{_7}, z{_8}, z{_9} \\right) \\right) z{_8} + \\mathrm{\\frac{d}{d z{_4}}}\\left( \\mathrm{p{_3}}\\left( z{_1}, z{_2}, z{_3}, z{_4}, z{_5}, z{_6}, z{_7}, z{_8}, z{_9} \\right) \\right) z{_9} & \\mathrm{\\frac{d}{d z{_5}}}\\left( \\mathrm{p{_1}}\\left( z{_1}, z{_2}, z{_3}, z{_4}, z{_5}, z{_6}, z{_7}, z{_8}, z{_9} \\right) \\right) z{_7} + \\mathrm{\\frac{d}{d z{_5}}}\\left( \\mathrm{p{_2}}\\left( z{_1}, z{_2}, z{_3}, z{_4}, z{_5}, z{_6}, z{_7}, z{_8}, z{_9} \\right) \\right) z{_8} + \\mathrm{\\frac{d}{d z{_5}}}\\left( \\mathrm{p{_3}}\\left( z{_1}, z{_2}, z{_3}, z{_4}, z{_5}, z{_6}, z{_7}, z{_8}, z{_9} \\right) \\right) z{_9} & \\mathrm{\\frac{d}{d z{_6}}}\\left( \\mathrm{p{_1}}\\left( z{_1}, z{_2}, z{_3}, z{_4}, z{_5}, z{_6}, z{_7}, z{_8}, z{_9} \\right) \\right) z{_7} + \\mathrm{\\frac{d}{d z{_6}}}\\left( \\mathrm{p{_2}}\\left( z{_1}, z{_2}, z{_3}, z{_4}, z{_5}, z{_6}, z{_7}, z{_8}, z{_9} \\right) \\right) z{_8} + \\mathrm{\\frac{d}{d z{_6}}}\\left( \\mathrm{p{_3}}\\left( z{_1}, z{_2}, z{_3}, z{_4}, z{_5}, z{_6}, z{_7}, z{_8}, z{_9} \\right) \\right) z{_9} & \\mathrm{\\frac{d}{d z{_7}}}\\left( \\mathrm{p{_1}}\\left( z{_1}, z{_2}, z{_3}, z{_4}, z{_5}, z{_6}, z{_7}, z{_8}, z{_9} \\right) \\right) z{_7} + \\mathrm{\\frac{d}{d z{_7}}}\\left( \\mathrm{p{_2}}\\left( z{_1}, z{_2}, z{_3}, z{_4}, z{_5}, z{_6}, z{_7}, z{_8}, z{_9} \\right) \\right) z{_8} + \\mathrm{\\frac{d}{d z{_7}}}\\left( \\mathrm{p{_3}}\\left( z{_1}, z{_2}, z{_3}, z{_4}, z{_5}, z{_6}, z{_7}, z{_8}, z{_9} \\right) \\right) z{_9} + \\mathrm{p{_1}}\\left( z{_1}, z{_2}, z{_3}, z{_4}, z{_5}, z{_6}, z{_7}, z{_8}, z{_9} \\right) & \\mathrm{\\frac{d}{d z{_8}}}\\left( \\mathrm{p{_1}}\\left( z{_1}, z{_2}, z{_3}, z{_4}, z{_5}, z{_6}, z{_7}, z{_8}, z{_9} \\right) \\right) z{_7} + \\mathrm{\\frac{d}{d z{_8}}}\\left( \\mathrm{p{_2}}\\left( z{_1}, z{_2}, z{_3}, z{_4}, z{_5}, z{_6}, z{_7}, z{_8}, z{_9} \\right) \\right) z{_8} + \\mathrm{\\frac{d}{d z{_8}}}\\left( \\mathrm{p{_3}}\\left( z{_1}, z{_2}, z{_3}, z{_4}, z{_5}, z{_6}, z{_7}, z{_8}, z{_9} \\right) \\right) z{_9} + \\mathrm{p{_2}}\\left( z{_1}, z{_2}, z{_3}, z{_4}, z{_5}, z{_6}, z{_7}, z{_8}, z{_9} \\right) & \\mathrm{\\frac{d}{d z{_9}}}\\left( \\mathrm{p{_1}}\\left( z{_1}, z{_2}, z{_3}, z{_4}, z{_5}, z{_6}, z{_7}, z{_8}, z{_9} \\right) \\right) z{_7} + \\mathrm{\\frac{d}{d z{_9}}}\\left( \\mathrm{p{_2}}\\left( z{_1}, z{_2}, z{_3}, z{_4}, z{_5}, z{_6}, z{_7}, z{_8}, z{_9} \\right) \\right) z{_8} + \\mathrm{\\frac{d}{d z{_9}}}\\left( \\mathrm{p{_3}}\\left( z{_1}, z{_2}, z{_3}, z{_4}, z{_5}, z{_6}, z{_7}, z{_8}, z{_9} \\right) \\right) z{_9} + \\mathrm{p{_3}}\\left( z{_1}, z{_2}, z{_3}, z{_4}, z{_5}, z{_6}, z{_7}, z{_8}, z{_9} \\right) \\\\\n",
       "\\end{array}\n",
       "\\right]\n",
       "\\end{equation}\n"
      ],
      "text/plain": [
       "3×9 OffsetArray(::Matrix{Num}, 1:3, 1:9) with eltype Num with indices 1:3×1:9:\n",
       " Differential(z[1])(p[1](z[1], z[2], z[3], z[4], z[5], z[6], z[7], z[8], z[9]))*z[1] + Differential(z[1])(p[2](z[1], z[2], z[3], z[4], z[5], z[6], z[7], z[8], z[9]))*z[2] + Differential(z[1])(p[3](z[1], z[2], z[3], z[4], z[5], z[6], z[7], z[8], z[9]))*z[3] + p[1](z[1], z[2], z[3], z[4], z[5], z[6], z[7], z[8], z[9])  …  Differential(z[9])(p[1](z[1], z[2], z[3], z[4], z[5], z[6], z[7], z[8], z[9]))*z[1] + Differential(z[9])(p[2](z[1], z[2], z[3], z[4], z[5], z[6], z[7], z[8], z[9]))*z[2] + Differential(z[9])(p[3](z[1], z[2], z[3], z[4], z[5], z[6], z[7], z[8], z[9]))*z[3]\n",
       " Differential(z[1])(p[1](z[1], z[2], z[3], z[4], z[5], z[6], z[7], z[8], z[9]))*z[4] + Differential(z[1])(p[2](z[1], z[2], z[3], z[4], z[5], z[6], z[7], z[8], z[9]))*z[5] + Differential(z[1])(p[3](z[1], z[2], z[3], z[4], z[5], z[6], z[7], z[8], z[9]))*z[6]                                                                  Differential(z[9])(p[1](z[1], z[2], z[3], z[4], z[5], z[6], z[7], z[8], z[9]))*z[4] + Differential(z[9])(p[2](z[1], z[2], z[3], z[4], z[5], z[6], z[7], z[8], z[9]))*z[5] + Differential(z[9])(p[3](z[1], z[2], z[3], z[4], z[5], z[6], z[7], z[8], z[9]))*z[6]\n",
       " Differential(z[1])(p[1](z[1], z[2], z[3], z[4], z[5], z[6], z[7], z[8], z[9]))*z[7] + Differential(z[1])(p[2](z[1], z[2], z[3], z[4], z[5], z[6], z[7], z[8], z[9]))*z[8] + Differential(z[1])(p[3](z[1], z[2], z[3], z[4], z[5], z[6], z[7], z[8], z[9]))*z[9]                                                                  Differential(z[9])(p[1](z[1], z[2], z[3], z[4], z[5], z[6], z[7], z[8], z[9]))*z[7] + Differential(z[9])(p[2](z[1], z[2], z[3], z[4], z[5], z[6], z[7], z[8], z[9]))*z[8] + Differential(z[9])(p[3](z[1], z[2], z[3], z[4], z[5], z[6], z[7], z[8], z[9]))*z[9] + p[3](z[1], z[2], z[3], z[4], z[5], z[6], z[7], z[8], z[9])"
      ]
     },
     "execution_count": 395,
     "metadata": {},
     "output_type": "execute_result"
    }
   ],
   "source": [
    "_deq = expand_derivatives(deq)"
   ]
  },
  {
   "cell_type": "code",
   "execution_count": 396,
   "id": "d4e1c090",
   "metadata": {},
   "outputs": [
    {
     "data": {
      "text/latex": [
       "\\begin{equation}\n",
       "\\left[\n",
       "\\begin{array}{c}\n",
       "\\mathrm{\\frac{d}{d z{_1}}}\\left( \\mathrm{p{_1}}\\left( z{_1}, z{_2}, z{_3}, z{_4}, z{_5}, z{_6}, z{_7}, z{_8}, z{_9} \\right) \\right) z{_1} + \\mathrm{\\frac{d}{d z{_1}}}\\left( \\mathrm{p{_1}}\\left( z{_1}, z{_2}, z{_3}, z{_4}, z{_5}, z{_6}, z{_7}, z{_8}, z{_9} \\right) \\right) z{_4} + \\mathrm{\\frac{d}{d z{_1}}}\\left( \\mathrm{p{_1}}\\left( z{_1}, z{_2}, z{_3}, z{_4}, z{_5}, z{_6}, z{_7}, z{_8}, z{_9} \\right) \\right) z{_7} + \\mathrm{\\frac{d}{d z{_1}}}\\left( \\mathrm{p{_2}}\\left( z{_1}, z{_2}, z{_3}, z{_4}, z{_5}, z{_6}, z{_7}, z{_8}, z{_9} \\right) \\right) z{_2} + \\mathrm{\\frac{d}{d z{_1}}}\\left( \\mathrm{p{_2}}\\left( z{_1}, z{_2}, z{_3}, z{_4}, z{_5}, z{_6}, z{_7}, z{_8}, z{_9} \\right) \\right) z{_5} + \\mathrm{\\frac{d}{d z{_1}}}\\left( \\mathrm{p{_2}}\\left( z{_1}, z{_2}, z{_3}, z{_4}, z{_5}, z{_6}, z{_7}, z{_8}, z{_9} \\right) \\right) z{_8} + \\mathrm{\\frac{d}{d z{_1}}}\\left( \\mathrm{p{_3}}\\left( z{_1}, z{_2}, z{_3}, z{_4}, z{_5}, z{_6}, z{_7}, z{_8}, z{_9} \\right) \\right) z{_3} + \\mathrm{\\frac{d}{d z{_1}}}\\left( \\mathrm{p{_3}}\\left( z{_1}, z{_2}, z{_3}, z{_4}, z{_5}, z{_6}, z{_7}, z{_8}, z{_9} \\right) \\right) z{_6} + \\mathrm{\\frac{d}{d z{_1}}}\\left( \\mathrm{p{_3}}\\left( z{_1}, z{_2}, z{_3}, z{_4}, z{_5}, z{_6}, z{_7}, z{_8}, z{_9} \\right) \\right) z{_9} + \\mathrm{p{_1}}\\left( z{_1}, z{_2}, z{_3}, z{_4}, z{_5}, z{_6}, z{_7}, z{_8}, z{_9} \\right) \\\\\n",
       "\\mathrm{\\frac{d}{d z{_2}}}\\left( \\mathrm{p{_1}}\\left( z{_1}, z{_2}, z{_3}, z{_4}, z{_5}, z{_6}, z{_7}, z{_8}, z{_9} \\right) \\right) z{_1} + \\mathrm{\\frac{d}{d z{_2}}}\\left( \\mathrm{p{_1}}\\left( z{_1}, z{_2}, z{_3}, z{_4}, z{_5}, z{_6}, z{_7}, z{_8}, z{_9} \\right) \\right) z{_4} + \\mathrm{\\frac{d}{d z{_2}}}\\left( \\mathrm{p{_1}}\\left( z{_1}, z{_2}, z{_3}, z{_4}, z{_5}, z{_6}, z{_7}, z{_8}, z{_9} \\right) \\right) z{_7} + \\mathrm{\\frac{d}{d z{_2}}}\\left( \\mathrm{p{_2}}\\left( z{_1}, z{_2}, z{_3}, z{_4}, z{_5}, z{_6}, z{_7}, z{_8}, z{_9} \\right) \\right) z{_2} + \\mathrm{\\frac{d}{d z{_2}}}\\left( \\mathrm{p{_2}}\\left( z{_1}, z{_2}, z{_3}, z{_4}, z{_5}, z{_6}, z{_7}, z{_8}, z{_9} \\right) \\right) z{_5} + \\mathrm{\\frac{d}{d z{_2}}}\\left( \\mathrm{p{_2}}\\left( z{_1}, z{_2}, z{_3}, z{_4}, z{_5}, z{_6}, z{_7}, z{_8}, z{_9} \\right) \\right) z{_8} + \\mathrm{\\frac{d}{d z{_2}}}\\left( \\mathrm{p{_3}}\\left( z{_1}, z{_2}, z{_3}, z{_4}, z{_5}, z{_6}, z{_7}, z{_8}, z{_9} \\right) \\right) z{_3} + \\mathrm{\\frac{d}{d z{_2}}}\\left( \\mathrm{p{_3}}\\left( z{_1}, z{_2}, z{_3}, z{_4}, z{_5}, z{_6}, z{_7}, z{_8}, z{_9} \\right) \\right) z{_6} + \\mathrm{\\frac{d}{d z{_2}}}\\left( \\mathrm{p{_3}}\\left( z{_1}, z{_2}, z{_3}, z{_4}, z{_5}, z{_6}, z{_7}, z{_8}, z{_9} \\right) \\right) z{_9} + \\mathrm{p{_2}}\\left( z{_1}, z{_2}, z{_3}, z{_4}, z{_5}, z{_6}, z{_7}, z{_8}, z{_9} \\right) \\\\\n",
       "\\mathrm{\\frac{d}{d z{_3}}}\\left( \\mathrm{p{_1}}\\left( z{_1}, z{_2}, z{_3}, z{_4}, z{_5}, z{_6}, z{_7}, z{_8}, z{_9} \\right) \\right) z{_1} + \\mathrm{\\frac{d}{d z{_3}}}\\left( \\mathrm{p{_1}}\\left( z{_1}, z{_2}, z{_3}, z{_4}, z{_5}, z{_6}, z{_7}, z{_8}, z{_9} \\right) \\right) z{_4} + \\mathrm{\\frac{d}{d z{_3}}}\\left( \\mathrm{p{_1}}\\left( z{_1}, z{_2}, z{_3}, z{_4}, z{_5}, z{_6}, z{_7}, z{_8}, z{_9} \\right) \\right) z{_7} + \\mathrm{\\frac{d}{d z{_3}}}\\left( \\mathrm{p{_2}}\\left( z{_1}, z{_2}, z{_3}, z{_4}, z{_5}, z{_6}, z{_7}, z{_8}, z{_9} \\right) \\right) z{_2} + \\mathrm{\\frac{d}{d z{_3}}}\\left( \\mathrm{p{_2}}\\left( z{_1}, z{_2}, z{_3}, z{_4}, z{_5}, z{_6}, z{_7}, z{_8}, z{_9} \\right) \\right) z{_5} + \\mathrm{\\frac{d}{d z{_3}}}\\left( \\mathrm{p{_2}}\\left( z{_1}, z{_2}, z{_3}, z{_4}, z{_5}, z{_6}, z{_7}, z{_8}, z{_9} \\right) \\right) z{_8} + \\mathrm{\\frac{d}{d z{_3}}}\\left( \\mathrm{p{_3}}\\left( z{_1}, z{_2}, z{_3}, z{_4}, z{_5}, z{_6}, z{_7}, z{_8}, z{_9} \\right) \\right) z{_3} + \\mathrm{\\frac{d}{d z{_3}}}\\left( \\mathrm{p{_3}}\\left( z{_1}, z{_2}, z{_3}, z{_4}, z{_5}, z{_6}, z{_7}, z{_8}, z{_9} \\right) \\right) z{_6} + \\mathrm{\\frac{d}{d z{_3}}}\\left( \\mathrm{p{_3}}\\left( z{_1}, z{_2}, z{_3}, z{_4}, z{_5}, z{_6}, z{_7}, z{_8}, z{_9} \\right) \\right) z{_9} + \\mathrm{p{_3}}\\left( z{_1}, z{_2}, z{_3}, z{_4}, z{_5}, z{_6}, z{_7}, z{_8}, z{_9} \\right) \\\\\n",
       "\\mathrm{\\frac{d}{d z{_4}}}\\left( \\mathrm{p{_1}}\\left( z{_1}, z{_2}, z{_3}, z{_4}, z{_5}, z{_6}, z{_7}, z{_8}, z{_9} \\right) \\right) z{_1} + \\mathrm{\\frac{d}{d z{_4}}}\\left( \\mathrm{p{_1}}\\left( z{_1}, z{_2}, z{_3}, z{_4}, z{_5}, z{_6}, z{_7}, z{_8}, z{_9} \\right) \\right) z{_4} + \\mathrm{\\frac{d}{d z{_4}}}\\left( \\mathrm{p{_1}}\\left( z{_1}, z{_2}, z{_3}, z{_4}, z{_5}, z{_6}, z{_7}, z{_8}, z{_9} \\right) \\right) z{_7} + \\mathrm{\\frac{d}{d z{_4}}}\\left( \\mathrm{p{_2}}\\left( z{_1}, z{_2}, z{_3}, z{_4}, z{_5}, z{_6}, z{_7}, z{_8}, z{_9} \\right) \\right) z{_2} + \\mathrm{\\frac{d}{d z{_4}}}\\left( \\mathrm{p{_2}}\\left( z{_1}, z{_2}, z{_3}, z{_4}, z{_5}, z{_6}, z{_7}, z{_8}, z{_9} \\right) \\right) z{_5} + \\mathrm{\\frac{d}{d z{_4}}}\\left( \\mathrm{p{_2}}\\left( z{_1}, z{_2}, z{_3}, z{_4}, z{_5}, z{_6}, z{_7}, z{_8}, z{_9} \\right) \\right) z{_8} + \\mathrm{\\frac{d}{d z{_4}}}\\left( \\mathrm{p{_3}}\\left( z{_1}, z{_2}, z{_3}, z{_4}, z{_5}, z{_6}, z{_7}, z{_8}, z{_9} \\right) \\right) z{_3} + \\mathrm{\\frac{d}{d z{_4}}}\\left( \\mathrm{p{_3}}\\left( z{_1}, z{_2}, z{_3}, z{_4}, z{_5}, z{_6}, z{_7}, z{_8}, z{_9} \\right) \\right) z{_6} + \\mathrm{\\frac{d}{d z{_4}}}\\left( \\mathrm{p{_3}}\\left( z{_1}, z{_2}, z{_3}, z{_4}, z{_5}, z{_6}, z{_7}, z{_8}, z{_9} \\right) \\right) z{_9} + \\mathrm{p{_1}}\\left( z{_1}, z{_2}, z{_3}, z{_4}, z{_5}, z{_6}, z{_7}, z{_8}, z{_9} \\right) \\\\\n",
       "\\mathrm{\\frac{d}{d z{_5}}}\\left( \\mathrm{p{_1}}\\left( z{_1}, z{_2}, z{_3}, z{_4}, z{_5}, z{_6}, z{_7}, z{_8}, z{_9} \\right) \\right) z{_1} + \\mathrm{\\frac{d}{d z{_5}}}\\left( \\mathrm{p{_1}}\\left( z{_1}, z{_2}, z{_3}, z{_4}, z{_5}, z{_6}, z{_7}, z{_8}, z{_9} \\right) \\right) z{_4} + \\mathrm{\\frac{d}{d z{_5}}}\\left( \\mathrm{p{_1}}\\left( z{_1}, z{_2}, z{_3}, z{_4}, z{_5}, z{_6}, z{_7}, z{_8}, z{_9} \\right) \\right) z{_7} + \\mathrm{\\frac{d}{d z{_5}}}\\left( \\mathrm{p{_2}}\\left( z{_1}, z{_2}, z{_3}, z{_4}, z{_5}, z{_6}, z{_7}, z{_8}, z{_9} \\right) \\right) z{_2} + \\mathrm{\\frac{d}{d z{_5}}}\\left( \\mathrm{p{_2}}\\left( z{_1}, z{_2}, z{_3}, z{_4}, z{_5}, z{_6}, z{_7}, z{_8}, z{_9} \\right) \\right) z{_5} + \\mathrm{\\frac{d}{d z{_5}}}\\left( \\mathrm{p{_2}}\\left( z{_1}, z{_2}, z{_3}, z{_4}, z{_5}, z{_6}, z{_7}, z{_8}, z{_9} \\right) \\right) z{_8} + \\mathrm{\\frac{d}{d z{_5}}}\\left( \\mathrm{p{_3}}\\left( z{_1}, z{_2}, z{_3}, z{_4}, z{_5}, z{_6}, z{_7}, z{_8}, z{_9} \\right) \\right) z{_3} + \\mathrm{\\frac{d}{d z{_5}}}\\left( \\mathrm{p{_3}}\\left( z{_1}, z{_2}, z{_3}, z{_4}, z{_5}, z{_6}, z{_7}, z{_8}, z{_9} \\right) \\right) z{_6} + \\mathrm{\\frac{d}{d z{_5}}}\\left( \\mathrm{p{_3}}\\left( z{_1}, z{_2}, z{_3}, z{_4}, z{_5}, z{_6}, z{_7}, z{_8}, z{_9} \\right) \\right) z{_9} + \\mathrm{p{_2}}\\left( z{_1}, z{_2}, z{_3}, z{_4}, z{_5}, z{_6}, z{_7}, z{_8}, z{_9} \\right) \\\\\n",
       "\\mathrm{\\frac{d}{d z{_6}}}\\left( \\mathrm{p{_1}}\\left( z{_1}, z{_2}, z{_3}, z{_4}, z{_5}, z{_6}, z{_7}, z{_8}, z{_9} \\right) \\right) z{_1} + \\mathrm{\\frac{d}{d z{_6}}}\\left( \\mathrm{p{_1}}\\left( z{_1}, z{_2}, z{_3}, z{_4}, z{_5}, z{_6}, z{_7}, z{_8}, z{_9} \\right) \\right) z{_4} + \\mathrm{\\frac{d}{d z{_6}}}\\left( \\mathrm{p{_1}}\\left( z{_1}, z{_2}, z{_3}, z{_4}, z{_5}, z{_6}, z{_7}, z{_8}, z{_9} \\right) \\right) z{_7} + \\mathrm{\\frac{d}{d z{_6}}}\\left( \\mathrm{p{_2}}\\left( z{_1}, z{_2}, z{_3}, z{_4}, z{_5}, z{_6}, z{_7}, z{_8}, z{_9} \\right) \\right) z{_2} + \\mathrm{\\frac{d}{d z{_6}}}\\left( \\mathrm{p{_2}}\\left( z{_1}, z{_2}, z{_3}, z{_4}, z{_5}, z{_6}, z{_7}, z{_8}, z{_9} \\right) \\right) z{_5} + \\mathrm{\\frac{d}{d z{_6}}}\\left( \\mathrm{p{_2}}\\left( z{_1}, z{_2}, z{_3}, z{_4}, z{_5}, z{_6}, z{_7}, z{_8}, z{_9} \\right) \\right) z{_8} + \\mathrm{\\frac{d}{d z{_6}}}\\left( \\mathrm{p{_3}}\\left( z{_1}, z{_2}, z{_3}, z{_4}, z{_5}, z{_6}, z{_7}, z{_8}, z{_9} \\right) \\right) z{_3} + \\mathrm{\\frac{d}{d z{_6}}}\\left( \\mathrm{p{_3}}\\left( z{_1}, z{_2}, z{_3}, z{_4}, z{_5}, z{_6}, z{_7}, z{_8}, z{_9} \\right) \\right) z{_6} + \\mathrm{\\frac{d}{d z{_6}}}\\left( \\mathrm{p{_3}}\\left( z{_1}, z{_2}, z{_3}, z{_4}, z{_5}, z{_6}, z{_7}, z{_8}, z{_9} \\right) \\right) z{_9} + \\mathrm{p{_3}}\\left( z{_1}, z{_2}, z{_3}, z{_4}, z{_5}, z{_6}, z{_7}, z{_8}, z{_9} \\right) \\\\\n",
       "\\mathrm{\\frac{d}{d z{_7}}}\\left( \\mathrm{p{_1}}\\left( z{_1}, z{_2}, z{_3}, z{_4}, z{_5}, z{_6}, z{_7}, z{_8}, z{_9} \\right) \\right) z{_1} + \\mathrm{\\frac{d}{d z{_7}}}\\left( \\mathrm{p{_1}}\\left( z{_1}, z{_2}, z{_3}, z{_4}, z{_5}, z{_6}, z{_7}, z{_8}, z{_9} \\right) \\right) z{_4} + \\mathrm{\\frac{d}{d z{_7}}}\\left( \\mathrm{p{_1}}\\left( z{_1}, z{_2}, z{_3}, z{_4}, z{_5}, z{_6}, z{_7}, z{_8}, z{_9} \\right) \\right) z{_7} + \\mathrm{\\frac{d}{d z{_7}}}\\left( \\mathrm{p{_2}}\\left( z{_1}, z{_2}, z{_3}, z{_4}, z{_5}, z{_6}, z{_7}, z{_8}, z{_9} \\right) \\right) z{_2} + \\mathrm{\\frac{d}{d z{_7}}}\\left( \\mathrm{p{_2}}\\left( z{_1}, z{_2}, z{_3}, z{_4}, z{_5}, z{_6}, z{_7}, z{_8}, z{_9} \\right) \\right) z{_5} + \\mathrm{\\frac{d}{d z{_7}}}\\left( \\mathrm{p{_2}}\\left( z{_1}, z{_2}, z{_3}, z{_4}, z{_5}, z{_6}, z{_7}, z{_8}, z{_9} \\right) \\right) z{_8} + \\mathrm{\\frac{d}{d z{_7}}}\\left( \\mathrm{p{_3}}\\left( z{_1}, z{_2}, z{_3}, z{_4}, z{_5}, z{_6}, z{_7}, z{_8}, z{_9} \\right) \\right) z{_3} + \\mathrm{\\frac{d}{d z{_7}}}\\left( \\mathrm{p{_3}}\\left( z{_1}, z{_2}, z{_3}, z{_4}, z{_5}, z{_6}, z{_7}, z{_8}, z{_9} \\right) \\right) z{_6} + \\mathrm{\\frac{d}{d z{_7}}}\\left( \\mathrm{p{_3}}\\left( z{_1}, z{_2}, z{_3}, z{_4}, z{_5}, z{_6}, z{_7}, z{_8}, z{_9} \\right) \\right) z{_9} + \\mathrm{p{_1}}\\left( z{_1}, z{_2}, z{_3}, z{_4}, z{_5}, z{_6}, z{_7}, z{_8}, z{_9} \\right) \\\\\n",
       "\\mathrm{\\frac{d}{d z{_8}}}\\left( \\mathrm{p{_1}}\\left( z{_1}, z{_2}, z{_3}, z{_4}, z{_5}, z{_6}, z{_7}, z{_8}, z{_9} \\right) \\right) z{_1} + \\mathrm{\\frac{d}{d z{_8}}}\\left( \\mathrm{p{_1}}\\left( z{_1}, z{_2}, z{_3}, z{_4}, z{_5}, z{_6}, z{_7}, z{_8}, z{_9} \\right) \\right) z{_4} + \\mathrm{\\frac{d}{d z{_8}}}\\left( \\mathrm{p{_1}}\\left( z{_1}, z{_2}, z{_3}, z{_4}, z{_5}, z{_6}, z{_7}, z{_8}, z{_9} \\right) \\right) z{_7} + \\mathrm{\\frac{d}{d z{_8}}}\\left( \\mathrm{p{_2}}\\left( z{_1}, z{_2}, z{_3}, z{_4}, z{_5}, z{_6}, z{_7}, z{_8}, z{_9} \\right) \\right) z{_2} + \\mathrm{\\frac{d}{d z{_8}}}\\left( \\mathrm{p{_2}}\\left( z{_1}, z{_2}, z{_3}, z{_4}, z{_5}, z{_6}, z{_7}, z{_8}, z{_9} \\right) \\right) z{_5} + \\mathrm{\\frac{d}{d z{_8}}}\\left( \\mathrm{p{_2}}\\left( z{_1}, z{_2}, z{_3}, z{_4}, z{_5}, z{_6}, z{_7}, z{_8}, z{_9} \\right) \\right) z{_8} + \\mathrm{\\frac{d}{d z{_8}}}\\left( \\mathrm{p{_3}}\\left( z{_1}, z{_2}, z{_3}, z{_4}, z{_5}, z{_6}, z{_7}, z{_8}, z{_9} \\right) \\right) z{_3} + \\mathrm{\\frac{d}{d z{_8}}}\\left( \\mathrm{p{_3}}\\left( z{_1}, z{_2}, z{_3}, z{_4}, z{_5}, z{_6}, z{_7}, z{_8}, z{_9} \\right) \\right) z{_6} + \\mathrm{\\frac{d}{d z{_8}}}\\left( \\mathrm{p{_3}}\\left( z{_1}, z{_2}, z{_3}, z{_4}, z{_5}, z{_6}, z{_7}, z{_8}, z{_9} \\right) \\right) z{_9} + \\mathrm{p{_2}}\\left( z{_1}, z{_2}, z{_3}, z{_4}, z{_5}, z{_6}, z{_7}, z{_8}, z{_9} \\right) \\\\\n",
       "\\mathrm{\\frac{d}{d z{_9}}}\\left( \\mathrm{p{_1}}\\left( z{_1}, z{_2}, z{_3}, z{_4}, z{_5}, z{_6}, z{_7}, z{_8}, z{_9} \\right) \\right) z{_1} + \\mathrm{\\frac{d}{d z{_9}}}\\left( \\mathrm{p{_1}}\\left( z{_1}, z{_2}, z{_3}, z{_4}, z{_5}, z{_6}, z{_7}, z{_8}, z{_9} \\right) \\right) z{_4} + \\mathrm{\\frac{d}{d z{_9}}}\\left( \\mathrm{p{_1}}\\left( z{_1}, z{_2}, z{_3}, z{_4}, z{_5}, z{_6}, z{_7}, z{_8}, z{_9} \\right) \\right) z{_7} + \\mathrm{\\frac{d}{d z{_9}}}\\left( \\mathrm{p{_2}}\\left( z{_1}, z{_2}, z{_3}, z{_4}, z{_5}, z{_6}, z{_7}, z{_8}, z{_9} \\right) \\right) z{_2} + \\mathrm{\\frac{d}{d z{_9}}}\\left( \\mathrm{p{_2}}\\left( z{_1}, z{_2}, z{_3}, z{_4}, z{_5}, z{_6}, z{_7}, z{_8}, z{_9} \\right) \\right) z{_5} + \\mathrm{\\frac{d}{d z{_9}}}\\left( \\mathrm{p{_2}}\\left( z{_1}, z{_2}, z{_3}, z{_4}, z{_5}, z{_6}, z{_7}, z{_8}, z{_9} \\right) \\right) z{_8} + \\mathrm{\\frac{d}{d z{_9}}}\\left( \\mathrm{p{_3}}\\left( z{_1}, z{_2}, z{_3}, z{_4}, z{_5}, z{_6}, z{_7}, z{_8}, z{_9} \\right) \\right) z{_3} + \\mathrm{\\frac{d}{d z{_9}}}\\left( \\mathrm{p{_3}}\\left( z{_1}, z{_2}, z{_3}, z{_4}, z{_5}, z{_6}, z{_7}, z{_8}, z{_9} \\right) \\right) z{_6} + \\mathrm{\\frac{d}{d z{_9}}}\\left( \\mathrm{p{_3}}\\left( z{_1}, z{_2}, z{_3}, z{_4}, z{_5}, z{_6}, z{_7}, z{_8}, z{_9} \\right) \\right) z{_9} + \\mathrm{p{_3}}\\left( z{_1}, z{_2}, z{_3}, z{_4}, z{_5}, z{_6}, z{_7}, z{_8}, z{_9} \\right) \\\\\n",
       "\\end{array}\n",
       "\\right]\n",
       "\\end{equation}\n"
      ],
      "text/plain": [
       "9-element OffsetArray(::Vector{Num}, 1:9) with eltype Num with indices 1:9:\n",
       " Differential(z[1])(p[1](z[1], z[2], z[3], z[4], z[5], z[6], z[7], z[8], z[9]))*z[1] + Differential(z[1])(p[1](z[1], z[2], z[3], z[4], z[5], z[6], z[7], z[8], z[9]))*z[4] + Differential(z[1])(p[1](z[1], z[2], z[3], z[4], z[5], z[6], z[7], z[8], z[9]))*z[7] + Differential(z[1])(p[2](z[1], z[2], z[3], z[4], z[5], z[6], z[7], z[8], z[9]))*z[2] + Differential(z[1])(p[2](z[1], z[2], z[3], z[4], z[5], z[6], z[7], z[8], z[9]))*z[5] + Differential(z[1])(p[2](z[1], z[2], z[3], z[4], z[5], z[6], z[7], z[8], z[9]))*z[8] + Differential(z[1])(p[3](z[1], z[2], z[3], z[4], z[5], z[6], z[7], z[8], z[9]))*z[3] + Differential(z[1])(p[3](z[1], z[2], z[3], z[4], z[5], z[6], z[7], z[8], z[9]))*z[6] + Differential(z[1])(p[3](z[1], z[2], z[3], z[4], z[5], z[6], z[7], z[8], z[9]))*z[9] + p[1](z[1], z[2], z[3], z[4], z[5], z[6], z[7], z[8], z[9])\n",
       " Differential(z[2])(p[1](z[1], z[2], z[3], z[4], z[5], z[6], z[7], z[8], z[9]))*z[1] + Differential(z[2])(p[1](z[1], z[2], z[3], z[4], z[5], z[6], z[7], z[8], z[9]))*z[4] + Differential(z[2])(p[1](z[1], z[2], z[3], z[4], z[5], z[6], z[7], z[8], z[9]))*z[7] + Differential(z[2])(p[2](z[1], z[2], z[3], z[4], z[5], z[6], z[7], z[8], z[9]))*z[2] + Differential(z[2])(p[2](z[1], z[2], z[3], z[4], z[5], z[6], z[7], z[8], z[9]))*z[5] + Differential(z[2])(p[2](z[1], z[2], z[3], z[4], z[5], z[6], z[7], z[8], z[9]))*z[8] + Differential(z[2])(p[3](z[1], z[2], z[3], z[4], z[5], z[6], z[7], z[8], z[9]))*z[3] + Differential(z[2])(p[3](z[1], z[2], z[3], z[4], z[5], z[6], z[7], z[8], z[9]))*z[6] + Differential(z[2])(p[3](z[1], z[2], z[3], z[4], z[5], z[6], z[7], z[8], z[9]))*z[9] + p[2](z[1], z[2], z[3], z[4], z[5], z[6], z[7], z[8], z[9])\n",
       " Differential(z[3])(p[1](z[1], z[2], z[3], z[4], z[5], z[6], z[7], z[8], z[9]))*z[1] + Differential(z[3])(p[1](z[1], z[2], z[3], z[4], z[5], z[6], z[7], z[8], z[9]))*z[4] + Differential(z[3])(p[1](z[1], z[2], z[3], z[4], z[5], z[6], z[7], z[8], z[9]))*z[7] + Differential(z[3])(p[2](z[1], z[2], z[3], z[4], z[5], z[6], z[7], z[8], z[9]))*z[2] + Differential(z[3])(p[2](z[1], z[2], z[3], z[4], z[5], z[6], z[7], z[8], z[9]))*z[5] + Differential(z[3])(p[2](z[1], z[2], z[3], z[4], z[5], z[6], z[7], z[8], z[9]))*z[8] + Differential(z[3])(p[3](z[1], z[2], z[3], z[4], z[5], z[6], z[7], z[8], z[9]))*z[3] + Differential(z[3])(p[3](z[1], z[2], z[3], z[4], z[5], z[6], z[7], z[8], z[9]))*z[6] + Differential(z[3])(p[3](z[1], z[2], z[3], z[4], z[5], z[6], z[7], z[8], z[9]))*z[9] + p[3](z[1], z[2], z[3], z[4], z[5], z[6], z[7], z[8], z[9])\n",
       " Differential(z[4])(p[1](z[1], z[2], z[3], z[4], z[5], z[6], z[7], z[8], z[9]))*z[1] + Differential(z[4])(p[1](z[1], z[2], z[3], z[4], z[5], z[6], z[7], z[8], z[9]))*z[4] + Differential(z[4])(p[1](z[1], z[2], z[3], z[4], z[5], z[6], z[7], z[8], z[9]))*z[7] + Differential(z[4])(p[2](z[1], z[2], z[3], z[4], z[5], z[6], z[7], z[8], z[9]))*z[2] + Differential(z[4])(p[2](z[1], z[2], z[3], z[4], z[5], z[6], z[7], z[8], z[9]))*z[5] + Differential(z[4])(p[2](z[1], z[2], z[3], z[4], z[5], z[6], z[7], z[8], z[9]))*z[8] + Differential(z[4])(p[3](z[1], z[2], z[3], z[4], z[5], z[6], z[7], z[8], z[9]))*z[3] + Differential(z[4])(p[3](z[1], z[2], z[3], z[4], z[5], z[6], z[7], z[8], z[9]))*z[6] + Differential(z[4])(p[3](z[1], z[2], z[3], z[4], z[5], z[6], z[7], z[8], z[9]))*z[9] + p[1](z[1], z[2], z[3], z[4], z[5], z[6], z[7], z[8], z[9])\n",
       " Differential(z[5])(p[1](z[1], z[2], z[3], z[4], z[5], z[6], z[7], z[8], z[9]))*z[1] + Differential(z[5])(p[1](z[1], z[2], z[3], z[4], z[5], z[6], z[7], z[8], z[9]))*z[4] + Differential(z[5])(p[1](z[1], z[2], z[3], z[4], z[5], z[6], z[7], z[8], z[9]))*z[7] + Differential(z[5])(p[2](z[1], z[2], z[3], z[4], z[5], z[6], z[7], z[8], z[9]))*z[2] + Differential(z[5])(p[2](z[1], z[2], z[3], z[4], z[5], z[6], z[7], z[8], z[9]))*z[5] + Differential(z[5])(p[2](z[1], z[2], z[3], z[4], z[5], z[6], z[7], z[8], z[9]))*z[8] + Differential(z[5])(p[3](z[1], z[2], z[3], z[4], z[5], z[6], z[7], z[8], z[9]))*z[3] + Differential(z[5])(p[3](z[1], z[2], z[3], z[4], z[5], z[6], z[7], z[8], z[9]))*z[6] + Differential(z[5])(p[3](z[1], z[2], z[3], z[4], z[5], z[6], z[7], z[8], z[9]))*z[9] + p[2](z[1], z[2], z[3], z[4], z[5], z[6], z[7], z[8], z[9])\n",
       " Differential(z[6])(p[1](z[1], z[2], z[3], z[4], z[5], z[6], z[7], z[8], z[9]))*z[1] + Differential(z[6])(p[1](z[1], z[2], z[3], z[4], z[5], z[6], z[7], z[8], z[9]))*z[4] + Differential(z[6])(p[1](z[1], z[2], z[3], z[4], z[5], z[6], z[7], z[8], z[9]))*z[7] + Differential(z[6])(p[2](z[1], z[2], z[3], z[4], z[5], z[6], z[7], z[8], z[9]))*z[2] + Differential(z[6])(p[2](z[1], z[2], z[3], z[4], z[5], z[6], z[7], z[8], z[9]))*z[5] + Differential(z[6])(p[2](z[1], z[2], z[3], z[4], z[5], z[6], z[7], z[8], z[9]))*z[8] + Differential(z[6])(p[3](z[1], z[2], z[3], z[4], z[5], z[6], z[7], z[8], z[9]))*z[3] + Differential(z[6])(p[3](z[1], z[2], z[3], z[4], z[5], z[6], z[7], z[8], z[9]))*z[6] + Differential(z[6])(p[3](z[1], z[2], z[3], z[4], z[5], z[6], z[7], z[8], z[9]))*z[9] + p[3](z[1], z[2], z[3], z[4], z[5], z[6], z[7], z[8], z[9])\n",
       " Differential(z[7])(p[1](z[1], z[2], z[3], z[4], z[5], z[6], z[7], z[8], z[9]))*z[1] + Differential(z[7])(p[1](z[1], z[2], z[3], z[4], z[5], z[6], z[7], z[8], z[9]))*z[4] + Differential(z[7])(p[1](z[1], z[2], z[3], z[4], z[5], z[6], z[7], z[8], z[9]))*z[7] + Differential(z[7])(p[2](z[1], z[2], z[3], z[4], z[5], z[6], z[7], z[8], z[9]))*z[2] + Differential(z[7])(p[2](z[1], z[2], z[3], z[4], z[5], z[6], z[7], z[8], z[9]))*z[5] + Differential(z[7])(p[2](z[1], z[2], z[3], z[4], z[5], z[6], z[7], z[8], z[9]))*z[8] + Differential(z[7])(p[3](z[1], z[2], z[3], z[4], z[5], z[6], z[7], z[8], z[9]))*z[3] + Differential(z[7])(p[3](z[1], z[2], z[3], z[4], z[5], z[6], z[7], z[8], z[9]))*z[6] + Differential(z[7])(p[3](z[1], z[2], z[3], z[4], z[5], z[6], z[7], z[8], z[9]))*z[9] + p[1](z[1], z[2], z[3], z[4], z[5], z[6], z[7], z[8], z[9])\n",
       " Differential(z[8])(p[1](z[1], z[2], z[3], z[4], z[5], z[6], z[7], z[8], z[9]))*z[1] + Differential(z[8])(p[1](z[1], z[2], z[3], z[4], z[5], z[6], z[7], z[8], z[9]))*z[4] + Differential(z[8])(p[1](z[1], z[2], z[3], z[4], z[5], z[6], z[7], z[8], z[9]))*z[7] + Differential(z[8])(p[2](z[1], z[2], z[3], z[4], z[5], z[6], z[7], z[8], z[9]))*z[2] + Differential(z[8])(p[2](z[1], z[2], z[3], z[4], z[5], z[6], z[7], z[8], z[9]))*z[5] + Differential(z[8])(p[2](z[1], z[2], z[3], z[4], z[5], z[6], z[7], z[8], z[9]))*z[8] + Differential(z[8])(p[3](z[1], z[2], z[3], z[4], z[5], z[6], z[7], z[8], z[9]))*z[3] + Differential(z[8])(p[3](z[1], z[2], z[3], z[4], z[5], z[6], z[7], z[8], z[9]))*z[6] + Differential(z[8])(p[3](z[1], z[2], z[3], z[4], z[5], z[6], z[7], z[8], z[9]))*z[9] + p[2](z[1], z[2], z[3], z[4], z[5], z[6], z[7], z[8], z[9])\n",
       " Differential(z[9])(p[1](z[1], z[2], z[3], z[4], z[5], z[6], z[7], z[8], z[9]))*z[1] + Differential(z[9])(p[1](z[1], z[2], z[3], z[4], z[5], z[6], z[7], z[8], z[9]))*z[4] + Differential(z[9])(p[1](z[1], z[2], z[3], z[4], z[5], z[6], z[7], z[8], z[9]))*z[7] + Differential(z[9])(p[2](z[1], z[2], z[3], z[4], z[5], z[6], z[7], z[8], z[9]))*z[2] + Differential(z[9])(p[2](z[1], z[2], z[3], z[4], z[5], z[6], z[7], z[8], z[9]))*z[5] + Differential(z[9])(p[2](z[1], z[2], z[3], z[4], z[5], z[6], z[7], z[8], z[9]))*z[8] + Differential(z[9])(p[3](z[1], z[2], z[3], z[4], z[5], z[6], z[7], z[8], z[9]))*z[3] + Differential(z[9])(p[3](z[1], z[2], z[3], z[4], z[5], z[6], z[7], z[8], z[9]))*z[6] + Differential(z[9])(p[3](z[1], z[2], z[3], z[4], z[5], z[6], z[7], z[8], z[9]))*z[9] + p[3](z[1], z[2], z[3], z[4], z[5], z[6], z[7], z[8], z[9])"
      ]
     },
     "execution_count": 396,
     "metadata": {},
     "output_type": "execute_result"
    }
   ],
   "source": [
    "g_eq=Symbolics.gradient(sum(eq),z)"
   ]
  },
  {
   "cell_type": "code",
   "execution_count": 397,
   "id": "cf888bfb",
   "metadata": {},
   "outputs": [
    {
     "data": {
      "text/latex": [
       "\\begin{equation}\n",
       "\\mathrm{\\frac{d}{d z{_1}}}\\left( \\mathrm{p{_1}}\\left( z{_1}, z{_2}, z{_3}, z{_4}, z{_5}, z{_6}, z{_7}, z{_8}, z{_9} \\right) \\right) z{_1} + \\mathrm{\\frac{d}{d z{_1}}}\\left( \\mathrm{p{_1}}\\left( z{_1}, z{_2}, z{_3}, z{_4}, z{_5}, z{_6}, z{_7}, z{_8}, z{_9} \\right) \\right) z{_4} + \\mathrm{\\frac{d}{d z{_1}}}\\left( \\mathrm{p{_1}}\\left( z{_1}, z{_2}, z{_3}, z{_4}, z{_5}, z{_6}, z{_7}, z{_8}, z{_9} \\right) \\right) z{_7} + \\mathrm{\\frac{d}{d z{_1}}}\\left( \\mathrm{p{_2}}\\left( z{_1}, z{_2}, z{_3}, z{_4}, z{_5}, z{_6}, z{_7}, z{_8}, z{_9} \\right) \\right) z{_2} + \\mathrm{\\frac{d}{d z{_1}}}\\left( \\mathrm{p{_2}}\\left( z{_1}, z{_2}, z{_3}, z{_4}, z{_5}, z{_6}, z{_7}, z{_8}, z{_9} \\right) \\right) z{_5} + \\mathrm{\\frac{d}{d z{_1}}}\\left( \\mathrm{p{_2}}\\left( z{_1}, z{_2}, z{_3}, z{_4}, z{_5}, z{_6}, z{_7}, z{_8}, z{_9} \\right) \\right) z{_8} + \\mathrm{\\frac{d}{d z{_1}}}\\left( \\mathrm{p{_3}}\\left( z{_1}, z{_2}, z{_3}, z{_4}, z{_5}, z{_6}, z{_7}, z{_8}, z{_9} \\right) \\right) z{_3} + \\mathrm{\\frac{d}{d z{_1}}}\\left( \\mathrm{p{_3}}\\left( z{_1}, z{_2}, z{_3}, z{_4}, z{_5}, z{_6}, z{_7}, z{_8}, z{_9} \\right) \\right) z{_6} + \\mathrm{\\frac{d}{d z{_1}}}\\left( \\mathrm{p{_3}}\\left( z{_1}, z{_2}, z{_3}, z{_4}, z{_5}, z{_6}, z{_7}, z{_8}, z{_9} \\right) \\right) z{_9} + \\mathrm{p{_1}}\\left( z{_1}, z{_2}, z{_3}, z{_4}, z{_5}, z{_6}, z{_7}, z{_8}, z{_9} \\right)\n",
       "\\end{equation}\n"
      ],
      "text/plain": [
       "Differential(z[1])(p[1](z[1], z[2], z[3], z[4], z[5], z[6], z[7], z[8], z[9]))*z[1] + Differential(z[1])(p[1](z[1], z[2], z[3], z[4], z[5], z[6], z[7], z[8], z[9]))*z[4] + Differential(z[1])(p[1](z[1], z[2], z[3], z[4], z[5], z[6], z[7], z[8], z[9]))*z[7] + Differential(z[1])(p[2](z[1], z[2], z[3], z[4], z[5], z[6], z[7], z[8], z[9]))*z[2] + Differential(z[1])(p[2](z[1], z[2], z[3], z[4], z[5], z[6], z[7], z[8], z[9]))*z[5] + Differential(z[1])(p[2](z[1], z[2], z[3], z[4], z[5], z[6], z[7], z[8], z[9]))*z[8] + Differential(z[1])(p[3](z[1], z[2], z[3], z[4], z[5], z[6], z[7], z[8], z[9]))*z[3] + Differential(z[1])(p[3](z[1], z[2], z[3], z[4], z[5], z[6], z[7], z[8], z[9]))*z[6] + Differential(z[1])(p[3](z[1], z[2], z[3], z[4], z[5], z[6], z[7], z[8], z[9]))*z[9] + p[1](z[1], z[2], z[3], z[4], z[5], z[6], z[7], z[8], z[9])"
      ]
     },
     "execution_count": 397,
     "metadata": {},
     "output_type": "execute_result"
    }
   ],
   "source": [
    "g_eq[1]"
   ]
  },
  {
   "cell_type": "code",
   "execution_count": 398,
   "id": "50828ac2",
   "metadata": {},
   "outputs": [
    {
     "data": {
      "text/latex": [
       "\\begin{equation}\n",
       "\\frac{ - \\mathrm{p{_1}}\\left( z{_1}, z{_2}, z{_3}, z{_4}, z{_5}, z{_6}, z{_7}, z{_8}, z{_9} \\right) - \\mathrm{\\frac{d}{d z{_1}}}\\left( \\mathrm{p{_2}}\\left( z{_1}, z{_2}, z{_3}, z{_4}, z{_5}, z{_6}, z{_7}, z{_8}, z{_9} \\right) \\right) z{_2} - \\mathrm{\\frac{d}{d z{_1}}}\\left( \\mathrm{p{_2}}\\left( z{_1}, z{_2}, z{_3}, z{_4}, z{_5}, z{_6}, z{_7}, z{_8}, z{_9} \\right) \\right) z{_5} - \\mathrm{\\frac{d}{d z{_1}}}\\left( \\mathrm{p{_2}}\\left( z{_1}, z{_2}, z{_3}, z{_4}, z{_5}, z{_6}, z{_7}, z{_8}, z{_9} \\right) \\right) z{_8} - \\mathrm{\\frac{d}{d z{_1}}}\\left( \\mathrm{p{_3}}\\left( z{_1}, z{_2}, z{_3}, z{_4}, z{_5}, z{_6}, z{_7}, z{_8}, z{_9} \\right) \\right) z{_3} - \\mathrm{\\frac{d}{d z{_1}}}\\left( \\mathrm{p{_3}}\\left( z{_1}, z{_2}, z{_3}, z{_4}, z{_5}, z{_6}, z{_7}, z{_8}, z{_9} \\right) \\right) z{_6} - \\mathrm{\\frac{d}{d z{_1}}}\\left( \\mathrm{p{_3}}\\left( z{_1}, z{_2}, z{_3}, z{_4}, z{_5}, z{_6}, z{_7}, z{_8}, z{_9} \\right) \\right) z{_9}}{z{_1} + z{_4} + z{_7}}\n",
       "\\end{equation}\n"
      ],
      "text/plain": [
       "(-p[1](z[1], z[2], z[3], z[4], z[5], z[6], z[7], z[8], z[9]) - (Differential(z[1])(p[2](z[1], z[2], z[3], z[4], z[5], z[6], z[7], z[8], z[9]))*z[2]) - (Differential(z[1])(p[2](z[1], z[2], z[3], z[4], z[5], z[6], z[7], z[8], z[9]))*z[5]) - (Differential(z[1])(p[2](z[1], z[2], z[3], z[4], z[5], z[6], z[7], z[8], z[9]))*z[8]) - (Differential(z[1])(p[3](z[1], z[2], z[3], z[4], z[5], z[6], z[7], z[8], z[9]))*z[3]) - (Differential(z[1])(p[3](z[1], z[2], z[3], z[4], z[5], z[6], z[7], z[8], z[9]))*z[6]) - (Differential(z[1])(p[3](z[1], z[2], z[3], z[4], z[5], z[6], z[7], z[8], z[9]))*z[9]))*((z[1] + z[4] + z[7])^-1)"
      ]
     },
     "execution_count": 398,
     "metadata": {},
     "output_type": "execute_result"
    }
   ],
   "source": [
    "Symbolics.solve_for(0 ~ g_eq[1], D(p[1]) )"
   ]
  },
  {
   "cell_type": "code",
   "execution_count": 463,
   "id": "ce4b3b44",
   "metadata": {},
   "outputs": [
    {
     "data": {
      "text/latex": [
       "\\begin{align}\n",
       "0 =& p1 + dp11 \\left( z1 + z4 + z7 \\right) + dp12 \\left( z2 + z5 + z8 \\right) + dp13 \\left( z3 + z6 + z9 \\right) \\\\\n",
       "0 =& p2 + dp21 \\left( z1 + z4 + z7 \\right) + dp22 \\left( z2 + z5 + z8 \\right) + dp23 \\left( z3 + z6 + z9 \\right) \\\\\n",
       "0 =& p3 + dp31 \\left( z1 + z4 + z7 \\right) + dp32 \\left( z2 + z5 + z8 \\right) + dp33 \\left( z3 + z6 + z9 \\right)\n",
       "\\end{align}\n"
      ],
      "text/plain": [
       "3-element Vector{Equation}:\n",
       " 0 ~ p1 + dp11*(z1 + z4 + z7) + dp12*(z2 + z5 + z8) + dp13*(z3 + z6 + z9)\n",
       " 0 ~ p2 + dp21*(z1 + z4 + z7) + dp22*(z2 + z5 + z8) + dp23*(z3 + z6 + z9)\n",
       " 0 ~ p3 + dp31*(z1 + z4 + z7) + dp32*(z2 + z5 + z8) + dp33*(z3 + z6 + z9)"
      ]
     },
     "execution_count": 463,
     "metadata": {},
     "output_type": "execute_result"
    }
   ],
   "source": [
    "@variables dp11 dp21 dp31 \n",
    "@variables p1 p2 p3 dp12 dp22 dp32  dp13 dp23 dp33 \n",
    "@variables z1 z2 z3 z4 z5 z6 z7 z8 z9\n",
    "D1 = Differential(z[1])\n",
    "D2 = Differential(z[2])\n",
    "D3 = Differential(z[3])\n",
    "rep = Dict([z[1]=>z1,z[2]=>z2,z[3]=>z3,z[4]=>z4,z[5]=>z5,z[6]=>z6,z[7]=>z7,z[8]=>z8,z[9]=>z9,p[1]=>p1,p[2]=>p2,p[3]=>p3,D1(p[1])=>dp11,D2(p[1])=>dp21,D3(p[1])=>dp31,D1(p[2])=>dp12,D2(p[2])=>dp22,D3(p[2])=>dp32,D1(p[3])=>dp13,D2(p[3])=>dp23,D3(p[3])=>dp33])\n",
    "sys = vcat(Symbolics.simplify(Symbolics.substitute(g_eq[1],rep)),Symbolics.simplify(Symbolics.substitute(g_eq[2],rep)),Symbolics.simplify(Symbolics.substitute(g_eq[3],rep)))\n",
    "sys0 = 0 .~ sys\n"
   ]
  },
  {
   "cell_type": "code",
   "execution_count": 464,
   "id": "a40bbe8f",
   "metadata": {},
   "outputs": [
    {
     "data": {
      "text/latex": [
       "\\begin{equation}\n",
       "\\frac{ - p3 - dp32 \\left( z2 + z5 + z8 \\right) - dp33 \\left( z3 + z6 + z9 \\right)}{z1 + z4 + z7}\n",
       "\\end{equation}\n"
      ],
      "text/plain": [
       "(-p3 - (dp32*(z2 + z5 + z8)) - (dp33*(z3 + z6 + z9)))*((z1 + z4 + z7)^-1)"
      ]
     },
     "execution_count": 464,
     "metadata": {},
     "output_type": "execute_result"
    }
   ],
   "source": [
    "Symbolics.solve_for(sys0[1],dp11)\n",
    "Symbolics.solve_for(sys0[2],dp21)\n",
    "Symbolics.solve_for(sys0[3],dp31)"
   ]
  },
  {
   "cell_type": "code",
   "execution_count": 465,
   "id": "9d6b71ea",
   "metadata": {},
   "outputs": [
    {
     "data": {
      "text/latex": [
       "\\begin{equation}\n",
       "\\left[\n",
       "\\begin{array}{c}\n",
       " - \\frac{p1}{z1 + z4 + z7} - \\frac{dp12 z2}{z1 + z4 + z7} - \\frac{dp12 z5}{z1 + z4 + z7} - \\frac{dp12 z8}{z1 + z4 + z7} - \\frac{dp13 z3}{z1 + z4 + z7} - \\frac{dp13 z6}{z1 + z4 + z7} - \\frac{dp13 z9}{z1 + z4 + z7} \\\\\n",
       " - \\frac{p2}{z1 + z4 + z7} - \\frac{dp22 z2}{z1 + z4 + z7} - \\frac{dp22 z5}{z1 + z4 + z7} - \\frac{dp22 z8}{z1 + z4 + z7} - \\frac{dp23 z3}{z1 + z4 + z7} - \\frac{dp23 z6}{z1 + z4 + z7} - \\frac{dp23 z9}{z1 + z4 + z7} \\\\\n",
       " - \\frac{p3}{z1 + z4 + z7} - \\frac{dp32 z2}{z1 + z4 + z7} - \\frac{dp32 z5}{z1 + z4 + z7} - \\frac{dp32 z8}{z1 + z4 + z7} - \\frac{dp33 z3}{z1 + z4 + z7} - \\frac{dp33 z6}{z1 + z4 + z7} - \\frac{dp33 z9}{z1 + z4 + z7} \\\\\n",
       "\\end{array}\n",
       "\\right]\n",
       "\\end{equation}\n"
      ],
      "text/plain": [
       "3-element Vector{Num}:\n",
       " -p1*((z1 + z4 + z7)^-1) - (dp12*z2*((z1 + z4 + z7)^-1)) - (dp12*z5*((z1 + z4 + z7)^-1)) - (dp12*z8*((z1 + z4 + z7)^-1)) - (dp13*z3*((z1 + z4 + z7)^-1)) - (dp13*z6*((z1 + z4 + z7)^-1)) - (dp13*z9*((z1 + z4 + z7)^-1))\n",
       " -p2*((z1 + z4 + z7)^-1) - (dp22*z2*((z1 + z4 + z7)^-1)) - (dp22*z5*((z1 + z4 + z7)^-1)) - (dp22*z8*((z1 + z4 + z7)^-1)) - (dp23*z3*((z1 + z4 + z7)^-1)) - (dp23*z6*((z1 + z4 + z7)^-1)) - (dp23*z9*((z1 + z4 + z7)^-1))\n",
       " -p3*((z1 + z4 + z7)^-1) - (dp32*z2*((z1 + z4 + z7)^-1)) - (dp32*z5*((z1 + z4 + z7)^-1)) - (dp32*z8*((z1 + z4 + z7)^-1)) - (dp33*z3*((z1 + z4 + z7)^-1)) - (dp33*z6*((z1 + z4 + z7)^-1)) - (dp33*z9*((z1 + z4 + z7)^-1))"
      ]
     },
     "execution_count": 465,
     "metadata": {},
     "output_type": "execute_result"
    }
   ],
   "source": [
    "sys_sol = Symbolics.solve_for(sys0,[dp11,dp21,dp31]; simplify=true,check=true)"
   ]
  },
  {
   "cell_type": "code",
   "execution_count": 482,
   "id": "02d3e841",
   "metadata": {},
   "outputs": [
    {
     "data": {
      "text/latex": [
       "\\begin{equation}\n",
       " - \\frac{p1}{z1 + z4 + z7} - \\frac{dp12 z2}{z1 + z4 + z7} - \\frac{dp12 z5}{z1 + z4 + z7} - \\frac{dp12 z8}{z1 + z4 + z7} - \\frac{dp13 z3}{z1 + z4 + z7} - \\frac{dp13 z6}{z1 + z4 + z7} - \\frac{dp13 z9}{z1 + z4 + z7}\n",
       "\\end{equation}\n"
      ],
      "text/plain": [
       "-p1*((z1 + z4 + z7)^-1) - (dp12*z2*((z1 + z4 + z7)^-1)) - (dp12*z5*((z1 + z4 + z7)^-1)) - (dp12*z8*((z1 + z4 + z7)^-1)) - (dp13*z3*((z1 + z4 + z7)^-1)) - (dp13*z6*((z1 + z4 + z7)^-1)) - (dp13*z9*((z1 + z4 + z7)^-1))"
      ]
     },
     "execution_count": 482,
     "metadata": {},
     "output_type": "execute_result"
    }
   ],
   "source": [
    "simplify(sys_sol[1])\n"
   ]
  }
 ],
 "metadata": {
  "kernelspec": {
   "display_name": "Julia-32-threads 1.6.0",
   "language": "julia",
   "name": "julia-32-threads-1.6"
  },
  "language_info": {
   "file_extension": ".jl",
   "mimetype": "application/julia",
   "name": "julia",
   "version": "1.6.0"
  }
 },
 "nbformat": 4,
 "nbformat_minor": 5
}
