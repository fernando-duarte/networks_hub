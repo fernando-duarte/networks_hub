{
 "cells": [
  {
   "cell_type": "code",
   "execution_count": 1,
   "id": "00478270",
   "metadata": {},
   "outputs": [
    {
     "name": "stderr",
     "output_type": "stream",
     "text": [
      "\u001b[32m\u001b[1m  Activating\u001b[22m\u001b[39m environment at `~/SageMaker/networks_hub/SAN/code/network_simulations/nlp/Project.toml`\n"
     ]
    }
   ],
   "source": [
    "#import Pkg;Pkg.activate(\"convex\")\n",
    "import Pkg;Pkg.activate(\"nlp\")\n",
    "Pkg.instantiate()\n",
    "# Pkg.resolve()\n",
    "# Pkg.gc()\n",
    "# Pkg.precompile()"
   ]
  },
  {
   "cell_type": "code",
   "execution_count": 2,
   "id": "75c34514",
   "metadata": {},
   "outputs": [
    {
     "data": {
      "text/plain": [
       "Main.IncBetaDer"
      ]
     },
     "execution_count": 2,
     "metadata": {},
     "output_type": "execute_result"
    }
   ],
   "source": [
    "using LinearAlgebra, DataFrames, XLSX, Missings, Test, SpecialFunctions,  SparseArrays , Random, BenchmarkTools, Distributions\n",
    "using JuMP,Ipopt, NLsolve, Optim, LineSearches\n",
    "using NLPModels, NLPModelsJuMP, ADNLPModels, Percival, Nonconvex\n",
    "using ForwardDiff\n",
    "include(\"IncBetaDer.jl\")"
   ]
  },
  {
   "cell_type": "code",
   "execution_count": 3,
   "id": "87da548c",
   "metadata": {},
   "outputs": [
    {
     "name": "stdout",
     "output_type": "stream",
     "text": [
      "\u001b[1m867×12 DataFrame\u001b[0m\n",
      "\u001b[1m Row \u001b[0m│\u001b[1m nm_short                     \u001b[0m\u001b[1m qt_dt \u001b[0m\u001b[1m tkr  \u001b[0m\u001b[1m delta     \u001b[0m\u001b[1m delta_alt   \u001b[0m\u001b[1m beta     \u001b[0m\u001b[1m w         \u001b[0m\u001b[1m c        \u001b[0m\u001b[1m assets   \u001b[0m\u001b[1m nvi_benchmark \u001b[0m\u001b[1m p_bar    \u001b[0m\u001b[1m b        \u001b[0m\n",
      "\u001b[1m     \u001b[0m│\u001b[90m Any                          \u001b[0m\u001b[90m Any   \u001b[0m\u001b[90m Any  \u001b[0m\u001b[90m Any       \u001b[0m\u001b[90m Any         \u001b[0m\u001b[90m Any      \u001b[0m\u001b[90m Any       \u001b[0m\u001b[90m Any      \u001b[0m\u001b[90m Any      \u001b[0m\u001b[90m Any           \u001b[0m\u001b[90m Any      \u001b[0m\u001b[90m Any      \u001b[0m\n",
      "─────┼───────────────────────────────────────────────────────────────────────────────────────────────────────────────────────────────────────────────\n",
      "   1 │ JPMORGAN CHASE & CO           195    JPM   0.0106652  0.00862097   0.56278   0.168059   1.45164   2.17505   11.0931        2.00699   0.877498\n",
      "   2 │ CITIGROUP                     195    C     0.0647046  0.0475393    0.481591  0.144022   1.38565   1.93847   11.0931        1.79445   0.930258\n",
      "   3 │ BANK OF AMER CORP             195    BAC   0.016278   0.0117393    0.50803   0.17871    1.51681   1.82207   11.0931        1.64336   0.808482\n",
      "   4 │ WELLS FARGO & CO              195    WFC   0.0047069  0.00462975   0.397362  0.102316   1.15898   1.30964   11.0931        1.20732   0.727579\n",
      "   5 │ GOLDMAN SACHS GROUP INC       195    GS    0.0253824  0.0282284   \u001b[90m missing  \u001b[0m 0.04922   \u001b[90m missing  \u001b[0m 1.08177  \u001b[90m missing       \u001b[0m 1.03255  \u001b[90m missing  \u001b[0m\n",
      "   6 │ AMERICAN INTERNATIONAL GROUP  195    AIG   0.057924   0.0455341   \u001b[90m missing  \u001b[0m 0.082995  \u001b[90m missing  \u001b[0m 1.02224  \u001b[90m missing       \u001b[0m 0.939242 \u001b[90m missing  \u001b[0m\n",
      "   7 │ MORGAN STANLEY                195    MS    0.0892237  0.131335    \u001b[90m missing  \u001b[0m 0.035765  \u001b[90m missing  \u001b[0m 0.987403 \u001b[90m missing       \u001b[0m 0.951638 \u001b[90m missing  \u001b[0m\n",
      "   8 │ MERRILL LYNCH  CO INC         195    BAC2  0.0602485  0.0550379   \u001b[90m missing  \u001b[0m 0.0406288 \u001b[90m missing  \u001b[0m 0.87578  \u001b[90m missing       \u001b[0m 0.835151 \u001b[90m missing  \u001b[0m\n",
      "   9 │ METLIFE                       195    MET   0.0081233  0.00663113   0.514254  0.0239866  0.373146  0.501678  11.0931        0.477692  0.232037\n",
      "  10 │ PRUDENTIAL FINANCIAL INC      195    PRU   0.0242412  0.0192051   \u001b[90m missing  \u001b[0m 0.018699  \u001b[90m missing  \u001b[0m 0.460398 \u001b[90m missing       \u001b[0m 0.441699 \u001b[90m missing  \u001b[0m\n",
      "  11 │ HARTFORD FINANCIAL SERVICES   195    HIG   0.0401791  0.0436828   \u001b[90m missing  \u001b[0m 0.012557  \u001b[90m missing  \u001b[0m 0.311485 \u001b[90m missing       \u001b[0m 0.298928 \u001b[90m missing  \u001b[0m\n",
      "  ⋮  │              ⋮                  ⋮     ⋮        ⋮           ⋮          ⋮          ⋮         ⋮         ⋮            ⋮           ⋮         ⋮\n",
      " 858 │ GLOBAL HEALTHCARE REIT        195    GBCS  0.104583   0.0862715   \u001b[90m missing  \u001b[0m 4.222e-6  \u001b[90m missing  \u001b[0m 7.154e-6 \u001b[90m missing       \u001b[0m 2.932e-6 \u001b[90m missing  \u001b[0m\n",
      " 859 │ NETWORK-1 TECHNOLOGIES INC    195    NTIP  0.0012227  0.000952608 \u001b[90m missing  \u001b[0m 4.845e-6  \u001b[90m missing  \u001b[0m 4.969e-6 \u001b[90m missing       \u001b[0m 1.24e-7  \u001b[90m missing  \u001b[0m\n",
      " 860 │ SECOND STREET CAPITAL INC     195    CTON  0.299511   0.241776    \u001b[90m missing  \u001b[0m 1.026e-6  \u001b[90m missing  \u001b[0m 4.014e-6 \u001b[90m missing       \u001b[0m 2.988e-6 \u001b[90m missing  \u001b[0m\n",
      " 861 │ CAMBRIDGE HOLDINGS LTD        195    CDGD  0.0476988  0.0492359   \u001b[90m missing  \u001b[0m 1.313e-6  \u001b[90m missing  \u001b[0m 1.967e-6 \u001b[90m missing       \u001b[0m 6.54e-7  \u001b[90m missing  \u001b[0m\n",
      " 862 │ NORAM CAPITAL HOLDINGS INC    195    NRMH  0.244393   0.242803    \u001b[90m missing  \u001b[0m 1.09e-6   \u001b[90m missing  \u001b[0m 1.628e-6 \u001b[90m missing       \u001b[0m 5.38e-7  \u001b[90m missing  \u001b[0m\n",
      " 863 │ UMC INC                       195    UMCN  0.126107   0.225341    \u001b[90m missing  \u001b[0m 4.59e-7   \u001b[90m missing  \u001b[0m 9.66e-7  \u001b[90m missing       \u001b[0m 5.07e-7  \u001b[90m missing  \u001b[0m\n",
      " 864 │ RECEIVABLE ACQ MGMT -OLD      195    CSEI  0.0594649  0.039179    \u001b[90m missing  \u001b[0m 4.69e-7   \u001b[90m missing  \u001b[0m 5.22e-7  \u001b[90m missing       \u001b[0m 5.3e-8   \u001b[90m missing  \u001b[0m\n",
      " 865 │ NOCOPI TECHNOLOGIES INC       195    NNUP  0.0232885  0.0182395   \u001b[90m missing  \u001b[0m 0.0       \u001b[90m missing  \u001b[0m 4.49e-7  \u001b[90m missing       \u001b[0m 4.49e-7  \u001b[90m missing  \u001b[0m\n",
      " 866 │ ST LAWRENCE SEAWAY CORP-OLD   195    CRBO  0.0044543  0.00446339  \u001b[90m missing  \u001b[0m 9.5e-8    \u001b[90m missing  \u001b[0m 9.9e-8   \u001b[90m missing       \u001b[0m 4.0e-9   \u001b[90m missing  \u001b[0m\n",
      " 867 │ INVENT VENTURES INC           195    IDEA  0.0152749  0.0119091   \u001b[90m missing  \u001b[0m 3.0e-9    \u001b[90m missing  \u001b[0m 3.5e-8   \u001b[90m missing       \u001b[0m 3.2e-8   \u001b[90m missing  \u001b[0m\n",
      "\u001b[36m                                                                                                                                     846 rows omitted\u001b[0m"
     ]
    }
   ],
   "source": [
    "## load data\n",
    "\n",
    "xf = XLSX.readxlsx(\"node_stats_forsimulation_all.xlsx\") \n",
    "data = vcat( [(XLSX.eachtablerow(xf[s]) |> DataFrames.DataFrame) for s in XLSX.sheetnames(xf)]... ) #for s in XLSX.sheetnames(xf) if (s!=\"Aggregates Composition\" && s!=\"Dealer Aggregates\" && s!=\"Approx Aggregates\")\n",
    "unique!(data) # delete duplicate rows, use `nonunique(data)` to see if there are any duplicates\n",
    "data = data[isequal.(data.qt_dt,195), :] # keep quarter == 195 = 2008q4\n",
    "sort!(data, :assets, rev = true)\n",
    "units = 1e6;\n",
    "data[:,[:w, :c, :assets, :p_bar, :b]] .= data[!,[:w, :c, :assets, :p_bar, :b]]./units\n",
    "# data.b[:] .= missing\n",
    "# data.c[:] .= missing\n",
    "\n",
    "col_with_miss = names(data)[[any(ismissing.(col)) for col = eachcol(data)]] # columns with at least one missing\n",
    "data_nm = coalesce.(data, data.assets/1.5) # replace missing by a value\n",
    "nm_c = findall(x->x==0,ismissing.(data.c))\n",
    "nm_b = findall(x->x==0,ismissing.(data.b))\n",
    "dropmissing(data, [:delta, :delta_alt, :w, :assets, :p_bar]) # remove type missing\n",
    "\n",
    "names(data) # column names\n",
    "describe(data)\n",
    "show(data, allcols = true)"
   ]
  },
  {
   "cell_type": "code",
   "execution_count": 4,
   "id": "e7ae46e2",
   "metadata": {},
   "outputs": [
    {
     "data": {
      "text/plain": [
       "getp (generic function with 1 method)"
      ]
     },
     "execution_count": 4,
     "metadata": {},
     "output_type": "execute_result"
    }
   ],
   "source": [
    "N=5\n",
    "T = Float64\n",
    "temp = Array{T}(data[1:N,[:delta, :delta_alt, :w, :assets, :p_bar]])\n",
    "delta = copy(temp[:,1]); \n",
    "delta_alt = copy(temp[:,2]);\n",
    "w = copy(temp[:,3]); \n",
    "assets= copy(temp[:,4]);\n",
    "p_bar = copy(temp[:,5]);\n",
    "\n",
    "γ = T(0)\n",
    "mini_batch = 10;\n",
    "M = N^2+4*N+mini_batch*N\n",
    "\n",
    "# z = vcat(A...,b,c,α,β,p...)\n",
    "# p is N-by-mini_batch\n",
    "\n",
    "selA  = sparse(1:N^2,1:N^2,T(1),N^2,M)\n",
    "selb  = sparse(1:N,N^2+1:N^2+N,T(1),N,M)\n",
    "selc  = sparse(1:N,N^2+N+1:N^2+2N,T(1),N,M)\n",
    "selα  = sparse(1:N,N^2+2N+1:N^2+3N,T(1),N,M)\n",
    "selβ  = sparse(1:N,N^2+3N+1:N^2+4N,T(1),N,M)\n",
    "selp  = sparse(1:mini_batch*N,N^2+4N+1:M,T(1),mini_batch*N,M)\n",
    "\n",
    "getA(z) = reshape(selA*z,N,N)\n",
    "getp(z) = reshape(selp*z,N,mini_batch)"
   ]
  },
  {
   "cell_type": "code",
   "execution_count": 5,
   "id": "2a688222",
   "metadata": {},
   "outputs": [
    {
     "data": {
      "text/plain": [
       "c_pNL (generic function with 1 method)"
      ]
     },
     "execution_count": 5,
     "metadata": {},
     "output_type": "execute_result"
    }
   ],
   "source": [
    "## upper and lower bounds\n",
    "# low<=z<=upp\n",
    "uppα = 10\n",
    "uppβ = 50\n",
    "\n",
    "\n",
    "low = vcat(spzeros(T,N^2),fill(eps(T),N),fill(eps(T),N),ones(T,N),ones(T,N),fill(eps(T),N*mini_batch))\n",
    "upp = vcat(ones(T,N^2),p_bar,assets,Array{T}(fill(uppα,N)),Array{T}(fill(uppβ,N)),repeat(p_bar,mini_batch))\n",
    "\n",
    "## linear constraints\n",
    "# hᵀz=q\n",
    "\n",
    "h₁₁ᵀ = hcat(sparse(kron(Matrix{T}(I,N,N),p_bar')))\n",
    "h₁ᵀ = hcat(h₁₁ᵀ,spzeros(T,N,N),sparse(I,N,N),spzeros(T,N,N),spzeros(T,N,N),spzeros(T,N,mini_batch*N))\n",
    "q₁ = assets\n",
    "\n",
    "h₂₁ᵀ = repeat(spdiagm(p_bar),1,N)\n",
    "h₂ᵀ = hcat(h₂₁ᵀ,sparse(I,N,N),spzeros(T,N,N),spzeros(T,N,N),spzeros(T,N,N),spzeros(T,N,mini_batch*N))\n",
    "q₂ = p_bar\n",
    "\n",
    "hᵀ = vcat(h₁ᵀ,h₂ᵀ)\n",
    "q = vcat(q₁,q₂)\n",
    "function c_lin(z)\n",
    "    return hᵀ*z .- q\n",
    "end\n",
    "\n",
    "## quadratic constraints\n",
    "# zᵀHz = 0\n",
    "li = LinearIndices((N,N))\n",
    "liᵀ= transpose(li)\n",
    "id = li[tril!(trues(N,N), 0)]\n",
    "idᵀ = liᵀ[tril!(trues(N,N), 0)]\n",
    "H₃= sparse(vcat(id,idᵀ),vcat(idᵀ,id),T(0.5),M,M)\n",
    "h₃ = spzeros(T,M)\n",
    "q₃ = spzeros(T,1)\n",
    "\n",
    "H = H₃\n",
    "function c_quad(z)\n",
    "    return dot(z,H*z) #transpose(z)*H*z\n",
    "end\n",
    "\n",
    "## chance constraints ⟺ c_chance(z)=0\n",
    "# Prob(c[i]x[i]>=w[i])=delta[i] \n",
    "beta_ccdf(a,b,x) = zero(x) < x < one(x) ? one(x) - IncBetaDer.beta_inc_grad(a, b, x)[1] : zero(x)\n",
    "function c_chance(z)\n",
    "    return beta_ccdf.(selα*z,selβ*z,w./(selc*z)) .- delta\n",
    "end\n",
    "\n",
    "## clearing vector constraint\n",
    "# quadratic version (ignores min{p_bar,max{0,...}} )\n",
    "function c_p(z,x)\n",
    "    c = selc*z\n",
    "    p = getp(z)\n",
    "    Aᵀ = transpose(getA(z))\n",
    "    return reshape((1+γ)*Aᵀ*p + ((1+γ)*(T(1) .- x)).*repeat(c,1,mini_batch)+γ*repeat(p_bar,1,mini_batch)-p,N*mini_batch)\n",
    "end\n",
    "\n",
    "# non-linear version\n",
    "function c_pNL(z,x)\n",
    "    c = selc*z\n",
    "    p = getp(z)\n",
    "    Aᵀ = transpose(getA(z))\n",
    "    return reshape(min.(max.(0,(1+γ)*Aᵀ*p + ((1+γ)*(T(1) .- x)).*repeat(c,1,mini_batch)+γ*repeat(p_bar,1,mini_batch)),p_bar)-p,N*mini_batch)\n",
    "end"
   ]
  },
  {
   "cell_type": "code",
   "execution_count": 6,
   "id": "bfafe1eb",
   "metadata": {},
   "outputs": [
    {
     "data": {
      "text/plain": [
       "obj_full (generic function with 1 method)"
      ]
     },
     "execution_count": 6,
     "metadata": {},
     "output_type": "execute_result"
    }
   ],
   "source": [
    "\n",
    "\n",
    "# write constraints as cL<=c(z)<=cU, setting cL=cU for equality constraints\n",
    "cL = spzeros(3N+1+mini_batch*N)\n",
    "cU = cL\n",
    "function c(z)\n",
    "    #x = rand(N,mini_batch)\n",
    "    x = ones(N,mini_batch)/10\n",
    "    vcat(c_lin(z),\n",
    "        c_quad(z),\n",
    "        c_chance(z),\n",
    "        c_p(z,x)\n",
    "        )\n",
    "end\n",
    "\n",
    "# objective to max or min\n",
    "function obj(z)\n",
    "    c = selc*z\n",
    "    α = selα*z\n",
    "    β = selβ*z\n",
    "    p = getp(z)\n",
    "    return sum(c.*α./(α + β))-sum(p)\n",
    "end\n",
    "\n",
    "# write constraints as cL<=c(z)<=cU, setting cL=cU for equality constraints\n",
    "# cL = spzeros(3N+1)\n",
    "# cU = cL\n",
    "# function c(z)\n",
    "#     vcat(hᵀ*z .- q,\n",
    "#         dot(z,H*z),\n",
    "#         beta_ccdf.(selα*z,selβ*z,w./(selc*z)) .- delta\n",
    "#         )\n",
    "# end\n",
    "# objective to max or min\n",
    "# function obj(z)\n",
    "#     Aᵀ = transpose(getA(z))\n",
    "#     c = selc*z\n",
    "#     α = selα*z\n",
    "#     β = selβ*z\n",
    "#     p = getp(z)\n",
    "#     d = Beta.(ones(N),2*ones(N))\n",
    "#     x = transpose(reduce(hcat,rand.(d, mini_batch)))\n",
    "#     return sum(c.*α./(α + β))-sum(min.(max.(0,(1+γ)*Aᵀ*p + ((1+γ)*(T(1) .- x)).*repeat(c,1,mini_batch)+γ*repeat(p_bar,1,mini_batch))))\n",
    "# end\n",
    "\n",
    "function obj_full(z)\n",
    "    return obj(z)+sum(p_bar)\n",
    "end"
   ]
  },
  {
   "cell_type": "code",
   "execution_count": 13,
   "id": "162d79c8",
   "metadata": {},
   "outputs": [
    {
     "name": "stdout",
     "output_type": "stream",
     "text": [
      "\u001b[37m\u001b[1mTest Summary:               | \u001b[22m\u001b[39m\u001b[32m\u001b[1mPass  \u001b[22m\u001b[39m\u001b[36m\u001b[1mTotal\u001b[22m\u001b[39m\n",
      "Problem specified correctly | \u001b[32m 230  \u001b[39m\u001b[36m  230\u001b[39m\n"
     ]
    },
    {
     "data": {
      "text/plain": [
       "Test.DefaultTestSet(\"Problem specified correctly\", Any[Test.DefaultTestSet(\"Upper and lower bounds\", Any[], 12, false, false), Test.DefaultTestSet(\"z_test respects upper and lower bounds\", Any[], 6, false, false), Test.DefaultTestSet(\"Linear constraints\", Any[], 1, false, false), Test.DefaultTestSet(\"a[i,j]*a[j,i]=0\", Any[], 1, false, false), Test.DefaultTestSet(\"Prob(c[i]x[i]>=w[i])=delta[i]\", Any[], 1, false, false), Test.DefaultTestSet(\"Clearing vector p(x)\", Any[], 2, false, false), Test.DefaultTestSet(\"Upper and lower bounds\", Any[], 12, false, false), Test.DefaultTestSet(\"z_test respects upper and lower bounds\", Any[], 6, false, false), Test.DefaultTestSet(\"Linear constraints\", Any[], 1, false, false), Test.DefaultTestSet(\"a[i,j]*a[j,i]=0\", Any[], 1, false, false)  …  Test.DefaultTestSet(\"Linear constraints\", Any[], 1, false, false), Test.DefaultTestSet(\"a[i,j]*a[j,i]=0\", Any[], 1, false, false), Test.DefaultTestSet(\"Prob(c[i]x[i]>=w[i])=delta[i]\", Any[], 1, false, false), Test.DefaultTestSet(\"Clearing vector p(x)\", Any[], 2, false, false), Test.DefaultTestSet(\"Upper and lower bounds\", Any[], 12, false, false), Test.DefaultTestSet(\"z_test respects upper and lower bounds\", Any[], 6, false, false), Test.DefaultTestSet(\"Linear constraints\", Any[], 1, false, false), Test.DefaultTestSet(\"a[i,j]*a[j,i]=0\", Any[], 1, false, false), Test.DefaultTestSet(\"Prob(c[i]x[i]>=w[i])=delta[i]\", Any[], 1, false, false), Test.DefaultTestSet(\"Clearing vector p(x)\", Any[], 2, false, false)], 0, false, false)"
      ]
     },
     "execution_count": 13,
     "metadata": {},
     "output_type": "execute_result"
    }
   ],
   "source": [
    "@testset \"Problem specified correctly\" begin\n",
    "    num_tests = 10\n",
    "    for nn=1:num_tests\n",
    "        z_test = Array((low+min.(upp,100))/2)\n",
    "        x_test = rand(N,mini_batch)\n",
    "\n",
    "        A_test = getA(z_test)\n",
    "        b_test = selb*z_test\n",
    "        c_test = selc*z_test\n",
    "        α_test = selα*z_test\n",
    "        β_test = selβ*z_test\n",
    "        p_test = getp(z_test)\n",
    "\n",
    "        @testset \"Upper and lower bounds\" begin\n",
    "            @test all(getA(low).==0)\n",
    "            @test all(getA(upp).==1)\n",
    "            @test all(selb*low.==eps(T))\n",
    "            @test all(selb*upp.==p_bar)\n",
    "            @test all(selc*low.==eps(T))\n",
    "            @test all(selc*upp.==assets)\n",
    "            @test all(selα*low.==1)\n",
    "            @test all(selα*upp.==uppα)\n",
    "            @test all(selβ*low.==1)\n",
    "            @test all(selβ*upp.==uppβ)\n",
    "            @test all(getp(low).==eps(T))\n",
    "            @test all(getp(upp).==p_bar)      \n",
    "        end\n",
    "\n",
    "        @testset \"z_test respects upper and lower bounds\" begin\n",
    "            @test all(0 .<= A_test .<= 1)\n",
    "            @test all(0 .<= b_test .<= p_bar)\n",
    "            @test all(0 .<= c_test .<= assets)\n",
    "            @test all(1 .<= α_test .<= uppα)\n",
    "            @test all(1 .<= β_test .<= uppβ)\n",
    "            @test all(0 .<= p_test .<= p_bar)\n",
    "        end\n",
    "\n",
    "        @testset \"Linear constraints\" begin\n",
    "            l1 = [sum(p_bar[j]*A_test[j,i] for j=1:N)-assets[i]+c_test[i] for i=1:N] # payments to $i$ from other nodes $j$ add up to inside assets $d= assets - c$\n",
    "            l2 = [p_bar[i]*sum(A_test[i,j] for j=1:N)-p_bar[i]+b_test[i] for i=1:N] # payments from $i$ to other nodes add up to inside liabilities $f = p_bar - b$  \n",
    "            @test vcat(l1,l2) ≈ c_lin(z_test)\n",
    "        end\n",
    "        @testset \"a[i,j]*a[j,i]=0\" begin\n",
    "                @test sum(A_test[i,j]*A_test[j,i] for i=1:N for j=1:i) ≈ c_quad(z_test) \n",
    "        end\n",
    "        @testset \"Prob(c[i]x[i]>=w[i])=delta[i]\" begin\n",
    "            @test [ccdf(Beta(α_test[i],β_test[i]),w[i]/c_test[i]) - delta[i] for i=1:N] ≈ c_chance(z_test)\n",
    "        end\n",
    "        @testset \"Clearing vector p(x)\" begin\n",
    "            @test [(1+γ)*sum(A_test[j,i]*p_test[j,q] for j=1:N)+(1+γ)*(1-x_test[i,q])*c_test[i]-γ*p_bar[i]-p_test[i,q] for i=1:N, q=1:mini_batch] ≈ reshape(c_p(z_test,x_test),N,mini_batch)\n",
    "            @test [min(p_bar[i],max((1+γ)*sum(A_test[j,i]*p_test[j,q] for j=1:N)+(1+γ)*(1-x_test[i,q])*c_test[i]-γ*p_bar[i],0))-p_test[i,q] for i=1:N, q=1:mini_batch] ≈ reshape(c_pNL(z_test,x_test),N,mini_batch)\n",
    "        end\n",
    "    end\n",
    "end\n"
   ]
  },
  {
   "cell_type": "code",
   "execution_count": 14,
   "id": "1fb729ea",
   "metadata": {},
   "outputs": [
    {
     "data": {
      "text/plain": [
       "66-element Vector{Float64}:\n",
       " 2.7548112500000004\n",
       " 2.8731022500000005\n",
       " 2.93130325\n",
       " 3.1875177500000005\n",
       " 3.30145075\n",
       " 4.013986000000001\n",
       " 3.588896\n",
       " 3.2867150000000005\n",
       " 2.4146460000000003\n",
       " 2.065106\n",
       " 3.75\n",
       " 0.5843624880599494\n",
       " 0.5660320288942458\n",
       " ⋮\n",
       " 1.9068446750000005\n",
       " 1.8916899750000007\n",
       " 1.8964455250000003\n",
       " 1.8962561250000003\n",
       " 1.9194204750000003\n",
       " 1.9068446750000005\n",
       " 1.8916899750000007\n",
       " 1.8964455250000003\n",
       " 1.8962561250000003\n",
       " 1.9194204750000003\n",
       " 1.9068446750000005\n",
       " 1.8916899750000007"
      ]
     },
     "execution_count": 14,
     "metadata": {},
     "output_type": "execute_result"
    }
   ],
   "source": [
    "z_test = Array((low+min.(upp,100))/2)\n",
    "c(z_test)"
   ]
  },
  {
   "cell_type": "code",
   "execution_count": 15,
   "id": "1e6f4720",
   "metadata": {},
   "outputs": [
    {
     "data": {
      "text/plain": [
       "cA (generic function with 1 method)"
      ]
     },
     "execution_count": 15,
     "metadata": {},
     "output_type": "execute_result"
    }
   ],
   "source": [
    "lowA = Array(low)\n",
    "uppA = Array(upp)\n",
    "z_testA = Array(z_test)\n",
    "cA(z) = sum(abs2,Array(c(z)))"
   ]
  },
  {
   "cell_type": "code",
   "execution_count": 16,
   "id": "cc495e90",
   "metadata": {},
   "outputs": [
    {
     "name": "stdout",
     "output_type": "stream",
     "text": [
      "This is Ipopt version 3.13.4, running with linear solver mumps.\n",
      "NOTE: Other linear solvers might be more efficient (see Ipopt documentation).\n",
      "\n",
      "Number of nonzeros in equality constraint Jacobian...:      950\n",
      "Number of nonzeros in inequality constraint Jacobian.:        0\n",
      "Number of nonzeros in Lagrangian Hessian.............:        0\n",
      "\n",
      "Total number of variables............................:       95\n",
      "                     variables with only lower bounds:        0\n",
      "                variables with lower and upper bounds:       95\n",
      "                     variables with only upper bounds:        0\n",
      "Total number of equality constraints.................:       10\n",
      "Total number of inequality constraints...............:        0\n",
      "        inequality constraints with only lower bounds:        0\n",
      "   inequality constraints with lower and upper bounds:        0\n",
      "        inequality constraints with only upper bounds:        0\n",
      "\n",
      "iter    objective    inf_pr   inf_du lg(mu)  ||d||  lg(rg) alpha_du alpha_pr  ls\n",
      "   0  0.0000000e+00 1.19e+00 0.00e+00   0.0 0.00e+00    -  0.00e+00 0.00e+00   0\n",
      "   1  0.0000000e+00 4.44e-16 2.10e-01  -0.6 2.30e-01    -  9.96e-01 1.00e+00f  1\n",
      "   2  0.0000000e+00 2.22e-16 2.10e-03  -6.6 4.59e-06    -  9.90e-01 1.00e+00h  1\n",
      "   3  0.0000000e+00 4.44e-16 3.59e-08  -2.7 3.68e+00    -  1.00e+00 1.00e+00f  1\n",
      "   4  0.0000000e+00 4.44e-16 1.18e-08  -4.0 1.19e+00    -  1.00e+00 1.00e+00f  1\n",
      "   5  0.0000000e+00 4.44e-16 5.95e-07  -6.0 5.95e-07    -  1.00e+00 1.00e+00h  1\n",
      "   6  0.0000000e+00 4.44e-16 3.58e-11  -9.0 3.62e-03    -  1.00e+00 1.00e+00h  1\n",
      "\n",
      "Number of Iterations....: 6\n",
      "\n",
      "                                   (scaled)                 (unscaled)\n",
      "Objective...............:   0.0000000000000000e+00    0.0000000000000000e+00\n",
      "Dual infeasibility......:   3.5797397384699148e-11    3.5797397384699148e-11\n",
      "Constraint violation....:   4.4408920985006262e-16    4.4408920985006262e-16\n",
      "Complementarity.........:   1.1037559006249437e-09    1.1037559006249437e-09\n",
      "Overall NLP error.......:   1.1037559006249437e-09    1.1037559006249437e-09\n",
      "\n",
      "\n",
      "Number of objective function evaluations             = 7\n",
      "Number of objective gradient evaluations             = 7\n",
      "Number of equality constraint evaluations            = 7\n",
      "Number of inequality constraint evaluations          = 0\n",
      "Number of equality constraint Jacobian evaluations   = 7\n",
      "Number of inequality constraint Jacobian evaluations = 0\n",
      "Number of Lagrangian Hessian evaluations             = 0\n",
      "Total CPU secs in IPOPT (w/o function evaluations)   =      0.472\n",
      "Total CPU secs in NLP function evaluations           =      0.284\n",
      "\n",
      "EXIT: Optimal Solution Found.\n"
     ]
    },
    {
     "data": {
      "text/plain": [
       "\u001b[32m\u001b[1mTest Passed\u001b[22m\u001b[39m"
      ]
     },
     "execution_count": 16,
     "metadata": {},
     "output_type": "execute_result"
    }
   ],
   "source": [
    "z0= Array((low+min.(upp,100))/10)\n",
    "m_lin = Nonconvex.Model(z->0.0)\n",
    "addvar!(m_lin,lowA,uppA)\n",
    "add_eq_constraint!(m_lin,z->c_lin(z))\n",
    "\n",
    "alg = IpoptAlg()\n",
    "options = Nonconvex.IpoptOptions()\n",
    "r_lin = Nonconvex.optimize(m_lin, alg,z0, options = options)\n",
    "tol = 1e-16\n",
    "@test r_lin.minimum ≈ 0 \n",
    "@test sum(abs2,c_lin(r_lin.minimizer)) < tol\n"
   ]
  },
  {
   "cell_type": "code",
   "execution_count": 17,
   "id": "ae2494c9",
   "metadata": {},
   "outputs": [
    {
     "name": "stdout",
     "output_type": "stream",
     "text": [
      "This is Ipopt version 3.13.4, running with linear solver mumps.\n",
      "NOTE: Other linear solvers might be more efficient (see Ipopt documentation).\n",
      "\n",
      "Number of nonzeros in equality constraint Jacobian...:       95\n",
      "Number of nonzeros in inequality constraint Jacobian.:        0\n",
      "Number of nonzeros in Lagrangian Hessian.............:        0\n",
      "\n",
      "Total number of variables............................:       95\n",
      "                     variables with only lower bounds:        0\n",
      "                variables with lower and upper bounds:       95\n",
      "                     variables with only upper bounds:        0\n",
      "Total number of equality constraints.................:        1\n",
      "Total number of inequality constraints...............:        0\n",
      "        inequality constraints with only lower bounds:        0\n",
      "   inequality constraints with lower and upper bounds:        0\n",
      "        inequality constraints with only upper bounds:        0\n",
      "\n",
      "iter    objective    inf_pr   inf_du lg(mu)  ||d||  lg(rg) alpha_du alpha_pr  ls\n",
      "   0  0.0000000e+00 3.83e-01 0.00e+00   0.0 0.00e+00    -  0.00e+00 0.00e+00   0\n",
      "   1  0.0000000e+00 3.02e-01 4.16e+00  -0.4 3.93e-01    -  9.99e-01 4.76e-01h  1\n",
      "   2  0.0000000e+00 7.70e-02 1.07e+00  -1.2 1.07e-01    -  9.90e-01 1.00e+00h  1\n",
      "   3  0.0000000e+00 1.94e-02 5.74e-01  -2.4 4.58e-02    -  1.00e+00 1.00e+00h  1\n",
      "   4  0.0000000e+00 4.85e-03 2.14e-01  -3.8 2.66e-02    -  1.00e+00 1.00e+00h  1\n",
      "   5  0.0000000e+00 1.48e-03 1.87e-01  -3.0 1.15e-02    -  1.00e+00 8.98e-01h  1\n",
      "   6  0.0000000e+00 4.05e-04 2.65e-01  -3.0 7.64e-03    -  9.99e-01 1.00e+00h  1\n",
      "   7  0.0000000e+00 2.01e-04 5.96e-02  -4.7 7.51e-03    -  1.00e+00 6.54e-01h  1\n",
      "   8  0.0000000e+00 3.70e-05 2.49e-02  -6.2 2.18e-03    -  1.00e+00 1.00e+00h  1\n",
      "   9  0.0000000e+00 6.79e-06 1.71e-02  -7.2 1.26e-03    -  1.00e+00 1.00e+00h  1\n",
      "iter    objective    inf_pr   inf_du lg(mu)  ||d||  lg(rg) alpha_du alpha_pr  ls\n",
      "  10  0.0000000e+00 1.32e-06 6.71e-03  -7.4 6.37e-04    -  1.00e+00 1.00e+00h  1\n",
      "  11  0.0000000e+00 2.66e-07 2.71e-03  -8.7 2.88e-04    -  1.00e+00 1.00e+00h  1\n",
      "  12  0.0000000e+00 5.22e-08 8.06e-04  -8.9 1.26e-04    -  1.00e+00 1.00e+00h  1\n",
      "  13  0.0000000e+00 8.93e-09 1.92e-04  -8.8 5.69e-05    -  1.00e+00 1.00e+00h  1\n",
      "  14  0.0000000e+00 1.69e-09 1.24e-04  -9.5 2.64e-05    -  1.00e+00 1.00e+00h  1\n",
      "  15  0.0000000e+00 2.46e-10 6.74e-05 -11.0 9.51e-06    -  1.00e+00 1.00e+00h  1\n",
      "  16  0.0000000e+00 1.63e-11 3.62e-05 -11.0 2.60e-06    -  1.00e+00 1.00e+00h  1\n",
      "  17  0.0000000e+00 2.34e-12 5.98e-06 -10.8 9.49e-07    -  1.00e+00 1.00e+00h  1\n",
      "  18  0.0000000e+00 3.87e-11 1.22e-06 -11.0 4.26e-06    -  1.00e+00 1.00e+00h  1\n",
      "  19  0.0000000e+00 4.87e-11 2.68e-07 -11.0 4.36e-06    -  1.00e+00 1.00e+00h  1\n",
      "iter    objective    inf_pr   inf_du lg(mu)  ||d||  lg(rg) alpha_du alpha_pr  ls\n",
      "  20  0.0000000e+00 1.17e-12 5.92e-08 -11.0 9.23e-07    -  1.00e+00 1.00e+00h  1\n",
      "  21  0.0000000e+00 3.50e-14 7.60e-09 -11.0 1.73e-07    -  1.00e+00 1.00e+00h  1\n",
      "\n",
      "Number of Iterations....: 21\n",
      "\n",
      "                                   (scaled)                 (unscaled)\n",
      "Objective...............:   0.0000000000000000e+00    0.0000000000000000e+00\n",
      "Dual infeasibility......:   7.5986500578208265e-09    7.5986500578208265e-09\n",
      "Constraint violation....:   3.4997641436651492e-14    3.4997641436651492e-14\n",
      "Complementarity.........:   1.0002743843350702e-11    1.0002743843350702e-11\n",
      "Overall NLP error.......:   7.5986500578208265e-09    7.5986500578208265e-09\n",
      "\n",
      "\n",
      "Number of objective function evaluations             = 22\n",
      "Number of objective gradient evaluations             = 22\n",
      "Number of equality constraint evaluations            = 22\n",
      "Number of inequality constraint evaluations          = 0\n",
      "Number of equality constraint Jacobian evaluations   = 22\n",
      "Number of inequality constraint Jacobian evaluations = 0\n",
      "Number of Lagrangian Hessian evaluations             = 0\n",
      "Total CPU secs in IPOPT (w/o function evaluations)   =      0.553\n",
      "Total CPU secs in NLP function evaluations           =      0.278\n",
      "\n",
      "EXIT: Optimal Solution Found.\n"
     ]
    },
    {
     "data": {
      "text/plain": [
       "\u001b[32m\u001b[1mTest Passed\u001b[22m\u001b[39m"
      ]
     },
     "execution_count": 17,
     "metadata": {},
     "output_type": "execute_result"
    }
   ],
   "source": [
    "z0=r_lin.minimizer\n",
    "m_quad = Nonconvex.Model(z->0.0)\n",
    "addvar!(m_quad,lowA,uppA)\n",
    "add_eq_constraint!(m_quad,z->c_quad(z))\n",
    "\n",
    "alg = IpoptAlg()\n",
    "options = Nonconvex.IpoptOptions()\n",
    "r_quad = Nonconvex.optimize(m_quad, alg,z0, options = options)\n",
    "\n",
    "tol = 1e-16\n",
    "@test r_quad.minimum ≈ 0 \n",
    "@test sum(abs2,c_quad(r_quad.minimizer)) < tol"
   ]
  },
  {
   "cell_type": "code",
   "execution_count": null,
   "id": "c05ef575",
   "metadata": {},
   "outputs": [],
   "source": [
    "c_chance(r_quad.minimizer)\n",
    "d1=Zygote.jacobian.(x->beta_ccdf(5.0,1.0,x),0:0.01:1)\n",
    "d2=[-IncBetaDer.beta_inc_grad(5.0,1.0,x)[4] for x=0:0.01:1]\n",
    "hcat(d1,d2)\n",
    "\n",
    "uppA"
   ]
  },
  {
   "cell_type": "code",
   "execution_count": null,
   "id": "e6e55fab",
   "metadata": {},
   "outputs": [],
   "source": [
    "c_chance(2.0,1.0,0.2,1)\n",
    "#d1=Zygote.jacobian.(x->c_chance(2.0,1.0,x,1),0.3)\n",
    "m_chance"
   ]
  },
  {
   "cell_type": "code",
   "execution_count": null,
   "id": "3a01d8d4",
   "metadata": {},
   "outputs": [],
   "source": [
    "test(α::T, β::T, x::T) where {T<:Real} =\n",
    "    ( 0 < x < 1 ? (α - 1) / x - (β - 1) / (1 - x) : zero(T))\n",
    "beta_ccdf.(ones(N),ones(N),rand(N))\n",
    "rand(N)"
   ]
  },
  {
   "cell_type": "code",
   "execution_count": 18,
   "id": "252a6a54",
   "metadata": {},
   "outputs": [
    {
     "name": "stdout",
     "output_type": "stream",
     "text": [
      "This is Ipopt version 3.13.4, running with linear solver mumps.\n",
      "NOTE: Other linear solvers might be more efficient (see Ipopt documentation).\n",
      "\n",
      "Number of nonzeros in equality constraint Jacobian...:      475\n",
      "Number of nonzeros in inequality constraint Jacobian.:        0\n",
      "Number of nonzeros in Lagrangian Hessian.............:        0\n",
      "\n",
      "Total number of variables............................:       95\n",
      "                     variables with only lower bounds:        0\n",
      "                variables with lower and upper bounds:       95\n",
      "                     variables with only upper bounds:        0\n",
      "Total number of equality constraints.................:        5\n",
      "Total number of inequality constraints...............:        0\n",
      "        inequality constraints with only lower bounds:        0\n",
      "   inequality constraints with lower and upper bounds:        0\n",
      "        inequality constraints with only upper bounds:        0\n",
      "\n",
      "iter    objective    inf_pr   inf_du lg(mu)  ||d||  lg(rg) alpha_du alpha_pr  ls\n",
      "   0  0.0000000e+00 4.80e-01 0.00e+00   0.0 0.00e+00    -  0.00e+00 0.00e+00   0\n",
      "   1  0.0000000e+00 4.27e-02 1.76e+00  -0.4 3.74e-01    -  9.96e-01 8.86e-01f  1\n",
      "   2  0.0000000e+00 8.62e-03 7.47e-01  -1.3 9.76e-02    -  1.00e+00 1.00e+00h  1\n",
      "   3  0.0000000e+00 1.68e-03 1.20e-01  -3.0 3.85e-02    -  9.97e-01 1.00e+00h  1\n",
      "   4  0.0000000e+00 1.44e-04 1.73e-02  -4.6 6.21e-03    -  9.99e-01 1.00e+00h  1\n",
      "   5  0.0000000e+00 1.44e-06 4.82e-04  -5.6 5.47e-04    -  1.00e+00 1.00e+00h  1\n",
      "   6  0.0000000e+00 1.34e-10 1.74e-08  -7.7 1.31e-04    -  1.00e+00 1.00e+00h  1\n",
      "   7  0.0000000e+00 1.92e-10 5.03e-12 -11.0 4.97e-04    -  1.00e+00 1.00e+00h  1\n",
      "\n",
      "Number of Iterations....: 7\n",
      "\n",
      "                                   (scaled)                 (unscaled)\n",
      "Objective...............:   0.0000000000000000e+00    0.0000000000000000e+00\n",
      "Dual infeasibility......:   5.0267687490998612e-12    5.0267687490998612e-12\n",
      "Constraint violation....:   1.9191112587968462e-10    1.9191112587968462e-10\n",
      "Complementarity.........:   1.2006443286275170e-11    1.2006443286275170e-11\n",
      "Overall NLP error.......:   1.9191112587968462e-10    1.9191112587968462e-10\n",
      "\n",
      "\n",
      "Number of objective function evaluations             = 8\n",
      "Number of objective gradient evaluations             = 8\n",
      "Number of equality constraint evaluations            = 8\n",
      "Number of inequality constraint evaluations          = 0\n",
      "Number of equality constraint Jacobian evaluations   = 8\n",
      "Number of inequality constraint Jacobian evaluations = 0\n",
      "Number of Lagrangian Hessian evaluations             = 0\n",
      "Total CPU secs in IPOPT (w/o function evaluations)   =      0.732\n",
      "Total CPU secs in NLP function evaluations           =      1.360\n",
      "\n",
      "EXIT: Optimal Solution Found.\n"
     ]
    },
    {
     "data": {
      "text/plain": [
       "\u001b[32m\u001b[1mTest Passed\u001b[22m\u001b[39m"
      ]
     },
     "execution_count": 18,
     "metadata": {},
     "output_type": "execute_result"
    }
   ],
   "source": [
    "z0 = (r_lin.minimizer+r_quad.minimizer)/2\n",
    "\n",
    "m_chance = Nonconvex.Model(z->0.0)\n",
    "addvar!(m_chance,lowA.+0.1,uppA.-0.1)\n",
    "add_eq_constraint!(m_chance,z->c_chance(z))\n",
    "\n",
    "alg = IpoptAlg()\n",
    "options = Nonconvex.IpoptOptions()\n",
    "r_chance = Nonconvex.optimize(m_chance, alg, z0, options = options)\n",
    "\n",
    "tol = 1e-16\n",
    "@test r_chance.minimum ≈ 0 \n",
    "@test sum(abs2,c_chance(r_chance.minimizer)) < tol"
   ]
  },
  {
   "cell_type": "code",
   "execution_count": null,
   "id": "29c6759a",
   "metadata": {},
   "outputs": [],
   "source": [
    "z0= Array((low+min.(upp,100))/10)\n",
    "m = Nonconvex.Model(z->0.0)\n",
    "addvar!(m,lowA,uppA)\n",
    "add_eq_constraint!(m,z->c(z))\n",
    "\n",
    "alg = IpoptAlg()\n",
    "options = Nonconvex.IpoptOptions()\n",
    "r = Nonconvex.optimize(m, alg,z0, options = options)\n",
    "r.minimum\n",
    "r.minimizer"
   ]
  },
  {
   "cell_type": "code",
   "execution_count": null,
   "id": "0205f7b0",
   "metadata": {},
   "outputs": [],
   "source": [
    "Optim.optimize(cA,lowA,uppA ,z_testA, SAMIN(verbosity=1), Optim.Options(iterations=10^6))"
   ]
  },
  {
   "cell_type": "code",
   "execution_count": null,
   "id": "676d4a9f",
   "metadata": {},
   "outputs": [],
   "source": [
    "#inner_optimizer = GradientDescent()\n",
    "inner_optimizer = BFGS() #GradientDescent(linesearch=LineSearches.BackTracking(order=3))\n",
    "results = optimize(cA,lowA,uppA ,z_testA, Fminbox(inner_optimizer),  Optim.Options(g_tol = 1e-12,iterations = 10); autodiff = :forward)"
   ]
  },
  {
   "cell_type": "code",
   "execution_count": null,
   "id": "f7a633cc",
   "metadata": {},
   "outputs": [],
   "source": [
    "getA(Optim.minimizer(results))"
   ]
  },
  {
   "cell_type": "code",
   "execution_count": null,
   "id": "74f4457e",
   "metadata": {},
   "outputs": [],
   "source": [
    "nlp = ADNLPModel(T(0), z_testA, lowA, uppA, c, Array(cL), Array(cU))"
   ]
  },
  {
   "cell_type": "code",
   "execution_count": null,
   "id": "0ddf07f2",
   "metadata": {},
   "outputs": [],
   "source": [
    "import NLopt\n",
    "\n",
    "alg = NLoptAlg(:LD_MMA)\n",
    "options = Nonconvex.NLoptOptions()\n",
    "r = optimize(m, alg, [1.234, 2.345], options = options)\n",
    "r.minimum\n",
    "r.minimizer"
   ]
  },
  {
   "cell_type": "code",
   "execution_count": null,
   "id": "ab506ccb",
   "metadata": {},
   "outputs": [],
   "source": [
    "rng =  Random.seed!(123)\n",
    "z0 = (low+upp)/2\n",
    "x1 = ones(T,N)/10 #rand(T, N)\n",
    "# Ex = ones(T,N)/10 #ones(T,N)/2 # expectation of x# convert from sparse into full arrays\n",
    "obj_full(z0)"
   ]
  },
  {
   "cell_type": "code",
   "execution_count": null,
   "id": "cff203e9",
   "metadata": {},
   "outputs": [],
   "source": [
    "z0 = (low+min.(upp,100))/2\n",
    "@show obj(z0)\n",
    "@show c(z0)-cL\n",
    "@show (low,upp)"
   ]
  },
  {
   "cell_type": "code",
   "execution_count": null,
   "id": "ef464a5c",
   "metadata": {},
   "outputs": [],
   "source": [
    "(obj(z0),obj(z0),obj(z0),obj(z0))\n"
   ]
  },
  {
   "cell_type": "code",
   "execution_count": null,
   "id": "6fd56d4d",
   "metadata": {},
   "outputs": [],
   "source": [
    "linear = 1:2N\n",
    "quadratic = 2N+1\n",
    "nlp=ADNLPModel(obj,z0,Array(low),Array(upp),c,Array(cL),Array(cU); lin=linear)\n",
    "\n",
    "z0=Array(z0);cz0=Array(c(z0));\n",
    "nlp_Lag=AugLagModel(nlp, ones(T,length(cz0)), 10.0, z0,cz0)"
   ]
  },
  {
   "cell_type": "code",
   "execution_count": null,
   "id": "0a39ab46",
   "metadata": {},
   "outputs": [],
   "source": [
    "using JSOSolvers\n",
    "tron(nlp_Lag,max_time=60.0*5)"
   ]
  },
  {
   "cell_type": "code",
   "execution_count": null,
   "id": "9b9350e5",
   "metadata": {},
   "outputs": [],
   "source": [
    "# ccdf of a beta distribution \n",
    "function dist_cdf(p...)\n",
    "    #α,β,wc = p[1], p[2], p[3]\n",
    "    obj(x,p) = (x>=p[3])*DistributionsAD.pdf(DistributionsAD.Beta(p[1],p[2]),x)\n",
    "    return Quad1d(obj,p)\n",
    "end\n",
    "function Quad1d(obj,p)\n",
    "    prob = QuadratureProblem(obj,0,1,p,order=5)\n",
    "    return Quadrature.solve(prob,QuadGKJL(),reltol = 1e-5)[1]\n",
    "end\n",
    "function find_parametric_optimum(g, a)\n",
    "    optimize(x -> g(x, a), ...)\n",
    "end"
   ]
  },
  {
   "cell_type": "code",
   "execution_count": null,
   "id": "c2121772",
   "metadata": {},
   "outputs": [],
   "source": [
    "@variable(m, lowA[i]<=z[i=1:M]<=uppA[i]) \n",
    "@variable(m, 1.0<=α[i=1:N]<=2.0, start = 4.1) \n",
    "@variable(m, 1.0<=β[i=1:N]<=150.0, start = 30.0) \n",
    "@constraint(m, hᵀA*z.==qA) \n",
    "@constraint(m,transpose(z)*HA*z==0.0) \n",
    "@constraint(m,px[i=1:N],transpose(z)*H₄A[i]*z.==h₄₄₄ᵀA[i]*z.- q₄A[i] )\n",
    "@constraint(m,z[diag(LinearIndices(ones(N,N)))].==0)\n",
    "\n",
    "# match probabilities of default\n",
    "\n",
    "JuMP.register(m, :dist_cdf, 3, dist_cdf; autodiff=true)\n",
    "@NLexpression(m,wc[i=1:N],w[i]/z[N^2+N+i]) #c[i] = z[N^2+N+i]\n",
    "for i in 1:N\n",
    "    @eval ($(Symbol(\"vv$i\"))) = [α[$i],β[$i],wc[$i]]\n",
    "    @eval @NLconstraint(m,dist_cdf(($(Symbol(\"vv$i\")))...)== delta[$i]) \n",
    "end\n",
    "\n",
    "ex = @expression(m,(h₀ᵀA*z)[1])\n",
    "@objective(m, Max,  ex )"
   ]
  },
  {
   "cell_type": "code",
   "execution_count": null,
   "id": "8e5f99c1",
   "metadata": {},
   "outputs": [],
   "source": [
    "push!(LOAD_PATH,\"/home/ec2-user/SageMaker/IncBetaDer/\");\n",
    "using IncBetaDer"
   ]
  },
  {
   "cell_type": "code",
   "execution_count": null,
   "id": "7d4d8556",
   "metadata": {},
   "outputs": [],
   "source": [
    "display(LOAD_PATH)"
   ]
  },
  {
   "cell_type": "code",
   "execution_count": null,
   "id": "a4a39c94",
   "metadata": {},
   "outputs": [],
   "source": []
  },
  {
   "cell_type": "code",
   "execution_count": null,
   "id": "35748742",
   "metadata": {},
   "outputs": [],
   "source": []
  },
  {
   "cell_type": "code",
   "execution_count": null,
   "id": "b6eaf06c",
   "metadata": {},
   "outputs": [],
   "source": []
  },
  {
   "cell_type": "code",
   "execution_count": null,
   "id": "c065fd11",
   "metadata": {},
   "outputs": [],
   "source": [
    "using Distributions, DistributionsAD, ForwardDiff, Quadrature\n",
    "push!(LOAD_PATH,\"/home/ec2-user/SageMaker/IncBetaDer/\");\n",
    "using IncBetaDer"
   ]
  },
  {
   "cell_type": "code",
   "execution_count": null,
   "id": "58e862a1",
   "metadata": {},
   "outputs": [],
   "source": [
    "function dist_cdf(a, b, y)\n",
    "    #α,β,wc = p[1], p[2], p[3]\n",
    "    obj(x,p) = (x>=y)*DistributionsAD.pdf(DistributionsAD.Beta(p[1],p[2]),x)\n",
    "    return Quad1d(obj,hcat(a, b))\n",
    "end\n",
    "function Quad1d(obj,p)\n",
    "    prob = QuadratureProblem(obj,0,1,p,order=100)\n",
    "    return Quadrature.solve(prob,QuadGKJL(),reltol = 1e-16,abstol = 1e-16)[1]\n",
    "end\n",
    "\n",
    "a=1.1;b=2.1;x=0.1;\n",
    "z = [a, b, x]"
   ]
  },
  {
   "cell_type": "code",
   "execution_count": null,
   "id": "3f6e6418",
   "metadata": {},
   "outputs": [],
   "source": []
  },
  {
   "cell_type": "code",
   "execution_count": null,
   "id": "d64c8bdc",
   "metadata": {},
   "outputs": [],
   "source": [
    "@show dist_cdf(z...)\n",
    "@show 1 .- IncBetaDer.beta_inc_grad(a, b, x,1e10, 1,1e-20)[1]"
   ]
  },
  {
   "cell_type": "code",
   "execution_count": null,
   "id": "844592f1",
   "metadata": {},
   "outputs": [],
   "source": [
    "@show ForwardDiff.derivative(α->dist_cdf(α, b, x),a)[1]\n",
    "@show -IncBetaDer.beta_inc_grad(a, b, x,1e10, 1,1e-20)[2];"
   ]
  },
  {
   "cell_type": "code",
   "execution_count": null,
   "id": "da3697df",
   "metadata": {},
   "outputs": [],
   "source": [
    "@show ForwardDiff.derivative(β->dist_cdf(a,β, x),b)[1]\n",
    "@show -IncBetaDer.beta_inc_grad(a, b, x)[3];"
   ]
  },
  {
   "cell_type": "code",
   "execution_count": null,
   "id": "d8d66a86",
   "metadata": {},
   "outputs": [],
   "source": [
    "@show ForwardDiff.derivative(y->dist_cdf(a,b,y),x)[1]\n",
    "@show -IncBetaDer.beta_inc_grad(a, b, x,1e9, 1,1e-16)[4];"
   ]
  },
  {
   "cell_type": "code",
   "execution_count": null,
   "id": "0f9f610b",
   "metadata": {},
   "outputs": [],
   "source": [
    "ee=1e-16\n",
    "(dist_cdf(a,b,x+ee)-dist_cdf(a,b,x-ee))/(2ee)"
   ]
  },
  {
   "cell_type": "code",
   "execution_count": null,
   "id": "aeb76c07",
   "metadata": {},
   "outputs": [],
   "source": []
  },
  {
   "cell_type": "code",
   "execution_count": null,
   "id": "544fbb81",
   "metadata": {},
   "outputs": [],
   "source": [
    "N=3;Q=2\n",
    "rowInd = repeat(1:N^2,Q)\n",
    "colInd = [hcat([repeat((1:N).+q*N,N) for q=0:Q-1]...)...]\n",
    "\n",
    "matInd=hcat(vcat(rowInd .+ N^2 .+ 4N, rowInd),vcat(colInd,colInd .+ N^2 .+ 1))\n",
    "[matInd[(1:N) .+ q*N,1] for q=1:Q]\n",
    "[matInd[(1:N) .+ q*N,2] for q=1:Q]\n"
   ]
  },
  {
   "cell_type": "code",
   "execution_count": null,
   "id": "428462ae",
   "metadata": {},
   "outputs": [],
   "source": [
    "rowIndH=collect(Iterators.partition(vcat(rowInd .+ N^2 .+ 4N, rowInd),N))\n",
    "colIndH=collect(Iterators.partition(vcat(colInd,colInd .+ N^2 .+ 1),N))"
   ]
  },
  {
   "cell_type": "code",
   "execution_count": null,
   "id": "762cf65e",
   "metadata": {},
   "outputs": [],
   "source": [
    "(rowInd,colInd .+ N^2 .+ 1)"
   ]
  },
  {
   "cell_type": "code",
   "execution_count": null,
   "id": "a1e6a2e4",
   "metadata": {},
   "outputs": [],
   "source": [
    "mat =[sparse(rowIndH[i+N*Q],colIndH[i+N*Q],ones(N)/2,N^2+4N+Q*N,N^2+4N+Q*N) for i=1:N*Q];\n",
    "matsp=sparse(Symmetric(mat[6],:U))"
   ]
  },
  {
   "cell_type": "code",
   "execution_count": null,
   "id": "88c26b44",
   "metadata": {},
   "outputs": [],
   "source": [
    "ind1(q)= q*N .+ (1:N)\n",
    "ind2(q)= N^2+4N +q*N .+ (1:N)\n",
    "\n",
    "([vcat(ind1(q),ind2(q+i)) for q=0,i=1],[vcat(ind2(q+i),ind1(q)) for q=0,i=1])"
   ]
  },
  {
   "cell_type": "code",
   "execution_count": null,
   "id": "37b64f69",
   "metadata": {},
   "outputs": [],
   "source": [
    "N^2+4*N"
   ]
  },
  {
   "cell_type": "code",
   "execution_count": null,
   "id": "ceefa602",
   "metadata": {},
   "outputs": [],
   "source": [
    "ind1(0),ind2(0)\n",
    "ind1(1),ind2(0)\n",
    "ind1(2),ind2(0)\n",
    "ind1(0),ind2(1)\n",
    "ind1(1),ind2(1)\n",
    "ind1(2),ind2(1)\n",
    "\n",
    "ind2(0),ind1(0)\n",
    "ind2(0),ind1(1)\n",
    "ind2(0),ind1(2)\n",
    "ind2(1),ind1(0)\n",
    "ind2(1),ind1(1)\n",
    "ind2(1),ind1(2)"
   ]
  },
  {
   "cell_type": "code",
   "execution_count": null,
   "id": "9f4b2f6f",
   "metadata": {},
   "outputs": [],
   "source": [
    "ind1(q)= q*N .+ (1:N)\n",
    "ind2(q)= N^2+4N +q*N .+ (1:N)\n",
    "H = [sparse(vcat(ind1(i),ind2(q)),vcat(ind2(q),ind1(i)),ones(2*N)/2,N^2+4N+Q*N,N^2+4N+Q*N) for i=0:N-1,q=0:Q-1];\n",
    "using Test\n",
    "@test [transpose(z)*H[i,q]*z for i=1:N,q=1:Q]≈transpose(A)*p"
   ]
  },
  {
   "cell_type": "code",
   "execution_count": null,
   "id": "5cfc19f5",
   "metadata": {},
   "outputs": [],
   "source": [
    "A = rand(3,3);\n",
    "x = rand(4N);\n",
    "p = rand(N,Q);\n",
    "\n",
    "z = vcat(A...,x...,p...)\n",
    "(transpose(z)*H[1,1]*z,dot(A[:,1],p[:,1]))\n",
    "\n",
    "\n",
    "[(transpose(z)*H[i,q]*z,dot(A[:,i],p[:,q])) for i=1:N,q=1:Q]"
   ]
  },
  {
   "cell_type": "code",
   "execution_count": null,
   "id": "eb19abb2",
   "metadata": {},
   "outputs": [],
   "source": []
  },
  {
   "cell_type": "code",
   "execution_count": null,
   "id": "8193b028",
   "metadata": {},
   "outputs": [],
   "source": []
  },
  {
   "cell_type": "code",
   "execution_count": null,
   "id": "5a252a37",
   "metadata": {},
   "outputs": [],
   "source": []
  }
 ],
 "metadata": {
  "kernelspec": {
   "display_name": "Julia 1.6.0",
   "language": "julia",
   "name": "julia-1.6"
  },
  "language_info": {
   "file_extension": ".jl",
   "mimetype": "application/julia",
   "name": "julia",
   "version": "1.6.0"
  }
 },
 "nbformat": 4,
 "nbformat_minor": 5
}
