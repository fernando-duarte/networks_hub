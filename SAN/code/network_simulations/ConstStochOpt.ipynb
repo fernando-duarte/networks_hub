{
 "cells": [
  {
   "cell_type": "code",
   "execution_count": 1,
   "id": "e19bfeaf",
   "metadata": {},
   "outputs": [
    {
     "name": "stderr",
     "output_type": "stream",
     "text": [
      "\u001b[32m\u001b[1m  Activating\u001b[22m\u001b[39m environment at `~/SageMaker/networks_hub/SAN/code/network_simulations/nlp/Project.toml`\n"
     ]
    }
   ],
   "source": [
    "#import Pkg;Pkg.activate(\"convex\")\n",
    "import Pkg;Pkg.activate(\"nlp\")\n",
    "Pkg.instantiate()\n",
    "# Pkg.resolve()\n",
    "# Pkg.gc()\n",
    "# Pkg.precompile()"
   ]
  },
  {
   "cell_type": "code",
   "execution_count": 14,
   "id": "a2a74990",
   "metadata": {},
   "outputs": [
    {
     "name": "stderr",
     "output_type": "stream",
     "text": [
      "WARNING: replacing module IncBetaDer.\n"
     ]
    },
    {
     "data": {
      "text/plain": [
       "Main.IncBetaDer"
      ]
     },
     "execution_count": 14,
     "metadata": {},
     "output_type": "execute_result"
    }
   ],
   "source": [
    "using LinearAlgebra, DataFrames, XLSX, Missings, Test, SpecialFunctions,  SparseArrays , Random, BenchmarkTools, Distributions, JLD2\n",
    "using JuMP,Ipopt, NLsolve, Optim, LineSearches\n",
    "using NLPModels, ADNLPModels, Percival, Nonconvex, Hyperopt\n",
    "using ForwardDiff\n",
    "using BSON\n",
    "include(\"IncBetaDer.jl\")"
   ]
  },
  {
   "cell_type": "code",
   "execution_count": 3,
   "id": "08c72aa2",
   "metadata": {},
   "outputs": [
    {
     "name": "stdout",
     "output_type": "stream",
     "text": [
      "\u001b[1m867×12 DataFrame\u001b[0m\n",
      "\u001b[1m Row \u001b[0m│\u001b[1m nm_short                     \u001b[0m\u001b[1m qt_dt \u001b[0m\u001b[1m tkr  \u001b[0m\u001b[1m delta     \u001b[0m\u001b[1m delta_alt   \u001b[0m\u001b[1m beta     \u001b[0m\u001b[1m w         \u001b[0m\u001b[1m c        \u001b[0m\u001b[1m assets   \u001b[0m\u001b[1m nvi_benchmark \u001b[0m\u001b[1m p_bar    \u001b[0m\u001b[1m b        \u001b[0m\n",
      "\u001b[1m     \u001b[0m│\u001b[90m Any                          \u001b[0m\u001b[90m Any   \u001b[0m\u001b[90m Any  \u001b[0m\u001b[90m Any       \u001b[0m\u001b[90m Any         \u001b[0m\u001b[90m Any      \u001b[0m\u001b[90m Any       \u001b[0m\u001b[90m Any      \u001b[0m\u001b[90m Any      \u001b[0m\u001b[90m Any           \u001b[0m\u001b[90m Any      \u001b[0m\u001b[90m Any      \u001b[0m\n",
      "─────┼───────────────────────────────────────────────────────────────────────────────────────────────────────────────────────────────────────────────\n",
      "   1 │ JPMORGAN CHASE & CO           195    JPM   0.0106652  0.00862097   0.56278   0.168059   1.45164   2.17505   11.0931        2.00699   0.877498\n",
      "   2 │ CITIGROUP                     195    C     0.0647046  0.0475393    0.481591  0.144022   1.38565   1.93847   11.0931        1.79445   0.930258\n",
      "   3 │ BANK OF AMER CORP             195    BAC   0.016278   0.0117393    0.50803   0.17871    1.51681   1.82207   11.0931        1.64336   0.808482\n",
      "   4 │ WELLS FARGO & CO              195    WFC   0.0047069  0.00462975   0.397362  0.102316   1.15898   1.30964   11.0931        1.20732   0.727579\n",
      "   5 │ GOLDMAN SACHS GROUP INC       195    GS    0.0253824  0.0282284   \u001b[90m missing  \u001b[0m 0.04922   \u001b[90m missing  \u001b[0m 1.08177  \u001b[90m missing       \u001b[0m 1.03255  \u001b[90m missing  \u001b[0m\n",
      "   6 │ AMERICAN INTERNATIONAL GROUP  195    AIG   0.057924   0.0455341   \u001b[90m missing  \u001b[0m 0.082995  \u001b[90m missing  \u001b[0m 1.02224  \u001b[90m missing       \u001b[0m 0.939242 \u001b[90m missing  \u001b[0m\n",
      "   7 │ MORGAN STANLEY                195    MS    0.0892237  0.131335    \u001b[90m missing  \u001b[0m 0.035765  \u001b[90m missing  \u001b[0m 0.987403 \u001b[90m missing       \u001b[0m 0.951638 \u001b[90m missing  \u001b[0m\n",
      "   8 │ MERRILL LYNCH  CO INC         195    BAC2  0.0602485  0.0550379   \u001b[90m missing  \u001b[0m 0.0406288 \u001b[90m missing  \u001b[0m 0.87578  \u001b[90m missing       \u001b[0m 0.835151 \u001b[90m missing  \u001b[0m\n",
      "   9 │ METLIFE                       195    MET   0.0081233  0.00663113   0.514254  0.0239866  0.373146  0.501678  11.0931        0.477692  0.232037\n",
      "  10 │ PRUDENTIAL FINANCIAL INC      195    PRU   0.0242412  0.0192051   \u001b[90m missing  \u001b[0m 0.018699  \u001b[90m missing  \u001b[0m 0.460398 \u001b[90m missing       \u001b[0m 0.441699 \u001b[90m missing  \u001b[0m\n",
      "  11 │ HARTFORD FINANCIAL SERVICES   195    HIG   0.0401791  0.0436828   \u001b[90m missing  \u001b[0m 0.012557  \u001b[90m missing  \u001b[0m 0.311485 \u001b[90m missing       \u001b[0m 0.298928 \u001b[90m missing  \u001b[0m\n",
      "  ⋮  │              ⋮                  ⋮     ⋮        ⋮           ⋮          ⋮          ⋮         ⋮         ⋮            ⋮           ⋮         ⋮\n",
      " 857 │ MANHATTAN BRIDGE CAPITAL INC  195    LOAN  0.0023348  0.00159594  \u001b[90m missing  \u001b[0m 7.016e-6  \u001b[90m missing  \u001b[0m 7.173e-6 \u001b[90m missing       \u001b[0m 1.57e-7  \u001b[90m missing  \u001b[0m\n",
      " 858 │ GLOBAL HEALTHCARE REIT        195    GBCS  0.104583   0.0862715   \u001b[90m missing  \u001b[0m 4.222e-6  \u001b[90m missing  \u001b[0m 7.154e-6 \u001b[90m missing       \u001b[0m 2.932e-6 \u001b[90m missing  \u001b[0m\n",
      " 859 │ NETWORK-1 TECHNOLOGIES INC    195    NTIP  0.0012227  0.000952608 \u001b[90m missing  \u001b[0m 4.845e-6  \u001b[90m missing  \u001b[0m 4.969e-6 \u001b[90m missing       \u001b[0m 1.24e-7  \u001b[90m missing  \u001b[0m\n",
      " 860 │ SECOND STREET CAPITAL INC     195    CTON  0.299511   0.241776    \u001b[90m missing  \u001b[0m 1.026e-6  \u001b[90m missing  \u001b[0m 4.014e-6 \u001b[90m missing       \u001b[0m 2.988e-6 \u001b[90m missing  \u001b[0m\n",
      " 861 │ CAMBRIDGE HOLDINGS LTD        195    CDGD  0.0476988  0.0492359   \u001b[90m missing  \u001b[0m 1.313e-6  \u001b[90m missing  \u001b[0m 1.967e-6 \u001b[90m missing       \u001b[0m 6.54e-7  \u001b[90m missing  \u001b[0m\n",
      " 862 │ NORAM CAPITAL HOLDINGS INC    195    NRMH  0.244393   0.242803    \u001b[90m missing  \u001b[0m 1.09e-6   \u001b[90m missing  \u001b[0m 1.628e-6 \u001b[90m missing       \u001b[0m 5.38e-7  \u001b[90m missing  \u001b[0m\n",
      " 863 │ UMC INC                       195    UMCN  0.126107   0.225341    \u001b[90m missing  \u001b[0m 4.59e-7   \u001b[90m missing  \u001b[0m 9.66e-7  \u001b[90m missing       \u001b[0m 5.07e-7  \u001b[90m missing  \u001b[0m\n",
      " 864 │ RECEIVABLE ACQ MGMT -OLD      195    CSEI  0.0594649  0.039179    \u001b[90m missing  \u001b[0m 4.69e-7   \u001b[90m missing  \u001b[0m 5.22e-7  \u001b[90m missing       \u001b[0m 5.3e-8   \u001b[90m missing  \u001b[0m\n",
      " 865 │ NOCOPI TECHNOLOGIES INC       195    NNUP  0.0232885  0.0182395   \u001b[90m missing  \u001b[0m 0.0       \u001b[90m missing  \u001b[0m 4.49e-7  \u001b[90m missing       \u001b[0m 4.49e-7  \u001b[90m missing  \u001b[0m\n",
      " 866 │ ST LAWRENCE SEAWAY CORP-OLD   195    CRBO  0.0044543  0.00446339  \u001b[90m missing  \u001b[0m 9.5e-8    \u001b[90m missing  \u001b[0m 9.9e-8   \u001b[90m missing       \u001b[0m 4.0e-9   \u001b[90m missing  \u001b[0m\n",
      " 867 │ INVENT VENTURES INC           195    IDEA  0.0152749  0.0119091   \u001b[90m missing  \u001b[0m 3.0e-9    \u001b[90m missing  \u001b[0m 3.5e-8   \u001b[90m missing       \u001b[0m 3.2e-8   \u001b[90m missing  \u001b[0m\n",
      "\u001b[36m                                                                                                                                     845 rows omitted\u001b[0m"
     ]
    }
   ],
   "source": [
    "## load data\n",
    "\n",
    "# xf = XLSX.readxlsx(\"node_stats_forsimulation_all.xlsx\") \n",
    "# data = vcat( [(XLSX.eachtablerow(xf[s]) |> DataFrames.DataFrame) for s in XLSX.sheetnames(xf)]... ) #for s in XLSX.sheetnames(xf) if (s!=\"Aggregates Composition\" && s!=\"Dealer Aggregates\" && s!=\"Approx Aggregates\")\n",
    "# unique!(data) # delete duplicate rows, use `nonunique(data)` to see if there are any duplicates\n",
    "# data = data[isequal.(data.qt_dt,195), :] # keep quarter == 195 = 2008q4\n",
    "# sort!(data, :assets, rev = true)\n",
    "# units = 1e6;\n",
    "# data[:,[:w, :c, :assets, :p_bar, :b]] .= data[!,[:w, :c, :assets, :p_bar, :b]]./units\n",
    "# # data.b[:] .= missing\n",
    "# # data.c[:] .= missing\n",
    "\n",
    "# col_with_miss = names(data)[[any(ismissing.(col)) for col = eachcol(data)]] # columns with at least one missing\n",
    "# data_nm = coalesce.(data, data.assets/1.5) # replace missing by a value\n",
    "# nm_c = findall(x->x==0,ismissing.(data.c))\n",
    "# nm_b = findall(x->x==0,ismissing.(data.b))\n",
    "# dropmissing(data, [:delta, :delta_alt, :w, :assets, :p_bar]) # remove type missing\n",
    "\n",
    "# names(data) # column names\n",
    "# describe(data)\n",
    "# show(data, allcols = true)\n",
    "# bson(\"data.bson\",Dict(:data=>data))\n",
    "data_dict = BSON.load(\"data.bson\")\n",
    "show(data_dict[:data], allcols = true)"
   ]
  },
  {
   "cell_type": "code",
   "execution_count": 13,
   "id": "8ca4cfda",
   "metadata": {},
   "outputs": [
    {
     "data": {
      "text/plain": [
       "getp (generic function with 1 method)"
      ]
     },
     "execution_count": 13,
     "metadata": {},
     "output_type": "execute_result"
    }
   ],
   "source": [
    "N=5\n",
    "T = Float64\n",
    "temp = Array{T}(data_dict[:data][1:N,[:delta, :delta_alt, :w, :assets, :p_bar]])\n",
    "delta = copy(temp[:,1]); \n",
    "delta_alt = copy(temp[:,2]);\n",
    "w = copy(temp[:,3]); \n",
    "assets= copy(temp[:,4]);\n",
    "p_bar = copy(temp[:,5]);\n",
    "\n",
    "γ = T(0)\n",
    "mini_batch = 1;\n",
    "M = N^2+4*N+N*mini_batch\n",
    "\n",
    "# z = vcat(A...,b,c,α,β,p...)\n",
    "# p is N-by-mini_batch\n",
    "\n",
    "selA  = sparse(1:N^2,1:N^2,T(1),N^2,M)\n",
    "selb  = sparse(1:N,N^2+1:N^2+N,T(1),N,M)\n",
    "selc  = sparse(1:N,N^2+N+1:N^2+2N,T(1),N,M)\n",
    "selα  = sparse(1:N,N^2+2N+1:N^2+3N,T(1),N,M)\n",
    "selβ  = sparse(1:N,N^2+3N+1:N^2+4N,T(1),N,M)\n",
    "selp  = sparse(1:mini_batch*N,N^2+4N+1:M,T(1),mini_batch*N,M)\n",
    "\n",
    "getA(z) = reshape(selA*z,N,N)\n",
    "getp(z) = reshape(selp*z,N,mini_batch)"
   ]
  },
  {
   "cell_type": "code",
   "execution_count": 15,
   "id": "4a6e520d",
   "metadata": {},
   "outputs": [
    {
     "data": {
      "text/plain": [
       "c_pNL (generic function with 1 method)"
      ]
     },
     "execution_count": 15,
     "metadata": {},
     "output_type": "execute_result"
    }
   ],
   "source": [
    "## upper and lower bounds\n",
    "# low<=z<=upp\n",
    "lowα = 0.5 ;uppα = 10\n",
    "lowβ = 1   ;uppβ = 150\n",
    "low_zero = eps(T) # eps(T) T(0.005)\n",
    "\n",
    "low = vcat(spzeros(T,N^2),fill(low_zero,N),fill(low_zero,N),fill(lowα,N),fill(lowβ,N),fill(low_zero,N*mini_batch))\n",
    "upp = vcat(ones(T,N^2),p_bar,assets,Array{T}(fill(uppα,N)),Array{T}(fill(uppβ,N)),repeat(p_bar,mini_batch))\n",
    "\n",
    "## linear constraints\n",
    "# hᵀz=q\n",
    "\n",
    "h₁₁ᵀ = hcat(sparse(kron(Matrix{T}(I,N,N),p_bar')))\n",
    "h₁ᵀ = hcat(h₁₁ᵀ,spzeros(T,N,N),sparse(I,N,N),spzeros(T,N,N),spzeros(T,N,N),spzeros(T,N,mini_batch*N))\n",
    "q₁ = assets\n",
    "\n",
    "h₂₁ᵀ = repeat(spdiagm(p_bar),1,N)\n",
    "h₂ᵀ = hcat(h₂₁ᵀ,sparse(I,N,N),spzeros(T,N,N),spzeros(T,N,N),spzeros(T,N,N),spzeros(T,N,mini_batch*N))\n",
    "q₂ = p_bar\n",
    "\n",
    "hᵀ = vcat(h₁ᵀ,h₂ᵀ)\n",
    "q = vcat(q₁,q₂)\n",
    "function c_lin(z)\n",
    "    return hᵀ*z .- q\n",
    "end\n",
    "\n",
    "## quadratic constraints\n",
    "# zᵀHz = 0\n",
    "li = LinearIndices((N,N))\n",
    "liᵀ= transpose(li)\n",
    "id = li[tril!(trues(N,N), 0)]\n",
    "idᵀ = liᵀ[tril!(trues(N,N), 0)]\n",
    "H₃= sparse(vcat(id,idᵀ),vcat(idᵀ,id),T(0.5),M,M)\n",
    "h₃ = spzeros(T,M)\n",
    "q₃ = spzeros(T,1)\n",
    "\n",
    "H = H₃\n",
    "function c_quad(z)\n",
    "    return dot(z,H*z) #transpose(z)*H*z\n",
    "end\n",
    "\n",
    "## chance constraints ⟺ c_chance(z)=0\n",
    "# Prob(c[i]x[i]>=w[i])=delta[i] \n",
    "beta_ccdf(a,b,x) = zero(x) < x < one(x) ? one(x) - IncBetaDer.beta_inc_grad(a, b, x)[1] : zero(x)\n",
    "function c_chance(z)\n",
    "    zeroz = zero(z[1])+0.0001\n",
    "    onez = one(z[1])-0.0001\n",
    "#     display(selc*z)\n",
    "    return beta_ccdf.(selα*z,selβ*z,max.(min.(w./(selc*z),onez),zeroz) ) .- delta\n",
    "end\n",
    "\n",
    "## clearing vector constraint\n",
    "# quadratic version (ignores min{p_bar,max{0,...}} )\n",
    "function c_p(z,x)\n",
    "    c = selc*z\n",
    "    p = getp(z)\n",
    "    Aᵀ = transpose(getA(z))\n",
    "    return reshape(p - ((1+γ)*Aᵀ*p + ((1+γ)*(T(1) .- x)).*repeat(c,1,size(x,2))-γ*repeat(p_bar,1,size(x,2))) ,N*size(x,2))\n",
    "end\n",
    "\n",
    "# non-linear version\n",
    "function c_pNL(z,x)\n",
    "    c = selc*z\n",
    "    p = getp(z)\n",
    "    Aᵀ = transpose(getA(z))\n",
    "    p_bar_rep = repeat(p_bar,1,size(x,2))\n",
    "    return reshape(p-min.(max.(0,(1+γ)*Aᵀ*p + ((1+γ)*(T(1) .- x)).*repeat(c,1,size(x,2))-γ*p_bar_rep),p_bar_rep),N*size(x,2))\n",
    "end"
   ]
  },
  {
   "cell_type": "code",
   "execution_count": null,
   "id": "1b0589db",
   "metadata": {},
   "outputs": [],
   "source": [
    "# write constraints as cL<=c(z)<=cU, setting cL=cU for equality constraints\n",
    "cL = spzeros(3N+1+mini_batch*N)\n",
    "cU = cL\n",
    "function c_(z,x)\n",
    "    #x = rand(N,mini_batch)\n",
    "    #x = ones(N,mini_batch)/10\n",
    "    vcat(c_lin(z),\n",
    "        c_quad(z),\n",
    "        c_chance(z),\n",
    "        c_p(z,x)\n",
    "        )\n",
    "end\n",
    "\n",
    "function c_NL(z,x)\n",
    "    #x = rand(N,mini_batch)\n",
    "    #x = ones(N,mini_batch)/10\n",
    "    vcat(c_lin(z),\n",
    "        c_quad(z),\n",
    "        c_chance(z),\n",
    "        c_pNL(z,x)\n",
    "        )\n",
    "end\n",
    "\n",
    "function c_(z)\n",
    "    vcat(c_lin(z),\n",
    "        c_quad(z),\n",
    "        c_chance(z)\n",
    "        )\n",
    "end\n",
    "\n",
    "function c_NL(z)\n",
    "    vcat(c_lin(z),\n",
    "        c_quad(z),\n",
    "        c_chance(z)\n",
    "        )\n",
    "end"
   ]
  },
  {
   "cell_type": "code",
   "execution_count": 16,
   "id": "4b2ba8fa",
   "metadata": {},
   "outputs": [
    {
     "data": {
      "text/plain": [
       "loss_d (generic function with 1 method)"
      ]
     },
     "execution_count": 16,
     "metadata": {},
     "output_type": "execute_result"
    }
   ],
   "source": [
    "# objective to max or min\n",
    "function obj(z)\n",
    "    c = selc*z\n",
    "    α = selα*z\n",
    "    β = selβ*z\n",
    "    p = getp(z)\n",
    "    return sum(c.*α./(α + β))-sum(mean(p,dims=2))\n",
    "end\n",
    "\n",
    "function obj(z,x)\n",
    "    Aᵀ = transpose(getA(z))\n",
    "    c = selc*z\n",
    "    α = selα*z\n",
    "    β = selβ*z\n",
    "    p_guess = getp(z) \n",
    "    p_guess_rep = repeat(p_guess,1,size(x,2))\n",
    "    p_bar_rep = repeat(p_bar,1,size(x,2))\n",
    "    function clearing_p!(F, p, x, Aᵀ, c)\n",
    "        crep = repeat(c,1,size(x,2))\n",
    "        F .= p.-min.(p_bar_rep,max.( (1+γ)*(Aᵀ*p .+ (one(x[1]) .- x).*crep) .- γ.*p_bar_rep, 0 ) )\n",
    "    end\n",
    "    p = nlsolve((F, p)->clearing_p!(F, p, x, Aᵀ, c),p_guess_rep, autodiff = :forward)\n",
    "    @test converged(p)\n",
    "    #return p.zero\n",
    "    return sum(c.*x)-sum(mean(p.zero,dims=2)) # spillovers for network \n",
    "    #return sum(c.*α./(α + β))-sum(mean(p.zero,dims=2))\n",
    "end\n",
    "\n",
    "function obj_full(z)\n",
    "    obj(z)+sum(p_bar)\n",
    "end\n",
    "\n",
    "function obj_full(z,x)\n",
    "    obj(z,x)+sum(p_bar)\n",
    "end\n",
    "\n",
    "function loss_d(z,x)\n",
    "    cx = c.*x\n",
    "    return sum(xc+max.(0,cx-w)) # spillovers for disconnected network \n",
    "end"
   ]
  },
  {
   "cell_type": "code",
   "execution_count": null,
   "id": "ee255445",
   "metadata": {},
   "outputs": [],
   "source": [
    "z0 = low + (upp-low).*rand(M)\n",
    "all(low .<= z0 .<= upp)\n",
    "x = rand(N,1)"
   ]
  },
  {
   "cell_type": "code",
   "execution_count": null,
   "id": "5d5f3b29",
   "metadata": {},
   "outputs": [],
   "source": [
    "@show c_pNL(z0,x)\n",
    "@show c_pNL(z0,zeros(N))\n",
    "@show c_pNL(z0,ones(N));"
   ]
  },
  {
   "cell_type": "code",
   "execution_count": null,
   "id": "e202267d",
   "metadata": {},
   "outputs": [],
   "source": [
    "# put glasserman in xlsx file, test it through there\n",
    "# start a test file\n",
    "# consider modules\n",
    "\n",
    "@show p_bar, w\n",
    "@testset \"Example from Glasserman and Young\" begin\n",
    "    w_test = [5.0, 5.0, 10.0, 5.0, 5.0]; # net worth\n",
    "    y = 0; # arbitrary y for illustration\n",
    "    p_bar_test = [55.0+y, 55.0+y, 140.0, 55.0+y, 55.0+y]; # total liabilities\n",
    "    A_test = [0 y/p_bar_test[1] 0 0 0; 0 0 0 y/p_bar_test[1] 0; 10.0/p_bar_test[3] 10.0/p_bar_test[3] 0 10.0/p_bar_test[3] 10.0/p_bar_test[3]; 0 0 0 0 y/p_bar_test[1]; y/p_bar_test[1] 0 0 0 0]; # matrix of relative liabilities\n",
    "    b_test = (55.0, 55.0, 100.0, 55.0, 55); # outside liabilities\n",
    "    c_test = (50.0, 50.0, 150.0, 50.0, 50.0); # outside assets\n",
    "    N_test = length(c_test); # number of nodes\n",
    "    \n",
    "    # solve for the clearing vector using nlsolve as before\n",
    "    x_test = [0.0, 0.0, 94.0, 0.0, 0.0] # shock to the central node of size 94\n",
    "    function clearing_vec!(F, p, x)\n",
    "        F .= p.-min.(p_bar_test,max.(A_test'*p .+ c_test .- x,0))\n",
    "    end\n",
    "    sol_test = nlsolve((F, p)->clearing_vec!(F, p, x_test),p_bar_test, autodiff = :forward) \n",
    "    p_test= sol_test.zero; # the solution to the system\n",
    "    @test converged(sol_test)\n",
    "    #@show p_test\n",
    "\n",
    "    sf_test = sum(p_bar_test-p_test) # payment shortfalls\n",
    "    dl_test = sum(x_test) # direct losses\n",
    "    L_test = sf_test+dl_test\n",
    "    #@show sf_test, dl_test, L_test\n",
    "\n",
    "    @test sf_test==88\n",
    "    @test dl_test==94\n",
    "    @test L_test==182\n",
    "\n",
    "    sf_d_test = sum(max.(0,x_test-w_test)) # payment shortfalls for disconnected network\n",
    "    dl_d_test = sum(x_test) # direct losses for disconnected network\n",
    "    L_d_test = sf_d_test+dl_d_test # expected spillovers for disconnected network\n",
    "    #@show sf_d_test, dl_d_test, L_d_test\n",
    "\n",
    "    @test sf_d_test==84\n",
    "    @test dl_d_test==94\n",
    "    @test L_d_test==178\n",
    "\n",
    "    α_test = ones(N)\n",
    "    β_test = ones(N)\n",
    "\n",
    "    p_bar = p_bar_test\n",
    "    w = w_test\n",
    "    γ = 0\n",
    "    z_test = vcat(A_test...,b_test...,c_test...,α_test,β_test,p_bar)\n",
    "    out = obj_full(z_test,x_test./c_test)\n",
    "    @show out[2];\n",
    "#     @test L_test==obj_full(z_test,x_test./c_test)\n",
    "#     @test L_d_test==loss_d(z_test,x_test./c_test)   \n",
    "#    @show p_bar, w\n",
    "end\n",
    "\n",
    "@show p_bar, w;"
   ]
  },
  {
   "cell_type": "code",
   "execution_count": null,
   "id": "24bc9dd4",
   "metadata": {},
   "outputs": [],
   "source": [
    "@testset \"Problem specified correctly\" begin\n",
    "    \n",
    "    num_tests = 10 # run tests for num_testγs for x\n",
    "    for nn=1:num_tests\n",
    "        z_test = [rand(Uniform(low[i],upp[i])) for i = 1:M] # Array((low+min.(upp,100))/2) [rand(Uniform(low[i],upp[i])) for i = 1:M]\n",
    "        x_test = rand(N,mini_batch)\n",
    "\n",
    "        A_test = getA(z_test)\n",
    "        b_test = selb*z_test\n",
    "        c_test = selc*z_test\n",
    "        α_test = selα*z_test\n",
    "        β_test = selβ*z_test\n",
    "        p_test = getp(z_test)\n",
    "\n",
    "        @testset \"Upper and lower bounds\" begin\n",
    "            @test all(getA(low).==0)\n",
    "            @test all(getA(upp).==1)\n",
    "            @test all(selb*low.==low_zero)\n",
    "            @test all(selb*upp.==p_bar)\n",
    "            @test all(selc*low.==low_zero)\n",
    "            @test all(selc*upp.==assets)\n",
    "            @test all(selα*low.==lowα)\n",
    "            @test all(selα*upp.==uppα)\n",
    "            @test all(selβ*low.==lowβ)\n",
    "            @test all(selβ*upp.==uppβ)\n",
    "            @test all(getp(low).==low_zero)\n",
    "            @test all(getp(upp).==p_bar)      \n",
    "        end\n",
    "\n",
    "        @testset \"z_test respects upper and lower bounds\" begin\n",
    "            @test all(0 .<= A_test .<= 1)\n",
    "            @test all(0 .<= b_test .<= p_bar)\n",
    "            @test all(0 .<= c_test .<= assets)\n",
    "            @test all(0 .< α_test .<= Inf)\n",
    "            @test all(0 .< β_test .<= Inf)\n",
    "            @test all(0 .<= p_test .<= p_bar)\n",
    "        end\n",
    "\n",
    "        @testset \"Linear constraints\" begin\n",
    "            l1 = [sum(p_bar[j]*A_test[j,i] for j=1:N)-assets[i]+c_test[i] for i=1:N] # payments to $i$ from other nodes $j$ add up to inside assets $d= assets - c$\n",
    "            l2 = [p_bar[i]*sum(A_test[i,j] for j=1:N)-p_bar[i]+b_test[i] for i=1:N] # payments from $i$ to other nodes add up to inside liabilities $f = p_bar - b$  \n",
    "            @test vcat(l1,l2) ≈ c_lin(z_test)\n",
    "        end\n",
    "        @testset \"a[i,j]*a[j,i]=0\" begin\n",
    "                @test sum(A_test[i,j]*A_test[j,i] for i=1:N for j=1:i) ≈ c_quad(z_test) \n",
    "        end\n",
    "        @testset \"Prob(c[i]x[i]>=w[i])=delta[i]\" begin\n",
    "            @test [ccdf(Beta(α_test[i],β_test[i]),w[i]/c_test[i]) - delta[i] for i=1:N] ≈ c_chance(z_test)\n",
    "        end\n",
    "        @testset \"Clearing vector p(x)\" begin\n",
    "            @test [(1+γ)*sum(A_test[j,i]*p_test[j,q] for j=1:N)+(1+γ)*(1-x_test[i,q])*c_test[i]-γ*p_bar[i]-p_test[i,q] for i=1:N, q=1:mini_batch] ≈ reshape(c_p(z_test,x_test),N,mini_batch)\n",
    "            @test [min(p_bar[i],max((1+γ)*sum(A_test[j,i]*p_test[j,q] for j=1:N)+(1+γ)*(1-x_test[i,q])*c_test[i]-γ*p_bar[i],0))-p_test[i,q] for i=1:N, q=1:mini_batch] ≈ reshape(c_pNL(z_test,x_test),N,mini_batch)\n",
    "        end\n",
    "    end\n",
    "end"
   ]
  },
  {
   "cell_type": "code",
   "execution_count": null,
   "id": "17279fa4",
   "metadata": {},
   "outputs": [],
   "source": [
    "z_test = Array((low+min.(upp,100))/2)\n",
    "(c_lin(z_test),\n",
    "        c_quad(z_test),\n",
    "        c_chance(z_test),\n",
    "        c_p(z_test, ones(N,mini_batch)/10)\n",
    "    )"
   ]
  },
  {
   "cell_type": "code",
   "execution_count": null,
   "id": "5dd9681f",
   "metadata": {},
   "outputs": [],
   "source": [
    "\n",
    "vcat(ones(N,mini_batch)...)"
   ]
  },
  {
   "cell_type": "code",
   "execution_count": null,
   "id": "5a5ed2fb",
   "metadata": {},
   "outputs": [],
   "source": [
    "lowA = Array(low)\n",
    "uppA = Array(upp)\n",
    "z_testA = Array(z_test)\n",
    "cA(z) = sum(abs2,Array(c(z)))"
   ]
  },
  {
   "cell_type": "code",
   "execution_count": null,
   "id": "65a0bd2f",
   "metadata": {},
   "outputs": [],
   "source": [
    "z0= Array((low+min.(upp,100))/10)\n",
    "m_lin = Nonconvex.Model(z->0.0)\n",
    "addvar!(m_lin,lowA,uppA)\n",
    "add_eq_constraint!(m_lin,z->c_lin(z))\n",
    "\n",
    "alg = IpoptAlg()\n",
    "options = Nonconvex.IpoptOptions()\n",
    "r_lin = Nonconvex.optimize(m_lin, alg,z0, options = options)\n",
    "tol = 1e-16\n",
    "@test r_lin.minimum ≈ 0 \n",
    "@test sum(abs2,c_lin(r_lin.minimizer)) < tol\n"
   ]
  },
  {
   "cell_type": "code",
   "execution_count": null,
   "id": "d5ae1e7b",
   "metadata": {},
   "outputs": [],
   "source": [
    "z0=r_lin.minimizer\n",
    "m_quad = Nonconvex.Model(z->0.0)\n",
    "addvar!(m_quad,lowA,uppA)\n",
    "add_eq_constraint!(m_quad,z->c_quad(z))\n",
    "\n",
    "alg = IpoptAlg()\n",
    "options = Nonconvex.IpoptOptions()\n",
    "r_quad = Nonconvex.optimize(m_quad, alg,z0, options = options)\n",
    "\n",
    "tol = 1e-16\n",
    "@test r_quad.minimum ≈ 0 \n",
    "@test sum(abs2,c_quad(r_quad.minimizer)) < tol\n"
   ]
  },
  {
   "cell_type": "code",
   "execution_count": null,
   "id": "b4f0ca1b",
   "metadata": {},
   "outputs": [],
   "source": [
    "z0 = (r_lin.minimizer+r_quad.minimizer)/2\n",
    "\n",
    "m_chance = Nonconvex.Model(z->0.0)\n",
    "addvar!(m_chance,lowA,uppA)\n",
    "add_eq_constraint!(m_chance,z->c_chance(z))\n",
    "\n",
    "alg = IpoptAlg()\n",
    "options = Nonconvex.IpoptOptions()\n",
    "r_chance = Nonconvex.optimize(m_chance, alg, z0, options = options)\n",
    "\n",
    "tol = 1e-16\n",
    "@test r_chance.minimum ≈ 0 \n",
    "@test sum(abs2,c_chance(r_chance.minimizer)) < tol"
   ]
  },
  {
   "cell_type": "code",
   "execution_count": null,
   "id": "2206eca3",
   "metadata": {},
   "outputs": [],
   "source": [
    "sol_c = jldopen(\"feasible_sol.jld2\", \"r\") \n",
    "z_c = sol_c[\"z_c\"] # vcat(sol_c[\"A_c\"]...,sol_c[\"b_c\"],sol_c[\"c_c\"],sol_c[\"α_c\"],sol_c[\"β_c\"],sol_c[\"p_c\"]...)\n",
    "close(sol_c)"
   ]
  },
  {
   "cell_type": "code",
   "execution_count": null,
   "id": "81802a3b",
   "metadata": {},
   "outputs": [],
   "source": [
    "z0 = z_c #(r_lin.minimizer+r_quad.minimizer+r_chance.minimizer)/3\n",
    "x0 = rand(N,mini_batch)\n",
    "\n",
    "m_p = Nonconvex.Model(z->0.0)\n",
    "addvar!(m_p,lowA,uppA)\n",
    "add_eq_constraint!(m_p,z->c_p(z,x0))\n",
    "\n",
    "alg = IpoptAlg()\n",
    "options = Nonconvex.IpoptOptions(constr_viol_tol = 1e-16 )\n",
    "r_p = Nonconvex.optimize(m_p, alg, z0, options = options)\n",
    "\n",
    "tol = 1e-16\n",
    "@test r_p.minimum ≈ 0 \n",
    "@test sum(abs2,c_p(r_p.minimizer,x0)) < tol"
   ]
  },
  {
   "cell_type": "code",
   "execution_count": null,
   "id": "6842ef7d",
   "metadata": {},
   "outputs": [],
   "source": [
    "z0 = z_c #r_p.minimizer\n",
    "x0 = rand(N,mini_batch)\n",
    "\n",
    "m_pNL = Nonconvex.Model(z->0.0)\n",
    "addvar!(m_pNL,lowA,uppA)\n",
    "add_eq_constraint!(m_pNL,z->c_pNL(z,x0))\n",
    "\n",
    "alg = IpoptAlg()\n",
    "options = Nonconvex.IpoptOptions(constr_viol_tol = 1e-16 )\n",
    "r_pNL = Nonconvex.optimize(m_pNL, alg, z0, options = options)\n",
    "\n",
    "tol = 1e-12\n",
    "@test r_pNL.minimum ≈ 0 \n",
    "@test sum(abs2,c_pNL(r_pNL.minimizer,x0)) < tol"
   ]
  },
  {
   "cell_type": "code",
   "execution_count": null,
   "id": "c5ca9c66",
   "metadata": {},
   "outputs": [],
   "source": [
    "z0 = z_c #r_p.minimizer #(r_lin.minimizer+r_quad.minimizer+r_chance.minimizer+r_p.minimizer)/4\n",
    "\n",
    "m = Nonconvex.Model(z->0.0)\n",
    "addvar!(m,lowA,uppA)\n",
    "add_eq_constraint!(m,z->c(z))\n",
    "\n",
    "alg = IpoptAlg()\n",
    "options = Nonconvex.IpoptOptions(constr_viol_tol = 1e-16 , max_iter=4500, option_file_name=\"ipopt_warm_start.opt\")\n",
    "r = Nonconvex.optimize(m, alg, z0, options = options)\n",
    "\n",
    "tol = 1e-14\n",
    "@test r.minimum ≈ 0 \n",
    "@test sum(abs2,c(r.minimizer)) < tol\n",
    "\n",
    "@test sum(abs2,c_lin(r.minimizer)) < tol\n",
    "@test sum(abs2,c_quad(r.minimizer)) < tol\n",
    "@test sum(abs2,c_chance(r.minimizer)) < tol\n",
    "@test sum(abs2,c_p(r.minimizer,ones(N,mini_batch)/10)) < tol"
   ]
  },
  {
   "cell_type": "code",
   "execution_count": null,
   "id": "c5ef7a2b",
   "metadata": {},
   "outputs": [],
   "source": [
    "@testset \"Constraints satisfied\" begin\n",
    "        tol=1e-7\n",
    "        z_test = r.minimizer\n",
    "        x_test = ones(N,mini_batch)/10\n",
    "\n",
    "        A_test = getA(z_test)\n",
    "        b_test = selb*z_test\n",
    "        c_test = selc*z_test\n",
    "        α_test = selα*z_test\n",
    "        β_test = selβ*z_test\n",
    "        p_test = getp(z_test)\n",
    "\n",
    "        @testset \"z_test respects upper and lower bounds\" begin\n",
    "            @test all(0 .<= A_test .<= 1)\n",
    "            @test all(0 .<= b_test .<= p_bar)\n",
    "            @test all(0 .<= c_test .<= assets)\n",
    "            @test all(lowα .<= α_test .<= uppα)\n",
    "            @test all(lowβ .<= β_test .<= uppβ)\n",
    "            @test all(0 .<= p_test .<= p_bar)\n",
    "        end\n",
    "\n",
    "        @testset \"z_test satisfies linear constraints\" begin\n",
    "            l1 = [sum(p_bar[j]*A_test[j,i] for j=1:N)-assets[i]+c_test[i] for i=1:N] # payments to $i$ from other nodes $j$ add up to inside assets $d= assets - c$\n",
    "            l2 = [p_bar[i]*sum(A_test[i,j] for j=1:N)-p_bar[i]+b_test[i] for i=1:N] # payments from $i$ to other nodes add up to inside liabilities $f = p_bar - b$  \n",
    "            @test all([abs(l1[i]) < tol for i=1:N])\n",
    "            @test all([abs(l2[i]) < tol for i=1:N])\n",
    "        end\n",
    "    \n",
    "        @testset \"z_test satisfies a[i,j]*a[j,i]=0\" begin\n",
    "                @test all([abs(A_test[i,j]*A_test[j,i]) < tol for i=1:N for j=1:i])\n",
    "        end\n",
    "    \n",
    "        @testset \"z_test satisfies Prob(c[i]x[i]>=w[i])=delta[i]\" begin\n",
    "            @test all([abs(ccdf(Beta(α_test[i],β_test[i]),w[i]/c_test[i]) - delta[i]) < tol for i=1:N])\n",
    "        end\n",
    "    \n",
    "        @testset \"z_test gives a clearing vector p(x)\" begin\n",
    "            @test all([ abs( (1+γ)*sum(A_test[j,i]*p_test[j,q] for j=1:N)+(1+γ)*(1-x_test[i,q])*c_test[i]-γ*p_bar[i]-p_test[i,q] ) < tol for i=1:N, q=1:mini_batch])\n",
    "            @test all([ abs( min(p_bar[i],max((1+γ)*sum(A_test[j,i]*p_test[j,q] for j=1:N)+(1+γ)*(1-x_test[i,q])*c_test[i]-γ*p_bar[i],0))-p_test[i,q] ) < tol for i=1:N, q=1:mini_batch])\n",
    "        end\n",
    "    \n",
    "        # show errors\n",
    "#         @show [abs(l1[i])  for i=1:N]\n",
    "#         @show [abs(l2[i])  for i=1:N]\n",
    "#         @show [abs(A_test[i,j]*A_test[j,i])  for i=1:N for j=1:i]   \n",
    "#         @show [abs(ccdf(Beta(α_test[i],β_test[i]),w[i]/c_test[i]) - delta[i])  for i=1:N]\n",
    "#         @show [abs( (1+γ)*sum(A_test[j,i]*p_test[j,q] for j=1:N)+(1+γ)*(1-x_test[i,q])*c_test[i]-γ*p_bar[i]-p_test[i,q] )  for i=1:N, q=1:mini_batch]\n",
    "#         @show [abs( min(p_bar[i],max((1+γ)*sum(A_test[j,i]*p_test[j,q] for j=1:N)+(1+γ)*(1-x_test[i,q])*c_test[i]-γ*p_bar[i],0))-p_test[i,q] )  for i=1:N, q=1:mini_batch]\n",
    "end"
   ]
  },
  {
   "cell_type": "code",
   "execution_count": null,
   "id": "9f825923",
   "metadata": {},
   "outputs": [],
   "source": [
    "z_c = r.minimizer\n",
    "A_c = getA(z_c)\n",
    "b_c = selb*z_c\n",
    "c_c = selc*z_c\n",
    "α_c = selα*z_c\n",
    "β_c = selβ*z_c\n",
    "p_c = getp(z_c)\n",
    "jldsave(\"feasible_sol.jld2\"; A_c, b_c, c_c, α_c, β_c, p_c, z_c)\n",
    "display(A_c)\n",
    "display(b_c)\n",
    "display(c_c)\n",
    "display(α_c)\n",
    "display(β_c)\n",
    "display(p_c)"
   ]
  },
  {
   "cell_type": "code",
   "execution_count": null,
   "id": "7b674912",
   "metadata": {},
   "outputs": [],
   "source": [
    "sol_opt = jldopen(\"opt_sol.jld2\", \"r\") \n",
    "z_opt = sol_opt[\"z_opt\"] #vcat(sol_c[\"A_opt\"]...,sol_c[\"b_opt\"],sol_c[\"c_opt\"],sol_c[\"α_opt\"],sol_c[\"β_opt\"],sol_c[\"p_opt\"]...)\n",
    "close(sol_opt)"
   ]
  },
  {
   "cell_type": "code",
   "execution_count": null,
   "id": "ad930c4b",
   "metadata": {},
   "outputs": [],
   "source": [
    "z0 = z_opt #r_p.minimizer #(r_lin.minimizer+r_quad.minimizer+r_chance.minimizer+r_p.minimizer)/4\n",
    "\n",
    "m = Nonconvex.Model(z -> -obj(z))\n",
    "addvar!(m,lowA,uppA)\n",
    "add_eq_constraint!(m,z -> c(z))\n",
    "\n",
    "alg = IpoptAlg()\n",
    "options = Nonconvex.IpoptOptions( max_iter=100, option_file_name=\"ipopt_warm_start.opt\")\n",
    "r = Nonconvex.optimize(m, alg, z0, options = options)\n",
    "\n",
    "tol = 1e-8\n",
    "@test sum(abs2,c(r.minimizer)) < tol\n",
    "@test sum(abs2,c_lin(r.minimizer)) < tol\n",
    "@test sum(abs2,c_quad(r.minimizer)) < tol\n",
    "@test sum(abs2,c_chance(r.minimizer)) < tol\n",
    "@test sum(abs2,c_p(r.minimizer,ones(N,mini_batch)/10)) < tol"
   ]
  },
  {
   "cell_type": "code",
   "execution_count": null,
   "id": "5334da0b",
   "metadata": {},
   "outputs": [],
   "source": [
    "@testset \"Constraints satisfied\" begin\n",
    "        tol=1e-7\n",
    "        z_test = r.minimizer\n",
    "        x_test = ones(N,mini_batch)/10\n",
    "\n",
    "        A_test = getA(z_test)\n",
    "        b_test = selb*z_test\n",
    "        c_test = selc*z_test\n",
    "        α_test = selα*z_test\n",
    "        β_test = selβ*z_test\n",
    "        p_test = getp(z_test)\n",
    "\n",
    "        @testset \"z_test respects upper and lower bounds\" begin\n",
    "            @test all(0 .<= A_test .<= 1)\n",
    "            @test all(0 .<= b_test .<= p_bar)\n",
    "            @test all(0 .<= c_test .<= assets)\n",
    "            @test all(lowα .<= α_test .<= uppα)\n",
    "            @test all(lowβ .<= β_test .<= uppβ)\n",
    "            @test all(0 .<= p_test .<= p_bar)\n",
    "        end\n",
    "\n",
    "        @testset \"z_test satisfies linear constraints\" begin\n",
    "            l1 = [sum(p_bar[j]*A_test[j,i] for j=1:N)-assets[i]+c_test[i] for i=1:N] # payments to $i$ from other nodes $j$ add up to inside assets $d= assets - c$\n",
    "            l2 = [p_bar[i]*sum(A_test[i,j] for j=1:N)-p_bar[i]+b_test[i] for i=1:N] # payments from $i$ to other nodes add up to inside liabilities $f = p_bar - b$  \n",
    "            @test all([abs(l1[i]) < tol for i=1:N])\n",
    "            @test all([abs(l2[i]) < tol for i=1:N])\n",
    "        end\n",
    "    \n",
    "        @testset \"z_test satisfies a[i,j]*a[j,i]=0\" begin\n",
    "                @test all([abs(A_test[i,j]*A_test[j,i]) < tol for i=1:N for j=1:i])\n",
    "        end\n",
    "    \n",
    "        @testset \"z_test satisfies Prob(c[i]x[i]>=w[i])=delta[i]\" begin\n",
    "            @test all([abs(ccdf(Beta(α_test[i],β_test[i]),w[i]/c_test[i]) - delta[i]) < tol for i=1:N])\n",
    "        end\n",
    "    \n",
    "        @testset \"z_test gives a clearing vector p(x)\" begin\n",
    "            @test all([ abs( (1+γ)*sum(A_test[j,i]*p_test[j,q] for j=1:N)+(1+γ)*(1-x_test[i,q])*c_test[i]-γ*p_bar[i]-p_test[i,q] ) < tol for i=1:N, q=1:mini_batch])\n",
    "            @test all([ abs( min(p_bar[i],max((1+γ)*sum(A_test[j,i]*p_test[j,q] for j=1:N)+(1+γ)*(1-x_test[i,q])*c_test[i]-γ*p_bar[i],0))-p_test[i,q] ) < tol for i=1:N, q=1:mini_batch])\n",
    "        end\n",
    "    \n",
    "        # show errors\n",
    "#         @show [abs(l1[i])  for i=1:N]\n",
    "#         @show [abs(l2[i])  for i=1:N]\n",
    "#         @show [abs(A_test[i,j]*A_test[j,i])  for i=1:N for j=1:i]   \n",
    "#         @show [abs(ccdf(Beta(α_test[i],β_test[i]),w[i]/c_test[i]) - delta[i])  for i=1:N]\n",
    "#         @show [abs( (1+γ)*sum(A_test[j,i]*p_test[j,q] for j=1:N)+(1+γ)*(1-x_test[i,q])*c_test[i]-γ*p_bar[i]-p_test[i,q] )  for i=1:N, q=1:mini_batch]\n",
    "#         @show [abs( min(p_bar[i],max((1+γ)*sum(A_test[j,i]*p_test[j,q] for j=1:N)+(1+γ)*(1-x_test[i,q])*c_test[i]-γ*p_bar[i],0))-p_test[i,q] )  for i=1:N, q=1:mini_batch]\n",
    "end"
   ]
  },
  {
   "cell_type": "code",
   "execution_count": null,
   "id": "b34844e6",
   "metadata": {},
   "outputs": [],
   "source": [
    "z_opt = r.minimizer\n",
    "A_opt = getA(z_opt)\n",
    "b_opt = selb*z_opt\n",
    "c_opt = selc*z_opt\n",
    "α_opt = selα*z_opt\n",
    "β_opt = selβ*z_opt\n",
    "p_opt = getp(z_opt)\n",
    "jldsave(\"opt_sol.jld2\"; A_opt, b_opt, c_opt, α_opt, β_opt, p_opt, z_opt)\n",
    "display(A_opt)\n",
    "display(b_opt)\n",
    "display(c_opt)\n",
    "display(α_opt)\n",
    "display(β_opt)\n",
    "display(p_opt)"
   ]
  },
  {
   "cell_type": "code",
   "execution_count": null,
   "id": "fc54baa9",
   "metadata": {},
   "outputs": [],
   "source": [
    "# compute network spillovers, upper bound, and compare\n",
    "x_opt = ones(N,mini_batch)/10 ## will change when problem is solved\n",
    "Id = Matrix{T}(I,N,N)\n",
    "p_lb = [min.(p_bar,(Id - Diagonal(x_opt[:,j]))*(Id - A_opt)\\c_opt) for j=1:mini_batch]\n",
    "p_lb = reduce(hcat,p_lb)\n",
    "cEx = sum(c_opt.*α_opt./(α_opt + β_opt))\n",
    "\n",
    "L_opt = obj_full(z_opt) # expected spillovers evaluated at optimizer\n",
    "L_d = cEx+sum(mean(max.(0,x_opt .- repeat(w,1,mini_batch)),dims=2)) # expected spillovers for disconnected network\n",
    "L_lb =  cEx+sum(p_bar)-sum(mean(p_lb,dims=2)) # lower bound for expected spillovers \n",
    "\n",
    "@show (L_opt,L_lb,L_d)\n",
    "\n",
    "β = (p_bar.-b_opt)./p_bar # financial connectivity: proportion of liabilities inside the network\n",
    "β⁺ = maximum(β)\n",
    "\n",
    "ratio = L_opt/L_d\n",
    "bound = 1 + sum(delta.*c_opt)/((1-β⁺)*sum(c_opt))\n",
    "@show (ratio,bound)"
   ]
  },
  {
   "cell_type": "code",
   "execution_count": null,
   "id": "ddeb6276",
   "metadata": {},
   "outputs": [],
   "source": [
    "p_lb = [min.(p_bar,(Id - Diagonal(x_opt[:,j]))*(Id - A_opt)\\c_opt) for j=1:mini_batch]\n"
   ]
  },
  {
   "cell_type": "code",
   "execution_count": null,
   "id": "644bd9d7",
   "metadata": {},
   "outputs": [],
   "source": []
  },
  {
   "cell_type": "code",
   "execution_count": null,
   "id": "7c06df9d",
   "metadata": {},
   "outputs": [],
   "source": [
    "z0 = r_p.minimizer #(r_lin.minimizer+r_quad.minimizer+r_chance.minimizer+r_p.minimizer)/4\n",
    "\n",
    "m = Nonconvex.Model(z->0.0)\n",
    "addvar!(m,lowA,uppA)\n",
    "add_eq_constraint!(m,z->c(z))\n",
    "\n",
    "alg = HyperoptAlg(IpoptAlg())\n",
    "sampler = Nonconvex.RandomSampler()\n",
    "options = HyperoptOptions(\n",
    "    sub_options = IpoptOptions(first_order = true),\n",
    "    sampler = sampler,\n",
    "    keep_all = true,\n",
    ")\n",
    "r = Nonconvex.optimize(m, alg, z0, options = options)\n",
    "\n",
    "tol = 1e-16\n",
    "@test r.minimum ≈ 0 \n",
    "@test sum(abs2,c(r.minimizer)) < tol\n",
    "\n",
    "@test sum(abs2,c_lin(r.minimizer)) < tol\n",
    "@test sum(abs2,c_quad(r.minimizer)) < tol\n",
    "@test sum(abs2,c_chance(r.minimizer)) < tol\n",
    "@test sum(abs2,c_p(r.minimizer,ones(N,mini_batch)/10)) < tol"
   ]
  },
  {
   "cell_type": "code",
   "execution_count": null,
   "id": "0c3d49c4",
   "metadata": {},
   "outputs": [],
   "source": [
    "Optim.optimize(cA,lowA,uppA ,z_testA, SAMIN(verbosity=1), Optim.Options(iterations=10^6))"
   ]
  },
  {
   "cell_type": "code",
   "execution_count": null,
   "id": "2a532f31",
   "metadata": {},
   "outputs": [],
   "source": [
    "#inner_optimizer = GradientDescent()\n",
    "inner_optimizer = BFGS() #GradientDescent(linesearch=LineSearches.BackTracking(order=3))\n",
    "results = optimize(cA,lowA,uppA ,z_testA, Fminbox(inner_optimizer),  Optim.Options(g_tol = 1e-12,iterations = 10); autodiff = :forward)"
   ]
  },
  {
   "cell_type": "code",
   "execution_count": null,
   "id": "b95c16e9",
   "metadata": {},
   "outputs": [],
   "source": [
    "getA(Optim.minimizer(results))"
   ]
  },
  {
   "cell_type": "code",
   "execution_count": null,
   "id": "9d7775e7",
   "metadata": {},
   "outputs": [],
   "source": [
    "nlp = ADNLPModel(T(0), z_testA, lowA, uppA, c, Array(cL), Array(cU))"
   ]
  },
  {
   "cell_type": "code",
   "execution_count": null,
   "id": "2f648d2d",
   "metadata": {},
   "outputs": [],
   "source": [
    "import NLopt\n",
    "\n",
    "alg = NLoptAlg(:LD_MMA)\n",
    "options = Nonconvex.NLoptOptions()\n",
    "r = optimize(m, alg, [1.234, 2.345], options = options)\n",
    "r.minimum\n",
    "r.minimizer"
   ]
  },
  {
   "cell_type": "code",
   "execution_count": null,
   "id": "8acfed84",
   "metadata": {},
   "outputs": [],
   "source": [
    "rng =  Random.seed!(123)\n",
    "z0 = (low+upp)/2\n",
    "x1 = ones(T,N)/10 #rand(T, N)\n",
    "# Ex = ones(T,N)/10 #ones(T,N)/2 # expectation of x# convert from sparse into full arrays\n",
    "obj_full(z0)"
   ]
  },
  {
   "cell_type": "code",
   "execution_count": null,
   "id": "42ca87bd",
   "metadata": {},
   "outputs": [],
   "source": [
    "z0 = (low+min.(upp,100))/2\n",
    "@show obj(z0)\n",
    "@show c(z0)-cL\n",
    "@show (low,upp)"
   ]
  },
  {
   "cell_type": "code",
   "execution_count": null,
   "id": "15346fb3",
   "metadata": {},
   "outputs": [],
   "source": [
    "(obj(z0),obj(z0),obj(z0),obj(z0))\n"
   ]
  },
  {
   "cell_type": "code",
   "execution_count": null,
   "id": "0f0bf44e",
   "metadata": {},
   "outputs": [],
   "source": [
    "linear = 1:2N\n",
    "quadratic = 2N+1\n",
    "nlp=ADNLPModel(obj,z0,Array(low),Array(upp),c,Array(cL),Array(cU); lin=linear)\n",
    "\n",
    "z0=Array(z0);cz0=Array(c(z0));\n",
    "nlp_Lag=AugLagModel(nlp, ones(T,length(cz0)), 10.0, z0,cz0)"
   ]
  },
  {
   "cell_type": "code",
   "execution_count": null,
   "id": "e725b9a6",
   "metadata": {},
   "outputs": [],
   "source": [
    "using JSOSolvers\n",
    "tron(nlp_Lag,max_time=60.0*5)"
   ]
  },
  {
   "cell_type": "code",
   "execution_count": null,
   "id": "87e2391b",
   "metadata": {},
   "outputs": [],
   "source": [
    "# ccdf of a beta distribution \n",
    "function dist_cdf(p...)\n",
    "    #α,β,wc = p[1], p[2], p[3]\n",
    "    obj(x,p) = (x>=p[3])*DistributionsAD.pdf(DistributionsAD.Beta(p[1],p[2]),x)\n",
    "    return Quad1d(obj,p)\n",
    "end\n",
    "function Quad1d(obj,p)\n",
    "    prob = QuadratureProblem(obj,0,1,p,order=5)\n",
    "    return Quadrature.solve(prob,QuadGKJL(),reltol = 1e-5)[1]\n",
    "end\n",
    "function find_parametric_optimum(g, a)\n",
    "    optimize(x -> g(x, a), ...)\n",
    "end"
   ]
  },
  {
   "cell_type": "code",
   "execution_count": null,
   "id": "66a2dd4b",
   "metadata": {},
   "outputs": [],
   "source": [
    "@variable(m, lowA[i]<=z[i=1:M]<=uppA[i]) \n",
    "@variable(m, 1.0<=α[i=1:N]<=2.0, start = 4.1) \n",
    "@variable(m, 1.0<=β[i=1:N]<=150.0, start = 30.0) \n",
    "@constraint(m, hᵀA*z.==qA) \n",
    "@constraint(m,transpose(z)*HA*z==0.0) \n",
    "@constraint(m,px[i=1:N],transpose(z)*H₄A[i]*z.==h₄₄₄ᵀA[i]*z.- q₄A[i] )\n",
    "@constraint(m,z[diag(LinearIndices(ones(N,N)))].==0)\n",
    "\n",
    "# match probabilities of default\n",
    "\n",
    "JuMP.register(m, :dist_cdf, 3, dist_cdf; autodiff=true)\n",
    "@NLexpression(m,wc[i=1:N],w[i]/z[N^2+N+i]) #c[i] = z[N^2+N+i]\n",
    "for i in 1:N\n",
    "    @eval ($(Symbol(\"vv$i\"))) = [α[$i],β[$i],wc[$i]]\n",
    "    @eval @NLconstraint(m,dist_cdf(($(Symbol(\"vv$i\")))...)== delta[$i]) \n",
    "end\n",
    "\n",
    "ex = @expression(m,(h₀ᵀA*z)[1])\n",
    "@objective(m, Max,  ex )"
   ]
  },
  {
   "cell_type": "code",
   "execution_count": null,
   "id": "c7d6b524",
   "metadata": {},
   "outputs": [],
   "source": [
    "push!(LOAD_PATH,\"/home/ec2-user/SageMaker/IncBetaDer/\");\n",
    "using IncBetaDer"
   ]
  },
  {
   "cell_type": "code",
   "execution_count": null,
   "id": "6d44b463",
   "metadata": {},
   "outputs": [],
   "source": [
    "display(LOAD_PATH)"
   ]
  },
  {
   "cell_type": "code",
   "execution_count": null,
   "id": "76922e06",
   "metadata": {},
   "outputs": [],
   "source": []
  },
  {
   "cell_type": "code",
   "execution_count": null,
   "id": "20174b14",
   "metadata": {},
   "outputs": [],
   "source": []
  },
  {
   "cell_type": "code",
   "execution_count": null,
   "id": "4e65883c",
   "metadata": {},
   "outputs": [],
   "source": []
  },
  {
   "cell_type": "code",
   "execution_count": null,
   "id": "50296438",
   "metadata": {},
   "outputs": [],
   "source": [
    "using Distributions, DistributionsAD, ForwardDiff, Quadrature\n",
    "push!(LOAD_PATH,\"/home/ec2-user/SageMaker/IncBetaDer/\");\n",
    "using IncBetaDer"
   ]
  },
  {
   "cell_type": "code",
   "execution_count": null,
   "id": "fd38f674",
   "metadata": {},
   "outputs": [],
   "source": [
    "function dist_cdf(a, b, y)\n",
    "    #α,β,wc = p[1], p[2], p[3]\n",
    "    obj(x,p) = (x>=y)*DistributionsAD.pdf(DistributionsAD.Beta(p[1],p[2]),x)\n",
    "    return Quad1d(obj,hcat(a, b))\n",
    "end\n",
    "function Quad1d(obj,p)\n",
    "    prob = QuadratureProblem(obj,0,1,p,order=100)\n",
    "    return Quadrature.solve(prob,QuadGKJL(),reltol = 1e-16,abstol = 1e-16)[1]\n",
    "end\n",
    "\n",
    "a=1.1;b=2.1;x=0.1;\n",
    "z = [a, b, x]"
   ]
  },
  {
   "cell_type": "code",
   "execution_count": null,
   "id": "10264cfe",
   "metadata": {},
   "outputs": [],
   "source": []
  },
  {
   "cell_type": "code",
   "execution_count": null,
   "id": "9f3ab4c0",
   "metadata": {},
   "outputs": [],
   "source": [
    "@show dist_cdf(z...)\n",
    "@show 1 .- IncBetaDer.beta_inc_grad(a, b, x,1e10, 1,1e-20)[1]"
   ]
  },
  {
   "cell_type": "code",
   "execution_count": null,
   "id": "dc8af1bb",
   "metadata": {},
   "outputs": [],
   "source": [
    "@show ForwardDiff.derivative(α->dist_cdf(α, b, x),a)[1]\n",
    "@show -IncBetaDer.beta_inc_grad(a, b, x,1e10, 1,1e-20)[2];"
   ]
  },
  {
   "cell_type": "code",
   "execution_count": null,
   "id": "54137160",
   "metadata": {},
   "outputs": [],
   "source": [
    "@show ForwardDiff.derivative(β->dist_cdf(a,β, x),b)[1]\n",
    "@show -IncBetaDer.beta_inc_grad(a, b, x)[3];"
   ]
  },
  {
   "cell_type": "code",
   "execution_count": null,
   "id": "8c1ba0c1",
   "metadata": {},
   "outputs": [],
   "source": [
    "@show ForwardDiff.derivative(y->dist_cdf(a,b,y),x)[1]\n",
    "@show -IncBetaDer.beta_inc_grad(a, b, x,1e9, 1,1e-16)[4];"
   ]
  },
  {
   "cell_type": "code",
   "execution_count": null,
   "id": "3c125786",
   "metadata": {},
   "outputs": [],
   "source": [
    "ee=1e-16\n",
    "(dist_cdf(a,b,x+ee)-dist_cdf(a,b,x-ee))/(2ee)"
   ]
  },
  {
   "cell_type": "code",
   "execution_count": null,
   "id": "49f6c958",
   "metadata": {},
   "outputs": [],
   "source": []
  },
  {
   "cell_type": "code",
   "execution_count": null,
   "id": "29086976",
   "metadata": {},
   "outputs": [],
   "source": [
    "N=3;Q=2\n",
    "rowInd = repeat(1:N^2,Q)\n",
    "colInd = [hcat([repeat((1:N).+q*N,N) for q=0:Q-1]...)...]\n",
    "\n",
    "matInd=hcat(vcat(rowInd .+ N^2 .+ 4N, rowInd),vcat(colInd,colInd .+ N^2 .+ 1))\n",
    "[matInd[(1:N) .+ q*N,1] for q=1:Q]\n",
    "[matInd[(1:N) .+ q*N,2] for q=1:Q]\n"
   ]
  },
  {
   "cell_type": "code",
   "execution_count": null,
   "id": "ebe9b43b",
   "metadata": {},
   "outputs": [],
   "source": [
    "rowIndH=collect(Iterators.partition(vcat(rowInd .+ N^2 .+ 4N, rowInd),N))\n",
    "colIndH=collect(Iterators.partition(vcat(colInd,colInd .+ N^2 .+ 1),N))"
   ]
  },
  {
   "cell_type": "code",
   "execution_count": null,
   "id": "615aa2b8",
   "metadata": {},
   "outputs": [],
   "source": [
    "(rowInd,colInd .+ N^2 .+ 1)"
   ]
  },
  {
   "cell_type": "code",
   "execution_count": null,
   "id": "f67c4e29",
   "metadata": {},
   "outputs": [],
   "source": [
    "mat =[sparse(rowIndH[i+N*Q],colIndH[i+N*Q],ones(N)/2,N^2+4N+Q*N,N^2+4N+Q*N) for i=1:N*Q];\n",
    "matsp=sparse(Symmetric(mat[6],:U))"
   ]
  },
  {
   "cell_type": "code",
   "execution_count": null,
   "id": "f29f046c",
   "metadata": {},
   "outputs": [],
   "source": [
    "ind1(q)= q*N .+ (1:N)\n",
    "ind2(q)= N^2+4N +q*N .+ (1:N)\n",
    "\n",
    "([vcat(ind1(q),ind2(q+i)) for q=0,i=1],[vcat(ind2(q+i),ind1(q)) for q=0,i=1])"
   ]
  },
  {
   "cell_type": "code",
   "execution_count": null,
   "id": "306b6635",
   "metadata": {},
   "outputs": [],
   "source": [
    "N^2+4*N"
   ]
  },
  {
   "cell_type": "code",
   "execution_count": null,
   "id": "487b9775",
   "metadata": {},
   "outputs": [],
   "source": [
    "ind1(0),ind2(0)\n",
    "ind1(1),ind2(0)\n",
    "ind1(2),ind2(0)\n",
    "ind1(0),ind2(1)\n",
    "ind1(1),ind2(1)\n",
    "ind1(2),ind2(1)\n",
    "\n",
    "ind2(0),ind1(0)\n",
    "ind2(0),ind1(1)\n",
    "ind2(0),ind1(2)\n",
    "ind2(1),ind1(0)\n",
    "ind2(1),ind1(1)\n",
    "ind2(1),ind1(2)"
   ]
  },
  {
   "cell_type": "code",
   "execution_count": null,
   "id": "a2444420",
   "metadata": {},
   "outputs": [],
   "source": [
    "ind1(q)= q*N .+ (1:N)\n",
    "ind2(q)= N^2+4N +q*N .+ (1:N)\n",
    "H = [sparse(vcat(ind1(i),ind2(q)),vcat(ind2(q),ind1(i)),ones(2*N)/2,N^2+4N+Q*N,N^2+4N+Q*N) for i=0:N-1,q=0:Q-1];\n",
    "using Test\n",
    "@test [transpose(z)*H[i,q]*z for i=1:N,q=1:Q]≈transpose(A)*p"
   ]
  },
  {
   "cell_type": "code",
   "execution_count": null,
   "id": "c8d85024",
   "metadata": {},
   "outputs": [],
   "source": [
    "A = rand(3,3);\n",
    "x = rand(4N);\n",
    "p = rand(N,Q);\n",
    "\n",
    "z = vcat(A...,x...,p...)\n",
    "(transpose(z)*H[1,1]*z,dot(A[:,1],p[:,1]))\n",
    "\n",
    "\n",
    "[(transpose(z)*H[i,q]*z,dot(A[:,i],p[:,q])) for i=1:N,q=1:Q]"
   ]
  },
  {
   "cell_type": "code",
   "execution_count": null,
   "id": "77d26f1f",
   "metadata": {},
   "outputs": [],
   "source": []
  },
  {
   "cell_type": "code",
   "execution_count": null,
   "id": "ef350f32",
   "metadata": {},
   "outputs": [],
   "source": []
  },
  {
   "cell_type": "code",
   "execution_count": null,
   "id": "37406385",
   "metadata": {},
   "outputs": [],
   "source": []
  }
 ],
 "metadata": {
  "kernelspec": {
   "display_name": "Julia 1.6.0",
   "language": "julia",
   "name": "julia-1.6"
  },
  "language_info": {
   "file_extension": ".jl",
   "mimetype": "application/julia",
   "name": "julia",
   "version": "1.6.0"
  }
 },
 "nbformat": 4,
 "nbformat_minor": 5
}
